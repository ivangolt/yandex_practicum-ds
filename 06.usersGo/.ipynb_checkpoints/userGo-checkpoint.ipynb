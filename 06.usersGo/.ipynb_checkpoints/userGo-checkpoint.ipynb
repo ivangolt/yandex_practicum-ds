{
 "cells": [
  {
   "cell_type": "markdown",
   "id": "b2095c04",
   "metadata": {},
   "source": [
    "**Цель исследования** - проанализировать данные о пользователях сервиса аренды самокатов GoFast.\\\n",
    "Необходимо проверить следующие гипотезы:\n",
    "1.  Тратят ли пользователи с подпиской больше времени на поездки?\\\n",
    "2.  Можно ли сказать, что среднее расстояние, которое проезжают пользователи с подпиской за одну поездку, не превышает 3130 метров?\n",
    "3. Будет ли помесячная выручка от пользователей с подпиской по месяцам выше, чем выручка от пользователей без подписки. \n",
    "\n",
    "4. Представьте такую ситуацию: техническая команда сервиса обновила сервера, с которыми взаимодействует мобильное приложение. Она надеется, что из-за этого количество обращений в техподдержку значимо снизилось. Некоторый файл содержит для каждого пользователя данные о количестве обращений до обновления и после него. Какой тест вам понадобился бы для проверки этой гипотезы?\n",
    "\n",
    "Также требуется с помощью распределений решить следующие задачи:\n",
    "1. нужно провести акцию с раздачей промокодов на один бесплатный месяц подписки, в рамках которой как минимум 100 существующих клиентов должны продлить эту подписку. То есть по завершении периода действия подписки пользователь может либо отказаться от неё, либо продлить, совершив соответствующий платёж. Выяснить, какое минимальное количество промокодов нужно разослать, чтобы вероятность не выполнить план была примерно 5%\n",
    "\n",
    "2. Отдел маркетинга рассылает клиентам push-уведомления в мобильном приложении. Клиенты могут открыть его или не открывать. Известно, что уведомления открывают около 40% получивших клиентов. Отдел планирует разослать 1 млн уведомлений. С помощью аппроксимации постройте примерный график распределения и оцените вероятность того, что уведомление откроют не более 399,5 тыс. пользователей."
   ]
  },
  {
   "cell_type": "markdown",
   "id": "a91f89e3",
   "metadata": {},
   "source": [
    "Описание данных В основных данных есть информация о пользователях, их поездках и подписках.\n",
    "\n",
    "Пользователи — users_go.csv\n",
    "\n",
    "user_id - уникальный идентификатор пользователя\n",
    "name - имя пользователя\n",
    "age - возраст\n",
    "city - город\n",
    "subscription_type тип подписки (free, ultra)\\\n",
    "\n",
    "Поездки — rides_go.csv\\\n",
    "\n",
    "user_id - уникальный идентификатор пользователя distance - расстояние, которое пользователь проехал в текущей сессии (в метрах) duration - продолжительность сессии (в минутах) — время с того момента, как пользователь нажал кнопку «Начать поездку» до момента, как он нажал кнопку «Завершить поездку»\n",
    "date - дата совершения поездки\\\n",
    "\n",
    "Подписки — subscriptions_go.csv\n",
    "subscription_type - тип подписки\n",
    "minute_price - стоимость одной минуты поездки по данной подписке\n",
    "start_ride_price - стоимость начала поездки\n",
    "subscription_fee - стоимость ежемесячного платежа\\"
   ]
  },
  {
   "cell_type": "code",
   "execution_count": null,
   "id": "36f3b3ae",
   "metadata": {},
   "outputs": [],
   "source": [
    "import pandas as pd \n",
    "import numpy as np\n",
    "import matplotlib.pyplot as plt\n",
    "import seaborn as sns\n",
    "import scipy.stats as st\n",
    "from math import factorial, sqrt\n"
   ]
  },
  {
   "cell_type": "markdown",
   "id": "92cf3e94",
   "metadata": {},
   "source": [
    "# Загрузка данных"
   ]
  },
  {
   "cell_type": "code",
   "execution_count": null,
   "id": "d0749218",
   "metadata": {},
   "outputs": [],
   "source": [
    "users_go = pd.read_csv('C:/Users/Иван/test/6Sprint/users_go.csv')\n",
    "rides_go = pd.read_csv('C:/Users/Иван/test/6Sprint/rides_go.csv')\n",
    "subscriptions_go = pd.read_csv('C:/Users/Иван/test/6Sprint/subscriptions_go.csv')\n",
    "pd.set_option('display.max_columns', None)"
   ]
  },
  {
   "cell_type": "code",
   "execution_count": null,
   "id": "23cf7c31",
   "metadata": {},
   "outputs": [],
   "source": [
    "users_go.head(10)"
   ]
  },
  {
   "cell_type": "code",
   "execution_count": null,
   "id": "e5519f1c",
   "metadata": {},
   "outputs": [],
   "source": [
    "users_go.info()\n"
   ]
  },
  {
   "cell_type": "code",
   "execution_count": null,
   "id": "4cec70f5",
   "metadata": {},
   "outputs": [],
   "source": [
    "rides_go.head(10)"
   ]
  },
  {
   "cell_type": "code",
   "execution_count": null,
   "id": "7e617a68",
   "metadata": {},
   "outputs": [],
   "source": [
    "rides_go.info()"
   ]
  },
  {
   "cell_type": "code",
   "execution_count": null,
   "id": "9cb43ce8",
   "metadata": {},
   "outputs": [],
   "source": [
    "subscriptions_go.head(10)"
   ]
  },
  {
   "cell_type": "markdown",
   "id": "dc96904b",
   "metadata": {},
   "source": [
    "Всего датасет users_go содержит данные о 1534 пользователях из разных городов. Датасет rides_go содержит в себе 18068 записей о поездках пользователей из датасета users_go. Датасет subscription_go содержит данные о тарифах поездок с подпиской и без."
   ]
  },
  {
   "cell_type": "markdown",
   "id": "71c69b87",
   "metadata": {},
   "source": [
    "# Предобработка данных"
   ]
  },
  {
   "cell_type": "markdown",
   "id": "b26ef390",
   "metadata": {},
   "source": [
    "## Обработка users_go"
   ]
  },
  {
   "cell_type": "code",
   "execution_count": null,
   "id": "ef418bf2",
   "metadata": {},
   "outputs": [],
   "source": [
    "users_go.isna().sum()"
   ]
  },
  {
   "cell_type": "code",
   "execution_count": null,
   "id": "03afbf63",
   "metadata": {},
   "outputs": [],
   "source": [
    "cols = users_go.columns \n",
    "\n",
    "#красный для пропущенных данных и зеленый для не пропущенных\n",
    "colours = ['#FF5733', '#00FF00']\n",
    "sns.heatmap(users_go[cols].isnull(), cmap=sns.color_palette(colours))\n",
    "plt.show()"
   ]
  },
  {
   "cell_type": "code",
   "execution_count": null,
   "id": "43412d1b",
   "metadata": {},
   "outputs": [],
   "source": [
    "users_go.duplicated().sum()"
   ]
  },
  {
   "cell_type": "code",
   "execution_count": null,
   "id": "5cbb42e6",
   "metadata": {},
   "outputs": [],
   "source": [
    "users_go.shape"
   ]
  },
  {
   "cell_type": "code",
   "execution_count": null,
   "id": "87e246bb",
   "metadata": {},
   "outputs": [],
   "source": [
    "users_go.drop_duplicates(inplace=True)"
   ]
  },
  {
   "cell_type": "code",
   "execution_count": null,
   "id": "94a7bf13",
   "metadata": {},
   "outputs": [],
   "source": [
    "users_go.duplicated().sum()"
   ]
  },
  {
   "cell_type": "code",
   "execution_count": null,
   "id": "eb3ac1d0",
   "metadata": {},
   "outputs": [],
   "source": [
    "users_go['age'].hist(bins=12)"
   ]
  },
  {
   "cell_type": "markdown",
   "id": "3a1c9c2d",
   "metadata": {},
   "source": [
    "В датасете users_go обработаны дубликаты. Аномальные выбросы и пропущенные значения отсутсвуют."
   ]
  },
  {
   "cell_type": "markdown",
   "id": "02845072",
   "metadata": {},
   "source": [
    "## Обработка rides_go"
   ]
  },
  {
   "cell_type": "code",
   "execution_count": null,
   "id": "61f3b914",
   "metadata": {},
   "outputs": [],
   "source": [
    "rides_go.isna().sum()"
   ]
  },
  {
   "cell_type": "code",
   "execution_count": null,
   "id": "bf523fa1",
   "metadata": {},
   "outputs": [],
   "source": [
    "cols = rides_go.columns \n",
    "\n",
    "#красный для пропущенных данных и зеленый для не пропущенных\n",
    "colours = ['#FF5733', '#00FF00']\n",
    "sns.heatmap(rides_go[cols].isnull(), cmap=sns.color_palette(colours))\n",
    "plt.show()"
   ]
  },
  {
   "cell_type": "code",
   "execution_count": null,
   "id": "126a7e7b",
   "metadata": {},
   "outputs": [],
   "source": [
    "rides_go.duplicated().sum()"
   ]
  },
  {
   "cell_type": "code",
   "execution_count": null,
   "id": "d806507c",
   "metadata": {},
   "outputs": [],
   "source": [
    "rides_go[['distance', 'duration']].hist(bins=20)"
   ]
  },
  {
   "cell_type": "code",
   "execution_count": null,
   "id": "9e132223",
   "metadata": {},
   "outputs": [],
   "source": [
    "rides_go.head()"
   ]
  },
  {
   "cell_type": "code",
   "execution_count": null,
   "id": "053d1e67",
   "metadata": {},
   "outputs": [],
   "source": [
    "rides_go['date'] = pd.to_datetime(rides_go['date'])"
   ]
  },
  {
   "cell_type": "code",
   "execution_count": null,
   "id": "53ff1864",
   "metadata": {},
   "outputs": [],
   "source": [
    "rides_go.dtypes"
   ]
  },
  {
   "cell_type": "code",
   "execution_count": null,
   "id": "91aabe05",
   "metadata": {},
   "outputs": [],
   "source": [
    "rides_go.corr()"
   ]
  },
  {
   "cell_type": "code",
   "execution_count": null,
   "id": "12439f0c",
   "metadata": {},
   "outputs": [],
   "source": [
    "rides_go['distance'] = rides_go['distance'].round(2)\n",
    "rides_go['duration'] = np.ceil(rides_go['duration']) \n",
    "rides_go['duration'] = rides_go['duration'].astype('int')"
   ]
  },
  {
   "cell_type": "code",
   "execution_count": null,
   "id": "934ef6e6",
   "metadata": {},
   "outputs": [],
   "source": [
    "rides_go.head(10)"
   ]
  },
  {
   "cell_type": "markdown",
   "id": "9e31a940",
   "metadata": {},
   "source": [
    "На этапе предобработки данных были обработаны дубликаты в данных, изучены датасеты на предмет пропусков данных, которых не оказалось ни в одном датасете. Также были построены гистограмы для числовых признаков."
   ]
  },
  {
   "cell_type": "markdown",
   "id": "2160f6cb",
   "metadata": {},
   "source": [
    "# Исследовательский анализ данных\n"
   ]
  },
  {
   "cell_type": "markdown",
   "id": "48876605",
   "metadata": {},
   "source": [
    "## Частота встречаемости городов\n"
   ]
  },
  {
   "cell_type": "code",
   "execution_count": null,
   "id": "c5c7a4b4",
   "metadata": {},
   "outputs": [],
   "source": [
    "users_go.head(10)"
   ]
  },
  {
   "cell_type": "code",
   "execution_count": null,
   "id": "72467450",
   "metadata": {},
   "outputs": [],
   "source": [
    "users_go.city.unique()"
   ]
  },
  {
   "cell_type": "code",
   "execution_count": null,
   "id": "4e3dd077",
   "metadata": {
    "scrolled": true
   },
   "outputs": [],
   "source": [
    "fig, ax = plt.subplots(figsize=(10, 6))\n",
    "\n",
    "user_counts = users_go['city'].value_counts()\n",
    "user_counts.plot(kind='bar',ax=ax,color ='skyblue', edgecolor='black')\n",
    "\n",
    "for i, v in enumerate(user_counts):\n",
    "    ax.text(i, v + 1 , str(v), ha='center', va='bottom', fontsize=10)\n",
    "\n",
    "plt.title('Распределение пользователей по городам')\n",
    "plt.xlabel('Город')\n",
    "plt.ylabel('Количество пользователей')\n",
    "ax.legend(['Количество пользователей в городе'])\n",
    "plt.show()"
   ]
  },
  {
   "cell_type": "markdown",
   "id": "ab0fc9bf",
   "metadata": {},
   "source": [
    "Самый популярный город - Пятигорск, наименее - Москва.\n"
   ]
  },
  {
   "cell_type": "markdown",
   "id": "2e86dc15",
   "metadata": {},
   "source": [
    "## Cоотношение пользователей с подпиской и без подписки"
   ]
  },
  {
   "cell_type": "code",
   "execution_count": null,
   "id": "cc8e9624",
   "metadata": {},
   "outputs": [],
   "source": [
    "fig, ax = plt.subplots(figsize=(10, 6))\n",
    "\n",
    "subs_type_perc = (users_go['subscription_type'].value_counts() / users_go.shape[0]) * 100\n",
    "# subs_type_perc.plot(kind='pie', ax=ax)\n",
    "\n",
    "colors=['lightgreen', 'lightcoral']\n",
    "\n",
    "subs_type_perc.plot(kind='pie', ax=ax, autopct='%1.1f%%', colors=colors)\n",
    "plt.title('Тип подписки')\n",
    "\n"
   ]
  },
  {
   "cell_type": "markdown",
   "id": "14483c1e",
   "metadata": {},
   "source": [
    "Как можно заметить пользователей без подписки в процентном соотношении больше(54.4%), чем пользователей с подпиской (45.6%)"
   ]
  },
  {
   "cell_type": "markdown",
   "id": "16328c3c",
   "metadata": {},
   "source": [
    "## Возраст пользователей"
   ]
  },
  {
   "cell_type": "code",
   "execution_count": null,
   "id": "e2f23325",
   "metadata": {},
   "outputs": [],
   "source": [
    "users_go.age.describe()"
   ]
  },
  {
   "cell_type": "code",
   "execution_count": null,
   "id": "70bf7f45",
   "metadata": {
    "scrolled": true
   },
   "outputs": [],
   "source": [
    "users_go['age'].hist(bins=30)"
   ]
  },
  {
   "cell_type": "markdown",
   "id": "d460cb7c",
   "metadata": {},
   "source": [
    "Средний возраст пользователя - 25 лет, минимальный - 12, а максимальный - 43 года."
   ]
  },
  {
   "cell_type": "markdown",
   "id": "fb02139a",
   "metadata": {},
   "source": [
    "## Продолжительность поездок"
   ]
  },
  {
   "cell_type": "code",
   "execution_count": null,
   "id": "534d257f",
   "metadata": {},
   "outputs": [],
   "source": [
    "rides_go.head()"
   ]
  },
  {
   "cell_type": "code",
   "execution_count": null,
   "id": "7ef6d109",
   "metadata": {},
   "outputs": [],
   "source": [
    "plt.hist(rides_go['duration'], bins=40)\n",
    "plt.xlabel('Продолжительность')\n",
    "plt.ylabel('Частота')\n",
    "plt.title('Распределение продолжительности сессий')\n",
    "plt.show()"
   ]
  },
  {
   "cell_type": "code",
   "execution_count": null,
   "id": "d16de6fc",
   "metadata": {},
   "outputs": [],
   "source": [
    "rides_go.duration.describe()"
   ]
  },
  {
   "cell_type": "code",
   "execution_count": null,
   "id": "e4803e69",
   "metadata": {},
   "outputs": [],
   "source": [
    "sns.boxplot(x = rides_go['duration'], color='green')\n",
    "plt.title('Время, проведенное в поездке')\n",
    "plt.xlabel('Время, минуты')\n",
    "_ = plt.xlim(0, 45)"
   ]
  },
  {
   "cell_type": "code",
   "execution_count": null,
   "id": "23a141e0",
   "metadata": {},
   "outputs": [],
   "source": [
    "rides_go.duration.median()"
   ]
  },
  {
   "cell_type": "markdown",
   "id": "02213ef3",
   "metadata": {},
   "source": [
    "Средняя продолжительность поездки среди пользователей 17.6 минут. При это присутсвуют долгие сессии от 30 минут и выше, так и слишком короткие сессии продолжительностью меньше минуты."
   ]
  },
  {
   "cell_type": "markdown",
   "id": "4130d60e",
   "metadata": {},
   "source": [
    "## Расстояние, которое пользователь преодолел за одну поездку;"
   ]
  },
  {
   "cell_type": "code",
   "execution_count": null,
   "id": "11854fa2",
   "metadata": {},
   "outputs": [],
   "source": [
    "# rides_go.distance.hist(bins=30, figsize=(5,5))\n",
    "plt.hist(rides_go['distance'], bins=40)\n",
    "plt.xlabel('Дистанция')\n",
    "plt.ylabel('Частота')\n",
    "plt.title('Распределение дистанции сессии')\n",
    "plt.show()"
   ]
  },
  {
   "cell_type": "code",
   "execution_count": null,
   "id": "6abf239e",
   "metadata": {},
   "outputs": [],
   "source": [
    "rides_go.distance.describe()"
   ]
  },
  {
   "cell_type": "code",
   "execution_count": null,
   "id": "6a74a731",
   "metadata": {},
   "outputs": [],
   "source": [
    "sns.boxplot(x = rides_go['distance'], color='green')\n",
    "plt.title('Время, проведенное в поездке')\n",
    "plt.xlabel('Время, минуты')\n",
    "_ = plt.xlim(0, 8000)"
   ]
  },
  {
   "cell_type": "markdown",
   "id": "286ca344",
   "metadata": {},
   "source": [
    "Средняя дистанция поездки - 3070 метров. При этом существуют как слишком \"длинные\" поездки до 7000 метров, так и слишком короткие длиною меньше 1000 метров.\n"
   ]
  },
  {
   "cell_type": "markdown",
   "id": "971e137a",
   "metadata": {},
   "source": [
    "# Объединение данных"
   ]
  },
  {
   "cell_type": "markdown",
   "id": "09a68939",
   "metadata": {},
   "source": [
    "## Объединение датафреймов"
   ]
  },
  {
   "cell_type": "code",
   "execution_count": null,
   "id": "c4d6185f",
   "metadata": {},
   "outputs": [],
   "source": [
    "merged_data = users_go.merge(rides_go, on='user_id')\n",
    "merged_data.head(20)"
   ]
  },
  {
   "cell_type": "code",
   "execution_count": null,
   "id": "bb9a8df7",
   "metadata": {},
   "outputs": [],
   "source": [
    "merged_data.shape"
   ]
  },
  {
   "cell_type": "code",
   "execution_count": null,
   "id": "1c36f1ac",
   "metadata": {},
   "outputs": [],
   "source": [
    "merged_data = merged_data.merge(subscriptions_go, on='subscription_type')\n",
    "merged_data.head(30)"
   ]
  },
  {
   "cell_type": "markdown",
   "id": "b3da8f09",
   "metadata": {},
   "source": [
    "## Фильтрация датафреймов для пользователей с подпиской и без"
   ]
  },
  {
   "cell_type": "code",
   "execution_count": null,
   "id": "228f6ce6",
   "metadata": {},
   "outputs": [],
   "source": [
    "ultra_subs_type = merged_data[merged_data['subscription_type'] == 'ultra']\n",
    "ultra_subs_type.head(10)"
   ]
  },
  {
   "cell_type": "code",
   "execution_count": null,
   "id": "1e9281a4",
   "metadata": {
    "scrolled": false
   },
   "outputs": [],
   "source": [
    "free_subs_type = merged_data[merged_data['subscription_type'] == 'free']\n",
    "free_subs_type.head(10)"
   ]
  },
  {
   "cell_type": "markdown",
   "id": "a60218be",
   "metadata": {},
   "source": [
    "## Визуализация распределений"
   ]
  },
  {
   "cell_type": "code",
   "execution_count": null,
   "id": "2e36907c",
   "metadata": {},
   "outputs": [],
   "source": [
    "plt.hist(ultra_subs_type['distance'], bins=50, alpha=0.5, label='ultra_subscription', color='orange')\n",
    "plt.hist(free_subs_type['distance'], bins=50, alpha=0.5, label='free_subscription', color='skyblue')\n",
    "plt.xlabel('Дистанция')\n",
    "plt.ylabel('Частота')\n",
    "plt.title('Распределение дистанций сессии среди ultra и free подписок')\n",
    "plt.legend()\n",
    "plt.show()\n",
    "None"
   ]
  },
  {
   "cell_type": "markdown",
   "id": "f42bf13e",
   "metadata": {},
   "source": [
    "Как можно заметить, распределение частот дистанций среди разных подписок имеет одинаковую форму, за исключением того, что пользователи с бесплатной подпиской имеют больший разброс(дисперсию) данных"
   ]
  },
  {
   "cell_type": "code",
   "execution_count": null,
   "id": "f0601431",
   "metadata": {},
   "outputs": [],
   "source": [
    "plt.hist(ultra_subs_type['duration'], bins=30, alpha=0.5, label='ultra_subscription', color='orange')\n",
    "plt.hist(free_subs_type['duration'], bins=30, alpha=0.5, label='free_subscription', color='skyblue')\n",
    "plt.xlabel('Продолжительность')\n",
    "plt.ylabel('Частота')\n",
    "plt.title('Распределение продолжительности сессии среди ultra и free подписок')\n",
    "plt.legend()\n",
    "None"
   ]
  },
  {
   "cell_type": "markdown",
   "id": "ae1d21c0",
   "metadata": {},
   "source": [
    "Продолжительности сессии для обеих типов подписок распределены по нормальному закону, для пользователей с бесплатной подпиской наблюдается бОльшая дисперсия данных."
   ]
  },
  {
   "cell_type": "markdown",
   "id": "f10bb43a",
   "metadata": {},
   "source": [
    "# Подсчет выручки"
   ]
  },
  {
   "cell_type": "markdown",
   "id": "60e5fa9a",
   "metadata": {},
   "source": [
    "## Агрегирование датафрейма"
   ]
  },
  {
   "cell_type": "markdown",
   "id": "f9236df0",
   "metadata": {},
   "source": [
    "Для подсчета выручки от каждого пользователя по каждому месяцу добавим столбцы 'month' - месяц сессии."
   ]
  },
  {
   "cell_type": "code",
   "execution_count": null,
   "id": "689f4192",
   "metadata": {},
   "outputs": [],
   "source": [
    "merged_data.head(10)"
   ]
  },
  {
   "cell_type": "code",
   "execution_count": null,
   "id": "bf4fd39b",
   "metadata": {},
   "outputs": [],
   "source": [
    "month_names = {\n",
    "    1: 'Январь',\n",
    "    2: 'Февраль',\n",
    "    3: 'Март',\n",
    "    4: 'Апрель',\n",
    "    5: 'Май',\n",
    "    6: 'Июнь',\n",
    "    7: 'Июль',\n",
    "    8: 'Август',\n",
    "    9: 'Сентябрь',\n",
    "    10: 'Октябрь',\n",
    "    11: 'Ноябрь',\n",
    "    12: 'Декабрь'\n",
    "}\n",
    "\n",
    "merged_data['month'] = merged_data['date'].dt.month.map(month_names)"
   ]
  },
  {
   "cell_type": "code",
   "execution_count": null,
   "id": "a329b539",
   "metadata": {},
   "outputs": [],
   "source": [
    "merged_data.head()"
   ]
  },
  {
   "cell_type": "code",
   "execution_count": null,
   "id": "caff14e3",
   "metadata": {},
   "outputs": [],
   "source": [
    "merged_data.columns"
   ]
  },
  {
   "cell_type": "code",
   "execution_count": null,
   "id": "8be5e3bc",
   "metadata": {},
   "outputs": [],
   "source": [
    "group_data = pd.pivot_table(merged_data,index=['user_id', 'month'],\n",
    "                                     values=['distance', 'duration','subscription_type','name'],\n",
    "                                     aggfunc={'distance': np.sum,\n",
    "                                              'duration': np.sum,\n",
    "                                              'name': len,\n",
    "                                              'subscription_type': 'min'})\\\n",
    "                        .rename(columns={'name': 'amount_of_session', 'distance':'total_distance', 'duration':'total_duration'})\n",
    "\n",
    "group_data.head(20)"
   ]
  },
  {
   "cell_type": "markdown",
   "id": "28199e2a",
   "metadata": {},
   "source": [
    "## Добавление столбца с помесячной выручкой по каждому пользователю."
   ]
  },
  {
   "cell_type": "code",
   "execution_count": null,
   "id": "cbdaaed4",
   "metadata": {},
   "outputs": [],
   "source": [
    "def calculate_monthly_revenue(row):\n",
    "    \n",
    "    subscription_type = row['subscription_type']\n",
    "    \n",
    "    if subscription_type == 'ultra':\n",
    "        return (6 * row['total_duration']) + 199  \n",
    "    \n",
    "    if subscription_type == 'free':\n",
    "        return (8 * row['total_duration']) + (row['amount_of_session'] * 50)\n",
    "    \n",
    "group_data['monthly_revenue'] = group_data.apply(calculate_monthly_revenue, axis=1)"
   ]
  },
  {
   "cell_type": "code",
   "execution_count": null,
   "id": "558755c7",
   "metadata": {},
   "outputs": [],
   "source": [
    "group_data"
   ]
  },
  {
   "cell_type": "markdown",
   "id": "b718ca2c",
   "metadata": {},
   "source": [
    "На этом этапе работы была проведено агрегирование данных по user_id и месяцу поездок и было посчитано сколько каждый пользователь совершил поездок в отельный месяц. Также было рассчитано какую выручку принес каждый пользователь в отдельные месяцы с учетом его тарифа поездок."
   ]
  },
  {
   "cell_type": "markdown",
   "id": "b57138e6",
   "metadata": {},
   "source": [
    "#  Проверка гипотез"
   ]
  },
  {
   "cell_type": "markdown",
   "id": "2bec4f19",
   "metadata": {},
   "source": [
    "Проверим следующие гипотезы\n",
    "\n",
    "1.  Тратят ли пользователи с подпиской больше времени на поездки?\\\n",
    "2.  Можно ли сказать, что среднее расстояние, которое проезжают пользователи с подпиской за одну поездку, не превышает 3130 метров?\n",
    "3. Будет ли помесячная выручка от пользователей с подпиской по месяцам выше, чем выручка от пользователей без подписки. \n",
    "\n",
    "4. Представьте такую ситуацию: техническая команда сервиса обновила сервера, с которыми взаимодействует мобильное приложение. Она надеется, что из-за этого количество обращений в техподдержку значимо снизилось. Некоторый файл содержит для каждого пользователя данные о количестве обращений до обновления и после него. Какой тест вам понадобился бы для проверки этой гипотезы?"
   ]
  },
  {
   "cell_type": "code",
   "execution_count": null,
   "id": "aaa6c5c0",
   "metadata": {},
   "outputs": [],
   "source": [
    "# group_data.groupby('subscription_type')['total_duration'].median()\n",
    "group_data.pivot_table(index='subscription_type',values='total_duration', aggfunc='median')"
   ]
  },
  {
   "cell_type": "code",
   "execution_count": null,
   "id": "207e71a0",
   "metadata": {},
   "outputs": [],
   "source": [
    "free_subs_sample = group_data[group_data['subscription_type'] == 'free']\n",
    "free_subs_sample"
   ]
  },
  {
   "cell_type": "code",
   "execution_count": null,
   "id": "89eb5dfe",
   "metadata": {},
   "outputs": [],
   "source": [
    "ultra_subs_sample = group_data[group_data['subscription_type'] == 'ultra']\n",
    "ultra_subs_sample"
   ]
  },
  {
   "cell_type": "markdown",
   "id": "a3711439",
   "metadata": {},
   "source": []
  },
  {
   "cell_type": "markdown",
   "id": "f4207e76",
   "metadata": {},
   "source": [
    "## Первая гипотеза"
   ]
  },
  {
   "cell_type": "markdown",
   "id": "7407669d",
   "metadata": {},
   "source": [
    "Гипотеза H0 - средняя продолжительность поездки для пользователей с подпиской = средней продолжительности для \n",
    "пользователей без подписки\n",
    "Гипотеза H1 - Средняя продолжитлеьность с подпиской выше.\n"
   ]
  },
  {
   "cell_type": "markdown",
   "id": "616d43e7",
   "metadata": {},
   "source": [
    "Значение p равное 1 не означает, что нулевая гипотеза (H0) полностью верна; оно лишь говорит о том, что у вас нет статистических доказательств для отвержения H0 на основе имеющихся данных."
   ]
  },
  {
   "cell_type": "code",
   "execution_count": null,
   "id": "580b1be0",
   "metadata": {},
   "outputs": [],
   "source": [
    "alpha = 0.05 # уровень значимости\n",
    "\n",
    "results = st.ttest_ind(ultra_subs_sample['total_duration'], free_subs_sample['total_duration'] , alternative='greater')\n",
    "print(f'p-value: {results.pvalue}')\n",
    "\n",
    "if (results.pvalue < alpha):\n",
    "    print('Отвергаем нулевую гипотезу')\n",
    "else:\n",
    "    print('Не отвергаем нулевую гипотезу') "
   ]
  },
  {
   "cell_type": "markdown",
   "id": "e49bd044",
   "metadata": {},
   "source": [
    "Нет статистически значимой разницы. Среднее время пользователей с подпиской не отличается от пользователей без подписки."
   ]
  },
  {
   "cell_type": "markdown",
   "id": "5f6906f7",
   "metadata": {},
   "source": [
    "## Вторая гипотеза"
   ]
  },
  {
   "cell_type": "markdown",
   "id": "ce0c7db3",
   "metadata": {},
   "source": [
    "Проверим вторую гипотезу.\\\n",
    "\n",
    "\n",
    "H0 - среднее расстояние, которое проезжают пользователи с подпиской 3130 метров.\\\n",
    "H1 - среднее расстояние, которое проезжают пользователи с подпиской больше 3130."
   ]
  },
  {
   "cell_type": "code",
   "execution_count": null,
   "id": "106c7c89",
   "metadata": {},
   "outputs": [],
   "source": [
    "alpha = 0.05 # уровень значимости\n",
    "\n",
    "interested_value = 3130\n",
    "\n",
    "results = st.ttest_1samp(ultra_subs_sample['total_distance'], interested_value, alternative='greater')\n",
    "print(f'p-value: {results.pvalue}')\n",
    "\n",
    "if (results.pvalue < alpha):\n",
    "    print('Отвергаем нулевую гипотезу')\n",
    "else:\n",
    "    print('Не отвергаем нулевую гипотезу') \n",
    "\n"
   ]
  },
  {
   "cell_type": "markdown",
   "id": "6fd72e46",
   "metadata": {},
   "source": [
    "Среднее расстояние, которое проезжают пользователи не равно 3130. И, соответсвенно, среднее расстояние среди пользователей с подпиской в среднем выше, чем 3130 метров, и это значит, что пользователь с подпиской также изнашивают самокаты. Большую роль здесь может играть тот факт, что с подпиской стоимость минуты меньше, поэтому пользователи дольше катаются и проезжают большое расстояние."
   ]
  },
  {
   "cell_type": "markdown",
   "id": "3453f208",
   "metadata": {},
   "source": [
    "## Третья гипотеза"
   ]
  },
  {
   "cell_type": "markdown",
   "id": "fa768f48",
   "metadata": {},
   "source": [
    "Проверим третью гипотезу.\\\n",
    "Н0 - средняя выручка по месяцам у пользователей с подпиской и без равны.\\\n",
    "H1 - средняя выручка по месяцам у пользователей с подпиской выше, чем у пользователей без подписки.\n"
   ]
  },
  {
   "cell_type": "code",
   "execution_count": null,
   "id": "2cc35859",
   "metadata": {},
   "outputs": [],
   "source": [
    "free_subs_sample['monthly_revenue'].mean()"
   ]
  },
  {
   "cell_type": "code",
   "execution_count": null,
   "id": "215ad4ca",
   "metadata": {
    "scrolled": true
   },
   "outputs": [],
   "source": [
    "ultra_subs_sample['monthly_revenue'].mean()"
   ]
  },
  {
   "cell_type": "code",
   "execution_count": null,
   "id": "5e801574",
   "metadata": {},
   "outputs": [],
   "source": [
    "alpha = 0.05\n",
    "\n",
    "results = st.ttest_ind(ultra_subs_sample['monthly_revenue'], free_subs_sample['monthly_revenue'], alternative='greater')\n",
    "\n",
    "print(f\"p-value{results.pvalue}\")\n",
    "\n",
    "\n",
    "if (results.pvalue < alpha):\n",
    "    print('Отвергаем нулевую гипотезу')\n",
    "else:\n",
    "    print('Не отвергаем нулевую гипотезу') "
   ]
  },
  {
   "cell_type": "markdown",
   "id": "563af913",
   "metadata": {},
   "source": [
    "Отвергаем нулевую гипотезу о том, что средние выручки равны. И исходя из одностороннего теста вправо, можно сказать, что средняя вырчка пользователей с подпиской выше. И эти пользователи выгоднее для компании."
   ]
  },
  {
   "cell_type": "markdown",
   "id": "9743f54e",
   "metadata": {},
   "source": [
    "## Четвертая гипотеза"
   ]
  },
  {
   "cell_type": "markdown",
   "id": "290da4f5",
   "metadata": {},
   "source": [
    "Для гипотезы необходимо провести односторонний тест влево, т.е. H0 - количество обращений до и после ремонта сервера равны, H1 - количество обращений после ремонта меньше, чем до."
   ]
  },
  {
   "cell_type": "markdown",
   "id": "4b60d002",
   "metadata": {},
   "source": [
    "# Распределения"
   ]
  },
  {
   "cell_type": "markdown",
   "id": "d9bdb4da",
   "metadata": {},
   "source": [
    "##\n"
   ]
  },
  {
   "cell_type": "code",
   "execution_count": null,
   "id": "5490f490",
   "metadata": {},
   "outputs": [],
   "source": [
    "from scipy.stats import binom\n",
    "\n",
    "# Заданные параметры\n",
    "p = 0.1 # вероятность успеха\n",
    "desired_prob = 0.05 \n",
    "min_success = 100\n",
    "\n",
    "N = 1\n",
    "prob = 0\n",
    "\n",
    "while prob < desired_prob:\n",
    "    prob = 1 - binom.cdf(min_success - 1, N, p)\n",
    "    N += 1\n",
    "\n",
    "print(f\"Минимальное количество промокодов N: {N}\")\n",
    "print(f\"Вероятность {prob}\")"
   ]
  },
  {
   "cell_type": "code",
   "execution_count": null,
   "id": "6689f950",
   "metadata": {},
   "outputs": [],
   "source": [
    "p = 0.1\n",
    "desired_prob = 0.05\n",
    "min_success = 100\n",
    "\n",
    "N_values = []\n",
    "prob_values = []\n",
    "\n",
    "N = 1\n",
    "prob = 0\n",
    "\n",
    "while prob < desired_prob:\n",
    "    prob = 1 - binom.cdf(min_success - 1, N, p)\n",
    "    N_values.append(N)\n",
    "    prob_values.append(prob)\n",
    "    N += 1\n",
    "    \n",
    "\n",
    "plt.plot(N_values, prob_values, marker='o', linestyle='-')\n",
    "plt.xlabel('Количество промокодов (N)')\n",
    "plt.ylabel('Вероятность не выполнения плана')\n",
    "plt.title('Зависимость вероятности от количества промокодов')\n",
    "plt.grid(True)\n",
    "plt.axhline(desired_prob, color='red', linestyle='--', label=f'Желаемая вероятность ({desired_prob})')\n",
    "plt.legend()\n",
    "plt.show()"
   ]
  },
  {
   "cell_type": "markdown",
   "id": "900c77ae",
   "metadata": {},
   "source": [
    "Нужно разослать минимум 851 промокод для того, чтобы вероятность не выполнить план была примерно 5 %, при условии того, что прописку продлевает 10%  пользователей после бесплатного пробного периода."
   ]
  },
  {
   "cell_type": "markdown",
   "id": "4be2a0af",
   "metadata": {},
   "source": [
    "## "
   ]
  },
  {
   "cell_type": "code",
   "execution_count": null,
   "id": "83c81bd3",
   "metadata": {},
   "outputs": [],
   "source": [
    "n = 1000000  # количество новых посетителей\n",
    "p = 0.4  # вероятность завести аккаунт\n",
    "desired_users = 399500\n",
    "\n",
    "# Рассчитываем параметры нормального распределения\n",
    "mu = n * p  # математическое ожидание\n",
    "sigma = sqrt(n * p * (1 - p))  # стандартное отклонение\n",
    "\n",
    "# Задаем нормальное распределение\n",
    "distr = st.norm(mu, sigma)\n",
    "\n",
    "# Находим вероятность, что появится меньше 339.5 тысяч новых аккаунтов\n",
    "result = distr.cdf(desired_users)  \n",
    "print(\"Вероятность того, что не более 399,5 тыс. пользователей откроют уведомление:\", result)"
   ]
  },
  {
   "cell_type": "markdown",
   "id": "35db6bf3",
   "metadata": {},
   "source": [
    "При условии того, что будет разослано 1 млн push уведомлений, вероятность того, что пользователи откроют не более 399.5 тыс уведомлений равна 15.3%"
   ]
  },
  {
   "cell_type": "markdown",
   "id": "aeb373ee",
   "metadata": {},
   "source": [
    "# Общий вывод\n"
   ]
  },
  {
   "cell_type": "markdown",
   "id": "c9e87d43",
   "metadata": {},
   "source": [
    "В рамках исследования были изучены данные популярного сервиса аренды самокатов GoFast.Чтобы совершать поездки по городу, пользователи сервиса GoFast пользуются мобильным приложением.\\\n",
    "\n",
    "Сервисом можно пользоваться:\n",
    "без подписки\\\n",
    "абонентская плата отсутствует;\\\n",
    "стоимость одной минуты поездки — 8 рублей;\\\n",
    "стоимость старта (начала поездки) — 50 рублей;\\\n",
    "\n",
    "с подпиской Ultra\\\n",
    "абонентская плата — 199 рублей в месяц;\\\n",
    "стоимость одной минуты поездки — 6 рублей;\\\n",
    "стоимость старта — бесплатно.\\\n",
    "\n",
    "**Описание данных**\\\n",
    "В основных данных есть информация о пользователях, их поездках и подписках.\n",
    "\n",
    "Пользователи — users_go.csv\n",
    "\n",
    "user_id - уникальный идентификатор пользователя\n",
    "name - имя пользователя\n",
    "age - возраст\n",
    "city - город\n",
    "subscription_type тип подписки (free, ultra)\\\n",
    "\n",
    "Поездки — rides_go.csv\\\n",
    "\n",
    "user_id - уникальный идентификатор пользователя distance - расстояние, которое пользователь проехал в текущей сессии (в метрах) duration - продолжительность сессии (в минутах) — время с того момента, как пользователь нажал кнопку «Начать поездку» до момента, как он нажал кнопку «Завершить поездку»\n",
    "date - дата совершения поездки\\\n",
    "\n",
    "Подписки — subscriptions_go.csv\n",
    "subscription_type - тип подписки\n",
    "minute_price - стоимость одной минуты поездки по данной подписке\n",
    "start_ride_price - стоимость начала поездки\n",
    "subscription_fee - стоимость ежемесячного платежа\\\n",
    "\n",
    "Всего датасет users_go содержит данные о 1534 пользователях из разных городов. Датасет rides_go содержит в себе 18068 записей о поездках пользователей из датасета users_go. Датасет subscription_go содержит данные о тарифах поездок с подпиской и без.\n",
    "\n",
    "На этапе предобработки данных были обработаны дубликаты в данных, изучены датасеты на предмет пропусков данных, которых не оказалось ни в одном датасете. Также были построены гистограмы для числовых признаков, которые показали, что время и дистанции поездок распределены близко к нормальному закону.\n",
    "\n",
    "Исследовательский анализ показал:\\\n",
    "1. Самый популярный город - Пятигорск, наименее - Москва.\\\n",
    "2. Пользователей без подписки в процентном соотношении больше(54.4%), чем пользователей с подпиской (45.6%)\\\n",
    "3. Средний возраст пользователя - 25 лет, минимальный - 12, а максимальный - 43 года.\\\n",
    "4. Средняя продолжительность поездки среди пользователей 17.6 минут. При это присутсвуют долгие сессии от 30 минут и выше, так и слишком короткие сессии продолжительностью меньше минуты.\\\n",
    "5. Средняя дистанция поездки - 3070 метров. При этом существуют как слишком \"длинные\" поездки до 7000 метров, так и слишком короткие длиною меньше 1000 метров.\n",
    "\n",
    "Также в ходе работы были объеденены с помощью метода merge все три датасате по ключу user_id , а также после этого были сформированы отдельные выборки для пользователей с подпиской и без.\n",
    "\n",
    "Анализ распределений отдельных выборок показал:\\\n",
    "1. Распределение частот дистанций среди разных подписок имеет одинаковую форму, за исключением того, что пользователи с бесплатной подпиской имеют больший разброс(дисперсию) данных.\n",
    "2. Продолжительности сессии для обеих типов подписок распределены по нормальному закону, для пользователей с бесплатной подпиской наблюдается бОльшая дисперсия данных.\n",
    "\n",
    "На следующем этапе работы была проведено агрегирование данных по user_id и месяцу поездок и было посчитано сколько каждый пользователь совершил поездок в отельный месяц. Также было рассчитано какую выручку принес каждый пользователь в отдельные месяцы с учетом его тарифа поездок.\n",
    "\n",
    "На этапе проверки гипотез были изучены следующие статистические закономерности.\n",
    "\n",
    "1.  Тратят ли пользователи с подпиской больше времени на поездки?\\\n",
    "2.  Можно ли сказать, что среднее расстояние, которое проезжают пользователи с подпиской за одну поездку, не превышает 3130 метров?\n",
    "3. Будет ли помесячная выручка от пользователей с подпиской по месяцам выше, чем выручка от пользователей без подписки. \n",
    "\n",
    "4. Представьте такую ситуацию: техническая команда сервиса обновила сервера, с которыми взаимодействует мобильное приложение. Она надеется, что из-за этого количество обращений в техподдержку значимо снизилось. Некоторый файл содержит для каждого пользователя данные о количестве обращений до обновления и после него. Какой тест вам понадобился бы для проверки этой гипотезы?\n",
    "\n",
    "Для первой гипотезы была проверена односторонняя правая гипотеза. **Вывод** - Нет статистически значимой разницы. Среднее время пользователей с подпиской не отличается от пользователей без подписки.\n",
    "\n",
    "\n",
    "Для второй гипотезы была проверена односторонняя правая гипотеза. **Вывод**- Среднее расстояние, которое проезжают пользователи не равно 3130. И, соответсвенно, среднее расстояние среди пользователей с подпиской в среднем выше, чем 3130 метров, и это значит, что пользователь с подпиской также изнашивают самокаты. Большую роль здесь может играть тот факт, что с подпиской стоимость минуты меньше, поэтому пользователи дольше катаются и проезжают большое расстояние.\n",
    "\n",
    "Для третьей гипотезы была проведена односторонняя правая гипотеза. **Вывод** - Отвергаем нулевую гипотезу о том, что средние выручки равны. И исходя из одностороннего теста вправо, можно сказать, что средняя вырчка пользователей с подпиской выше. И эти пользователи выгоднее для компании.\n",
    "\n",
    "Для четвертой гипотезы необходимо провести односторонний тест влево, т.е. H0 - количество обращений до и после ремонта сервера равны, H1 - количество обращений после ремонта меньше, чем до.\n",
    "\n",
    "Также в ходе работы были изучены распредления и получены следующие ответы для отдела маркетинга:\n",
    "1. Нужно разослать минимум 851 промокод для того, чтобы вероятность не выполнить план была примерно 5 %, при условии того, что прописку продлевает 10% пользователей после бесплатного пробного периода.\n",
    "2. При условии того, что будет разослано 1 млн push уведомлений, вероятность того, что пользователи откроют не более 399.5 тыс уведомлений равна 15.3%\n",
    "\n",
    "Вывод: сервису выгоднее увеличивать количество пользователей с подпиской так как они приносят большую выручку."
   ]
  },
  {
   "cell_type": "code",
   "execution_count": null,
   "id": "008eaeb0",
   "metadata": {},
   "outputs": [],
   "source": []
  },
  {
   "cell_type": "code",
   "execution_count": null,
   "id": "d84ae76e",
   "metadata": {},
   "outputs": [],
   "source": []
  }
 ],
 "metadata": {
  "kernelspec": {
   "display_name": "Python 3 (ipykernel)",
   "language": "python",
   "name": "python3"
  },
  "language_info": {
   "codemirror_mode": {
    "name": "ipython",
    "version": 3
   },
   "file_extension": ".py",
   "mimetype": "text/x-python",
   "name": "python",
   "nbconvert_exporter": "python",
   "pygments_lexer": "ipython3",
   "version": "3.9.16"
  },
  "toc": {
   "base_numbering": 1,
   "nav_menu": {},
   "number_sections": true,
   "sideBar": true,
   "skip_h1_title": false,
   "title_cell": "Table of Contents",
   "title_sidebar": "Contents",
   "toc_cell": false,
   "toc_position": {},
   "toc_section_display": true,
   "toc_window_display": false
  }
 },
 "nbformat": 4,
 "nbformat_minor": 5
}
