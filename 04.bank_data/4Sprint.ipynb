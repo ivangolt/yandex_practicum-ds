{
 "cells": [
  {
   "cell_type": "markdown",
   "id": "92248c74",
   "metadata": {},
   "source": [
    "<div style=\"border:solid Purple 2px; padding: 40px\">\n",
    "\n",
    "<b>Привет, Иван!👋\n",
    "\n",
    "Меня зовут Эльвира, я буду ревьюером твоего проекта. Предлагаю общаться на «ты», но если это не удобно - дай мне знать, и мы перейдем на «вы».\n",
    "\n",
    "\n",
    "Ты можешь найти мои комментарии, обозначенные <font color='green'>зеленым</font>, <font color='gold'>желтым</font> и <font color='red'>красным</font> цветами, например:\n",
    "\n",
    "\n",
    "<div class=\"alert alert-success\">\n",
    "<h2> Комментарий ревьюера 😊<a class=\"tocSkip\"> </h2>\n",
    "    \n",
    "Такими комментариями я буду помечать отлично проделаную работу😉\n",
    "</div>\n",
    "    \n",
    "<div class=\"alert alert-warning\">\n",
    "<h2> Комментарий ревьюера 🤓<a class=\"tocSkip\"> </h2>\n",
    "        \n",
    "В таких комментариях я постараюсь подсказать тебе более элегантное или легкое решение, некоторые хитрости и фишки. Части проекта, помеченные такими комментариями, можно не исправлять, но рекомендую обратить на них внимание.</div>\n",
    "\n",
    "<div class=\"alert alert-block alert-danger\">\n",
    "<h2> Комментарий ревьюера ⛔️<a class=\"tocSkip\"></h2>\n",
    "    \n",
    "В случае, когда решение на отдельном шаге требует существенной переработки и внесения правок. Если ты видишь такой комментарий, значит здесть есть недочет, который следует исправить.\n",
    "</div>\n",
    "\n",
    "Ты также можешь реагировать на мои комментарии своими, выделяя их цветами и наиболее понравившимся тебе способом оформления, но явно  отличающимся от моих комментариев. Это нужно, чтобы не создавалась путаница🙃\n",
    "    \n",
    "`<div class=\"alert alert-info\"> <b>Комментарий студента:</b> Например, вот так.</div>`\n",
    "\n",
    "Чтобы сделать подобный блок, кликни здесь дважды и скопируй всю предыдущую строку ;)\n",
    "    \n",
    "Пожалуйста, не удаляй и не перемещай мои комментарии, они будут особенно полезны для нашей работы в случае повторной проверки проекта.</div></b>"
   ]
  },
  {
   "cell_type": "markdown",
   "id": "189c73df",
   "metadata": {
    "deletable": false,
    "editable": false,
    "id": "c81daeeb"
   },
   "source": [
    "# Исследование надежности заемщиков\n"
   ]
  },
  {
   "cell_type": "markdown",
   "id": "537d6b61",
   "metadata": {},
   "source": [
    "<div class=\"alert alert-warning\">\n",
    "<h2> Комментарий ревьюера 🤓<a class=\"tocSkip\"> </h2>\n",
    "\n",
    "Введение, как и общий вывод - важные части твоей работы, на которые в первую очередь обращает внимание заказчик. Введение станет лучше, если ты добавишь в него:\n",
    "* заголовок,\n",
    "\n",
    "* краткое описание проекта,\n",
    "\n",
    "* выделим цель проекта\n",
    "\n",
    "* описание данных\n",
    "\n",
    "* краткий план работы, выделим основные этапы, которые должны сделать.\n",
    "\n",
    "Тогда получатель отчета сможет быстрей его понять.\n",
    "\n",
    "</div>"
   ]
  },
  {
   "cell_type": "markdown",
   "id": "93f1283c",
   "metadata": {},
   "source": [
    "Входные данные для исследования датасет от банка — статистика о платёжеспособности клиентов.\\\n",
    "    Датасет содержит следующие данные:\n",
    "    \n",
    "**children** — количество детей в семье\\\n",
    "**days_employed** — общий трудовой стаж в днях\\\n",
    "**dob_years** — возраст клиента в годах\\\n",
    "**education** — уровень образования клиента\\\n",
    "**education_id** — идентификатор уровня образования\\\n",
    "**family_status** — семейное положение\\\n",
    "**family_status_id** — идентификатор семейного положения\\\n",
    "**gender** — пол клиента\\\n",
    "**income_type** — тип занятости\\\n",
    "**debt** — имел ли задолженность по возврату кредитов\\\n",
    "**total_income** — ежемесячный доход\\\n",
    "**purpose** — цель получения кредита\\\n",
    "\n",
    "**Цель исследования** -  разобраться, влияет ли семейное положение и количество детей клиента на факт погашения кредита в срок.Результаты исследования будут учтены при построении модели кредитного скоринга — специальной системы, которая оценивает способность потенциального заёмщика вернуть кредит банку.\\\n",
    "\n",
    "Для проведения исследования необходимо провести предваратильную обработку данных, в процессе, которой будут обработаны пропуски в данных, удалены дубликаты, изменены типы данных. Также для решения задачи исследования будут реализованы функции категоризации\\\n",
    "столбцов: children, total_income, purpose."
   ]
  },
  {
   "cell_type": "markdown",
   "id": "0e20a453",
   "metadata": {
    "deletable": false,
    "editable": false,
    "id": "827c20bf"
   },
   "source": [
    "Во второй части проекта вы выполните шаги 3 и 4. Их вручную проверит ревьюер.\n",
    "Чтобы вам не пришлось писать код заново для шагов 1 и 2, мы добавили авторские решения в ячейки с кодом. \n",
    "\n"
   ]
  },
  {
   "cell_type": "markdown",
   "id": "8223bbfe",
   "metadata": {
    "deletable": false,
    "editable": false,
    "id": "744d7639"
   },
   "source": [
    "## Откройте таблицу и изучите общую информацию о данных"
   ]
  },
  {
   "cell_type": "markdown",
   "id": "4ab59d07",
   "metadata": {
    "deletable": false,
    "editable": false,
    "id": "e7a14c31"
   },
   "source": [
    "**Задание 1. Импортируйте библиотеку pandas. Считайте данные из csv-файла в датафрейм и сохраните в переменную `data`. Путь к файлу:**\n",
    "\n",
    "`/datasets/data.csv`"
   ]
  },
  {
   "cell_type": "code",
   "execution_count": 1,
   "id": "f769448a",
   "metadata": {
    "deletable": false,
    "id": "7bcf75c9"
   },
   "outputs": [
    {
     "ename": "SyntaxError",
     "evalue": "EOL while scanning string literal (4140748259.py, line 4)",
     "output_type": "error",
     "traceback": [
      "\u001b[1;36m  Cell \u001b[1;32mIn[1], line 4\u001b[1;36m\u001b[0m\n\u001b[1;33m    data = pd.read_csv('C:\\Users\\Иван\\test\\data.csv'')\u001b[0m\n\u001b[1;37m                                                      ^\u001b[0m\n\u001b[1;31mSyntaxError\u001b[0m\u001b[1;31m:\u001b[0m EOL while scanning string literal\n"
     ]
    },
    {
     "ename": "SyntaxError",
     "evalue": "EOL while scanning string literal (4140748259.py, line 4)",
     "output_type": "error",
     "traceback": [
      "\u001b[1;36m  Cell \u001b[1;32mIn[1], line 4\u001b[1;36m\u001b[0m\n\u001b[1;33m    data = pd.read_csv('C:\\Users\\Иван\\test\\data.csv'')\u001b[0m\n\u001b[1;37m                                                      ^\u001b[0m\n\u001b[1;31mSyntaxError\u001b[0m\u001b[1;31m:\u001b[0m EOL while scanning string literal\n"
     ]
    }
   ],
   "source": [
    "import pandas as pd\n",
    "\n",
    "try:\n",
    "    data = pd.read_csv('C:\\Users\\Иван\\test\\data.csv'')\n",
    "except:\n",
    "    data = pd.read_csv('https://code.s3.yandex.net/datasets/data.csv')"
   ]
  },
  {
   "cell_type": "markdown",
   "id": "d8d542d8",
   "metadata": {
    "deletable": false,
    "editable": false,
    "id": "b8038fe3"
   },
   "source": [
    "**Задание 2. Выведите первые 20 строчек датафрейма `data` на экран.**"
   ]
  },
  {
   "cell_type": "code",
   "execution_count": null,
   "id": "c208b24a",
   "metadata": {
    "deletable": false,
    "id": "2a7cab99",
    "outputId": "1a8f3ef2-d323-4ec2-ddf7-89670b5944c4"
   },
   "outputs": [],
   "source": [
    "data.head(20)"
   ]
  },
  {
   "cell_type": "markdown",
   "id": "6261ee7c",
   "metadata": {
    "deletable": false,
    "editable": false,
    "id": "1c12e233"
   },
   "source": [
    "**Задание 3. Выведите основную информацию о датафрейме с помощью метода `info()`.**"
   ]
  },
  {
   "cell_type": "code",
   "execution_count": null,
   "id": "ab0faf12",
   "metadata": {
    "deletable": false,
    "id": "2b757bca",
    "outputId": "15376089-8dad-46c9-b520-c05248d43158"
   },
   "outputs": [],
   "source": [
    "data.info()"
   ]
  },
  {
   "cell_type": "markdown",
   "id": "d43bf8b7",
   "metadata": {
    "deletable": false,
    "editable": false,
    "id": "333ec665"
   },
   "source": [
    "## Предобработка данных"
   ]
  },
  {
   "cell_type": "markdown",
   "id": "c3f8bd52",
   "metadata": {
    "deletable": false,
    "editable": false,
    "id": "02d92d53"
   },
   "source": [
    "### Удаление пропусков"
   ]
  },
  {
   "cell_type": "markdown",
   "id": "87bf2eb0",
   "metadata": {
    "deletable": false,
    "editable": false,
    "id": "cd84967c"
   },
   "source": [
    "**Задание 4. Выведите количество пропущенных значений для каждого столбца. Используйте комбинацию двух методов.**"
   ]
  },
  {
   "cell_type": "code",
   "execution_count": null,
   "id": "d888c31a",
   "metadata": {
    "deletable": false,
    "id": "7f9b2309",
    "outputId": "81f4d817-781c-465c-ed15-91ce4446810d"
   },
   "outputs": [],
   "source": [
    "data.isna().sum()"
   ]
  },
  {
   "cell_type": "markdown",
   "id": "e24f002f",
   "metadata": {
    "deletable": false,
    "editable": false,
    "id": "db86e27b"
   },
   "source": [
    "**Задание 5. В двух столбцах есть пропущенные значения. Один из них — `days_employed`. Пропуски в этом столбце вы обработаете на следующем этапе. Другой столбец с пропущенными значениями — `total_income` — хранит данные о доходах. На сумму дохода сильнее всего влияет тип занятости, поэтому заполнить пропуски в этом столбце нужно медианным значением по каждому типу из столбца `income_type`. Например, у человека с типом занятости `сотрудник` пропуск в столбце `total_income` должен быть заполнен медианным доходом среди всех записей с тем же типом.**"
   ]
  },
  {
   "cell_type": "code",
   "execution_count": null,
   "id": "e616057b",
   "metadata": {
    "deletable": false,
    "id": "42006a93"
   },
   "outputs": [],
   "source": [
    "for t in data['income_type'].unique():\n",
    "    data.loc[(data['income_type'] == t) & (data['total_income'].isna()), 'total_income'] = \\\n",
    "    data.loc[(data['income_type'] == t), 'total_income'].median()"
   ]
  },
  {
   "cell_type": "markdown",
   "id": "15127076",
   "metadata": {
    "deletable": false,
    "editable": false,
    "id": "89da5ece"
   },
   "source": [
    "### Обработка аномальных значений"
   ]
  },
  {
   "cell_type": "markdown",
   "id": "09c4fc2e",
   "metadata": {
    "deletable": false,
    "editable": false,
    "id": "57964554"
   },
   "source": [
    "**Задание 6. В данных могут встречаться артефакты (аномалии) — значения, которые не отражают действительность и появились по какой-то ошибке. таким артефактом будет отрицательное количество дней трудового стажа в столбце `days_employed`. Для реальных данных это нормально. Обработайте значения в этом столбце: замените все отрицательные значения положительными с помощью метода `abs()`.**"
   ]
  },
  {
   "cell_type": "code",
   "execution_count": null,
   "id": "c95a9ba3",
   "metadata": {
    "deletable": false,
    "id": "f6f055bf"
   },
   "outputs": [],
   "source": [
    "data['days_employed'] = data['days_employed'].abs()"
   ]
  },
  {
   "cell_type": "markdown",
   "id": "95d9533a",
   "metadata": {
    "deletable": false,
    "editable": false,
    "id": "6107dd2f"
   },
   "source": [
    "**Задание 7. Для каждого типа занятости выведите медианное значение трудового стажа `days_employed` в днях.**"
   ]
  },
  {
   "cell_type": "code",
   "execution_count": null,
   "id": "46273512",
   "metadata": {
    "deletable": false,
    "id": "85a5faf6",
    "outputId": "801ef80e-522b-4668-f34e-565af7432bcf"
   },
   "outputs": [],
   "source": [
    "data.groupby('income_type')['days_employed'].agg('median')"
   ]
  },
  {
   "cell_type": "markdown",
   "id": "a0991c45",
   "metadata": {
    "deletable": false,
    "editable": false,
    "id": "38d1a030"
   },
   "source": [
    "У двух типов (безработные и пенсионеры) получатся аномально большие значения. Исправить такие значения сложно, поэтому оставьте их как есть. Тем более этот столбец не понадобится вам для исследования."
   ]
  },
  {
   "cell_type": "markdown",
   "id": "2c4029b2",
   "metadata": {
    "deletable": false,
    "editable": false,
    "id": "d8a9f147"
   },
   "source": [
    "**Задание 8. Выведите перечень уникальных значений столбца `children`.**"
   ]
  },
  {
   "cell_type": "code",
   "execution_count": null,
   "id": "84b7433e",
   "metadata": {
    "deletable": false,
    "id": "ef5056eb",
    "outputId": "6975b15c-7f95-4697-d16d-a0c79b657b03"
   },
   "outputs": [],
   "source": [
    "data['children'].unique()"
   ]
  },
  {
   "cell_type": "markdown",
   "id": "5e8e2cb7",
   "metadata": {
    "deletable": false,
    "editable": false,
    "id": "40b9ebf2"
   },
   "source": [
    "**Задание 9. В столбце `children` есть два аномальных значения. Удалите строки, в которых встречаются такие аномальные значения из датафрейма `data`.**"
   ]
  },
  {
   "cell_type": "code",
   "execution_count": null,
   "id": "1a9d25b7",
   "metadata": {
    "deletable": false,
    "id": "3ff9801d"
   },
   "outputs": [],
   "source": [
    "data = data[(data['children'] != -1) & (data['children'] != 20)]"
   ]
  },
  {
   "cell_type": "markdown",
   "id": "2b558971",
   "metadata": {
    "deletable": false,
    "editable": false,
    "id": "bbc4d0ce"
   },
   "source": [
    "**Задание 10. Ещё раз выведите перечень уникальных значений столбца `children`, чтобы убедиться, что артефакты удалены.**"
   ]
  },
  {
   "cell_type": "code",
   "execution_count": null,
   "id": "61639169",
   "metadata": {
    "deletable": false,
    "id": "ad4fa8b7",
    "outputId": "b2097101-d49d-44d9-901b-32a65c9463d1"
   },
   "outputs": [],
   "source": [
    "data['children'].unique()"
   ]
  },
  {
   "cell_type": "markdown",
   "id": "9936086d",
   "metadata": {
    "deletable": false,
    "editable": false,
    "id": "75440b63"
   },
   "source": [
    "### Удаление пропусков (продолжение)"
   ]
  },
  {
   "cell_type": "markdown",
   "id": "96a59e18",
   "metadata": {
    "deletable": false,
    "editable": false,
    "id": "f4ea573f"
   },
   "source": [
    "**Задание 11. Заполните пропуски в столбце `days_employed` медианными значениями по каждого типа занятости `income_type`.**"
   ]
  },
  {
   "cell_type": "code",
   "execution_count": null,
   "id": "2c6fac19",
   "metadata": {
    "deletable": false,
    "id": "af6b1a7e"
   },
   "outputs": [],
   "source": [
    "for t in data['income_type'].unique():\n",
    "    data.loc[(data['income_type'] == t) & (data['days_employed'].isna()), 'days_employed'] = \\\n",
    "    data.loc[(data['income_type'] == t), 'days_employed'].median()"
   ]
  },
  {
   "cell_type": "markdown",
   "id": "751c1a3f",
   "metadata": {
    "deletable": false,
    "editable": false,
    "id": "2753f40d"
   },
   "source": [
    "**Задание 12. Убедитесь, что все пропуски заполнены. Проверьте себя и ещё раз выведите количество пропущенных значений для каждого столбца с помощью двух методов.**"
   ]
  },
  {
   "cell_type": "code",
   "execution_count": null,
   "id": "3e01a864",
   "metadata": {
    "deletable": false,
    "id": "55f78bc2",
    "outputId": "8da1e4e1-358e-4e87-98c9-f261bce0a7b2"
   },
   "outputs": [],
   "source": [
    "data.isna().sum()"
   ]
  },
  {
   "cell_type": "markdown",
   "id": "ff9fbb1b",
   "metadata": {
    "deletable": false,
    "editable": false,
    "id": "ddc81e43"
   },
   "source": [
    "### Изменение типов данных"
   ]
  },
  {
   "cell_type": "markdown",
   "id": "d06d79a1",
   "metadata": {
    "deletable": false,
    "editable": false,
    "id": "42d19d24"
   },
   "source": [
    "**Задание 13. Замените вещественный тип данных в столбце `total_income` на целочисленный с помощью метода `astype()`.**"
   ]
  },
  {
   "cell_type": "code",
   "execution_count": null,
   "id": "e760501f",
   "metadata": {
    "deletable": false,
    "id": "920b65ad"
   },
   "outputs": [],
   "source": [
    "data['total_income'] = data['total_income'].astype(int)"
   ]
  },
  {
   "cell_type": "markdown",
   "id": "fb786edc",
   "metadata": {
    "deletable": false,
    "editable": false,
    "id": "80c420ba"
   },
   "source": [
    "### Обработка дубликатов"
   ]
  },
  {
   "cell_type": "markdown",
   "id": "8dbcad04",
   "metadata": {
    "deletable": false,
    "editable": false
   },
   "source": [
    "**Задание 14. Обработайте неявные дубликаты в столбце `education`. В этом столбце есть одни и те же значения, но записанные по-разному: с использованием заглавных и строчных букв. Приведите их к нижнему регистру. Проверьте остальные столбцы.**"
   ]
  },
  {
   "cell_type": "code",
   "execution_count": null,
   "id": "1f2c07cb",
   "metadata": {
    "deletable": false
   },
   "outputs": [],
   "source": [
    "data['education'] = data['education'].str.lower()"
   ]
  },
  {
   "cell_type": "markdown",
   "id": "6e84a57f",
   "metadata": {
    "deletable": false,
    "editable": false,
    "id": "dc587695"
   },
   "source": [
    "**Задание 15. Выведите на экран количество строк-дубликатов в данных. Если такие строки присутствуют, удалите их.**"
   ]
  },
  {
   "cell_type": "code",
   "execution_count": null,
   "id": "26c1804a",
   "metadata": {
    "deletable": false,
    "id": "3ee445e4",
    "outputId": "9684deba-1934-42d1-99e1-cda61740f822"
   },
   "outputs": [],
   "source": [
    "data.duplicated().sum()"
   ]
  },
  {
   "cell_type": "code",
   "execution_count": null,
   "id": "622cb0c3",
   "metadata": {
    "deletable": false,
    "id": "8575fe05"
   },
   "outputs": [],
   "source": [
    "data = data.drop_duplicates()"
   ]
  },
  {
   "cell_type": "markdown",
   "id": "0596fcf1",
   "metadata": {
    "deletable": false,
    "editable": false,
    "id": "9904cf55"
   },
   "source": [
    "### Категоризация данных"
   ]
  },
  {
   "cell_type": "markdown",
   "id": "4fbcfe47",
   "metadata": {
    "deletable": false,
    "editable": false,
    "id": "72fcc8a2"
   },
   "source": [
    "**Задание 16. На основании диапазонов, указанных ниже, создайте в датафрейме `data` столбец `total_income_category` с категориями:**\n",
    "\n",
    "- 0–30000 — `'E'`;\n",
    "- 30001–50000 — `'D'`;\n",
    "- 50001–200000 — `'C'`;\n",
    "- 200001–1000000 — `'B'`;\n",
    "- 1000001 и выше — `'A'`.\n",
    "\n",
    "\n",
    "**Например, кредитополучателю с доходом 25000 нужно назначить категорию `'E'`, а клиенту, получающему 235000, — `'B'`. Используйте собственную функцию с именем `categorize_income()` и метод `apply()`.**"
   ]
  },
  {
   "cell_type": "code",
   "execution_count": null,
   "id": "8e6dcb0e",
   "metadata": {
    "deletable": false,
    "id": "e1771346"
   },
   "outputs": [],
   "source": [
    "def categorize_income(income):\n",
    "    try:\n",
    "        if 0 <= income <= 30000:\n",
    "            return 'E'\n",
    "        elif 30001 <= income <= 50000:\n",
    "            return 'D'\n",
    "        elif 50001 <= income <= 200000:\n",
    "            return 'C'\n",
    "        elif 200001 <= income <= 1000000:\n",
    "            return 'B'\n",
    "        elif income >= 1000001:\n",
    "            return 'A'\n",
    "    except:\n",
    "        pass"
   ]
  },
  {
   "cell_type": "code",
   "execution_count": null,
   "id": "1831a019",
   "metadata": {
    "deletable": false,
    "id": "d5f3586d"
   },
   "outputs": [],
   "source": [
    "data['total_income_category'] = data['total_income'].apply(categorize_income)"
   ]
  },
  {
   "cell_type": "markdown",
   "id": "41021c21",
   "metadata": {
    "deletable": false,
    "editable": false,
    "id": "dde49b5c"
   },
   "source": [
    "**Задание 17. Выведите на экран перечень уникальных целей взятия кредита из столбца `purpose`.**"
   ]
  },
  {
   "cell_type": "code",
   "execution_count": null,
   "id": "48895ca9",
   "metadata": {
    "deletable": false,
    "id": "f67ce9b3",
    "outputId": "673c12d9-7d7e-4ae0-9812-c622c89dd244"
   },
   "outputs": [],
   "source": [
    "data['purpose'].unique()"
   ]
  },
  {
   "cell_type": "markdown",
   "id": "28cd446e",
   "metadata": {
    "deletable": false,
    "editable": false,
    "id": "85d0aef0"
   },
   "source": [
    "**Задание 18. Создайте функцию, которая на основании данных из столбца `purpose` сформирует новый столбец `purpose_category`, в который войдут следующие категории:**\n",
    "\n",
    "- `'операции с автомобилем'`,\n",
    "- `'операции с недвижимостью'`,\n",
    "- `'проведение свадьбы'`,\n",
    "- `'получение образования'`.\n",
    "\n",
    "**Например, если в столбце `purpose` находится подстрока `'на покупку автомобиля'`, то в столбце `purpose_category` должна появиться строка `'операции с автомобилем'`.**\n",
    "\n",
    "**Используйте собственную функцию с именем `categorize_purpose()` и метод `apply()`. Изучите данные в столбце `purpose` и определите, какие подстроки помогут вам правильно определить категорию.**"
   ]
  },
  {
   "cell_type": "code",
   "execution_count": null,
   "id": "d4fe31d2",
   "metadata": {
    "deletable": false,
    "id": "e149fab4"
   },
   "outputs": [],
   "source": [
    "def categorize_purpose(row):\n",
    "    try:\n",
    "        if 'автом' in row:\n",
    "            return 'операции с автомобилем'\n",
    "        elif 'жил' in row or 'недвиж' in row:\n",
    "            return 'операции с недвижимостью'\n",
    "        elif 'свад' in row:\n",
    "            return 'проведение свадьбы'\n",
    "        elif 'образов' in row:\n",
    "            return 'получение образования'\n",
    "    except:\n",
    "        return 'нет категории'"
   ]
  },
  {
   "cell_type": "code",
   "execution_count": null,
   "id": "7990708a",
   "metadata": {
    "deletable": false,
    "id": "bf36e69b"
   },
   "outputs": [],
   "source": [
    "data['purpose_category'] = data['purpose'].apply(categorize_purpose)"
   ]
  },
  {
   "cell_type": "markdown",
   "id": "31001166",
   "metadata": {
    "deletable": false,
    "editable": false,
    "id": "09b242bf"
   },
   "source": [
    "### Шаг 3. Исследуйте данные и ответьте на вопросы"
   ]
  },
  {
   "cell_type": "markdown",
   "id": "caa2564b",
   "metadata": {
    "deletable": false,
    "editable": false,
    "id": "c5d66278"
   },
   "source": [
    "#### 3.1 Есть ли зависимость между количеством детей и возвратом кредита в срок?"
   ]
  },
  {
   "cell_type": "markdown",
   "id": "adf7aed3",
   "metadata": {},
   "source": [
    "Рализуем функцию categorize_children, которая на основании столбца children  определит категорию клиента по следющим критериям:\\\n",
    "    children = 0 - нет детей\\\n",
    "    children = 1 - один ребенок в семье\\\n",
    "    children > 1 - многодетная семья"
   ]
  },
  {
   "cell_type": "code",
   "execution_count": null,
   "id": "3db1020d",
   "metadata": {},
   "outputs": [],
   "source": [
    "def categorize_children(children):\n",
    "    if children == 0:\n",
    "        return 'Нет детей'\n",
    "    if children == 1:\n",
    "        return 'Один ребенок в семье'\n",
    "    if children > 1:\n",
    "        return 'Многодетная семья'"
   ]
  },
  {
   "cell_type": "code",
   "execution_count": null,
   "id": "2051414d",
   "metadata": {},
   "outputs": [],
   "source": [
    "children_category = data['children'].apply(categorize_children)\n",
    "data.insert(1, 'children_category', children_category)\n",
    "data.head(10)"
   ]
  },
  {
   "cell_type": "markdown",
   "id": "daa0f2bc",
   "metadata": {},
   "source": [
    "Реализуем функицию, которая будет выполнять группировку по определенному столбцу и строить сводную таблицу, и по значениям этого столбца вычислять процент клиентов, не выплативших кредит в срок."
   ]
  },
  {
   "cell_type": "code",
   "execution_count": null,
   "id": "aa8f4c5d",
   "metadata": {},
   "outputs": [],
   "source": [
    "def category_pivot_table(data, group_column, value_column):\n",
    "    result = data.pivot_table(index=group_column, values=value_column, aggfunc=['count', 'sum', 'mean'])\\\n",
    "    .rename(columns={'mean':'Процент должников, %', 'count':'Количество заемщиков', 'sum': 'Количество должников'})\\\n",
    "    .round(4)\n",
    "  \n",
    "    result.columns = result.columns.droplevel(level=1)\n",
    "    result['Процент должников, %'] *= 100\n",
    "    formatted_result = result.to_string(index=True)\n",
    "    \n",
    "    return formatted_result"
   ]
  },
  {
   "cell_type": "markdown",
   "id": "24815841",
   "metadata": {},
   "source": [
    "<div class=\"alert alert-success\">\n",
    "<h2> Комментарий ревьюера 😊<a class=\"tocSkip\"> </h2>\n",
    "\n",
    "Круто, что ты используешь функцию для рассчета, давай ее доработаем, чтобы она создавала сводные таблицы, и выводила их по каждому пункту)"
   ]
  },
  {
   "cell_type": "markdown",
   "id": "849b043f",
   "metadata": {},
   "source": [
    "Применим функцию calculate_percentage_debt для столбца children_category"
   ]
  },
  {
   "cell_type": "code",
   "execution_count": null,
   "id": "cb746383",
   "metadata": {
    "deletable": false,
    "id": "2cacfc4a"
   },
   "outputs": [],
   "source": [
    "print(category_pivot_table(data, 'children_category', 'debt'))"
   ]
  },
  {
   "cell_type": "markdown",
   "id": "ced5524c",
   "metadata": {},
   "source": [
    "<div class=\"alert alert-block alert-danger\">\n",
    "<h2> Комментарий ревьюера ⛔️<a class=\"tocSkip\"></h2>\n",
    "<s>\n",
    "Расчеты нужно производить, используя сводные таблицы pivot_table(), аналог метода groupby(). Сводная таблица должна содержать следующие столбцы:\n",
    "\n",
    "* название категории\n",
    "* количество заемщиков (кредитов)\n",
    "* количество должников (этот столбец опциональный)\n",
    "* средний процент просрочки по категории (допускается и наоборот - средний процент кредитов, возвращенных в срок)"
   ]
  },
  {
   "cell_type": "markdown",
   "id": "61085e87",
   "metadata": {
    "deletable": false,
    "id": "3a6b99ec"
   },
   "source": [
    "**Вывод:** \n",
    "Наличие ребенка в семье повышает вероятность невыплаты кредита в срок. Это может объясняться тем, что с детьми клиент имеет дополнительные расходы и ему сложнее выплачивать кредит. "
   ]
  },
  {
   "cell_type": "markdown",
   "id": "903b768d",
   "metadata": {},
   "source": [
    "<div class=\"alert alert-block alert-danger\">\n",
    "<h2> Комментарий ревьюера ⛔️<a class=\"tocSkip\"></h2>\n",
    "<s>\n",
    "С первым пунктом вывода я бы поспорила, если рассмотреть выборки, можно увидеть, что чем больше у заемщика детей, тем он хуже платит в срок."
   ]
  },
  {
   "cell_type": "markdown",
   "id": "9d137935",
   "metadata": {},
   "source": [
    "<div class=\"alert alert-success\">\n",
    "<h2> Комментарий ревьюера 😊 v_2 <a class=\"tocSkip\"> </h2>\n",
    "\n",
    "Супер)"
   ]
  },
  {
   "cell_type": "markdown",
   "id": "93a4c6ec",
   "metadata": {
    "deletable": false,
    "editable": false,
    "id": "97be82ca"
   },
   "source": [
    "#### 3.2 Есть ли зависимость между семейным положением и возвратом кредита в срок?"
   ]
  },
  {
   "cell_type": "markdown",
   "id": "7e9a4253",
   "metadata": {},
   "source": [
    "Применим функцию category_pivot_table для столбца family_status"
   ]
  },
  {
   "cell_type": "code",
   "execution_count": null,
   "id": "c19e83e8",
   "metadata": {
    "deletable": false,
    "id": "dc3f7ee8"
   },
   "outputs": [],
   "source": [
    "print(category_pivot_table(data,'family_status', 'debt'))"
   ]
  },
  {
   "cell_type": "markdown",
   "id": "d7680b6e",
   "metadata": {
    "deletable": false,
    "id": "1cef7837"
   },
   "source": [
    "**Вывод:**  Наибольший процент среди должников по кредиту наблюдается среди не женатых/не замужних клиентов и может объясняться тем, что таким клиентам сложнее в одиночку выплачивать кредит, соответсвенно, к таким клиентам банку стоит относиться предусмотрительнее. Также большой риск представляют клиенты, состоящие в гражданском браке.\n"
   ]
  },
  {
   "cell_type": "markdown",
   "id": "7be45495",
   "metadata": {},
   "source": [
    "<div class=\"alert alert-warning\">\n",
    "<h2> Комментарий ревьюера 🤓<a class=\"tocSkip\"> </h2>\n",
    "\n",
    "Разве не будет являться зависимостью, что люди не состоящие/не состоявшие  в оф.  браке (не женатые и гражданский брак) платят хуже, чем те у кого был подобный опыт?"
   ]
  },
  {
   "cell_type": "markdown",
   "id": "71792abf",
   "metadata": {},
   "source": [
    "<div class=\"alert alert-success\">\n",
    "<h2> Комментарий ревьюера 😊 v_2 <a class=\"tocSkip\"> </h2>\n",
    "\n",
    "👍"
   ]
  },
  {
   "cell_type": "markdown",
   "id": "686fe751",
   "metadata": {
    "deletable": false,
    "editable": false,
    "id": "1e8b2fca"
   },
   "source": [
    "#### 3.3 Есть ли зависимость между уровнем дохода и возвратом кредита в срок?"
   ]
  },
  {
   "cell_type": "markdown",
   "id": "f10b320b",
   "metadata": {},
   "source": [
    "Применим функцию category_pivot_table для столбца total_income_category"
   ]
  },
  {
   "cell_type": "code",
   "execution_count": null,
   "id": "d8e3225b",
   "metadata": {
    "deletable": false,
    "id": "cd7e3720"
   },
   "outputs": [],
   "source": [
    "print(category_pivot_table(data, 'total_income_category', 'debt'))"
   ]
  },
  {
   "cell_type": "markdown",
   "id": "50157ac9",
   "metadata": {
    "deletable": false,
    "id": "e8593def"
   },
   "source": [
    "**Вывод:** \n",
    "Категория граждан С со средним доходом (50001–200000) больше подвержены риску стать должниками. Столбцы A, D, E сложно анализировать так как эти категории имеют маленький процент среди всей выборки. "
   ]
  },
  {
   "cell_type": "markdown",
   "id": "848cd10c",
   "metadata": {},
   "source": [
    "<div class=\"alert alert-block alert-danger\">\n",
    "<h2> Комментарий ревьюера ⛔️<a class=\"tocSkip\"></h2>\n",
    "<s>\n",
    "В данном примере количество заемщиков во всех категориях кроме B и C несопоставимо меньше, поэтому для выявления зависимости имеет смысл сравнивать только их."
   ]
  },
  {
   "cell_type": "markdown",
   "id": "ef8d9952",
   "metadata": {},
   "source": [
    "<div class=\"alert alert-success\">\n",
    "<h2> Комментарий ревьюера 😊 v_2 <a class=\"tocSkip\"> </h2>\n",
    "\n",
    "👍"
   ]
  },
  {
   "cell_type": "markdown",
   "id": "e1a3c1c6",
   "metadata": {
    "deletable": false,
    "editable": false,
    "id": "99ecbd1f"
   },
   "source": [
    "#### 3.4 Как разные цели кредита влияют на его возврат в срок?"
   ]
  },
  {
   "cell_type": "markdown",
   "id": "419a2082",
   "metadata": {},
   "source": [
    "Применим функцию category_pivot_table для столбца purpose_category"
   ]
  },
  {
   "cell_type": "code",
   "execution_count": null,
   "id": "f2834f62",
   "metadata": {
    "deletable": false,
    "id": "2b687290"
   },
   "outputs": [],
   "source": [
    "print(category_pivot_table(data, 'purpose_category', 'debt'))"
   ]
  },
  {
   "cell_type": "markdown",
   "id": "330602c4",
   "metadata": {
    "deletable": false,
    "id": "b4bb2ce6"
   },
   "source": [
    "**Вывод:** \n",
    "Меньше всего клиентов не выплатвших кредит в срок наблюдается среди тех, кто взял кредит для проведения свадьбы и операции с недвижимостью. Наибольший процент должников среди тех, кто взял кредит для операций с автомобилем и для получения образования, поэтому эта категория клиентов наиболее подвержены риску стать должниками"
   ]
  },
  {
   "cell_type": "markdown",
   "id": "5e098568",
   "metadata": {},
   "source": [
    "<div class=\"alert alert-success\">\n",
    "<h2> Комментарий ревьюера 😊<a class=\"tocSkip\"> </h2>\n",
    "\n",
    "Верно)"
   ]
  },
  {
   "cell_type": "markdown",
   "id": "d8588c8a",
   "metadata": {
    "deletable": false,
    "editable": false,
    "id": "09c3ac4c"
   },
   "source": [
    "#### 3.5 Приведите возможные причины появления пропусков в исходных данных."
   ]
  },
  {
   "cell_type": "markdown",
   "id": "475694f1",
   "metadata": {
    "deletable": false,
    "id": "9da2ceda"
   },
   "source": [
    "*Ответ:* \n",
    "1) Неполное заполнение клиентом формы анкеты на сайте\\\n",
    "2) Неправильная выгрузка  данных программистом на сайте\\\n",
    "3) Проблемы с файлом или ПО\\\n",
    "4) Системные ошибки"
   ]
  },
  {
   "cell_type": "markdown",
   "id": "c0533059",
   "metadata": {},
   "source": [
    "<div class=\"alert alert-success\">\n",
    "<h2> Комментарий ревьюера 😊<a class=\"tocSkip\"> </h2>\n",
    "\n",
    "Правильно)"
   ]
  },
  {
   "cell_type": "markdown",
   "id": "6f25ec5d",
   "metadata": {
    "deletable": false,
    "editable": false,
    "id": "7b0487d6"
   },
   "source": [
    "#### 3.6 Объясните, почему заполнить пропуски медианным значением — лучшее решение для количественных переменных."
   ]
  },
  {
   "cell_type": "markdown",
   "id": "c52699ca",
   "metadata": {
    "deletable": false,
    "id": "7ecf2b8e"
   },
   "source": [
    "*Ответ:* \n",
    "Медианное  корректнее показывает среднее значение по столбцу, так как она не подвержена влиянию выбросов данных и аномальных значений, в отличие от среднего арифмитического. "
   ]
  },
  {
   "cell_type": "markdown",
   "id": "44de2ddc",
   "metadata": {},
   "source": [
    "<div class=\"alert alert-success\">\n",
    "<h2> Комментарий ревьюера 😊<a class=\"tocSkip\"> </h2>\n",
    "\n",
    "Точно, медиана менее чувствительна к выбросам, чем среднее."
   ]
  },
  {
   "cell_type": "markdown",
   "id": "08633b4d",
   "metadata": {
    "deletable": false,
    "editable": false,
    "id": "6db5255a"
   },
   "source": [
    "### Шаг 4: общий вывод."
   ]
  },
  {
   "cell_type": "markdown",
   "id": "29607410",
   "metadata": {
    "deletable": false,
    "id": "bad65432"
   },
   "source": [
    " Для исследования был исследован датасет со статистикой о платежеспособности клиента\n",
    "В ходе работы была проведена предварительная обработка данных, в ходе которой были обработаны пропуски данных, удалены дубликаты. Типы данных столбцов были приведены к необходимым значениям.\\\n",
    "Также в ходе работы для столбцов children, total_income, purpose была проведена их категоризация по определенным условиям для удобства анализа. \n",
    "Для исследования завимости выплаты кредита в срок опредленной категории клиентов, была реализована функция category_pivot_table, которая выводит сводную таблицу в следующем виде:\n",
    "* название категории\n",
    "* количество заемщиков\n",
    "* количество должников \n",
    "* средний процент просрочки по категории \n",
    "\n",
    "Анализ заемщиков банка показал:\n",
    "1) наличие детей у клиента повышает вероятность невыплаты кредита в срок\\\n",
    "2) не женатые и не замужние/не женатые клиенты больше других задерживают выплаты про кредиту в срок\\\n",
    "3) клиенты с уровнем дохода 50001–200000 представляют наибольший риск для банка\\\n",
    "4) клиенты с высоким уровнем дохода также часто не выплачивают кредит в срок, поэтому банку не стоит ориентироваться только на доход клиента при выдаче займа\\\n",
    "5) клиенты, взявшие кредит с целью проведения операции с автомобилем и получения образования, чаще остальных не выплачивают кредит в срок\n",
    "\n",
    "Для улучшения качества сбора данных, предлагается внедрить проверку качества данных:\n",
    "Обратите особое внимание на качество данных. Ошибки и неточности и пропускт могут серьезно повлиять на результаты скоринга. Внедрите механизмы проверки данных на достоверность, актуальность и полноту.Также предлагается проводить предварительную сегментацию данных.Это может помочь создать более точные модели скоринга для разных групп клиентов или ситуаций."
   ]
  },
  {
   "cell_type": "markdown",
   "id": "87867354",
   "metadata": {},
   "source": [
    "<div class=\"alert alert-success\">\n",
    "<h2> Комментарий ревьюера 😊 v_2 <a class=\"tocSkip\"> </h2>\n",
    "\n",
    "Отлично получилось)"
   ]
  },
  {
   "cell_type": "markdown",
   "id": "6a152e34",
   "metadata": {},
   "source": [
    "<div class=\"alert alert-block alert-danger\">\n",
    "<h2> Комментарий ревьюера ⛔️<a class=\"tocSkip\"></h2>\n",
    "   <s>\n",
    "Общий вывод это главный итог твоей работы, то что мы можем предоставить нашему заказчику. Давай дополним его результатами твоей работы и основными выводами) Можно  начать общий вывод с того, с какими данными мы работали и какие действия провели на этапе предобработки, а закончить выявленными при ответе на вопросы зависимостями и рекомендациями заказчику по улучшению сбора данных и скоринга. </div>"
   ]
  },
  {
   "cell_type": "markdown",
   "id": "8b850101",
   "metadata": {},
   "source": [
    "<div style=\"border:solid Purple 2px; padding: 40px\">\n",
    "\n",
    "<h2> Общий комментарий ревьюера 😊 v_2<a class=\"tocSkip\"> </h2>\n",
    "    <br/>\n",
    "Иван, спасибо за проект! Успехов в дальнейшем обучении!)\n",
    "    "
   ]
  },
  {
   "cell_type": "markdown",
   "id": "3478ac21",
   "metadata": {},
   "source": [
    "<div style=\"border:solid Purple 2px; padding: 40px\">\n",
    "\n",
    "<h2> Общий комментарий ревьюера 😊<a class=\"tocSkip\"> </h2>\n",
    "    <br/>\n",
    "Ты проделал большую работу по проекту! Особенно хочу выделить  подробные использование функций) Осталось совсем немного доработать)\n",
    "    \n",
    " \n",
    "**Желаю удачи и жду твой проект на повторное ревью! Если вдруг у тебя возникнут вопросы, то я с радостью отвечу на них.    😊**\n",
    "    "
   ]
  }
 ],
 "metadata": {
  "ExecuteTimeLog": [
   {
    "duration": 554,
    "start_time": "2023-08-10T17:09:26.591Z"
   },
   {
    "duration": 24,
    "start_time": "2023-08-10T17:09:27.147Z"
   },
   {
    "duration": 20,
    "start_time": "2023-08-10T17:09:27.173Z"
   },
   {
    "duration": 11,
    "start_time": "2023-08-10T17:09:27.195Z"
   },
   {
    "duration": 62,
    "start_time": "2023-08-10T17:09:27.208Z"
   },
   {
    "duration": 5,
    "start_time": "2023-08-10T17:09:27.272Z"
   },
   {
    "duration": 12,
    "start_time": "2023-08-10T17:09:27.279Z"
   },
   {
    "duration": 12,
    "start_time": "2023-08-10T17:09:27.293Z"
   },
   {
    "duration": 23,
    "start_time": "2023-08-10T17:09:27.307Z"
   },
   {
    "duration": 20,
    "start_time": "2023-08-10T17:09:27.332Z"
   },
   {
    "duration": 45,
    "start_time": "2023-08-10T17:09:27.353Z"
   },
   {
    "duration": 13,
    "start_time": "2023-08-10T17:09:27.400Z"
   },
   {
    "duration": 5,
    "start_time": "2023-08-10T17:09:27.415Z"
   },
   {
    "duration": 33,
    "start_time": "2023-08-10T17:09:27.423Z"
   },
   {
    "duration": 23,
    "start_time": "2023-08-10T17:09:27.459Z"
   },
   {
    "duration": 30,
    "start_time": "2023-08-10T17:09:27.485Z"
   },
   {
    "duration": 4,
    "start_time": "2023-08-10T17:09:27.517Z"
   },
   {
    "duration": 40,
    "start_time": "2023-08-10T17:09:27.522Z"
   },
   {
    "duration": 27,
    "start_time": "2023-08-10T17:09:27.564Z"
   },
   {
    "duration": 6,
    "start_time": "2023-08-10T17:09:27.593Z"
   },
   {
    "duration": 21,
    "start_time": "2023-08-10T17:09:27.601Z"
   },
   {
    "duration": 25,
    "start_time": "2023-08-10T17:09:27.624Z"
   },
   {
    "duration": 3,
    "start_time": "2023-08-10T17:09:27.651Z"
   },
   {
    "duration": 6,
    "start_time": "2023-08-10T17:09:27.656Z"
   },
   {
    "duration": 19,
    "start_time": "2023-08-10T17:09:27.664Z"
   },
   {
    "duration": 16,
    "start_time": "2023-08-10T17:17:45.379Z"
   },
   {
    "duration": 8,
    "start_time": "2023-08-10T17:38:40.091Z"
   },
   {
    "duration": 51,
    "start_time": "2023-08-11T17:40:20.790Z"
   },
   {
    "duration": 527,
    "start_time": "2023-08-11T17:40:29.722Z"
   },
   {
    "duration": 33,
    "start_time": "2023-08-11T17:40:30.251Z"
   },
   {
    "duration": 53,
    "start_time": "2023-08-11T17:40:30.286Z"
   },
   {
    "duration": 33,
    "start_time": "2023-08-11T17:40:30.341Z"
   },
   {
    "duration": 37,
    "start_time": "2023-08-11T17:40:30.381Z"
   },
   {
    "duration": 4,
    "start_time": "2023-08-11T17:40:30.420Z"
   },
   {
    "duration": 32,
    "start_time": "2023-08-11T17:40:30.425Z"
   },
   {
    "duration": 30,
    "start_time": "2023-08-11T17:40:30.459Z"
   },
   {
    "duration": 34,
    "start_time": "2023-08-11T17:40:30.491Z"
   },
   {
    "duration": 15,
    "start_time": "2023-08-11T17:40:30.527Z"
   },
   {
    "duration": 65,
    "start_time": "2023-08-11T17:40:30.544Z"
   },
   {
    "duration": 11,
    "start_time": "2023-08-11T17:40:30.610Z"
   },
   {
    "duration": 58,
    "start_time": "2023-08-11T17:40:30.623Z"
   },
   {
    "duration": 52,
    "start_time": "2023-08-11T17:40:30.688Z"
   },
   {
    "duration": 51,
    "start_time": "2023-08-11T17:40:30.742Z"
   },
   {
    "duration": 50,
    "start_time": "2023-08-11T17:40:30.795Z"
   },
   {
    "duration": 31,
    "start_time": "2023-08-11T17:40:30.847Z"
   },
   {
    "duration": 44,
    "start_time": "2023-08-11T17:40:30.880Z"
   },
   {
    "duration": 38,
    "start_time": "2023-08-11T17:40:30.925Z"
   },
   {
    "duration": 31,
    "start_time": "2023-08-11T17:40:30.969Z"
   },
   {
    "duration": 44,
    "start_time": "2023-08-11T17:40:31.002Z"
   },
   {
    "duration": 35,
    "start_time": "2023-08-11T17:40:31.049Z"
   },
   {
    "duration": 26,
    "start_time": "2023-08-11T17:40:31.087Z"
   },
   {
    "duration": 22,
    "start_time": "2023-08-11T17:40:31.114Z"
   },
   {
    "duration": 43,
    "start_time": "2023-08-11T17:40:31.137Z"
   },
   {
    "duration": 27,
    "start_time": "2023-08-11T17:40:31.184Z"
   },
   {
    "duration": 26,
    "start_time": "2023-08-11T17:40:42.041Z"
   },
   {
    "duration": 14,
    "start_time": "2023-08-11T17:41:16.284Z"
   },
   {
    "duration": 11,
    "start_time": "2023-08-11T17:43:58.619Z"
   },
   {
    "duration": 17,
    "start_time": "2023-08-11T17:44:38.492Z"
   },
   {
    "duration": 14,
    "start_time": "2023-08-11T17:47:56.892Z"
   },
   {
    "duration": 7,
    "start_time": "2023-08-11T17:49:52.381Z"
   },
   {
    "duration": 4,
    "start_time": "2023-08-11T17:50:03.897Z"
   },
   {
    "duration": 27,
    "start_time": "2023-08-11T17:50:10.186Z"
   },
   {
    "duration": 129,
    "start_time": "2023-08-11T17:53:48.908Z"
   },
   {
    "duration": 21,
    "start_time": "2023-08-11T17:54:10.588Z"
   },
   {
    "duration": 29,
    "start_time": "2023-08-11T17:54:22.845Z"
   },
   {
    "duration": 23,
    "start_time": "2023-08-11T17:58:30.404Z"
   },
   {
    "duration": 16,
    "start_time": "2023-08-11T17:59:40.924Z"
   },
   {
    "duration": 27,
    "start_time": "2023-08-11T18:00:06.955Z"
   },
   {
    "duration": 19,
    "start_time": "2023-08-11T18:22:20.577Z"
   },
   {
    "duration": 17,
    "start_time": "2023-08-11T18:22:39.980Z"
   },
   {
    "duration": 20,
    "start_time": "2023-08-11T18:22:58.327Z"
   },
   {
    "duration": 17,
    "start_time": "2023-08-11T18:23:07.700Z"
   },
   {
    "duration": 10,
    "start_time": "2023-08-12T09:37:36.628Z"
   },
   {
    "duration": 1152,
    "start_time": "2023-08-12T09:37:41.115Z"
   },
   {
    "duration": 24,
    "start_time": "2023-08-12T09:37:42.269Z"
   },
   {
    "duration": 15,
    "start_time": "2023-08-12T09:37:42.295Z"
   },
   {
    "duration": 11,
    "start_time": "2023-08-12T09:37:42.312Z"
   },
   {
    "duration": 51,
    "start_time": "2023-08-12T09:37:42.325Z"
   },
   {
    "duration": 4,
    "start_time": "2023-08-12T09:37:42.378Z"
   },
   {
    "duration": 43,
    "start_time": "2023-08-12T09:37:42.384Z"
   },
   {
    "duration": 6,
    "start_time": "2023-08-12T09:37:42.429Z"
   },
   {
    "duration": 18,
    "start_time": "2023-08-12T09:37:42.437Z"
   },
   {
    "duration": 6,
    "start_time": "2023-08-12T09:37:42.460Z"
   },
   {
    "duration": 53,
    "start_time": "2023-08-12T09:37:42.468Z"
   },
   {
    "duration": 10,
    "start_time": "2023-08-12T09:37:42.522Z"
   },
   {
    "duration": 13,
    "start_time": "2023-08-12T09:37:42.533Z"
   },
   {
    "duration": 17,
    "start_time": "2023-08-12T09:37:42.559Z"
   },
   {
    "duration": 31,
    "start_time": "2023-08-12T09:37:42.577Z"
   },
   {
    "duration": 20,
    "start_time": "2023-08-12T09:37:42.610Z"
   },
   {
    "duration": 3,
    "start_time": "2023-08-12T09:37:42.632Z"
   },
   {
    "duration": 11,
    "start_time": "2023-08-12T09:37:42.658Z"
   },
   {
    "duration": 8,
    "start_time": "2023-08-12T09:37:42.672Z"
   },
   {
    "duration": 41,
    "start_time": "2023-08-12T09:37:42.683Z"
   },
   {
    "duration": 18,
    "start_time": "2023-08-12T09:37:42.725Z"
   },
   {
    "duration": 9,
    "start_time": "2023-08-12T09:37:42.745Z"
   },
   {
    "duration": 22,
    "start_time": "2023-08-12T09:37:42.756Z"
   },
   {
    "duration": 16,
    "start_time": "2023-08-12T09:37:42.779Z"
   },
   {
    "duration": 14,
    "start_time": "2023-08-12T09:37:42.797Z"
   },
   {
    "duration": 14,
    "start_time": "2023-08-12T09:37:42.813Z"
   },
   {
    "duration": 13,
    "start_time": "2023-08-12T09:39:01.173Z"
   },
   {
    "duration": 5,
    "start_time": "2023-08-12T09:40:40.401Z"
   },
   {
    "duration": 13,
    "start_time": "2023-08-12T09:40:40.891Z"
   },
   {
    "duration": 13,
    "start_time": "2023-08-12T09:40:45.250Z"
   },
   {
    "duration": 13,
    "start_time": "2023-08-12T09:41:27.775Z"
   },
   {
    "duration": 14,
    "start_time": "2023-08-12T09:42:17.405Z"
   },
   {
    "duration": 4,
    "start_time": "2023-08-12T10:00:31.903Z"
   },
   {
    "duration": 20,
    "start_time": "2023-08-12T10:01:44.006Z"
   },
   {
    "duration": 28,
    "start_time": "2023-08-12T10:01:55.231Z"
   },
   {
    "duration": 73,
    "start_time": "2023-08-12T10:08:26.866Z"
   },
   {
    "duration": 20,
    "start_time": "2023-08-12T10:08:48.667Z"
   },
   {
    "duration": 21,
    "start_time": "2023-08-12T10:10:40.026Z"
   },
   {
    "duration": 13,
    "start_time": "2023-08-12T10:11:06.753Z"
   },
   {
    "duration": 72,
    "start_time": "2023-08-12T10:54:56.853Z"
   },
   {
    "duration": 153,
    "start_time": "2023-08-12T10:54:56.927Z"
   },
   {
    "duration": 20,
    "start_time": "2023-08-12T10:54:57.082Z"
   },
   {
    "duration": 25,
    "start_time": "2023-08-12T10:54:57.103Z"
   },
   {
    "duration": 33,
    "start_time": "2023-08-12T10:54:57.131Z"
   },
   {
    "duration": 4,
    "start_time": "2023-08-12T10:54:57.165Z"
   },
   {
    "duration": 17,
    "start_time": "2023-08-12T10:54:57.170Z"
   },
   {
    "duration": 9,
    "start_time": "2023-08-12T10:54:57.189Z"
   },
   {
    "duration": 11,
    "start_time": "2023-08-12T10:54:57.200Z"
   },
   {
    "duration": 15,
    "start_time": "2023-08-12T10:54:57.213Z"
   },
   {
    "duration": 46,
    "start_time": "2023-08-12T10:54:57.229Z"
   },
   {
    "duration": 10,
    "start_time": "2023-08-12T10:54:57.277Z"
   },
   {
    "duration": 8,
    "start_time": "2023-08-12T10:54:57.288Z"
   },
   {
    "duration": 38,
    "start_time": "2023-08-12T10:54:57.299Z"
   },
   {
    "duration": 34,
    "start_time": "2023-08-12T10:54:57.338Z"
   },
   {
    "duration": 18,
    "start_time": "2023-08-12T10:54:57.374Z"
   },
   {
    "duration": 4,
    "start_time": "2023-08-12T10:54:57.393Z"
   },
   {
    "duration": 14,
    "start_time": "2023-08-12T10:54:57.398Z"
   },
   {
    "duration": 21,
    "start_time": "2023-08-12T10:54:57.414Z"
   },
   {
    "duration": 27,
    "start_time": "2023-08-12T10:54:57.437Z"
   },
   {
    "duration": 21,
    "start_time": "2023-08-12T10:54:57.466Z"
   },
   {
    "duration": 13,
    "start_time": "2023-08-12T10:54:57.488Z"
   },
   {
    "duration": 27,
    "start_time": "2023-08-12T10:54:57.503Z"
   },
   {
    "duration": 12,
    "start_time": "2023-08-12T10:54:57.532Z"
   },
   {
    "duration": 45,
    "start_time": "2023-08-12T10:54:57.545Z"
   },
   {
    "duration": 0,
    "start_time": "2023-08-12T10:54:57.592Z"
   },
   {
    "duration": 0,
    "start_time": "2023-08-12T10:54:57.593Z"
   },
   {
    "duration": 0,
    "start_time": "2023-08-12T10:54:57.594Z"
   },
   {
    "duration": 72,
    "start_time": "2023-08-12T10:55:34.771Z"
   },
   {
    "duration": 16,
    "start_time": "2023-08-12T10:55:34.845Z"
   },
   {
    "duration": 19,
    "start_time": "2023-08-12T10:55:34.863Z"
   },
   {
    "duration": 10,
    "start_time": "2023-08-12T10:55:34.884Z"
   },
   {
    "duration": 32,
    "start_time": "2023-08-12T10:55:34.896Z"
   },
   {
    "duration": 3,
    "start_time": "2023-08-12T10:55:34.930Z"
   },
   {
    "duration": 31,
    "start_time": "2023-08-12T10:55:34.934Z"
   },
   {
    "duration": 7,
    "start_time": "2023-08-12T10:55:34.966Z"
   },
   {
    "duration": 8,
    "start_time": "2023-08-12T10:55:34.975Z"
   },
   {
    "duration": 5,
    "start_time": "2023-08-12T10:55:34.985Z"
   },
   {
    "duration": 34,
    "start_time": "2023-08-12T10:55:34.992Z"
   },
   {
    "duration": 32,
    "start_time": "2023-08-12T10:55:35.028Z"
   },
   {
    "duration": 6,
    "start_time": "2023-08-12T10:55:35.061Z"
   },
   {
    "duration": 21,
    "start_time": "2023-08-12T10:55:35.068Z"
   },
   {
    "duration": 40,
    "start_time": "2023-08-12T10:55:35.090Z"
   },
   {
    "duration": 18,
    "start_time": "2023-08-12T10:55:35.132Z"
   },
   {
    "duration": 19,
    "start_time": "2023-08-12T10:55:35.151Z"
   },
   {
    "duration": 15,
    "start_time": "2023-08-12T10:55:35.172Z"
   },
   {
    "duration": 17,
    "start_time": "2023-08-12T10:55:35.189Z"
   },
   {
    "duration": 12,
    "start_time": "2023-08-12T10:55:35.208Z"
   },
   {
    "duration": 31,
    "start_time": "2023-08-12T10:55:35.221Z"
   },
   {
    "duration": 8,
    "start_time": "2023-08-12T10:55:35.253Z"
   },
   {
    "duration": 43,
    "start_time": "2023-08-12T10:55:35.262Z"
   },
   {
    "duration": 4,
    "start_time": "2023-08-12T10:55:35.307Z"
   },
   {
    "duration": 22,
    "start_time": "2023-08-12T10:55:35.314Z"
   },
   {
    "duration": 93,
    "start_time": "2023-08-12T10:55:35.338Z"
   },
   {
    "duration": 57,
    "start_time": "2023-08-12T10:55:35.432Z"
   },
   {
    "duration": 13,
    "start_time": "2023-08-12T10:55:35.492Z"
   },
   {
    "duration": 73,
    "start_time": "2023-08-12T11:03:22.030Z"
   },
   {
    "duration": 15,
    "start_time": "2023-08-12T11:03:22.105Z"
   },
   {
    "duration": 18,
    "start_time": "2023-08-12T11:03:22.122Z"
   },
   {
    "duration": 21,
    "start_time": "2023-08-12T11:03:22.142Z"
   },
   {
    "duration": 34,
    "start_time": "2023-08-12T11:03:22.165Z"
   },
   {
    "duration": 4,
    "start_time": "2023-08-12T11:03:22.201Z"
   },
   {
    "duration": 16,
    "start_time": "2023-08-12T11:03:22.206Z"
   },
   {
    "duration": 5,
    "start_time": "2023-08-12T11:03:22.224Z"
   },
   {
    "duration": 33,
    "start_time": "2023-08-12T11:03:22.231Z"
   },
   {
    "duration": 18,
    "start_time": "2023-08-12T11:03:22.266Z"
   },
   {
    "duration": 65,
    "start_time": "2023-08-12T11:03:22.286Z"
   },
   {
    "duration": 10,
    "start_time": "2023-08-12T11:03:22.353Z"
   },
   {
    "duration": 4,
    "start_time": "2023-08-12T11:03:22.364Z"
   },
   {
    "duration": 18,
    "start_time": "2023-08-12T11:03:22.370Z"
   },
   {
    "duration": 39,
    "start_time": "2023-08-12T11:03:22.390Z"
   },
   {
    "duration": 19,
    "start_time": "2023-08-12T11:03:22.430Z"
   },
   {
    "duration": 6,
    "start_time": "2023-08-12T11:03:22.451Z"
   },
   {
    "duration": 12,
    "start_time": "2023-08-12T11:03:22.459Z"
   },
   {
    "duration": 11,
    "start_time": "2023-08-12T11:03:22.473Z"
   },
   {
    "duration": 33,
    "start_time": "2023-08-12T11:03:22.486Z"
   },
   {
    "duration": 15,
    "start_time": "2023-08-12T11:03:22.521Z"
   },
   {
    "duration": 8,
    "start_time": "2023-08-12T11:03:22.538Z"
   },
   {
    "duration": 28,
    "start_time": "2023-08-12T11:03:22.547Z"
   },
   {
    "duration": 4,
    "start_time": "2023-08-12T11:03:22.577Z"
   },
   {
    "duration": 18,
    "start_time": "2023-08-12T11:03:22.582Z"
   },
   {
    "duration": 13,
    "start_time": "2023-08-12T11:03:22.602Z"
   },
   {
    "duration": 13,
    "start_time": "2023-08-12T11:03:22.617Z"
   },
   {
    "duration": 15,
    "start_time": "2023-08-12T11:03:22.660Z"
   },
   {
    "duration": 73,
    "start_time": "2023-08-12T11:05:21.326Z"
   },
   {
    "duration": 16,
    "start_time": "2023-08-12T11:05:21.401Z"
   },
   {
    "duration": 23,
    "start_time": "2023-08-12T11:05:21.418Z"
   },
   {
    "duration": 18,
    "start_time": "2023-08-12T11:05:21.444Z"
   },
   {
    "duration": 33,
    "start_time": "2023-08-12T11:05:21.464Z"
   },
   {
    "duration": 4,
    "start_time": "2023-08-12T11:05:21.499Z"
   },
   {
    "duration": 16,
    "start_time": "2023-08-12T11:05:21.504Z"
   },
   {
    "duration": 5,
    "start_time": "2023-08-12T11:05:21.521Z"
   },
   {
    "duration": 16,
    "start_time": "2023-08-12T11:05:21.527Z"
   },
   {
    "duration": 4,
    "start_time": "2023-08-12T11:05:21.559Z"
   },
   {
    "duration": 38,
    "start_time": "2023-08-12T11:05:21.565Z"
   },
   {
    "duration": 10,
    "start_time": "2023-08-12T11:05:21.605Z"
   },
   {
    "duration": 6,
    "start_time": "2023-08-12T11:05:21.617Z"
   },
   {
    "duration": 37,
    "start_time": "2023-08-12T11:05:21.625Z"
   },
   {
    "duration": 27,
    "start_time": "2023-08-12T11:05:21.663Z"
   },
   {
    "duration": 27,
    "start_time": "2023-08-12T11:05:21.692Z"
   },
   {
    "duration": 5,
    "start_time": "2023-08-12T11:05:21.721Z"
   },
   {
    "duration": 32,
    "start_time": "2023-08-12T11:05:21.728Z"
   },
   {
    "duration": 6,
    "start_time": "2023-08-12T11:05:21.762Z"
   },
   {
    "duration": 5,
    "start_time": "2023-08-12T11:05:21.770Z"
   },
   {
    "duration": 13,
    "start_time": "2023-08-12T11:05:21.776Z"
   },
   {
    "duration": 6,
    "start_time": "2023-08-12T11:05:21.791Z"
   },
   {
    "duration": 32,
    "start_time": "2023-08-12T11:05:21.799Z"
   },
   {
    "duration": 26,
    "start_time": "2023-08-12T11:05:21.833Z"
   },
   {
    "duration": 17,
    "start_time": "2023-08-12T11:05:21.862Z"
   },
   {
    "duration": 13,
    "start_time": "2023-08-12T11:05:21.882Z"
   },
   {
    "duration": 12,
    "start_time": "2023-08-12T11:05:21.897Z"
   },
   {
    "duration": 13,
    "start_time": "2023-08-12T11:05:21.911Z"
   },
   {
    "duration": 508,
    "start_time": "2023-08-12T12:13:16.697Z"
   },
   {
    "duration": 23,
    "start_time": "2023-08-12T12:13:17.207Z"
   },
   {
    "duration": 259,
    "start_time": "2023-08-12T12:13:17.231Z"
   },
   {
    "duration": 32,
    "start_time": "2023-08-12T12:13:17.493Z"
   },
   {
    "duration": 97,
    "start_time": "2023-08-12T12:13:17.527Z"
   },
   {
    "duration": 34,
    "start_time": "2023-08-12T12:13:17.626Z"
   },
   {
    "duration": 260,
    "start_time": "2023-08-12T12:13:17.662Z"
   },
   {
    "duration": 505,
    "start_time": "2023-08-12T12:13:17.924Z"
   },
   {
    "duration": 226,
    "start_time": "2023-08-12T12:13:18.431Z"
   },
   {
    "duration": 118,
    "start_time": "2023-08-12T12:13:18.660Z"
   },
   {
    "duration": 191,
    "start_time": "2023-08-12T12:13:18.779Z"
   },
   {
    "duration": 77,
    "start_time": "2023-08-12T12:13:18.972Z"
   },
   {
    "duration": 229,
    "start_time": "2023-08-12T12:13:19.052Z"
   },
   {
    "duration": 164,
    "start_time": "2023-08-12T12:13:19.283Z"
   },
   {
    "duration": 167,
    "start_time": "2023-08-12T12:13:19.449Z"
   },
   {
    "duration": 679,
    "start_time": "2023-08-12T12:13:19.618Z"
   },
   {
    "duration": 581,
    "start_time": "2023-08-12T12:13:20.300Z"
   },
   {
    "duration": 721,
    "start_time": "2023-08-12T12:13:20.882Z"
   },
   {
    "duration": 584,
    "start_time": "2023-08-12T12:13:21.605Z"
   },
   {
    "duration": 763,
    "start_time": "2023-08-12T12:13:22.191Z"
   },
   {
    "duration": 806,
    "start_time": "2023-08-12T12:13:22.956Z"
   },
   {
    "duration": 1115,
    "start_time": "2023-08-12T12:13:23.764Z"
   },
   {
    "duration": 468,
    "start_time": "2023-08-12T12:13:24.881Z"
   },
   {
    "duration": 1189,
    "start_time": "2023-08-12T12:13:25.350Z"
   },
   {
    "duration": 875,
    "start_time": "2023-08-12T12:13:26.541Z"
   },
   {
    "duration": 677,
    "start_time": "2023-08-12T12:13:27.418Z"
   },
   {
    "duration": 475,
    "start_time": "2023-08-12T12:13:28.097Z"
   },
   {
    "duration": 586,
    "start_time": "2023-08-12T12:13:28.575Z"
   },
   {
    "duration": 544,
    "start_time": "2023-08-12T12:13:36.380Z"
   },
   {
    "duration": 24,
    "start_time": "2023-08-12T12:13:36.925Z"
   },
   {
    "duration": 35,
    "start_time": "2023-08-12T12:13:36.951Z"
   },
   {
    "duration": 30,
    "start_time": "2023-08-12T12:13:36.988Z"
   },
   {
    "duration": 37,
    "start_time": "2023-08-12T12:13:37.020Z"
   },
   {
    "duration": 4,
    "start_time": "2023-08-12T12:13:37.058Z"
   },
   {
    "duration": 30,
    "start_time": "2023-08-12T12:13:37.063Z"
   },
   {
    "duration": 66,
    "start_time": "2023-08-12T12:13:37.095Z"
   },
   {
    "duration": 79,
    "start_time": "2023-08-12T12:13:37.163Z"
   },
   {
    "duration": 21,
    "start_time": "2023-08-12T12:13:37.246Z"
   },
   {
    "duration": 48,
    "start_time": "2023-08-12T12:13:37.268Z"
   },
   {
    "duration": 9,
    "start_time": "2023-08-12T12:13:37.318Z"
   },
   {
    "duration": 27,
    "start_time": "2023-08-12T12:13:37.329Z"
   },
   {
    "duration": 34,
    "start_time": "2023-08-12T12:13:37.358Z"
   },
   {
    "duration": 52,
    "start_time": "2023-08-12T12:13:37.393Z"
   },
   {
    "duration": 35,
    "start_time": "2023-08-12T12:13:37.446Z"
   },
   {
    "duration": 3,
    "start_time": "2023-08-12T12:13:37.483Z"
   },
   {
    "duration": 27,
    "start_time": "2023-08-12T12:13:37.488Z"
   },
   {
    "duration": 28,
    "start_time": "2023-08-12T12:13:37.517Z"
   },
   {
    "duration": 20,
    "start_time": "2023-08-12T12:13:37.547Z"
   },
   {
    "duration": 12,
    "start_time": "2023-08-12T12:13:37.569Z"
   },
   {
    "duration": 18,
    "start_time": "2023-08-12T12:13:37.583Z"
   },
   {
    "duration": 46,
    "start_time": "2023-08-12T12:13:37.603Z"
   },
   {
    "duration": 3,
    "start_time": "2023-08-12T12:13:37.651Z"
   },
   {
    "duration": 17,
    "start_time": "2023-08-12T12:13:37.656Z"
   },
   {
    "duration": 15,
    "start_time": "2023-08-12T12:13:37.675Z"
   },
   {
    "duration": 12,
    "start_time": "2023-08-12T12:13:37.692Z"
   },
   {
    "duration": 18,
    "start_time": "2023-08-12T12:13:37.707Z"
   },
   {
    "duration": 48,
    "start_time": "2023-08-12T17:07:41.026Z"
   },
   {
    "duration": 656,
    "start_time": "2023-08-12T17:07:48.249Z"
   },
   {
    "duration": 22,
    "start_time": "2023-08-12T17:07:48.907Z"
   },
   {
    "duration": 16,
    "start_time": "2023-08-12T17:07:48.931Z"
   },
   {
    "duration": 10,
    "start_time": "2023-08-12T17:07:48.950Z"
   },
   {
    "duration": 50,
    "start_time": "2023-08-12T17:07:48.962Z"
   },
   {
    "duration": 4,
    "start_time": "2023-08-12T17:07:49.014Z"
   },
   {
    "duration": 33,
    "start_time": "2023-08-12T17:07:49.019Z"
   },
   {
    "duration": 4,
    "start_time": "2023-08-12T17:07:49.053Z"
   },
   {
    "duration": 14,
    "start_time": "2023-08-12T17:07:49.058Z"
   },
   {
    "duration": 4,
    "start_time": "2023-08-12T17:07:49.074Z"
   },
   {
    "duration": 43,
    "start_time": "2023-08-12T17:07:49.079Z"
   },
   {
    "duration": 10,
    "start_time": "2023-08-12T17:07:49.124Z"
   },
   {
    "duration": 7,
    "start_time": "2023-08-12T17:07:49.135Z"
   },
   {
    "duration": 12,
    "start_time": "2023-08-12T17:07:49.143Z"
   },
   {
    "duration": 23,
    "start_time": "2023-08-12T17:07:49.157Z"
   },
   {
    "duration": 29,
    "start_time": "2023-08-12T17:07:49.182Z"
   },
   {
    "duration": 4,
    "start_time": "2023-08-12T17:07:49.212Z"
   },
   {
    "duration": 20,
    "start_time": "2023-08-12T17:07:49.217Z"
   },
   {
    "duration": 17,
    "start_time": "2023-08-12T17:07:49.239Z"
   },
   {
    "duration": 8,
    "start_time": "2023-08-12T17:07:49.258Z"
   },
   {
    "duration": 15,
    "start_time": "2023-08-12T17:07:49.268Z"
   },
   {
    "duration": 5,
    "start_time": "2023-08-12T17:07:49.284Z"
   },
   {
    "duration": 21,
    "start_time": "2023-08-12T17:07:49.290Z"
   },
   {
    "duration": 3,
    "start_time": "2023-08-12T17:07:49.313Z"
   },
   {
    "duration": 40,
    "start_time": "2023-08-12T17:07:49.318Z"
   },
   {
    "duration": 47,
    "start_time": "2023-08-12T17:07:49.359Z"
   },
   {
    "duration": 0,
    "start_time": "2023-08-12T17:07:49.407Z"
   },
   {
    "duration": 0,
    "start_time": "2023-08-12T17:07:49.409Z"
   },
   {
    "duration": 4,
    "start_time": "2023-08-12T17:08:17.675Z"
   },
   {
    "duration": 1481,
    "start_time": "2023-08-12T17:08:19.502Z"
   },
   {
    "duration": 4,
    "start_time": "2023-08-12T17:08:38.372Z"
   },
   {
    "duration": 1315,
    "start_time": "2023-08-12T17:08:40.283Z"
   },
   {
    "duration": 4,
    "start_time": "2023-08-12T17:08:55.321Z"
   },
   {
    "duration": 30,
    "start_time": "2023-08-12T17:08:57.068Z"
   },
   {
    "duration": 4,
    "start_time": "2023-08-12T17:09:05.734Z"
   },
   {
    "duration": 28,
    "start_time": "2023-08-12T17:09:07.143Z"
   },
   {
    "duration": 31,
    "start_time": "2023-08-12T17:25:22.112Z"
   },
   {
    "duration": 29,
    "start_time": "2023-08-12T17:25:39.339Z"
   },
   {
    "duration": 35,
    "start_time": "2023-08-12T17:25:55.172Z"
   },
   {
    "duration": 75,
    "start_time": "2023-08-12T17:36:17.854Z"
   },
   {
    "duration": 15,
    "start_time": "2023-08-12T17:36:17.931Z"
   },
   {
    "duration": 30,
    "start_time": "2023-08-12T17:36:17.948Z"
   },
   {
    "duration": 17,
    "start_time": "2023-08-12T17:36:17.980Z"
   },
   {
    "duration": 42,
    "start_time": "2023-08-12T17:36:17.999Z"
   },
   {
    "duration": 4,
    "start_time": "2023-08-12T17:36:18.043Z"
   },
   {
    "duration": 19,
    "start_time": "2023-08-12T17:36:18.049Z"
   },
   {
    "duration": 12,
    "start_time": "2023-08-12T17:36:18.070Z"
   },
   {
    "duration": 18,
    "start_time": "2023-08-12T17:36:18.085Z"
   },
   {
    "duration": 10,
    "start_time": "2023-08-12T17:36:18.107Z"
   },
   {
    "duration": 55,
    "start_time": "2023-08-12T17:36:18.119Z"
   },
   {
    "duration": 10,
    "start_time": "2023-08-12T17:36:18.176Z"
   },
   {
    "duration": 4,
    "start_time": "2023-08-12T17:36:18.195Z"
   },
   {
    "duration": 15,
    "start_time": "2023-08-12T17:36:18.200Z"
   },
   {
    "duration": 21,
    "start_time": "2023-08-12T17:36:18.217Z"
   },
   {
    "duration": 16,
    "start_time": "2023-08-12T17:36:18.240Z"
   },
   {
    "duration": 18,
    "start_time": "2023-08-12T17:36:18.258Z"
   },
   {
    "duration": 32,
    "start_time": "2023-08-12T17:36:18.277Z"
   },
   {
    "duration": 11,
    "start_time": "2023-08-12T17:36:18.311Z"
   },
   {
    "duration": 16,
    "start_time": "2023-08-12T17:36:18.324Z"
   },
   {
    "duration": 16,
    "start_time": "2023-08-12T17:36:18.341Z"
   },
   {
    "duration": 4,
    "start_time": "2023-08-12T17:36:18.359Z"
   },
   {
    "duration": 23,
    "start_time": "2023-08-12T17:36:18.367Z"
   },
   {
    "duration": 7,
    "start_time": "2023-08-12T17:36:18.393Z"
   },
   {
    "duration": 45,
    "start_time": "2023-08-12T17:36:18.402Z"
   },
   {
    "duration": 30,
    "start_time": "2023-08-12T17:36:18.450Z"
   },
   {
    "duration": 38,
    "start_time": "2023-08-12T17:36:18.483Z"
   },
   {
    "duration": 32,
    "start_time": "2023-08-12T17:36:18.523Z"
   },
   {
    "duration": 78,
    "start_time": "2023-08-12T18:01:28.248Z"
   },
   {
    "duration": 16,
    "start_time": "2023-08-12T18:01:28.328Z"
   },
   {
    "duration": 21,
    "start_time": "2023-08-12T18:01:28.346Z"
   },
   {
    "duration": 27,
    "start_time": "2023-08-12T18:01:28.369Z"
   },
   {
    "duration": 39,
    "start_time": "2023-08-12T18:01:28.398Z"
   },
   {
    "duration": 4,
    "start_time": "2023-08-12T18:01:28.438Z"
   },
   {
    "duration": 13,
    "start_time": "2023-08-12T18:01:28.445Z"
   },
   {
    "duration": 4,
    "start_time": "2023-08-12T18:01:28.460Z"
   },
   {
    "duration": 9,
    "start_time": "2023-08-12T18:01:28.466Z"
   },
   {
    "duration": 21,
    "start_time": "2023-08-12T18:01:28.477Z"
   },
   {
    "duration": 46,
    "start_time": "2023-08-12T18:01:28.499Z"
   },
   {
    "duration": 11,
    "start_time": "2023-08-12T18:01:28.547Z"
   },
   {
    "duration": 3,
    "start_time": "2023-08-12T18:01:28.561Z"
   },
   {
    "duration": 36,
    "start_time": "2023-08-12T18:01:28.566Z"
   },
   {
    "duration": 22,
    "start_time": "2023-08-12T18:01:28.604Z"
   },
   {
    "duration": 27,
    "start_time": "2023-08-12T18:01:28.628Z"
   },
   {
    "duration": 17,
    "start_time": "2023-08-12T18:01:28.657Z"
   },
   {
    "duration": 24,
    "start_time": "2023-08-12T18:01:28.676Z"
   },
   {
    "duration": 19,
    "start_time": "2023-08-12T18:01:28.702Z"
   },
   {
    "duration": 32,
    "start_time": "2023-08-12T18:01:28.723Z"
   },
   {
    "duration": 67,
    "start_time": "2023-08-12T18:01:28.757Z"
   },
   {
    "duration": 24,
    "start_time": "2023-08-12T18:01:28.826Z"
   },
   {
    "duration": 25,
    "start_time": "2023-08-12T18:01:28.854Z"
   },
   {
    "duration": 10,
    "start_time": "2023-08-12T18:01:28.881Z"
   },
   {
    "duration": 51,
    "start_time": "2023-08-12T18:01:28.893Z"
   },
   {
    "duration": 30,
    "start_time": "2023-08-12T18:01:28.945Z"
   },
   {
    "duration": 29,
    "start_time": "2023-08-12T18:01:28.976Z"
   },
   {
    "duration": 32,
    "start_time": "2023-08-12T18:01:29.008Z"
   },
   {
    "duration": 4,
    "start_time": "2023-08-12T18:07:21.672Z"
   },
   {
    "duration": 4,
    "start_time": "2023-08-12T18:07:27.355Z"
   },
   {
    "duration": 74,
    "start_time": "2023-08-12T18:10:41.680Z"
   },
   {
    "duration": 17,
    "start_time": "2023-08-12T18:10:41.757Z"
   },
   {
    "duration": 24,
    "start_time": "2023-08-12T18:10:41.777Z"
   },
   {
    "duration": 11,
    "start_time": "2023-08-12T18:10:41.803Z"
   },
   {
    "duration": 59,
    "start_time": "2023-08-12T18:10:41.816Z"
   },
   {
    "duration": 4,
    "start_time": "2023-08-12T18:10:41.877Z"
   },
   {
    "duration": 36,
    "start_time": "2023-08-12T18:10:41.883Z"
   },
   {
    "duration": 31,
    "start_time": "2023-08-12T18:10:41.921Z"
   },
   {
    "duration": 28,
    "start_time": "2023-08-12T18:10:41.954Z"
   },
   {
    "duration": 32,
    "start_time": "2023-08-12T18:10:41.984Z"
   },
   {
    "duration": 66,
    "start_time": "2023-08-12T18:10:42.018Z"
   },
   {
    "duration": 13,
    "start_time": "2023-08-12T18:10:42.086Z"
   },
   {
    "duration": 32,
    "start_time": "2023-08-12T18:10:42.101Z"
   },
   {
    "duration": 60,
    "start_time": "2023-08-12T18:10:42.135Z"
   },
   {
    "duration": 67,
    "start_time": "2023-08-12T18:10:42.196Z"
   },
   {
    "duration": 51,
    "start_time": "2023-08-12T18:10:42.266Z"
   },
   {
    "duration": 31,
    "start_time": "2023-08-12T18:10:42.320Z"
   },
   {
    "duration": 38,
    "start_time": "2023-08-12T18:10:42.353Z"
   },
   {
    "duration": 58,
    "start_time": "2023-08-12T18:10:42.393Z"
   },
   {
    "duration": 43,
    "start_time": "2023-08-12T18:10:42.452Z"
   },
   {
    "duration": 26,
    "start_time": "2023-08-12T18:10:42.497Z"
   },
   {
    "duration": 67,
    "start_time": "2023-08-12T18:10:42.525Z"
   },
   {
    "duration": 62,
    "start_time": "2023-08-12T18:10:42.594Z"
   },
   {
    "duration": 38,
    "start_time": "2023-08-12T18:10:42.658Z"
   },
   {
    "duration": 109,
    "start_time": "2023-08-12T18:10:42.698Z"
   },
   {
    "duration": 45,
    "start_time": "2023-08-12T18:10:42.809Z"
   },
   {
    "duration": 32,
    "start_time": "2023-08-12T18:10:42.856Z"
   },
   {
    "duration": 33,
    "start_time": "2023-08-12T18:10:42.891Z"
   },
   {
    "duration": 73,
    "start_time": "2023-08-12T18:11:39.947Z"
   },
   {
    "duration": 17,
    "start_time": "2023-08-12T18:11:40.022Z"
   },
   {
    "duration": 43,
    "start_time": "2023-08-12T18:11:40.040Z"
   },
   {
    "duration": 44,
    "start_time": "2023-08-12T18:11:40.085Z"
   },
   {
    "duration": 46,
    "start_time": "2023-08-12T18:11:40.132Z"
   },
   {
    "duration": 4,
    "start_time": "2023-08-12T18:11:40.180Z"
   },
   {
    "duration": 36,
    "start_time": "2023-08-12T18:11:40.186Z"
   },
   {
    "duration": 23,
    "start_time": "2023-08-12T18:11:40.224Z"
   },
   {
    "duration": 33,
    "start_time": "2023-08-12T18:11:40.249Z"
   },
   {
    "duration": 39,
    "start_time": "2023-08-12T18:11:40.284Z"
   },
   {
    "duration": 102,
    "start_time": "2023-08-12T18:11:40.325Z"
   },
   {
    "duration": 10,
    "start_time": "2023-08-12T18:11:40.429Z"
   },
   {
    "duration": 13,
    "start_time": "2023-08-12T18:11:40.442Z"
   },
   {
    "duration": 29,
    "start_time": "2023-08-12T18:11:40.457Z"
   },
   {
    "duration": 38,
    "start_time": "2023-08-12T18:11:40.488Z"
   },
   {
    "duration": 18,
    "start_time": "2023-08-12T18:11:40.528Z"
   },
   {
    "duration": 5,
    "start_time": "2023-08-12T18:11:40.548Z"
   },
   {
    "duration": 34,
    "start_time": "2023-08-12T18:11:40.555Z"
   },
   {
    "duration": 10,
    "start_time": "2023-08-12T18:11:40.591Z"
   },
   {
    "duration": 6,
    "start_time": "2023-08-12T18:11:40.603Z"
   },
   {
    "duration": 18,
    "start_time": "2023-08-12T18:11:40.610Z"
   },
   {
    "duration": 15,
    "start_time": "2023-08-12T18:11:40.629Z"
   },
   {
    "duration": 24,
    "start_time": "2023-08-12T18:11:40.646Z"
   },
   {
    "duration": 7,
    "start_time": "2023-08-12T18:11:40.672Z"
   },
   {
    "duration": 38,
    "start_time": "2023-08-12T18:11:40.681Z"
   },
   {
    "duration": 30,
    "start_time": "2023-08-12T18:11:40.721Z"
   },
   {
    "duration": 48,
    "start_time": "2023-08-12T18:11:40.753Z"
   },
   {
    "duration": 31,
    "start_time": "2023-08-12T18:11:40.803Z"
   },
   {
    "duration": 72,
    "start_time": "2023-08-12T18:13:05.030Z"
   },
   {
    "duration": 16,
    "start_time": "2023-08-12T18:13:05.104Z"
   },
   {
    "duration": 25,
    "start_time": "2023-08-12T18:13:05.122Z"
   },
   {
    "duration": 12,
    "start_time": "2023-08-12T18:13:05.150Z"
   },
   {
    "duration": 56,
    "start_time": "2023-08-12T18:13:05.164Z"
   },
   {
    "duration": 4,
    "start_time": "2023-08-12T18:13:05.221Z"
   },
   {
    "duration": 17,
    "start_time": "2023-08-12T18:13:05.226Z"
   },
   {
    "duration": 18,
    "start_time": "2023-08-12T18:13:05.245Z"
   },
   {
    "duration": 15,
    "start_time": "2023-08-12T18:13:05.265Z"
   },
   {
    "duration": 14,
    "start_time": "2023-08-12T18:13:05.283Z"
   },
   {
    "duration": 52,
    "start_time": "2023-08-12T18:13:05.299Z"
   },
   {
    "duration": 11,
    "start_time": "2023-08-12T18:13:05.352Z"
   },
   {
    "duration": 18,
    "start_time": "2023-08-12T18:13:05.365Z"
   },
   {
    "duration": 27,
    "start_time": "2023-08-12T18:13:05.385Z"
   },
   {
    "duration": 35,
    "start_time": "2023-08-12T18:13:05.414Z"
   },
   {
    "duration": 32,
    "start_time": "2023-08-12T18:13:05.451Z"
   },
   {
    "duration": 42,
    "start_time": "2023-08-12T18:13:05.485Z"
   },
   {
    "duration": 25,
    "start_time": "2023-08-12T18:13:05.529Z"
   },
   {
    "duration": 17,
    "start_time": "2023-08-12T18:13:05.556Z"
   },
   {
    "duration": 13,
    "start_time": "2023-08-12T18:13:05.576Z"
   },
   {
    "duration": 64,
    "start_time": "2023-08-12T18:13:05.591Z"
   },
   {
    "duration": 7,
    "start_time": "2023-08-12T18:13:05.657Z"
   },
   {
    "duration": 28,
    "start_time": "2023-08-12T18:13:05.666Z"
   },
   {
    "duration": 10,
    "start_time": "2023-08-12T18:13:05.696Z"
   },
   {
    "duration": 39,
    "start_time": "2023-08-12T18:13:05.707Z"
   },
   {
    "duration": 46,
    "start_time": "2023-08-12T18:13:05.749Z"
   },
   {
    "duration": 31,
    "start_time": "2023-08-12T18:13:05.798Z"
   },
   {
    "duration": 30,
    "start_time": "2023-08-12T18:13:05.833Z"
   }
  ],
  "colab": {
   "name": "dpp_template_part2.ipynb",
   "provenance": []
  },
  "kernelspec": {
   "display_name": "Python 3 (ipykernel)",
   "language": "python",
   "name": "python3"
  },
  "language_info": {
   "codemirror_mode": {
    "name": "ipython",
    "version": 3
   },
   "file_extension": ".py",
   "mimetype": "text/x-python",
   "name": "python",
   "nbconvert_exporter": "python",
   "pygments_lexer": "ipython3",
   "version": "3.9.16"
  },
  "toc": {
   "base_numbering": 1,
   "nav_menu": {},
   "number_sections": true,
   "sideBar": true,
   "skip_h1_title": true,
   "title_cell": "Table of Contents",
   "title_sidebar": "Contents",
   "toc_cell": false,
   "toc_position": {},
   "toc_section_display": true,
   "toc_window_display": false
  }
 },
 "nbformat": 4,
 "nbformat_minor": 5
}
