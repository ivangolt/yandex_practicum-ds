{
 "cells": [
  {
   "cell_type": "markdown",
   "id": "4f11de00",
   "metadata": {
    "deletable": false,
    "editable": false,
    "id": "4f11de00"
   },
   "source": [
    "# Исследование надежности заемщиков"
   ]
  },
  {
   "cell_type": "markdown",
   "id": "f09d6878",
   "metadata": {
    "deletable": false,
    "editable": false,
    "id": "f09d6878"
   },
   "source": [
    "Это первая часть проекта, она будет проверена автоматически. Вторую часть проверит ревьюер. "
   ]
  },
  {
   "cell_type": "markdown",
   "id": "516620ee",
   "metadata": {
    "deletable": false,
    "editable": false,
    "id": "516620ee"
   },
   "source": [
    "## Откройте таблицу и изучите общую информацию о данных"
   ]
  },
  {
   "cell_type": "markdown",
   "id": "76a8a9ce",
   "metadata": {
    "deletable": false,
    "editable": false,
    "id": "76a8a9ce",
    "tags": [
     "start_task"
    ]
   },
   "source": [
    "**Задание 1. Импортируйте библиотеку pandas. Считайте данные из csv-файла в датафрейм и сохраните в переменную `data`. Путь к файлу:**\n",
    "\n",
    "`/datasets/data.csv`"
   ]
  },
  {
   "cell_type": "code",
   "execution_count": 94,
   "id": "fab207d0",
   "metadata": {
    "id": "fab207d0"
   },
   "outputs": [],
   "source": [
    "import pandas as pd"
   ]
  },
  {
   "cell_type": "code",
   "execution_count": 95,
   "id": "6c82b607",
   "metadata": {
    "id": "6c82b607"
   },
   "outputs": [],
   "source": [
    "data = pd.read_csv('data.csv')"
   ]
  },
  {
   "cell_type": "markdown",
   "id": "08bbb5b3",
   "metadata": {
    "deletable": false,
    "editable": false,
    "id": "08bbb5b3",
    "tags": [
     "start_task"
    ]
   },
   "source": [
    "**Задание 2. Выведите первые 20 строчек датафрейма `data` на экран.**"
   ]
  },
  {
   "cell_type": "code",
   "execution_count": 96,
   "id": "4ff33b36",
   "metadata": {
    "id": "4ff33b36"
   },
   "outputs": [
    {
     "data": {
      "text/html": [
       "<div>\n",
       "<style scoped>\n",
       "    .dataframe tbody tr th:only-of-type {\n",
       "        vertical-align: middle;\n",
       "    }\n",
       "\n",
       "    .dataframe tbody tr th {\n",
       "        vertical-align: top;\n",
       "    }\n",
       "\n",
       "    .dataframe thead th {\n",
       "        text-align: right;\n",
       "    }\n",
       "</style>\n",
       "<table border=\"1\" class=\"dataframe\">\n",
       "  <thead>\n",
       "    <tr style=\"text-align: right;\">\n",
       "      <th></th>\n",
       "      <th>children</th>\n",
       "      <th>days_employed</th>\n",
       "      <th>dob_years</th>\n",
       "      <th>education</th>\n",
       "      <th>education_id</th>\n",
       "      <th>family_status</th>\n",
       "      <th>family_status_id</th>\n",
       "      <th>gender</th>\n",
       "      <th>income_type</th>\n",
       "      <th>debt</th>\n",
       "      <th>total_income</th>\n",
       "      <th>purpose</th>\n",
       "    </tr>\n",
       "  </thead>\n",
       "  <tbody>\n",
       "    <tr>\n",
       "      <th>0</th>\n",
       "      <td>1</td>\n",
       "      <td>-8437.673028</td>\n",
       "      <td>42</td>\n",
       "      <td>высшее</td>\n",
       "      <td>0</td>\n",
       "      <td>женат / замужем</td>\n",
       "      <td>0</td>\n",
       "      <td>F</td>\n",
       "      <td>сотрудник</td>\n",
       "      <td>0</td>\n",
       "      <td>253875.639453</td>\n",
       "      <td>покупка жилья</td>\n",
       "    </tr>\n",
       "    <tr>\n",
       "      <th>1</th>\n",
       "      <td>1</td>\n",
       "      <td>-4024.803754</td>\n",
       "      <td>36</td>\n",
       "      <td>среднее</td>\n",
       "      <td>1</td>\n",
       "      <td>женат / замужем</td>\n",
       "      <td>0</td>\n",
       "      <td>F</td>\n",
       "      <td>сотрудник</td>\n",
       "      <td>0</td>\n",
       "      <td>112080.014102</td>\n",
       "      <td>приобретение автомобиля</td>\n",
       "    </tr>\n",
       "    <tr>\n",
       "      <th>2</th>\n",
       "      <td>0</td>\n",
       "      <td>-5623.422610</td>\n",
       "      <td>33</td>\n",
       "      <td>Среднее</td>\n",
       "      <td>1</td>\n",
       "      <td>женат / замужем</td>\n",
       "      <td>0</td>\n",
       "      <td>M</td>\n",
       "      <td>сотрудник</td>\n",
       "      <td>0</td>\n",
       "      <td>145885.952297</td>\n",
       "      <td>покупка жилья</td>\n",
       "    </tr>\n",
       "    <tr>\n",
       "      <th>3</th>\n",
       "      <td>3</td>\n",
       "      <td>-4124.747207</td>\n",
       "      <td>32</td>\n",
       "      <td>среднее</td>\n",
       "      <td>1</td>\n",
       "      <td>женат / замужем</td>\n",
       "      <td>0</td>\n",
       "      <td>M</td>\n",
       "      <td>сотрудник</td>\n",
       "      <td>0</td>\n",
       "      <td>267628.550329</td>\n",
       "      <td>дополнительное образование</td>\n",
       "    </tr>\n",
       "    <tr>\n",
       "      <th>4</th>\n",
       "      <td>0</td>\n",
       "      <td>340266.072047</td>\n",
       "      <td>53</td>\n",
       "      <td>среднее</td>\n",
       "      <td>1</td>\n",
       "      <td>гражданский брак</td>\n",
       "      <td>1</td>\n",
       "      <td>F</td>\n",
       "      <td>пенсионер</td>\n",
       "      <td>0</td>\n",
       "      <td>158616.077870</td>\n",
       "      <td>сыграть свадьбу</td>\n",
       "    </tr>\n",
       "    <tr>\n",
       "      <th>5</th>\n",
       "      <td>0</td>\n",
       "      <td>-926.185831</td>\n",
       "      <td>27</td>\n",
       "      <td>высшее</td>\n",
       "      <td>0</td>\n",
       "      <td>гражданский брак</td>\n",
       "      <td>1</td>\n",
       "      <td>M</td>\n",
       "      <td>компаньон</td>\n",
       "      <td>0</td>\n",
       "      <td>255763.565419</td>\n",
       "      <td>покупка жилья</td>\n",
       "    </tr>\n",
       "    <tr>\n",
       "      <th>6</th>\n",
       "      <td>0</td>\n",
       "      <td>-2879.202052</td>\n",
       "      <td>43</td>\n",
       "      <td>высшее</td>\n",
       "      <td>0</td>\n",
       "      <td>женат / замужем</td>\n",
       "      <td>0</td>\n",
       "      <td>F</td>\n",
       "      <td>компаньон</td>\n",
       "      <td>0</td>\n",
       "      <td>240525.971920</td>\n",
       "      <td>операции с жильем</td>\n",
       "    </tr>\n",
       "    <tr>\n",
       "      <th>7</th>\n",
       "      <td>0</td>\n",
       "      <td>-152.779569</td>\n",
       "      <td>50</td>\n",
       "      <td>СРЕДНЕЕ</td>\n",
       "      <td>1</td>\n",
       "      <td>женат / замужем</td>\n",
       "      <td>0</td>\n",
       "      <td>M</td>\n",
       "      <td>сотрудник</td>\n",
       "      <td>0</td>\n",
       "      <td>135823.934197</td>\n",
       "      <td>образование</td>\n",
       "    </tr>\n",
       "    <tr>\n",
       "      <th>8</th>\n",
       "      <td>2</td>\n",
       "      <td>-6929.865299</td>\n",
       "      <td>35</td>\n",
       "      <td>ВЫСШЕЕ</td>\n",
       "      <td>0</td>\n",
       "      <td>гражданский брак</td>\n",
       "      <td>1</td>\n",
       "      <td>F</td>\n",
       "      <td>сотрудник</td>\n",
       "      <td>0</td>\n",
       "      <td>95856.832424</td>\n",
       "      <td>на проведение свадьбы</td>\n",
       "    </tr>\n",
       "    <tr>\n",
       "      <th>9</th>\n",
       "      <td>0</td>\n",
       "      <td>-2188.756445</td>\n",
       "      <td>41</td>\n",
       "      <td>среднее</td>\n",
       "      <td>1</td>\n",
       "      <td>женат / замужем</td>\n",
       "      <td>0</td>\n",
       "      <td>M</td>\n",
       "      <td>сотрудник</td>\n",
       "      <td>0</td>\n",
       "      <td>144425.938277</td>\n",
       "      <td>покупка жилья для семьи</td>\n",
       "    </tr>\n",
       "    <tr>\n",
       "      <th>10</th>\n",
       "      <td>2</td>\n",
       "      <td>-4171.483647</td>\n",
       "      <td>36</td>\n",
       "      <td>высшее</td>\n",
       "      <td>0</td>\n",
       "      <td>женат / замужем</td>\n",
       "      <td>0</td>\n",
       "      <td>M</td>\n",
       "      <td>компаньон</td>\n",
       "      <td>0</td>\n",
       "      <td>113943.491460</td>\n",
       "      <td>покупка недвижимости</td>\n",
       "    </tr>\n",
       "    <tr>\n",
       "      <th>11</th>\n",
       "      <td>0</td>\n",
       "      <td>-792.701887</td>\n",
       "      <td>40</td>\n",
       "      <td>среднее</td>\n",
       "      <td>1</td>\n",
       "      <td>женат / замужем</td>\n",
       "      <td>0</td>\n",
       "      <td>F</td>\n",
       "      <td>сотрудник</td>\n",
       "      <td>0</td>\n",
       "      <td>77069.234271</td>\n",
       "      <td>покупка коммерческой недвижимости</td>\n",
       "    </tr>\n",
       "    <tr>\n",
       "      <th>12</th>\n",
       "      <td>0</td>\n",
       "      <td>NaN</td>\n",
       "      <td>65</td>\n",
       "      <td>среднее</td>\n",
       "      <td>1</td>\n",
       "      <td>гражданский брак</td>\n",
       "      <td>1</td>\n",
       "      <td>M</td>\n",
       "      <td>пенсионер</td>\n",
       "      <td>0</td>\n",
       "      <td>NaN</td>\n",
       "      <td>сыграть свадьбу</td>\n",
       "    </tr>\n",
       "    <tr>\n",
       "      <th>13</th>\n",
       "      <td>0</td>\n",
       "      <td>-1846.641941</td>\n",
       "      <td>54</td>\n",
       "      <td>неоконченное высшее</td>\n",
       "      <td>2</td>\n",
       "      <td>женат / замужем</td>\n",
       "      <td>0</td>\n",
       "      <td>F</td>\n",
       "      <td>сотрудник</td>\n",
       "      <td>0</td>\n",
       "      <td>130458.228857</td>\n",
       "      <td>приобретение автомобиля</td>\n",
       "    </tr>\n",
       "    <tr>\n",
       "      <th>14</th>\n",
       "      <td>0</td>\n",
       "      <td>-1844.956182</td>\n",
       "      <td>56</td>\n",
       "      <td>высшее</td>\n",
       "      <td>0</td>\n",
       "      <td>гражданский брак</td>\n",
       "      <td>1</td>\n",
       "      <td>F</td>\n",
       "      <td>компаньон</td>\n",
       "      <td>1</td>\n",
       "      <td>165127.911772</td>\n",
       "      <td>покупка жилой недвижимости</td>\n",
       "    </tr>\n",
       "    <tr>\n",
       "      <th>15</th>\n",
       "      <td>1</td>\n",
       "      <td>-972.364419</td>\n",
       "      <td>26</td>\n",
       "      <td>среднее</td>\n",
       "      <td>1</td>\n",
       "      <td>женат / замужем</td>\n",
       "      <td>0</td>\n",
       "      <td>F</td>\n",
       "      <td>сотрудник</td>\n",
       "      <td>0</td>\n",
       "      <td>116820.904450</td>\n",
       "      <td>строительство собственной недвижимости</td>\n",
       "    </tr>\n",
       "    <tr>\n",
       "      <th>16</th>\n",
       "      <td>0</td>\n",
       "      <td>-1719.934226</td>\n",
       "      <td>35</td>\n",
       "      <td>среднее</td>\n",
       "      <td>1</td>\n",
       "      <td>женат / замужем</td>\n",
       "      <td>0</td>\n",
       "      <td>F</td>\n",
       "      <td>сотрудник</td>\n",
       "      <td>0</td>\n",
       "      <td>289202.704229</td>\n",
       "      <td>недвижимость</td>\n",
       "    </tr>\n",
       "    <tr>\n",
       "      <th>17</th>\n",
       "      <td>0</td>\n",
       "      <td>-2369.999720</td>\n",
       "      <td>33</td>\n",
       "      <td>высшее</td>\n",
       "      <td>0</td>\n",
       "      <td>гражданский брак</td>\n",
       "      <td>1</td>\n",
       "      <td>M</td>\n",
       "      <td>сотрудник</td>\n",
       "      <td>0</td>\n",
       "      <td>90410.586745</td>\n",
       "      <td>строительство недвижимости</td>\n",
       "    </tr>\n",
       "    <tr>\n",
       "      <th>18</th>\n",
       "      <td>0</td>\n",
       "      <td>400281.136913</td>\n",
       "      <td>53</td>\n",
       "      <td>среднее</td>\n",
       "      <td>1</td>\n",
       "      <td>вдовец / вдова</td>\n",
       "      <td>2</td>\n",
       "      <td>F</td>\n",
       "      <td>пенсионер</td>\n",
       "      <td>0</td>\n",
       "      <td>56823.777243</td>\n",
       "      <td>на покупку подержанного автомобиля</td>\n",
       "    </tr>\n",
       "    <tr>\n",
       "      <th>19</th>\n",
       "      <td>0</td>\n",
       "      <td>-10038.818549</td>\n",
       "      <td>48</td>\n",
       "      <td>СРЕДНЕЕ</td>\n",
       "      <td>1</td>\n",
       "      <td>в разводе</td>\n",
       "      <td>3</td>\n",
       "      <td>F</td>\n",
       "      <td>сотрудник</td>\n",
       "      <td>0</td>\n",
       "      <td>242831.107982</td>\n",
       "      <td>на покупку своего автомобиля</td>\n",
       "    </tr>\n",
       "  </tbody>\n",
       "</table>\n",
       "</div>"
      ],
      "text/plain": [
       "    children  days_employed  dob_years            education  education_id  \\\n",
       "0          1   -8437.673028         42               высшее             0   \n",
       "1          1   -4024.803754         36              среднее             1   \n",
       "2          0   -5623.422610         33              Среднее             1   \n",
       "3          3   -4124.747207         32              среднее             1   \n",
       "4          0  340266.072047         53              среднее             1   \n",
       "5          0    -926.185831         27               высшее             0   \n",
       "6          0   -2879.202052         43               высшее             0   \n",
       "7          0    -152.779569         50              СРЕДНЕЕ             1   \n",
       "8          2   -6929.865299         35               ВЫСШЕЕ             0   \n",
       "9          0   -2188.756445         41              среднее             1   \n",
       "10         2   -4171.483647         36               высшее             0   \n",
       "11         0    -792.701887         40              среднее             1   \n",
       "12         0            NaN         65              среднее             1   \n",
       "13         0   -1846.641941         54  неоконченное высшее             2   \n",
       "14         0   -1844.956182         56               высшее             0   \n",
       "15         1    -972.364419         26              среднее             1   \n",
       "16         0   -1719.934226         35              среднее             1   \n",
       "17         0   -2369.999720         33               высшее             0   \n",
       "18         0  400281.136913         53              среднее             1   \n",
       "19         0  -10038.818549         48              СРЕДНЕЕ             1   \n",
       "\n",
       "       family_status  family_status_id gender income_type  debt  \\\n",
       "0    женат / замужем                 0      F   сотрудник     0   \n",
       "1    женат / замужем                 0      F   сотрудник     0   \n",
       "2    женат / замужем                 0      M   сотрудник     0   \n",
       "3    женат / замужем                 0      M   сотрудник     0   \n",
       "4   гражданский брак                 1      F   пенсионер     0   \n",
       "5   гражданский брак                 1      M   компаньон     0   \n",
       "6    женат / замужем                 0      F   компаньон     0   \n",
       "7    женат / замужем                 0      M   сотрудник     0   \n",
       "8   гражданский брак                 1      F   сотрудник     0   \n",
       "9    женат / замужем                 0      M   сотрудник     0   \n",
       "10   женат / замужем                 0      M   компаньон     0   \n",
       "11   женат / замужем                 0      F   сотрудник     0   \n",
       "12  гражданский брак                 1      M   пенсионер     0   \n",
       "13   женат / замужем                 0      F   сотрудник     0   \n",
       "14  гражданский брак                 1      F   компаньон     1   \n",
       "15   женат / замужем                 0      F   сотрудник     0   \n",
       "16   женат / замужем                 0      F   сотрудник     0   \n",
       "17  гражданский брак                 1      M   сотрудник     0   \n",
       "18    вдовец / вдова                 2      F   пенсионер     0   \n",
       "19         в разводе                 3      F   сотрудник     0   \n",
       "\n",
       "     total_income                                 purpose  \n",
       "0   253875.639453                           покупка жилья  \n",
       "1   112080.014102                 приобретение автомобиля  \n",
       "2   145885.952297                           покупка жилья  \n",
       "3   267628.550329              дополнительное образование  \n",
       "4   158616.077870                         сыграть свадьбу  \n",
       "5   255763.565419                           покупка жилья  \n",
       "6   240525.971920                       операции с жильем  \n",
       "7   135823.934197                             образование  \n",
       "8    95856.832424                   на проведение свадьбы  \n",
       "9   144425.938277                 покупка жилья для семьи  \n",
       "10  113943.491460                    покупка недвижимости  \n",
       "11   77069.234271       покупка коммерческой недвижимости  \n",
       "12            NaN                         сыграть свадьбу  \n",
       "13  130458.228857                 приобретение автомобиля  \n",
       "14  165127.911772              покупка жилой недвижимости  \n",
       "15  116820.904450  строительство собственной недвижимости  \n",
       "16  289202.704229                            недвижимость  \n",
       "17   90410.586745              строительство недвижимости  \n",
       "18   56823.777243      на покупку подержанного автомобиля  \n",
       "19  242831.107982            на покупку своего автомобиля  "
      ]
     },
     "execution_count": 96,
     "metadata": {},
     "output_type": "execute_result"
    }
   ],
   "source": [
    "data.head(20)"
   ]
  },
  {
   "cell_type": "markdown",
   "id": "c8f382ae",
   "metadata": {
    "deletable": false,
    "editable": false,
    "id": "c8f382ae",
    "tags": [
     "start_task"
    ]
   },
   "source": [
    "**Задание 3. Выведите основную информацию о датафрейме с помощью метода `info()`.**"
   ]
  },
  {
   "cell_type": "code",
   "execution_count": 97,
   "id": "e1ed9908",
   "metadata": {
    "id": "e1ed9908"
   },
   "outputs": [
    {
     "name": "stdout",
     "output_type": "stream",
     "text": [
      "<class 'pandas.core.frame.DataFrame'>\n",
      "RangeIndex: 21525 entries, 0 to 21524\n",
      "Data columns (total 12 columns):\n",
      " #   Column            Non-Null Count  Dtype  \n",
      "---  ------            --------------  -----  \n",
      " 0   children          21525 non-null  int64  \n",
      " 1   days_employed     19351 non-null  float64\n",
      " 2   dob_years         21525 non-null  int64  \n",
      " 3   education         21525 non-null  object \n",
      " 4   education_id      21525 non-null  int64  \n",
      " 5   family_status     21525 non-null  object \n",
      " 6   family_status_id  21525 non-null  int64  \n",
      " 7   gender            21525 non-null  object \n",
      " 8   income_type       21525 non-null  object \n",
      " 9   debt              21525 non-null  int64  \n",
      " 10  total_income      19351 non-null  float64\n",
      " 11  purpose           21525 non-null  object \n",
      "dtypes: float64(2), int64(5), object(5)\n",
      "memory usage: 2.0+ MB\n"
     ]
    }
   ],
   "source": [
    "data.info()"
   ]
  },
  {
   "cell_type": "markdown",
   "id": "f969a1cd",
   "metadata": {
    "deletable": false,
    "editable": false,
    "id": "f969a1cd"
   },
   "source": [
    "## Предобработка данных"
   ]
  },
  {
   "cell_type": "markdown",
   "id": "7283e864",
   "metadata": {
    "deletable": false,
    "editable": false,
    "id": "7283e864"
   },
   "source": [
    "### Удаление пропусков"
   ]
  },
  {
   "cell_type": "markdown",
   "id": "c9a0745e",
   "metadata": {
    "deletable": false,
    "editable": false,
    "id": "c9a0745e",
    "tags": [
     "start_task"
    ]
   },
   "source": [
    "**Задание 4. Выведите количество пропущенных значений для каждого столбца. Используйте комбинацию двух методов.**"
   ]
  },
  {
   "cell_type": "code",
   "execution_count": 98,
   "id": "b7a096e1",
   "metadata": {
    "id": "b7a096e1"
   },
   "outputs": [
    {
     "data": {
      "text/plain": [
       "children               0\n",
       "days_employed       2174\n",
       "dob_years              0\n",
       "education              0\n",
       "education_id           0\n",
       "family_status          0\n",
       "family_status_id       0\n",
       "gender                 0\n",
       "income_type            0\n",
       "debt                   0\n",
       "total_income        2174\n",
       "purpose                0\n",
       "dtype: int64"
      ]
     },
     "execution_count": 98,
     "metadata": {},
     "output_type": "execute_result"
    }
   ],
   "source": [
    "data.isna().sum()"
   ]
  },
  {
   "cell_type": "markdown",
   "id": "c2578616",
   "metadata": {
    "deletable": false,
    "editable": false,
    "id": "c2578616",
    "tags": [
     "start_task"
    ]
   },
   "source": [
    "**Задание 5. В двух столбцах есть пропущенные значения. Один из них — `days_employed`. Пропуски в этом столбце вы обработаете на следующем этапе. Другой столбец с пропущенными значениями — `total_income` — хранит данные о доходах. На сумму дохода сильнее всего влияет тип занятости, поэтому заполнить пропуски в этом столбце нужно медианным значением по каждому типу из столбца `income_type`. Например, у человека с типом занятости `сотрудник` пропуск в столбце `total_income` должен быть заполнен медианным доходом среди всех записей с тем же типом.**"
   ]
  },
  {
   "cell_type": "code",
   "execution_count": 99,
   "id": "e8afc4bc",
   "metadata": {
    "id": "e8afc4bc"
   },
   "outputs": [],
   "source": [
    "for income_type in data['income_type'].unique():\n",
    "    data.loc[(data['income_type'] == income_type) & (data['total_income'].isna()), 'total_income'] = \\\n",
    "    data.loc[(data['income_type'] == income_type), 'total_income'].median()"
   ]
  },
  {
   "cell_type": "markdown",
   "id": "ae986d46",
   "metadata": {
    "deletable": false,
    "editable": false,
    "id": "ae986d46"
   },
   "source": [
    "### Обработка аномальных значений"
   ]
  },
  {
   "cell_type": "markdown",
   "id": "b049cbae",
   "metadata": {
    "deletable": false,
    "editable": false,
    "id": "b049cbae",
    "tags": [
     "start_task"
    ]
   },
   "source": [
    "**Задание 6. В данных могут встречаться артефакты (аномалии) — значения, которые не отражают действительность и появились по какой-то ошибке. Таким артефактом будет отрицательное количество дней трудового стажа в столбце `days_employed`. Для реальных данных это нормально. Обработайте значения в этом столбце: замените все отрицательные значения положительными с помощью метода `abs()`.**"
   ]
  },
  {
   "cell_type": "code",
   "execution_count": 100,
   "id": "187779b0",
   "metadata": {
    "id": "187779b0"
   },
   "outputs": [],
   "source": [
    "data['days_employed'] = data['days_employed'].abs()"
   ]
  },
  {
   "cell_type": "markdown",
   "id": "a13054c2",
   "metadata": {
    "deletable": false,
    "editable": false,
    "id": "a13054c2",
    "tags": [
     "start_task"
    ]
   },
   "source": [
    "**Задание 7. Для каждого типа занятости выведите медианное значение трудового стажа `days_employed` в днях.**"
   ]
  },
  {
   "cell_type": "code",
   "execution_count": 101,
   "id": "f3f5810c",
   "metadata": {
    "id": "f3f5810c"
   },
   "outputs": [
    {
     "data": {
      "text/plain": [
       "income_type\n",
       "безработный        366413.652744\n",
       "в декрете            3296.759962\n",
       "госслужащий          2689.368353\n",
       "компаньон            1547.382223\n",
       "пенсионер          365213.306266\n",
       "предприниматель       520.848083\n",
       "сотрудник            1574.202821\n",
       "студент               578.751554\n",
       "Name: days_employed, dtype: float64"
      ]
     },
     "execution_count": 101,
     "metadata": {},
     "output_type": "execute_result"
    }
   ],
   "source": [
    "#data.groupby('income_type')['days_employed'].agg(mean='median').astype('int')\n",
    "data.groupby('income_type')['days_employed'].median()\n"
   ]
  },
  {
   "cell_type": "markdown",
   "id": "dbc3168c",
   "metadata": {
    "deletable": false,
    "editable": false,
    "id": "dbc3168c"
   },
   "source": [
    "У двух типов (безработные и пенсионеры) получатся аномально большие значения. Исправить такие значения сложно, поэтому оставьте их как есть."
   ]
  },
  {
   "cell_type": "markdown",
   "id": "ff4378c2",
   "metadata": {
    "deletable": false,
    "editable": false,
    "id": "ff4378c2",
    "tags": [
     "start_task"
    ]
   },
   "source": [
    "**Задание 8. Выведите перечень уникальных значений столбца `children`.**"
   ]
  },
  {
   "cell_type": "code",
   "execution_count": 102,
   "id": "9bd0c232",
   "metadata": {
    "id": "9bd0c232"
   },
   "outputs": [
    {
     "data": {
      "text/plain": [
       "array([ 1,  0,  3,  2, -1,  4, 20,  5], dtype=int64)"
      ]
     },
     "execution_count": 102,
     "metadata": {},
     "output_type": "execute_result"
    }
   ],
   "source": [
    "data['children'].unique()"
   ]
  },
  {
   "cell_type": "markdown",
   "id": "8e911990",
   "metadata": {
    "deletable": false,
    "editable": false,
    "id": "8e911990",
    "tags": [
     "start_task"
    ]
   },
   "source": [
    "**Задание 9. В столбце `children` есть два аномальных значения. Удалите строки, в которых встречаются такие аномальные значения из датафрейма `data`.**"
   ]
  },
  {
   "cell_type": "code",
   "execution_count": 103,
   "id": "6d5ba289",
   "metadata": {
    "id": "6d5ba289"
   },
   "outputs": [],
   "source": [
    "data = data[(data['children'] != -1) & (data['children'] != 20)]"
   ]
  },
  {
   "cell_type": "markdown",
   "id": "18d77455",
   "metadata": {
    "deletable": false,
    "editable": false,
    "id": "18d77455",
    "tags": [
     "start_task"
    ]
   },
   "source": [
    "**Задание 10. Ещё раз выведите перечень уникальных значений столбца `children`, чтобы убедиться, что артефакты удалены.**"
   ]
  },
  {
   "cell_type": "code",
   "execution_count": 104,
   "id": "2c5fa92c",
   "metadata": {
    "id": "2c5fa92c"
   },
   "outputs": [
    {
     "data": {
      "text/plain": [
       "array([1, 0, 3, 2, 4, 5], dtype=int64)"
      ]
     },
     "execution_count": 104,
     "metadata": {},
     "output_type": "execute_result"
    }
   ],
   "source": [
    "data['children'].unique()"
   ]
  },
  {
   "cell_type": "markdown",
   "id": "0ec07dee",
   "metadata": {
    "deletable": false,
    "editable": false,
    "id": "0ec07dee"
   },
   "source": [
    "### Удаление пропусков (продолжение)"
   ]
  },
  {
   "cell_type": "markdown",
   "id": "0fc3ae3f",
   "metadata": {
    "deletable": false,
    "editable": false,
    "id": "0fc3ae3f",
    "tags": [
     "start_task"
    ]
   },
   "source": [
    "**Задание 11. Заполните пропуски в столбце `days_employed` медианными значениями по каждому типу занятости `income_type`.**"
   ]
  },
  {
   "cell_type": "code",
   "execution_count": 105,
   "id": "e2aea7ac",
   "metadata": {
    "id": "e2aea7ac"
   },
   "outputs": [],
   "source": [
    "for income_type in data['income_type'].unique():\n",
    "    data.loc[(data['income_type'] == income_type) & (data['days_employed'].isna()), 'days_employed'] = \\\n",
    "    data.loc[data['income_type'] == income_type, 'days_employed'].median()"
   ]
  },
  {
   "cell_type": "markdown",
   "id": "97b0b795",
   "metadata": {
    "deletable": false,
    "editable": false,
    "id": "97b0b795",
    "tags": [
     "start_task"
    ]
   },
   "source": [
    "**Задание 12. Убедитесь, что все пропуски заполнены. Проверьте себя и ещё раз выведите количество пропущенных значений для каждого столбца с помощью двух методов.**"
   ]
  },
  {
   "cell_type": "code",
   "execution_count": 106,
   "id": "79632a21",
   "metadata": {
    "id": "79632a21"
   },
   "outputs": [
    {
     "data": {
      "text/plain": [
       "children            0\n",
       "days_employed       0\n",
       "dob_years           0\n",
       "education           0\n",
       "education_id        0\n",
       "family_status       0\n",
       "family_status_id    0\n",
       "gender              0\n",
       "income_type         0\n",
       "debt                0\n",
       "total_income        0\n",
       "purpose             0\n",
       "dtype: int64"
      ]
     },
     "execution_count": 106,
     "metadata": {},
     "output_type": "execute_result"
    }
   ],
   "source": [
    "data.isna().sum()"
   ]
  },
  {
   "cell_type": "markdown",
   "id": "bd4aeb20",
   "metadata": {
    "deletable": false,
    "editable": false,
    "id": "bd4aeb20"
   },
   "source": [
    "### Изменение типов данных"
   ]
  },
  {
   "cell_type": "markdown",
   "id": "963bfa58",
   "metadata": {
    "deletable": false,
    "editable": false,
    "id": "963bfa58",
    "tags": [
     "start_task"
    ]
   },
   "source": [
    "**Задание 13. Замените вещественный тип данных в столбце `total_income` на целочисленный с помощью метода `astype()`.**"
   ]
  },
  {
   "cell_type": "code",
   "execution_count": 107,
   "id": "73da6ea0",
   "metadata": {
    "id": "73da6ea0"
   },
   "outputs": [],
   "source": [
    "data['total_income'] = data['total_income'].astype(int)"
   ]
  },
  {
   "cell_type": "markdown",
   "id": "d290239e",
   "metadata": {
    "deletable": false,
    "editable": false,
    "id": "d290239e"
   },
   "source": [
    "### Обработка дубликатов"
   ]
  },
  {
   "cell_type": "markdown",
   "id": "1b5844fd",
   "metadata": {
    "deletable": false,
    "editable": false,
    "id": "1b5844fd",
    "tags": [
     "start_task"
    ]
   },
   "source": [
    "**Задание 14. Обработайте неявные дубликаты в столбце `education`. В этом столбце есть одни и те же значения, но записанные по-разному: с использованием заглавных и строчных букв. Приведите их к нижнему регистру.**"
   ]
  },
  {
   "cell_type": "code",
   "execution_count": 108,
   "id": "3f2504b3",
   "metadata": {
    "id": "3f2504b3"
   },
   "outputs": [],
   "source": [
    "data['education'] = data['education'].str.lower()"
   ]
  },
  {
   "cell_type": "markdown",
   "id": "4c22acbc",
   "metadata": {
    "deletable": false,
    "editable": false,
    "id": "4c22acbc",
    "tags": [
     "start_task"
    ]
   },
   "source": [
    "**Задание 15. Выведите на экран количество строк-дубликатов в данных. Если такие строки присутствуют, удалите их.**"
   ]
  },
  {
   "cell_type": "code",
   "execution_count": 109,
   "id": "d34a4325",
   "metadata": {
    "id": "d34a4325"
   },
   "outputs": [
    {
     "data": {
      "text/plain": [
       "71"
      ]
     },
     "execution_count": 109,
     "metadata": {},
     "output_type": "execute_result"
    }
   ],
   "source": [
    "data.duplicated().sum()\n"
   ]
  },
  {
   "cell_type": "code",
   "execution_count": 110,
   "id": "6e1a6499",
   "metadata": {
    "id": "6e1a6499"
   },
   "outputs": [],
   "source": [
    "data = data.drop_duplicates()"
   ]
  },
  {
   "cell_type": "markdown",
   "id": "e5686ccc",
   "metadata": {
    "deletable": false,
    "editable": false,
    "id": "e5686ccc"
   },
   "source": [
    "### Категоризация данных"
   ]
  },
  {
   "cell_type": "markdown",
   "id": "636e9acd",
   "metadata": {
    "deletable": false,
    "editable": false,
    "id": "636e9acd",
    "tags": [
     "start_task"
    ]
   },
   "source": [
    "**Задание 16. На основании диапазонов, указанных ниже, создайте в датафрейме `data` столбец `total_income_category` с категориями:**\n",
    "\n",
    "- 0–30000 — `'E'`;\n",
    "- 30001–50000 — `'D'`;\n",
    "- 50001–200000 — `'C'`;\n",
    "- 200001–1000000 — `'B'`;\n",
    "- 1000001 и выше — `'A'`.\n",
    "\n",
    "\n",
    "**Например, кредитополучателю с доходом 25000 нужно назначить категорию `'E'`, а клиенту, получающему 235000, — `'B'`. Используйте собственную функцию с именем `categorize_income()` и метод `apply()`.**"
   ]
  },
  {
   "cell_type": "code",
   "execution_count": 111,
   "id": "880a77e5",
   "metadata": {
    "id": "880a77e5"
   },
   "outputs": [],
   "source": [
    "# создайте функцию categorize_income()\n",
    "def categorize_income(total_income):\n",
    "    \"\"\"Функция категоризирует столбец total_income\"\"\"\n",
    "    \n",
    "    if 0 <= total_income <= 30000:\n",
    "        return 'E'\n",
    "    \n",
    "    if 30001 <= total_income <= 50000:\n",
    "        return 'D'\n",
    "    \n",
    "    if 50001 <= total_income <= 200000:\n",
    "        return 'C'\n",
    "    \n",
    "    if  200001 <= total_income <= 1000000:\n",
    "        return 'B'\n",
    "    \n",
    "    if total_income > 1000001:\n",
    "        return 'A'\n",
    "    \n",
    "    "
   ]
  },
  {
   "cell_type": "code",
   "execution_count": 112,
   "id": "6f25f161",
   "metadata": {
    "id": "6f25f161"
   },
   "outputs": [],
   "source": [
    "data['total_income_category'] = data['total_income'].apply(categorize_income)"
   ]
  },
  {
   "cell_type": "markdown",
   "id": "3363b685",
   "metadata": {
    "deletable": false,
    "editable": false,
    "id": "3363b685",
    "tags": [
     "start_task"
    ]
   },
   "source": [
    "**Задание 17. Выведите на экран перечень уникальных целей взятия кредита из столбца `purpose`.**"
   ]
  },
  {
   "cell_type": "code",
   "execution_count": 113,
   "id": "e59f2c15",
   "metadata": {
    "id": "e59f2c15"
   },
   "outputs": [
    {
     "data": {
      "text/plain": [
       "array(['покупка жилья', 'приобретение автомобиля',\n",
       "       'дополнительное образование', 'сыграть свадьбу',\n",
       "       'операции с жильем', 'образование', 'на проведение свадьбы',\n",
       "       'покупка жилья для семьи', 'покупка недвижимости',\n",
       "       'покупка коммерческой недвижимости', 'покупка жилой недвижимости',\n",
       "       'строительство собственной недвижимости', 'недвижимость',\n",
       "       'строительство недвижимости', 'на покупку подержанного автомобиля',\n",
       "       'на покупку своего автомобиля',\n",
       "       'операции с коммерческой недвижимостью',\n",
       "       'строительство жилой недвижимости', 'жилье',\n",
       "       'операции со своей недвижимостью', 'автомобили',\n",
       "       'заняться образованием', 'сделка с подержанным автомобилем',\n",
       "       'получение образования', 'автомобиль', 'свадьба',\n",
       "       'получение дополнительного образования', 'покупка своего жилья',\n",
       "       'операции с недвижимостью', 'получение высшего образования',\n",
       "       'свой автомобиль', 'сделка с автомобилем',\n",
       "       'профильное образование', 'высшее образование',\n",
       "       'покупка жилья для сдачи', 'на покупку автомобиля', 'ремонт жилью',\n",
       "       'заняться высшим образованием'], dtype=object)"
      ]
     },
     "execution_count": 113,
     "metadata": {},
     "output_type": "execute_result"
    }
   ],
   "source": [
    "data['purpose'].unique()"
   ]
  },
  {
   "cell_type": "markdown",
   "id": "bb33e847",
   "metadata": {
    "deletable": false,
    "editable": false,
    "id": "bb33e847",
    "tags": [
     "start_task"
    ]
   },
   "source": [
    "**Задание 18. Создайте функцию, которая на основании данных из столбца `purpose` сформирует новый столбец `purpose_category`, в который войдут следующие категории:**\n",
    "\n",
    "- `'операции с автомобилем'`,\n",
    "- `'операции с недвижимостью'`,\n",
    "- `'проведение свадьбы'`,\n",
    "- `'получение образования'`.\n",
    "\n",
    "**Например, если в столбце `purpose` находится подстрока `'на покупку автомобиля'`, то в столбце `purpose_category` должна появиться строка `'операции с автомобилем'`.**\n",
    "\n",
    "**Используйте собственную функцию с именем `categorize_purpose()` и метод `apply()`. Изучите данные в столбце `purpose` и определите, какие подстроки помогут вам правильно определить категорию.**"
   ]
  },
  {
   "cell_type": "code",
   "execution_count": 114,
   "id": "63909b83",
   "metadata": {
    "id": "63909b83"
   },
   "outputs": [],
   "source": [
    "# создайте функцию categorize_purpose()\n",
    "def categorize_purpose(purpose):\n",
    "    \"\"\"Функция категоризации по цели кредита purpose\"\"\"\n",
    "    \n",
    "    if purpose in ['приобретение автомобиля', 'на покупку своего автомобиля', \\\n",
    "    'автомобили', 'сделка с подержанным автомобилем','автомобиль','свой автомобиль', 'сделка с автомобилем' , \\\n",
    "    'на покупку автомобиля', 'на покупку подержанного автомобиля']:\n",
    "        return 'операции с автомобилем'\n",
    "    \n",
    "    if purpose in ['покупка жилья', 'операции с жильем', 'покупка жилья для семьи', 'покупка недвижимости', \\\n",
    "    'покупка коммерческой недвижимости', 'покупка жилой недвижимости', 'строительство собственной недвижимости', \\\n",
    "    'недвижимость', 'строительство недвижимости', 'операции с коммерческой недвижимостью' ,\\\n",
    "    'строительство жилой недвижимости', 'жилье', 'операции со своей недвижимостью', 'покупка своего жилья', \\\n",
    "    'операции с недвижимостью', 'покупка жилья для сдачи', 'ремонт жилью']:\n",
    "        return 'операции с недвижимостью'\n",
    "    \n",
    "    if purpose in ['свадьба' , 'на проведение свадьбы', 'сыграть свадьбу']:\n",
    "        return 'проведение свадьбы'\n",
    "    \n",
    "    if purpose in ['заняться высшим образованием', 'дополнительное образование', 'высшее образование', \\\n",
    "    'получение дополнительного образования', 'образование', 'получение образования' , 'профильное образование', \\\n",
    "    'получение высшего образования','заняться образованием']: \n",
    "        return 'получение образования'"
   ]
  },
  {
   "cell_type": "code",
   "execution_count": 115,
   "id": "7cb4a81d",
   "metadata": {
    "id": "7cb4a81d"
   },
   "outputs": [],
   "source": [
    "data['purpose_category'] = data['purpose'].apply(categorize_purpose)"
   ]
  },
  {
   "cell_type": "code",
   "execution_count": 116,
   "id": "6e493cc3",
   "metadata": {},
   "outputs": [
    {
     "data": {
      "text/html": [
       "<div>\n",
       "<style scoped>\n",
       "    .dataframe tbody tr th:only-of-type {\n",
       "        vertical-align: middle;\n",
       "    }\n",
       "\n",
       "    .dataframe tbody tr th {\n",
       "        vertical-align: top;\n",
       "    }\n",
       "\n",
       "    .dataframe thead th {\n",
       "        text-align: right;\n",
       "    }\n",
       "</style>\n",
       "<table border=\"1\" class=\"dataframe\">\n",
       "  <thead>\n",
       "    <tr style=\"text-align: right;\">\n",
       "      <th></th>\n",
       "      <th>children</th>\n",
       "      <th>children_category</th>\n",
       "      <th>days_employed</th>\n",
       "      <th>dob_years</th>\n",
       "      <th>education</th>\n",
       "      <th>education_id</th>\n",
       "      <th>family_status</th>\n",
       "      <th>family_status_id</th>\n",
       "      <th>gender</th>\n",
       "      <th>income_type</th>\n",
       "      <th>debt</th>\n",
       "      <th>total_income</th>\n",
       "      <th>purpose</th>\n",
       "      <th>total_income_category</th>\n",
       "      <th>purpose_category</th>\n",
       "    </tr>\n",
       "  </thead>\n",
       "  <tbody>\n",
       "    <tr>\n",
       "      <th>0</th>\n",
       "      <td>1</td>\n",
       "      <td>один ребенок в семье</td>\n",
       "      <td>8437.673028</td>\n",
       "      <td>42</td>\n",
       "      <td>высшее</td>\n",
       "      <td>0</td>\n",
       "      <td>женат / замужем</td>\n",
       "      <td>0</td>\n",
       "      <td>F</td>\n",
       "      <td>сотрудник</td>\n",
       "      <td>0</td>\n",
       "      <td>253875</td>\n",
       "      <td>покупка жилья</td>\n",
       "      <td>B</td>\n",
       "      <td>операции с недвижимостью</td>\n",
       "    </tr>\n",
       "    <tr>\n",
       "      <th>1</th>\n",
       "      <td>1</td>\n",
       "      <td>один ребенок в семье</td>\n",
       "      <td>4024.803754</td>\n",
       "      <td>36</td>\n",
       "      <td>среднее</td>\n",
       "      <td>1</td>\n",
       "      <td>женат / замужем</td>\n",
       "      <td>0</td>\n",
       "      <td>F</td>\n",
       "      <td>сотрудник</td>\n",
       "      <td>0</td>\n",
       "      <td>112080</td>\n",
       "      <td>приобретение автомобиля</td>\n",
       "      <td>C</td>\n",
       "      <td>операции с автомобилем</td>\n",
       "    </tr>\n",
       "    <tr>\n",
       "      <th>2</th>\n",
       "      <td>0</td>\n",
       "      <td>нет детей</td>\n",
       "      <td>5623.422610</td>\n",
       "      <td>33</td>\n",
       "      <td>среднее</td>\n",
       "      <td>1</td>\n",
       "      <td>женат / замужем</td>\n",
       "      <td>0</td>\n",
       "      <td>M</td>\n",
       "      <td>сотрудник</td>\n",
       "      <td>0</td>\n",
       "      <td>145885</td>\n",
       "      <td>покупка жилья</td>\n",
       "      <td>C</td>\n",
       "      <td>операции с недвижимостью</td>\n",
       "    </tr>\n",
       "    <tr>\n",
       "      <th>3</th>\n",
       "      <td>3</td>\n",
       "      <td>многодетная семья</td>\n",
       "      <td>4124.747207</td>\n",
       "      <td>32</td>\n",
       "      <td>среднее</td>\n",
       "      <td>1</td>\n",
       "      <td>женат / замужем</td>\n",
       "      <td>0</td>\n",
       "      <td>M</td>\n",
       "      <td>сотрудник</td>\n",
       "      <td>0</td>\n",
       "      <td>267628</td>\n",
       "      <td>дополнительное образование</td>\n",
       "      <td>B</td>\n",
       "      <td>получение образования</td>\n",
       "    </tr>\n",
       "    <tr>\n",
       "      <th>4</th>\n",
       "      <td>0</td>\n",
       "      <td>нет детей</td>\n",
       "      <td>340266.072047</td>\n",
       "      <td>53</td>\n",
       "      <td>среднее</td>\n",
       "      <td>1</td>\n",
       "      <td>гражданский брак</td>\n",
       "      <td>1</td>\n",
       "      <td>F</td>\n",
       "      <td>пенсионер</td>\n",
       "      <td>0</td>\n",
       "      <td>158616</td>\n",
       "      <td>сыграть свадьбу</td>\n",
       "      <td>C</td>\n",
       "      <td>проведение свадьбы</td>\n",
       "    </tr>\n",
       "  </tbody>\n",
       "</table>\n",
       "</div>"
      ],
      "text/plain": [
       "   children     children_category  days_employed  dob_years education  \\\n",
       "0         1  один ребенок в семье    8437.673028         42    высшее   \n",
       "1         1  один ребенок в семье    4024.803754         36   среднее   \n",
       "2         0             нет детей    5623.422610         33   среднее   \n",
       "3         3     многодетная семья    4124.747207         32   среднее   \n",
       "4         0             нет детей  340266.072047         53   среднее   \n",
       "\n",
       "   education_id     family_status  family_status_id gender income_type  debt  \\\n",
       "0             0   женат / замужем                 0      F   сотрудник     0   \n",
       "1             1   женат / замужем                 0      F   сотрудник     0   \n",
       "2             1   женат / замужем                 0      M   сотрудник     0   \n",
       "3             1   женат / замужем                 0      M   сотрудник     0   \n",
       "4             1  гражданский брак                 1      F   пенсионер     0   \n",
       "\n",
       "   total_income                     purpose total_income_category  \\\n",
       "0        253875               покупка жилья                     B   \n",
       "1        112080     приобретение автомобиля                     C   \n",
       "2        145885               покупка жилья                     C   \n",
       "3        267628  дополнительное образование                     B   \n",
       "4        158616             сыграть свадьбу                     C   \n",
       "\n",
       "           purpose_category  \n",
       "0  операции с недвижимостью  \n",
       "1    операции с автомобилем  \n",
       "2  операции с недвижимостью  \n",
       "3     получение образования  \n",
       "4        проведение свадьбы  "
      ]
     },
     "execution_count": 116,
     "metadata": {},
     "output_type": "execute_result"
    }
   ],
   "source": [
    "def categorize_children(children):\n",
    "    if children == 0:\n",
    "        return 'нет детей'\n",
    "    if children == 1:\n",
    "        return 'один ребенок в семье'\n",
    "    if children > 1:\n",
    "        return 'многодетная семья'\n",
    "    \n",
    "children_category = data['children'].apply(categorize_children)\n",
    "data.insert(1,'children_category', children_category)\n",
    "data.head()"
   ]
  },
  {
   "cell_type": "markdown",
   "id": "82c431f4",
   "metadata": {},
   "source": [
    "### Шаг 3. Исследуйте данные и ответьте на вопросы"
   ]
  },
  {
   "cell_type": "markdown",
   "id": "caa2564b",
   "metadata": {
    "deletable": false,
    "editable": false,
    "id": "c5d66278"
   },
   "source": [
    "#### 3.1 Есть ли зависимость между количеством детей и возвратом кредита в срок?"
   ]
  },
  {
   "cell_type": "code",
   "execution_count": 117,
   "id": "405fe766",
   "metadata": {},
   "outputs": [
    {
     "data": {
      "text/html": [
       "<div>\n",
       "<style scoped>\n",
       "    .dataframe tbody tr th:only-of-type {\n",
       "        vertical-align: middle;\n",
       "    }\n",
       "\n",
       "    .dataframe tbody tr th {\n",
       "        vertical-align: top;\n",
       "    }\n",
       "\n",
       "    .dataframe thead th {\n",
       "        text-align: right;\n",
       "    }\n",
       "</style>\n",
       "<table border=\"1\" class=\"dataframe\">\n",
       "  <thead>\n",
       "    <tr style=\"text-align: right;\">\n",
       "      <th></th>\n",
       "      <th>children</th>\n",
       "      <th>children_category</th>\n",
       "      <th>days_employed</th>\n",
       "      <th>dob_years</th>\n",
       "      <th>education</th>\n",
       "      <th>education_id</th>\n",
       "      <th>family_status</th>\n",
       "      <th>family_status_id</th>\n",
       "      <th>gender</th>\n",
       "      <th>income_type</th>\n",
       "      <th>debt</th>\n",
       "      <th>total_income</th>\n",
       "      <th>purpose</th>\n",
       "      <th>total_income_category</th>\n",
       "      <th>purpose_category</th>\n",
       "    </tr>\n",
       "  </thead>\n",
       "  <tbody>\n",
       "    <tr>\n",
       "      <th>0</th>\n",
       "      <td>1</td>\n",
       "      <td>один ребенок в семье</td>\n",
       "      <td>8437.673028</td>\n",
       "      <td>42</td>\n",
       "      <td>высшее</td>\n",
       "      <td>0</td>\n",
       "      <td>женат / замужем</td>\n",
       "      <td>0</td>\n",
       "      <td>F</td>\n",
       "      <td>сотрудник</td>\n",
       "      <td>0</td>\n",
       "      <td>253875</td>\n",
       "      <td>покупка жилья</td>\n",
       "      <td>B</td>\n",
       "      <td>операции с недвижимостью</td>\n",
       "    </tr>\n",
       "    <tr>\n",
       "      <th>1</th>\n",
       "      <td>1</td>\n",
       "      <td>один ребенок в семье</td>\n",
       "      <td>4024.803754</td>\n",
       "      <td>36</td>\n",
       "      <td>среднее</td>\n",
       "      <td>1</td>\n",
       "      <td>женат / замужем</td>\n",
       "      <td>0</td>\n",
       "      <td>F</td>\n",
       "      <td>сотрудник</td>\n",
       "      <td>0</td>\n",
       "      <td>112080</td>\n",
       "      <td>приобретение автомобиля</td>\n",
       "      <td>C</td>\n",
       "      <td>операции с автомобилем</td>\n",
       "    </tr>\n",
       "    <tr>\n",
       "      <th>2</th>\n",
       "      <td>0</td>\n",
       "      <td>нет детей</td>\n",
       "      <td>5623.422610</td>\n",
       "      <td>33</td>\n",
       "      <td>среднее</td>\n",
       "      <td>1</td>\n",
       "      <td>женат / замужем</td>\n",
       "      <td>0</td>\n",
       "      <td>M</td>\n",
       "      <td>сотрудник</td>\n",
       "      <td>0</td>\n",
       "      <td>145885</td>\n",
       "      <td>покупка жилья</td>\n",
       "      <td>C</td>\n",
       "      <td>операции с недвижимостью</td>\n",
       "    </tr>\n",
       "    <tr>\n",
       "      <th>3</th>\n",
       "      <td>3</td>\n",
       "      <td>многодетная семья</td>\n",
       "      <td>4124.747207</td>\n",
       "      <td>32</td>\n",
       "      <td>среднее</td>\n",
       "      <td>1</td>\n",
       "      <td>женат / замужем</td>\n",
       "      <td>0</td>\n",
       "      <td>M</td>\n",
       "      <td>сотрудник</td>\n",
       "      <td>0</td>\n",
       "      <td>267628</td>\n",
       "      <td>дополнительное образование</td>\n",
       "      <td>B</td>\n",
       "      <td>получение образования</td>\n",
       "    </tr>\n",
       "    <tr>\n",
       "      <th>4</th>\n",
       "      <td>0</td>\n",
       "      <td>нет детей</td>\n",
       "      <td>340266.072047</td>\n",
       "      <td>53</td>\n",
       "      <td>среднее</td>\n",
       "      <td>1</td>\n",
       "      <td>гражданский брак</td>\n",
       "      <td>1</td>\n",
       "      <td>F</td>\n",
       "      <td>пенсионер</td>\n",
       "      <td>0</td>\n",
       "      <td>158616</td>\n",
       "      <td>сыграть свадьбу</td>\n",
       "      <td>C</td>\n",
       "      <td>проведение свадьбы</td>\n",
       "    </tr>\n",
       "    <tr>\n",
       "      <th>5</th>\n",
       "      <td>0</td>\n",
       "      <td>нет детей</td>\n",
       "      <td>926.185831</td>\n",
       "      <td>27</td>\n",
       "      <td>высшее</td>\n",
       "      <td>0</td>\n",
       "      <td>гражданский брак</td>\n",
       "      <td>1</td>\n",
       "      <td>M</td>\n",
       "      <td>компаньон</td>\n",
       "      <td>0</td>\n",
       "      <td>255763</td>\n",
       "      <td>покупка жилья</td>\n",
       "      <td>B</td>\n",
       "      <td>операции с недвижимостью</td>\n",
       "    </tr>\n",
       "    <tr>\n",
       "      <th>6</th>\n",
       "      <td>0</td>\n",
       "      <td>нет детей</td>\n",
       "      <td>2879.202052</td>\n",
       "      <td>43</td>\n",
       "      <td>высшее</td>\n",
       "      <td>0</td>\n",
       "      <td>женат / замужем</td>\n",
       "      <td>0</td>\n",
       "      <td>F</td>\n",
       "      <td>компаньон</td>\n",
       "      <td>0</td>\n",
       "      <td>240525</td>\n",
       "      <td>операции с жильем</td>\n",
       "      <td>B</td>\n",
       "      <td>операции с недвижимостью</td>\n",
       "    </tr>\n",
       "    <tr>\n",
       "      <th>7</th>\n",
       "      <td>0</td>\n",
       "      <td>нет детей</td>\n",
       "      <td>152.779569</td>\n",
       "      <td>50</td>\n",
       "      <td>среднее</td>\n",
       "      <td>1</td>\n",
       "      <td>женат / замужем</td>\n",
       "      <td>0</td>\n",
       "      <td>M</td>\n",
       "      <td>сотрудник</td>\n",
       "      <td>0</td>\n",
       "      <td>135823</td>\n",
       "      <td>образование</td>\n",
       "      <td>C</td>\n",
       "      <td>получение образования</td>\n",
       "    </tr>\n",
       "    <tr>\n",
       "      <th>8</th>\n",
       "      <td>2</td>\n",
       "      <td>многодетная семья</td>\n",
       "      <td>6929.865299</td>\n",
       "      <td>35</td>\n",
       "      <td>высшее</td>\n",
       "      <td>0</td>\n",
       "      <td>гражданский брак</td>\n",
       "      <td>1</td>\n",
       "      <td>F</td>\n",
       "      <td>сотрудник</td>\n",
       "      <td>0</td>\n",
       "      <td>95856</td>\n",
       "      <td>на проведение свадьбы</td>\n",
       "      <td>C</td>\n",
       "      <td>проведение свадьбы</td>\n",
       "    </tr>\n",
       "    <tr>\n",
       "      <th>9</th>\n",
       "      <td>0</td>\n",
       "      <td>нет детей</td>\n",
       "      <td>2188.756445</td>\n",
       "      <td>41</td>\n",
       "      <td>среднее</td>\n",
       "      <td>1</td>\n",
       "      <td>женат / замужем</td>\n",
       "      <td>0</td>\n",
       "      <td>M</td>\n",
       "      <td>сотрудник</td>\n",
       "      <td>0</td>\n",
       "      <td>144425</td>\n",
       "      <td>покупка жилья для семьи</td>\n",
       "      <td>C</td>\n",
       "      <td>операции с недвижимостью</td>\n",
       "    </tr>\n",
       "  </tbody>\n",
       "</table>\n",
       "</div>"
      ],
      "text/plain": [
       "   children     children_category  days_employed  dob_years education  \\\n",
       "0         1  один ребенок в семье    8437.673028         42    высшее   \n",
       "1         1  один ребенок в семье    4024.803754         36   среднее   \n",
       "2         0             нет детей    5623.422610         33   среднее   \n",
       "3         3     многодетная семья    4124.747207         32   среднее   \n",
       "4         0             нет детей  340266.072047         53   среднее   \n",
       "5         0             нет детей     926.185831         27    высшее   \n",
       "6         0             нет детей    2879.202052         43    высшее   \n",
       "7         0             нет детей     152.779569         50   среднее   \n",
       "8         2     многодетная семья    6929.865299         35    высшее   \n",
       "9         0             нет детей    2188.756445         41   среднее   \n",
       "\n",
       "   education_id     family_status  family_status_id gender income_type  debt  \\\n",
       "0             0   женат / замужем                 0      F   сотрудник     0   \n",
       "1             1   женат / замужем                 0      F   сотрудник     0   \n",
       "2             1   женат / замужем                 0      M   сотрудник     0   \n",
       "3             1   женат / замужем                 0      M   сотрудник     0   \n",
       "4             1  гражданский брак                 1      F   пенсионер     0   \n",
       "5             0  гражданский брак                 1      M   компаньон     0   \n",
       "6             0   женат / замужем                 0      F   компаньон     0   \n",
       "7             1   женат / замужем                 0      M   сотрудник     0   \n",
       "8             0  гражданский брак                 1      F   сотрудник     0   \n",
       "9             1   женат / замужем                 0      M   сотрудник     0   \n",
       "\n",
       "   total_income                     purpose total_income_category  \\\n",
       "0        253875               покупка жилья                     B   \n",
       "1        112080     приобретение автомобиля                     C   \n",
       "2        145885               покупка жилья                     C   \n",
       "3        267628  дополнительное образование                     B   \n",
       "4        158616             сыграть свадьбу                     C   \n",
       "5        255763               покупка жилья                     B   \n",
       "6        240525           операции с жильем                     B   \n",
       "7        135823                 образование                     C   \n",
       "8         95856       на проведение свадьбы                     C   \n",
       "9        144425     покупка жилья для семьи                     C   \n",
       "\n",
       "           purpose_category  \n",
       "0  операции с недвижимостью  \n",
       "1    операции с автомобилем  \n",
       "2  операции с недвижимостью  \n",
       "3     получение образования  \n",
       "4        проведение свадьбы  \n",
       "5  операции с недвижимостью  \n",
       "6  операции с недвижимостью  \n",
       "7     получение образования  \n",
       "8        проведение свадьбы  \n",
       "9  операции с недвижимостью  "
      ]
     },
     "execution_count": 117,
     "metadata": {},
     "output_type": "execute_result"
    }
   ],
   "source": [
    "data.head(10)"
   ]
  },
  {
   "cell_type": "code",
   "execution_count": 118,
   "id": "14ee8ae3",
   "metadata": {},
   "outputs": [
    {
     "data": {
      "text/plain": [
       "0    14091\n",
       "1     4808\n",
       "2     2052\n",
       "3      330\n",
       "4       41\n",
       "5        9\n",
       "Name: children, dtype: int64"
      ]
     },
     "execution_count": 118,
     "metadata": {},
     "output_type": "execute_result"
    }
   ],
   "source": [
    "data['children'].value_counts()"
   ]
  },
  {
   "cell_type": "code",
   "execution_count": 119,
   "id": "000aa1a4",
   "metadata": {},
   "outputs": [
    {
     "data": {
      "text/html": [
       "<div>\n",
       "<style scoped>\n",
       "    .dataframe tbody tr th:only-of-type {\n",
       "        vertical-align: middle;\n",
       "    }\n",
       "\n",
       "    .dataframe tbody tr th {\n",
       "        vertical-align: top;\n",
       "    }\n",
       "\n",
       "    .dataframe thead th {\n",
       "        text-align: right;\n",
       "    }\n",
       "</style>\n",
       "<table border=\"1\" class=\"dataframe\">\n",
       "  <thead>\n",
       "    <tr style=\"text-align: right;\">\n",
       "      <th></th>\n",
       "      <th>children</th>\n",
       "      <th>children_category</th>\n",
       "      <th>days_employed</th>\n",
       "      <th>dob_years</th>\n",
       "      <th>education</th>\n",
       "      <th>education_id</th>\n",
       "      <th>family_status</th>\n",
       "      <th>family_status_id</th>\n",
       "      <th>gender</th>\n",
       "      <th>income_type</th>\n",
       "      <th>debt</th>\n",
       "      <th>total_income</th>\n",
       "      <th>purpose</th>\n",
       "      <th>total_income_category</th>\n",
       "      <th>purpose_category</th>\n",
       "    </tr>\n",
       "  </thead>\n",
       "  <tbody>\n",
       "    <tr>\n",
       "      <th>14</th>\n",
       "      <td>0</td>\n",
       "      <td>нет детей</td>\n",
       "      <td>1844.956182</td>\n",
       "      <td>56</td>\n",
       "      <td>высшее</td>\n",
       "      <td>0</td>\n",
       "      <td>гражданский брак</td>\n",
       "      <td>1</td>\n",
       "      <td>F</td>\n",
       "      <td>компаньон</td>\n",
       "      <td>1</td>\n",
       "      <td>165127</td>\n",
       "      <td>покупка жилой недвижимости</td>\n",
       "      <td>C</td>\n",
       "      <td>операции с недвижимостью</td>\n",
       "    </tr>\n",
       "    <tr>\n",
       "      <th>32</th>\n",
       "      <td>0</td>\n",
       "      <td>нет детей</td>\n",
       "      <td>4649.910832</td>\n",
       "      <td>34</td>\n",
       "      <td>среднее</td>\n",
       "      <td>1</td>\n",
       "      <td>гражданский брак</td>\n",
       "      <td>1</td>\n",
       "      <td>F</td>\n",
       "      <td>сотрудник</td>\n",
       "      <td>1</td>\n",
       "      <td>139057</td>\n",
       "      <td>на проведение свадьбы</td>\n",
       "      <td>C</td>\n",
       "      <td>проведение свадьбы</td>\n",
       "    </tr>\n",
       "    <tr>\n",
       "      <th>38</th>\n",
       "      <td>0</td>\n",
       "      <td>нет детей</td>\n",
       "      <td>597.881827</td>\n",
       "      <td>25</td>\n",
       "      <td>высшее</td>\n",
       "      <td>0</td>\n",
       "      <td>Не женат / не замужем</td>\n",
       "      <td>4</td>\n",
       "      <td>M</td>\n",
       "      <td>сотрудник</td>\n",
       "      <td>1</td>\n",
       "      <td>192247</td>\n",
       "      <td>образование</td>\n",
       "      <td>C</td>\n",
       "      <td>получение образования</td>\n",
       "    </tr>\n",
       "    <tr>\n",
       "      <th>55</th>\n",
       "      <td>0</td>\n",
       "      <td>нет детей</td>\n",
       "      <td>365286.622650</td>\n",
       "      <td>54</td>\n",
       "      <td>среднее</td>\n",
       "      <td>1</td>\n",
       "      <td>гражданский брак</td>\n",
       "      <td>1</td>\n",
       "      <td>F</td>\n",
       "      <td>пенсионер</td>\n",
       "      <td>1</td>\n",
       "      <td>118514</td>\n",
       "      <td>сыграть свадьбу</td>\n",
       "      <td>C</td>\n",
       "      <td>проведение свадьбы</td>\n",
       "    </tr>\n",
       "    <tr>\n",
       "      <th>75</th>\n",
       "      <td>1</td>\n",
       "      <td>один ребенок в семье</td>\n",
       "      <td>2953.151948</td>\n",
       "      <td>38</td>\n",
       "      <td>среднее</td>\n",
       "      <td>1</td>\n",
       "      <td>женат / замужем</td>\n",
       "      <td>0</td>\n",
       "      <td>M</td>\n",
       "      <td>сотрудник</td>\n",
       "      <td>1</td>\n",
       "      <td>81935</td>\n",
       "      <td>операции с недвижимостью</td>\n",
       "      <td>C</td>\n",
       "      <td>операции с недвижимостью</td>\n",
       "    </tr>\n",
       "    <tr>\n",
       "      <th>93</th>\n",
       "      <td>1</td>\n",
       "      <td>один ребенок в семье</td>\n",
       "      <td>1446.622542</td>\n",
       "      <td>32</td>\n",
       "      <td>среднее</td>\n",
       "      <td>1</td>\n",
       "      <td>женат / замужем</td>\n",
       "      <td>0</td>\n",
       "      <td>M</td>\n",
       "      <td>сотрудник</td>\n",
       "      <td>1</td>\n",
       "      <td>331139</td>\n",
       "      <td>сделка с автомобилем</td>\n",
       "      <td>B</td>\n",
       "      <td>операции с автомобилем</td>\n",
       "    </tr>\n",
       "    <tr>\n",
       "      <th>100</th>\n",
       "      <td>0</td>\n",
       "      <td>нет детей</td>\n",
       "      <td>605.026441</td>\n",
       "      <td>49</td>\n",
       "      <td>среднее</td>\n",
       "      <td>1</td>\n",
       "      <td>вдовец / вдова</td>\n",
       "      <td>2</td>\n",
       "      <td>F</td>\n",
       "      <td>сотрудник</td>\n",
       "      <td>1</td>\n",
       "      <td>176384</td>\n",
       "      <td>операции с недвижимостью</td>\n",
       "      <td>C</td>\n",
       "      <td>операции с недвижимостью</td>\n",
       "    </tr>\n",
       "    <tr>\n",
       "      <th>114</th>\n",
       "      <td>0</td>\n",
       "      <td>нет детей</td>\n",
       "      <td>1599.879161</td>\n",
       "      <td>26</td>\n",
       "      <td>высшее</td>\n",
       "      <td>0</td>\n",
       "      <td>женат / замужем</td>\n",
       "      <td>0</td>\n",
       "      <td>F</td>\n",
       "      <td>сотрудник</td>\n",
       "      <td>1</td>\n",
       "      <td>143471</td>\n",
       "      <td>операции со своей недвижимостью</td>\n",
       "      <td>C</td>\n",
       "      <td>операции с недвижимостью</td>\n",
       "    </tr>\n",
       "    <tr>\n",
       "      <th>124</th>\n",
       "      <td>0</td>\n",
       "      <td>нет детей</td>\n",
       "      <td>1080.514782</td>\n",
       "      <td>38</td>\n",
       "      <td>среднее</td>\n",
       "      <td>1</td>\n",
       "      <td>женат / замужем</td>\n",
       "      <td>0</td>\n",
       "      <td>F</td>\n",
       "      <td>сотрудник</td>\n",
       "      <td>1</td>\n",
       "      <td>175046</td>\n",
       "      <td>операции с коммерческой недвижимостью</td>\n",
       "      <td>C</td>\n",
       "      <td>операции с недвижимостью</td>\n",
       "    </tr>\n",
       "    <tr>\n",
       "      <th>147</th>\n",
       "      <td>0</td>\n",
       "      <td>нет детей</td>\n",
       "      <td>5772.479896</td>\n",
       "      <td>47</td>\n",
       "      <td>среднее</td>\n",
       "      <td>1</td>\n",
       "      <td>женат / замужем</td>\n",
       "      <td>0</td>\n",
       "      <td>F</td>\n",
       "      <td>госслужащий</td>\n",
       "      <td>1</td>\n",
       "      <td>74535</td>\n",
       "      <td>операции с недвижимостью</td>\n",
       "      <td>C</td>\n",
       "      <td>операции с недвижимостью</td>\n",
       "    </tr>\n",
       "  </tbody>\n",
       "</table>\n",
       "</div>"
      ],
      "text/plain": [
       "     children     children_category  days_employed  dob_years education  \\\n",
       "14          0             нет детей    1844.956182         56    высшее   \n",
       "32          0             нет детей    4649.910832         34   среднее   \n",
       "38          0             нет детей     597.881827         25    высшее   \n",
       "55          0             нет детей  365286.622650         54   среднее   \n",
       "75          1  один ребенок в семье    2953.151948         38   среднее   \n",
       "93          1  один ребенок в семье    1446.622542         32   среднее   \n",
       "100         0             нет детей     605.026441         49   среднее   \n",
       "114         0             нет детей    1599.879161         26    высшее   \n",
       "124         0             нет детей    1080.514782         38   среднее   \n",
       "147         0             нет детей    5772.479896         47   среднее   \n",
       "\n",
       "     education_id          family_status  family_status_id gender  \\\n",
       "14              0       гражданский брак                 1      F   \n",
       "32              1       гражданский брак                 1      F   \n",
       "38              0  Не женат / не замужем                 4      M   \n",
       "55              1       гражданский брак                 1      F   \n",
       "75              1        женат / замужем                 0      M   \n",
       "93              1        женат / замужем                 0      M   \n",
       "100             1         вдовец / вдова                 2      F   \n",
       "114             0        женат / замужем                 0      F   \n",
       "124             1        женат / замужем                 0      F   \n",
       "147             1        женат / замужем                 0      F   \n",
       "\n",
       "     income_type  debt  total_income                                purpose  \\\n",
       "14     компаньон     1        165127             покупка жилой недвижимости   \n",
       "32     сотрудник     1        139057                  на проведение свадьбы   \n",
       "38     сотрудник     1        192247                            образование   \n",
       "55     пенсионер     1        118514                        сыграть свадьбу   \n",
       "75     сотрудник     1         81935               операции с недвижимостью   \n",
       "93     сотрудник     1        331139                   сделка с автомобилем   \n",
       "100    сотрудник     1        176384               операции с недвижимостью   \n",
       "114    сотрудник     1        143471        операции со своей недвижимостью   \n",
       "124    сотрудник     1        175046  операции с коммерческой недвижимостью   \n",
       "147  госслужащий     1         74535               операции с недвижимостью   \n",
       "\n",
       "    total_income_category          purpose_category  \n",
       "14                      C  операции с недвижимостью  \n",
       "32                      C        проведение свадьбы  \n",
       "38                      C     получение образования  \n",
       "55                      C        проведение свадьбы  \n",
       "75                      C  операции с недвижимостью  \n",
       "93                      B    операции с автомобилем  \n",
       "100                     C  операции с недвижимостью  \n",
       "114                     C  операции с недвижимостью  \n",
       "124                     C  операции с недвижимостью  \n",
       "147                     C  операции с недвижимостью  "
      ]
     },
     "execution_count": 119,
     "metadata": {},
     "output_type": "execute_result"
    }
   ],
   "source": [
    "debt_data = data[data['debt'] == 1]\n",
    "debt_data.head(10)"
   ]
  },
  {
   "cell_type": "code",
   "execution_count": 120,
   "id": "a267347d",
   "metadata": {},
   "outputs": [
    {
     "data": {
      "text/html": [
       "<div>\n",
       "<style scoped>\n",
       "    .dataframe tbody tr th:only-of-type {\n",
       "        vertical-align: middle;\n",
       "    }\n",
       "\n",
       "    .dataframe tbody tr th {\n",
       "        vertical-align: top;\n",
       "    }\n",
       "\n",
       "    .dataframe thead th {\n",
       "        text-align: right;\n",
       "    }\n",
       "</style>\n",
       "<table border=\"1\" class=\"dataframe\">\n",
       "  <thead>\n",
       "    <tr style=\"text-align: right;\">\n",
       "      <th></th>\n",
       "      <th>count</th>\n",
       "    </tr>\n",
       "    <tr>\n",
       "      <th>children</th>\n",
       "      <th></th>\n",
       "    </tr>\n",
       "  </thead>\n",
       "  <tbody>\n",
       "    <tr>\n",
       "      <th>0</th>\n",
       "      <td>1063</td>\n",
       "    </tr>\n",
       "    <tr>\n",
       "      <th>1</th>\n",
       "      <td>444</td>\n",
       "    </tr>\n",
       "    <tr>\n",
       "      <th>2</th>\n",
       "      <td>194</td>\n",
       "    </tr>\n",
       "    <tr>\n",
       "      <th>3</th>\n",
       "      <td>27</td>\n",
       "    </tr>\n",
       "    <tr>\n",
       "      <th>4</th>\n",
       "      <td>4</td>\n",
       "    </tr>\n",
       "  </tbody>\n",
       "</table>\n",
       "</div>"
      ],
      "text/plain": [
       "          count\n",
       "children       \n",
       "0          1063\n",
       "1           444\n",
       "2           194\n",
       "3            27\n",
       "4             4"
      ]
     },
     "execution_count": 120,
     "metadata": {},
     "output_type": "execute_result"
    }
   ],
   "source": [
    "debt_data.groupby('children')['debt'].agg(count='count')"
   ]
  },
  {
   "cell_type": "code",
   "execution_count": 121,
   "id": "138ce2ac",
   "metadata": {},
   "outputs": [],
   "source": [
    "quantity_data = data.groupby('children')['debt'].agg(quantity='count')"
   ]
  },
  {
   "cell_type": "code",
   "execution_count": 122,
   "id": "c6b11bb5",
   "metadata": {},
   "outputs": [
    {
     "data": {
      "text/html": [
       "<div>\n",
       "<style scoped>\n",
       "    .dataframe tbody tr th:only-of-type {\n",
       "        vertical-align: middle;\n",
       "    }\n",
       "\n",
       "    .dataframe tbody tr th {\n",
       "        vertical-align: top;\n",
       "    }\n",
       "\n",
       "    .dataframe thead th {\n",
       "        text-align: right;\n",
       "    }\n",
       "</style>\n",
       "<table border=\"1\" class=\"dataframe\">\n",
       "  <thead>\n",
       "    <tr style=\"text-align: right;\">\n",
       "      <th></th>\n",
       "      <th>quantity</th>\n",
       "    </tr>\n",
       "    <tr>\n",
       "      <th>children</th>\n",
       "      <th></th>\n",
       "    </tr>\n",
       "  </thead>\n",
       "  <tbody>\n",
       "    <tr>\n",
       "      <th>0</th>\n",
       "      <td>14091</td>\n",
       "    </tr>\n",
       "    <tr>\n",
       "      <th>1</th>\n",
       "      <td>4808</td>\n",
       "    </tr>\n",
       "    <tr>\n",
       "      <th>2</th>\n",
       "      <td>2052</td>\n",
       "    </tr>\n",
       "    <tr>\n",
       "      <th>3</th>\n",
       "      <td>330</td>\n",
       "    </tr>\n",
       "    <tr>\n",
       "      <th>4</th>\n",
       "      <td>41</td>\n",
       "    </tr>\n",
       "  </tbody>\n",
       "</table>\n",
       "</div>"
      ],
      "text/plain": [
       "          quantity\n",
       "children          \n",
       "0            14091\n",
       "1             4808\n",
       "2             2052\n",
       "3              330\n",
       "4               41"
      ]
     },
     "execution_count": 122,
     "metadata": {},
     "output_type": "execute_result"
    }
   ],
   "source": [
    "quantity_data.head()"
   ]
  },
  {
   "cell_type": "code",
   "execution_count": 123,
   "id": "93d00e10",
   "metadata": {},
   "outputs": [
    {
     "data": {
      "text/plain": [
       "quantity    14091\n",
       "Name: 0, dtype: int64"
      ]
     },
     "execution_count": 123,
     "metadata": {},
     "output_type": "execute_result"
    }
   ],
   "source": [
    "quantity_data.loc[0,:]"
   ]
  },
  {
   "cell_type": "code",
   "execution_count": 124,
   "id": "7fd319ff",
   "metadata": {},
   "outputs": [
    {
     "data": {
      "text/html": [
       "<div>\n",
       "<style scoped>\n",
       "    .dataframe tbody tr th:only-of-type {\n",
       "        vertical-align: middle;\n",
       "    }\n",
       "\n",
       "    .dataframe tbody tr th {\n",
       "        vertical-align: top;\n",
       "    }\n",
       "\n",
       "    .dataframe thead th {\n",
       "        text-align: right;\n",
       "    }\n",
       "</style>\n",
       "<table border=\"1\" class=\"dataframe\">\n",
       "  <thead>\n",
       "    <tr style=\"text-align: right;\">\n",
       "      <th></th>\n",
       "      <th>Процент должников, %</th>\n",
       "    </tr>\n",
       "    <tr>\n",
       "      <th>Количество детей</th>\n",
       "      <th></th>\n",
       "    </tr>\n",
       "  </thead>\n",
       "  <tbody>\n",
       "    <tr>\n",
       "      <th>0</th>\n",
       "      <td>7.54</td>\n",
       "    </tr>\n",
       "    <tr>\n",
       "      <th>1</th>\n",
       "      <td>9.23</td>\n",
       "    </tr>\n",
       "    <tr>\n",
       "      <th>2</th>\n",
       "      <td>9.45</td>\n",
       "    </tr>\n",
       "    <tr>\n",
       "      <th>3</th>\n",
       "      <td>8.18</td>\n",
       "    </tr>\n",
       "    <tr>\n",
       "      <th>4</th>\n",
       "      <td>9.76</td>\n",
       "    </tr>\n",
       "    <tr>\n",
       "      <th>5</th>\n",
       "      <td>0.00</td>\n",
       "    </tr>\n",
       "  </tbody>\n",
       "</table>\n",
       "</div>"
      ],
      "text/plain": [
       "                  Процент должников, %\n",
       "Количество детей                      \n",
       "0                                 7.54\n",
       "1                                 9.23\n",
       "2                                 9.45\n",
       "3                                 8.18\n",
       "4                                 9.76\n",
       "5                                 0.00"
      ]
     },
     "execution_count": 124,
     "metadata": {},
     "output_type": "execute_result"
    }
   ],
   "source": [
    "debt_grouped_data = data.groupby('children')\\\n",
    "    .agg({'debt': lambda x: (x==1).sum() / len(x) * 100})\\\n",
    "    .round(2)\\\n",
    "    .rename(columns={'debt': 'Процент должников, %'})\n",
    "\n",
    "debt_grouped_data.index.name = 'Количество детей'\n",
    "\n",
    "debt_grouped_data"
   ]
  },
  {
   "cell_type": "markdown",
   "id": "ff895d97",
   "metadata": {},
   "source": [
    "**Вывод:** \n",
    "Количество детей практически никак не влияет на возврат клиентом кредита в срок. Меньший процент должников среди бездетных клиентов, может быть обусловлен тем, что таким людям проще выплачить кредиты ввиду отсутствия дополнительной финансовой нагрузки. Также можно отметить, что среди клиентов нет должников с пятью дятьми. Это можно объяснить тем, что их процент в выборке совсем маленький и поэтому нельзя провести детальный анализ этой группы клиентов. "
   ]
  },
  {
   "cell_type": "markdown",
   "id": "a67c29b1",
   "metadata": {},
   "source": [
    "#### 3.2 Есть ли зависимость между семейным положением и возвратом кредита в срок?"
   ]
  },
  {
   "cell_type": "code",
   "execution_count": 125,
   "id": "dfad7a28",
   "metadata": {},
   "outputs": [
    {
     "data": {
      "text/html": [
       "<div>\n",
       "<style scoped>\n",
       "    .dataframe tbody tr th:only-of-type {\n",
       "        vertical-align: middle;\n",
       "    }\n",
       "\n",
       "    .dataframe tbody tr th {\n",
       "        vertical-align: top;\n",
       "    }\n",
       "\n",
       "    .dataframe thead th {\n",
       "        text-align: right;\n",
       "    }\n",
       "</style>\n",
       "<table border=\"1\" class=\"dataframe\">\n",
       "  <thead>\n",
       "    <tr style=\"text-align: right;\">\n",
       "      <th></th>\n",
       "      <th>children</th>\n",
       "      <th>children_category</th>\n",
       "      <th>days_employed</th>\n",
       "      <th>dob_years</th>\n",
       "      <th>education</th>\n",
       "      <th>education_id</th>\n",
       "      <th>family_status</th>\n",
       "      <th>family_status_id</th>\n",
       "      <th>gender</th>\n",
       "      <th>income_type</th>\n",
       "      <th>debt</th>\n",
       "      <th>total_income</th>\n",
       "      <th>purpose</th>\n",
       "      <th>total_income_category</th>\n",
       "      <th>purpose_category</th>\n",
       "    </tr>\n",
       "  </thead>\n",
       "  <tbody>\n",
       "    <tr>\n",
       "      <th>0</th>\n",
       "      <td>1</td>\n",
       "      <td>один ребенок в семье</td>\n",
       "      <td>8437.673028</td>\n",
       "      <td>42</td>\n",
       "      <td>высшее</td>\n",
       "      <td>0</td>\n",
       "      <td>женат / замужем</td>\n",
       "      <td>0</td>\n",
       "      <td>F</td>\n",
       "      <td>сотрудник</td>\n",
       "      <td>0</td>\n",
       "      <td>253875</td>\n",
       "      <td>покупка жилья</td>\n",
       "      <td>B</td>\n",
       "      <td>операции с недвижимостью</td>\n",
       "    </tr>\n",
       "    <tr>\n",
       "      <th>1</th>\n",
       "      <td>1</td>\n",
       "      <td>один ребенок в семье</td>\n",
       "      <td>4024.803754</td>\n",
       "      <td>36</td>\n",
       "      <td>среднее</td>\n",
       "      <td>1</td>\n",
       "      <td>женат / замужем</td>\n",
       "      <td>0</td>\n",
       "      <td>F</td>\n",
       "      <td>сотрудник</td>\n",
       "      <td>0</td>\n",
       "      <td>112080</td>\n",
       "      <td>приобретение автомобиля</td>\n",
       "      <td>C</td>\n",
       "      <td>операции с автомобилем</td>\n",
       "    </tr>\n",
       "    <tr>\n",
       "      <th>2</th>\n",
       "      <td>0</td>\n",
       "      <td>нет детей</td>\n",
       "      <td>5623.422610</td>\n",
       "      <td>33</td>\n",
       "      <td>среднее</td>\n",
       "      <td>1</td>\n",
       "      <td>женат / замужем</td>\n",
       "      <td>0</td>\n",
       "      <td>M</td>\n",
       "      <td>сотрудник</td>\n",
       "      <td>0</td>\n",
       "      <td>145885</td>\n",
       "      <td>покупка жилья</td>\n",
       "      <td>C</td>\n",
       "      <td>операции с недвижимостью</td>\n",
       "    </tr>\n",
       "    <tr>\n",
       "      <th>3</th>\n",
       "      <td>3</td>\n",
       "      <td>многодетная семья</td>\n",
       "      <td>4124.747207</td>\n",
       "      <td>32</td>\n",
       "      <td>среднее</td>\n",
       "      <td>1</td>\n",
       "      <td>женат / замужем</td>\n",
       "      <td>0</td>\n",
       "      <td>M</td>\n",
       "      <td>сотрудник</td>\n",
       "      <td>0</td>\n",
       "      <td>267628</td>\n",
       "      <td>дополнительное образование</td>\n",
       "      <td>B</td>\n",
       "      <td>получение образования</td>\n",
       "    </tr>\n",
       "    <tr>\n",
       "      <th>4</th>\n",
       "      <td>0</td>\n",
       "      <td>нет детей</td>\n",
       "      <td>340266.072047</td>\n",
       "      <td>53</td>\n",
       "      <td>среднее</td>\n",
       "      <td>1</td>\n",
       "      <td>гражданский брак</td>\n",
       "      <td>1</td>\n",
       "      <td>F</td>\n",
       "      <td>пенсионер</td>\n",
       "      <td>0</td>\n",
       "      <td>158616</td>\n",
       "      <td>сыграть свадьбу</td>\n",
       "      <td>C</td>\n",
       "      <td>проведение свадьбы</td>\n",
       "    </tr>\n",
       "    <tr>\n",
       "      <th>5</th>\n",
       "      <td>0</td>\n",
       "      <td>нет детей</td>\n",
       "      <td>926.185831</td>\n",
       "      <td>27</td>\n",
       "      <td>высшее</td>\n",
       "      <td>0</td>\n",
       "      <td>гражданский брак</td>\n",
       "      <td>1</td>\n",
       "      <td>M</td>\n",
       "      <td>компаньон</td>\n",
       "      <td>0</td>\n",
       "      <td>255763</td>\n",
       "      <td>покупка жилья</td>\n",
       "      <td>B</td>\n",
       "      <td>операции с недвижимостью</td>\n",
       "    </tr>\n",
       "    <tr>\n",
       "      <th>6</th>\n",
       "      <td>0</td>\n",
       "      <td>нет детей</td>\n",
       "      <td>2879.202052</td>\n",
       "      <td>43</td>\n",
       "      <td>высшее</td>\n",
       "      <td>0</td>\n",
       "      <td>женат / замужем</td>\n",
       "      <td>0</td>\n",
       "      <td>F</td>\n",
       "      <td>компаньон</td>\n",
       "      <td>0</td>\n",
       "      <td>240525</td>\n",
       "      <td>операции с жильем</td>\n",
       "      <td>B</td>\n",
       "      <td>операции с недвижимостью</td>\n",
       "    </tr>\n",
       "    <tr>\n",
       "      <th>7</th>\n",
       "      <td>0</td>\n",
       "      <td>нет детей</td>\n",
       "      <td>152.779569</td>\n",
       "      <td>50</td>\n",
       "      <td>среднее</td>\n",
       "      <td>1</td>\n",
       "      <td>женат / замужем</td>\n",
       "      <td>0</td>\n",
       "      <td>M</td>\n",
       "      <td>сотрудник</td>\n",
       "      <td>0</td>\n",
       "      <td>135823</td>\n",
       "      <td>образование</td>\n",
       "      <td>C</td>\n",
       "      <td>получение образования</td>\n",
       "    </tr>\n",
       "    <tr>\n",
       "      <th>8</th>\n",
       "      <td>2</td>\n",
       "      <td>многодетная семья</td>\n",
       "      <td>6929.865299</td>\n",
       "      <td>35</td>\n",
       "      <td>высшее</td>\n",
       "      <td>0</td>\n",
       "      <td>гражданский брак</td>\n",
       "      <td>1</td>\n",
       "      <td>F</td>\n",
       "      <td>сотрудник</td>\n",
       "      <td>0</td>\n",
       "      <td>95856</td>\n",
       "      <td>на проведение свадьбы</td>\n",
       "      <td>C</td>\n",
       "      <td>проведение свадьбы</td>\n",
       "    </tr>\n",
       "    <tr>\n",
       "      <th>9</th>\n",
       "      <td>0</td>\n",
       "      <td>нет детей</td>\n",
       "      <td>2188.756445</td>\n",
       "      <td>41</td>\n",
       "      <td>среднее</td>\n",
       "      <td>1</td>\n",
       "      <td>женат / замужем</td>\n",
       "      <td>0</td>\n",
       "      <td>M</td>\n",
       "      <td>сотрудник</td>\n",
       "      <td>0</td>\n",
       "      <td>144425</td>\n",
       "      <td>покупка жилья для семьи</td>\n",
       "      <td>C</td>\n",
       "      <td>операции с недвижимостью</td>\n",
       "    </tr>\n",
       "  </tbody>\n",
       "</table>\n",
       "</div>"
      ],
      "text/plain": [
       "   children     children_category  days_employed  dob_years education  \\\n",
       "0         1  один ребенок в семье    8437.673028         42    высшее   \n",
       "1         1  один ребенок в семье    4024.803754         36   среднее   \n",
       "2         0             нет детей    5623.422610         33   среднее   \n",
       "3         3     многодетная семья    4124.747207         32   среднее   \n",
       "4         0             нет детей  340266.072047         53   среднее   \n",
       "5         0             нет детей     926.185831         27    высшее   \n",
       "6         0             нет детей    2879.202052         43    высшее   \n",
       "7         0             нет детей     152.779569         50   среднее   \n",
       "8         2     многодетная семья    6929.865299         35    высшее   \n",
       "9         0             нет детей    2188.756445         41   среднее   \n",
       "\n",
       "   education_id     family_status  family_status_id gender income_type  debt  \\\n",
       "0             0   женат / замужем                 0      F   сотрудник     0   \n",
       "1             1   женат / замужем                 0      F   сотрудник     0   \n",
       "2             1   женат / замужем                 0      M   сотрудник     0   \n",
       "3             1   женат / замужем                 0      M   сотрудник     0   \n",
       "4             1  гражданский брак                 1      F   пенсионер     0   \n",
       "5             0  гражданский брак                 1      M   компаньон     0   \n",
       "6             0   женат / замужем                 0      F   компаньон     0   \n",
       "7             1   женат / замужем                 0      M   сотрудник     0   \n",
       "8             0  гражданский брак                 1      F   сотрудник     0   \n",
       "9             1   женат / замужем                 0      M   сотрудник     0   \n",
       "\n",
       "   total_income                     purpose total_income_category  \\\n",
       "0        253875               покупка жилья                     B   \n",
       "1        112080     приобретение автомобиля                     C   \n",
       "2        145885               покупка жилья                     C   \n",
       "3        267628  дополнительное образование                     B   \n",
       "4        158616             сыграть свадьбу                     C   \n",
       "5        255763               покупка жилья                     B   \n",
       "6        240525           операции с жильем                     B   \n",
       "7        135823                 образование                     C   \n",
       "8         95856       на проведение свадьбы                     C   \n",
       "9        144425     покупка жилья для семьи                     C   \n",
       "\n",
       "           purpose_category  \n",
       "0  операции с недвижимостью  \n",
       "1    операции с автомобилем  \n",
       "2  операции с недвижимостью  \n",
       "3     получение образования  \n",
       "4        проведение свадьбы  \n",
       "5  операции с недвижимостью  \n",
       "6  операции с недвижимостью  \n",
       "7     получение образования  \n",
       "8        проведение свадьбы  \n",
       "9  операции с недвижимостью  "
      ]
     },
     "execution_count": 125,
     "metadata": {},
     "output_type": "execute_result"
    }
   ],
   "source": [
    "data.head(10)"
   ]
  },
  {
   "cell_type": "code",
   "execution_count": 126,
   "id": "1f6d7aa6",
   "metadata": {},
   "outputs": [],
   "source": [
    "family_value_counts = data['family_status'].value_counts()"
   ]
  },
  {
   "cell_type": "code",
   "execution_count": 127,
   "id": "30258768",
   "metadata": {},
   "outputs": [
    {
     "data": {
      "text/plain": [
       "женат / замужем          57.48\n",
       "гражданский брак         19.38\n",
       "Не женат / не замужем    13.11\n",
       "в разводе                 5.57\n",
       "вдовец / вдова            4.46\n",
       "Name: family_status, dtype: float64"
      ]
     },
     "execution_count": 127,
     "metadata": {},
     "output_type": "execute_result"
    }
   ],
   "source": [
    "family_status_percentages = (family_value_counts / (data.shape[0])) * 100\n",
    "family_status_percentages.round(2)"
   ]
  },
  {
   "cell_type": "code",
   "execution_count": 128,
   "id": "4c1e1c07",
   "metadata": {},
   "outputs": [
    {
     "data": {
      "text/plain": [
       "family_status\n",
       "Не женат / не замужем    273\n",
       "в разводе                 84\n",
       "вдовец / вдова            63\n",
       "гражданский брак         385\n",
       "женат / замужем          927\n",
       "Name: debt, dtype: int64"
      ]
     },
     "execution_count": 128,
     "metadata": {},
     "output_type": "execute_result"
    }
   ],
   "source": [
    "debt_data.groupby('family_status')['debt'].count()"
   ]
  },
  {
   "cell_type": "code",
   "execution_count": 129,
   "id": "cbd7d2cb",
   "metadata": {},
   "outputs": [
    {
     "data": {
      "text/plain": [
       "женат / замужем          12261\n",
       "гражданский брак          4134\n",
       "Не женат / не замужем     2796\n",
       "в разводе                 1189\n",
       "вдовец / вдова             951\n",
       "Name: family_status, dtype: int64"
      ]
     },
     "execution_count": 129,
     "metadata": {},
     "output_type": "execute_result"
    }
   ],
   "source": [
    "data['family_status'].value_counts()"
   ]
  },
  {
   "cell_type": "code",
   "execution_count": 130,
   "id": "8d37524d",
   "metadata": {},
   "outputs": [
    {
     "data": {
      "text/html": [
       "<div>\n",
       "<style scoped>\n",
       "    .dataframe tbody tr th:only-of-type {\n",
       "        vertical-align: middle;\n",
       "    }\n",
       "\n",
       "    .dataframe tbody tr th {\n",
       "        vertical-align: top;\n",
       "    }\n",
       "\n",
       "    .dataframe thead th {\n",
       "        text-align: right;\n",
       "    }\n",
       "</style>\n",
       "<table border=\"1\" class=\"dataframe\">\n",
       "  <thead>\n",
       "    <tr style=\"text-align: right;\">\n",
       "      <th></th>\n",
       "      <th>family_status</th>\n",
       "      <th>debt</th>\n",
       "    </tr>\n",
       "  </thead>\n",
       "  <tbody>\n",
       "    <tr>\n",
       "      <th>0</th>\n",
       "      <td>Не женат / не замужем</td>\n",
       "      <td>9.76</td>\n",
       "    </tr>\n",
       "    <tr>\n",
       "      <th>1</th>\n",
       "      <td>в разводе</td>\n",
       "      <td>7.06</td>\n",
       "    </tr>\n",
       "    <tr>\n",
       "      <th>2</th>\n",
       "      <td>вдовец / вдова</td>\n",
       "      <td>6.62</td>\n",
       "    </tr>\n",
       "    <tr>\n",
       "      <th>3</th>\n",
       "      <td>гражданский брак</td>\n",
       "      <td>9.31</td>\n",
       "    </tr>\n",
       "    <tr>\n",
       "      <th>4</th>\n",
       "      <td>женат / замужем</td>\n",
       "      <td>7.56</td>\n",
       "    </tr>\n",
       "  </tbody>\n",
       "</table>\n",
       "</div>"
      ],
      "text/plain": [
       "           family_status  debt\n",
       "0  Не женат / не замужем  9.76\n",
       "1              в разводе  7.06\n",
       "2         вдовец / вдова  6.62\n",
       "3       гражданский брак  9.31\n",
       "4        женат / замужем  7.56"
      ]
     },
     "execution_count": 130,
     "metadata": {},
     "output_type": "execute_result"
    }
   ],
   "source": [
    "family_status_grouped_data = data.groupby('family_status')\\\n",
    "    .agg({'debt': lambda x: (x==1).sum() / len(x) * 100})\\\n",
    "    .round(2)\\\n",
    "    .reset_index()\n",
    "\n",
    "\n",
    "family_status_grouped_data"
   ]
  },
  {
   "cell_type": "code",
   "execution_count": 131,
   "id": "90eeb1a0",
   "metadata": {},
   "outputs": [
    {
     "data": {
      "text/plain": [
       "1732"
      ]
     },
     "execution_count": 131,
     "metadata": {},
     "output_type": "execute_result"
    }
   ],
   "source": [
    "debt_data.shape[0]"
   ]
  },
  {
   "cell_type": "markdown",
   "id": "01021b4d",
   "metadata": {},
   "source": [
    "#### 3.3 Есть ли зависимость между уровнем дохода и возвратом кредита в срок?"
   ]
  },
  {
   "cell_type": "code",
   "execution_count": 132,
   "id": "a9c0e4cf",
   "metadata": {},
   "outputs": [
    {
     "data": {
      "text/plain": [
       "E       22\n",
       "A       25\n",
       "D      349\n",
       "B     5014\n",
       "C    15921\n",
       "Name: total_income_category, dtype: int64"
      ]
     },
     "execution_count": 132,
     "metadata": {},
     "output_type": "execute_result"
    }
   ],
   "source": [
    "data['total_income_category'].value_counts().sort_values()"
   ]
  },
  {
   "cell_type": "code",
   "execution_count": 133,
   "id": "c90527dd",
   "metadata": {},
   "outputs": [
    {
     "data": {
      "text/html": [
       "<div>\n",
       "<style scoped>\n",
       "    .dataframe tbody tr th:only-of-type {\n",
       "        vertical-align: middle;\n",
       "    }\n",
       "\n",
       "    .dataframe tbody tr th {\n",
       "        vertical-align: top;\n",
       "    }\n",
       "\n",
       "    .dataframe thead th {\n",
       "        text-align: right;\n",
       "    }\n",
       "</style>\n",
       "<table border=\"1\" class=\"dataframe\">\n",
       "  <thead>\n",
       "    <tr style=\"text-align: right;\">\n",
       "      <th></th>\n",
       "      <th>count</th>\n",
       "    </tr>\n",
       "    <tr>\n",
       "      <th>total_income_category</th>\n",
       "      <th></th>\n",
       "    </tr>\n",
       "  </thead>\n",
       "  <tbody>\n",
       "    <tr>\n",
       "      <th>A</th>\n",
       "      <td>2</td>\n",
       "    </tr>\n",
       "    <tr>\n",
       "      <th>B</th>\n",
       "      <td>354</td>\n",
       "    </tr>\n",
       "    <tr>\n",
       "      <th>C</th>\n",
       "      <td>1353</td>\n",
       "    </tr>\n",
       "    <tr>\n",
       "      <th>D</th>\n",
       "      <td>21</td>\n",
       "    </tr>\n",
       "    <tr>\n",
       "      <th>E</th>\n",
       "      <td>2</td>\n",
       "    </tr>\n",
       "  </tbody>\n",
       "</table>\n",
       "</div>"
      ],
      "text/plain": [
       "                       count\n",
       "total_income_category       \n",
       "A                          2\n",
       "B                        354\n",
       "C                       1353\n",
       "D                         21\n",
       "E                          2"
      ]
     },
     "execution_count": 133,
     "metadata": {},
     "output_type": "execute_result"
    }
   ],
   "source": [
    "debt_data.groupby('total_income_category')['debt'].agg(count='count')"
   ]
  },
  {
   "cell_type": "code",
   "execution_count": 134,
   "id": "1dc93506",
   "metadata": {},
   "outputs": [
    {
     "data": {
      "text/html": [
       "<div>\n",
       "<style scoped>\n",
       "    .dataframe tbody tr th:only-of-type {\n",
       "        vertical-align: middle;\n",
       "    }\n",
       "\n",
       "    .dataframe tbody tr th {\n",
       "        vertical-align: top;\n",
       "    }\n",
       "\n",
       "    .dataframe thead th {\n",
       "        text-align: right;\n",
       "    }\n",
       "</style>\n",
       "<table border=\"1\" class=\"dataframe\">\n",
       "  <thead>\n",
       "    <tr style=\"text-align: right;\">\n",
       "      <th></th>\n",
       "      <th>Уровент дохода</th>\n",
       "      <th>Задолженность по кредиту</th>\n",
       "    </tr>\n",
       "  </thead>\n",
       "  <tbody>\n",
       "    <tr>\n",
       "      <th>0</th>\n",
       "      <td>A</td>\n",
       "      <td>8.00</td>\n",
       "    </tr>\n",
       "    <tr>\n",
       "      <th>1</th>\n",
       "      <td>B</td>\n",
       "      <td>7.06</td>\n",
       "    </tr>\n",
       "    <tr>\n",
       "      <th>2</th>\n",
       "      <td>C</td>\n",
       "      <td>8.50</td>\n",
       "    </tr>\n",
       "    <tr>\n",
       "      <th>3</th>\n",
       "      <td>D</td>\n",
       "      <td>6.02</td>\n",
       "    </tr>\n",
       "    <tr>\n",
       "      <th>4</th>\n",
       "      <td>E</td>\n",
       "      <td>9.09</td>\n",
       "    </tr>\n",
       "  </tbody>\n",
       "</table>\n",
       "</div>"
      ],
      "text/plain": [
       "  Уровент дохода  Задолженность по кредиту\n",
       "0              A                      8.00\n",
       "1              B                      7.06\n",
       "2              C                      8.50\n",
       "3              D                      6.02\n",
       "4              E                      9.09"
      ]
     },
     "execution_count": 134,
     "metadata": {},
     "output_type": "execute_result"
    }
   ],
   "source": [
    "data.groupby('total_income_category')\\\n",
    "    .agg({'debt': lambda x: (sum(x) / len(x)) * 100})\\\n",
    "    .round(2)\\\n",
    "    .reset_index()\\\n",
    "    .rename(columns={'total_income_category':'Уровент дохода', 'debt':'Задолженность по кредиту'})"
   ]
  },
  {
   "cell_type": "code",
   "execution_count": 135,
   "id": "685adf14",
   "metadata": {},
   "outputs": [
    {
     "data": {
      "text/plain": [
       "операции с недвижимостью    10751\n",
       "операции с автомобилем       4279\n",
       "получение образования        3988\n",
       "проведение свадьбы           2313\n",
       "Name: purpose_category, dtype: int64"
      ]
     },
     "execution_count": 135,
     "metadata": {},
     "output_type": "execute_result"
    }
   ],
   "source": [
    "data['purpose_category'].value_counts()"
   ]
  },
  {
   "cell_type": "code",
   "execution_count": 136,
   "id": "80903592",
   "metadata": {},
   "outputs": [
    {
     "data": {
      "text/plain": [
       "purpose_category\n",
       "операции с автомобилем      400\n",
       "операции с недвижимостью    780\n",
       "получение образования       369\n",
       "проведение свадьбы          183\n",
       "Name: debt, dtype: int64"
      ]
     },
     "execution_count": 136,
     "metadata": {},
     "output_type": "execute_result"
    }
   ],
   "source": [
    "debt_data.groupby('purpose_category')['debt'].count()"
   ]
  },
  {
   "cell_type": "code",
   "execution_count": 137,
   "id": "b17a2779",
   "metadata": {},
   "outputs": [],
   "source": [
    "def calculate_percentage(x):\n",
    "    return (sum(x)/ len(x) * 100)"
   ]
  },
  {
   "cell_type": "code",
   "execution_count": 138,
   "id": "fdbded71",
   "metadata": {},
   "outputs": [
    {
     "data": {
      "text/plain": [
       "purpose_category\n",
       "операции с автомобилем      9.347978\n",
       "операции с недвижимостью    7.255139\n",
       "получение образования       9.252758\n",
       "проведение свадьбы          7.911803\n",
       "Name: debt, dtype: float64"
      ]
     },
     "execution_count": 138,
     "metadata": {},
     "output_type": "execute_result"
    }
   ],
   "source": [
    "data.groupby('purpose_category')['debt']\\\n",
    ".apply(calculate_percentage)"
   ]
  },
  {
   "cell_type": "code",
   "execution_count": 139,
   "id": "2e0f3ec9",
   "metadata": {},
   "outputs": [
    {
     "data": {
      "text/plain": [
       "family_status\n",
       "Не женат / не замужем    9.76\n",
       "в разводе                7.06\n",
       "вдовец / вдова           6.62\n",
       "гражданский брак         9.31\n",
       "женат / замужем          7.56\n",
       "Name: debt, dtype: float64"
      ]
     },
     "execution_count": 139,
     "metadata": {},
     "output_type": "execute_result"
    }
   ],
   "source": [
    "data.groupby('family_status')['debt']\\\n",
    "    .apply(calculate_percentage)\\\n",
    "    .round(2)"
   ]
  },
  {
   "cell_type": "code",
   "execution_count": 140,
   "id": "90e63176",
   "metadata": {},
   "outputs": [],
   "source": [
    "def calculate_percentage_agg(data, group_column, value_column):\n",
    "    result = data.groupby(group_column).agg({value_column: lambda x: (sum(x) / len(x)) * 100})\\\n",
    "                     .reset_index()\\\n",
    "                     .round(2)\\\n",
    "                     .rename(columns={group_column: f'{group_column}', value_column: f'{value_column},%'})\n",
    "    return result\n",
    "\n",
    "total_income_agg = calculate_percentage_agg(data, 'total_income_category', 'debt')\n",
    "family_status_agg = calculate_percentage_agg(data, 'family_status', 'debt')\n"
   ]
  },
  {
   "cell_type": "code",
   "execution_count": 141,
   "id": "1b11bccb",
   "metadata": {},
   "outputs": [
    {
     "name": "stdout",
     "output_type": "stream",
     "text": [
      "  total_income_category  debt,%\n",
      "0                     A    8.00\n",
      "1                     B    7.06\n",
      "2                     C    8.50\n",
      "3                     D    6.02\n",
      "4                     E    9.09\n"
     ]
    }
   ],
   "source": [
    "print(total_income_agg)"
   ]
  },
  {
   "cell_type": "code",
   "execution_count": 142,
   "id": "60f0544a",
   "metadata": {},
   "outputs": [
    {
     "data": {
      "text/plain": [
       "операции с недвижимостью    10751\n",
       "операции с автомобилем       4279\n",
       "получение образования        3988\n",
       "проведение свадьбы           2313\n",
       "Name: purpose_category, dtype: int64"
      ]
     },
     "execution_count": 142,
     "metadata": {},
     "output_type": "execute_result"
    }
   ],
   "source": [
    "data['purpose_category'].value_counts()"
   ]
  },
  {
   "cell_type": "code",
   "execution_count": 143,
   "id": "34e01b59",
   "metadata": {},
   "outputs": [
    {
     "data": {
      "text/html": [
       "<div>\n",
       "<style scoped>\n",
       "    .dataframe tbody tr th:only-of-type {\n",
       "        vertical-align: middle;\n",
       "    }\n",
       "\n",
       "    .dataframe tbody tr th {\n",
       "        vertical-align: top;\n",
       "    }\n",
       "\n",
       "    .dataframe thead th {\n",
       "        text-align: right;\n",
       "    }\n",
       "</style>\n",
       "<table border=\"1\" class=\"dataframe\">\n",
       "  <thead>\n",
       "    <tr style=\"text-align: right;\">\n",
       "      <th></th>\n",
       "      <th>children</th>\n",
       "      <th>children_category</th>\n",
       "      <th>days_employed</th>\n",
       "      <th>dob_years</th>\n",
       "      <th>education</th>\n",
       "      <th>education_id</th>\n",
       "      <th>family_status</th>\n",
       "      <th>family_status_id</th>\n",
       "      <th>gender</th>\n",
       "      <th>income_type</th>\n",
       "      <th>debt</th>\n",
       "      <th>total_income</th>\n",
       "      <th>purpose</th>\n",
       "      <th>total_income_category</th>\n",
       "      <th>purpose_category</th>\n",
       "    </tr>\n",
       "  </thead>\n",
       "  <tbody>\n",
       "    <tr>\n",
       "      <th>0</th>\n",
       "      <td>1</td>\n",
       "      <td>один ребенок в семье</td>\n",
       "      <td>8437.673028</td>\n",
       "      <td>42</td>\n",
       "      <td>высшее</td>\n",
       "      <td>0</td>\n",
       "      <td>женат / замужем</td>\n",
       "      <td>0</td>\n",
       "      <td>F</td>\n",
       "      <td>сотрудник</td>\n",
       "      <td>0</td>\n",
       "      <td>253875</td>\n",
       "      <td>покупка жилья</td>\n",
       "      <td>B</td>\n",
       "      <td>операции с недвижимостью</td>\n",
       "    </tr>\n",
       "    <tr>\n",
       "      <th>1</th>\n",
       "      <td>1</td>\n",
       "      <td>один ребенок в семье</td>\n",
       "      <td>4024.803754</td>\n",
       "      <td>36</td>\n",
       "      <td>среднее</td>\n",
       "      <td>1</td>\n",
       "      <td>женат / замужем</td>\n",
       "      <td>0</td>\n",
       "      <td>F</td>\n",
       "      <td>сотрудник</td>\n",
       "      <td>0</td>\n",
       "      <td>112080</td>\n",
       "      <td>приобретение автомобиля</td>\n",
       "      <td>C</td>\n",
       "      <td>операции с автомобилем</td>\n",
       "    </tr>\n",
       "    <tr>\n",
       "      <th>2</th>\n",
       "      <td>0</td>\n",
       "      <td>нет детей</td>\n",
       "      <td>5623.422610</td>\n",
       "      <td>33</td>\n",
       "      <td>среднее</td>\n",
       "      <td>1</td>\n",
       "      <td>женат / замужем</td>\n",
       "      <td>0</td>\n",
       "      <td>M</td>\n",
       "      <td>сотрудник</td>\n",
       "      <td>0</td>\n",
       "      <td>145885</td>\n",
       "      <td>покупка жилья</td>\n",
       "      <td>C</td>\n",
       "      <td>операции с недвижимостью</td>\n",
       "    </tr>\n",
       "    <tr>\n",
       "      <th>3</th>\n",
       "      <td>3</td>\n",
       "      <td>многодетная семья</td>\n",
       "      <td>4124.747207</td>\n",
       "      <td>32</td>\n",
       "      <td>среднее</td>\n",
       "      <td>1</td>\n",
       "      <td>женат / замужем</td>\n",
       "      <td>0</td>\n",
       "      <td>M</td>\n",
       "      <td>сотрудник</td>\n",
       "      <td>0</td>\n",
       "      <td>267628</td>\n",
       "      <td>дополнительное образование</td>\n",
       "      <td>B</td>\n",
       "      <td>получение образования</td>\n",
       "    </tr>\n",
       "    <tr>\n",
       "      <th>4</th>\n",
       "      <td>0</td>\n",
       "      <td>нет детей</td>\n",
       "      <td>340266.072047</td>\n",
       "      <td>53</td>\n",
       "      <td>среднее</td>\n",
       "      <td>1</td>\n",
       "      <td>гражданский брак</td>\n",
       "      <td>1</td>\n",
       "      <td>F</td>\n",
       "      <td>пенсионер</td>\n",
       "      <td>0</td>\n",
       "      <td>158616</td>\n",
       "      <td>сыграть свадьбу</td>\n",
       "      <td>C</td>\n",
       "      <td>проведение свадьбы</td>\n",
       "    </tr>\n",
       "    <tr>\n",
       "      <th>5</th>\n",
       "      <td>0</td>\n",
       "      <td>нет детей</td>\n",
       "      <td>926.185831</td>\n",
       "      <td>27</td>\n",
       "      <td>высшее</td>\n",
       "      <td>0</td>\n",
       "      <td>гражданский брак</td>\n",
       "      <td>1</td>\n",
       "      <td>M</td>\n",
       "      <td>компаньон</td>\n",
       "      <td>0</td>\n",
       "      <td>255763</td>\n",
       "      <td>покупка жилья</td>\n",
       "      <td>B</td>\n",
       "      <td>операции с недвижимостью</td>\n",
       "    </tr>\n",
       "    <tr>\n",
       "      <th>6</th>\n",
       "      <td>0</td>\n",
       "      <td>нет детей</td>\n",
       "      <td>2879.202052</td>\n",
       "      <td>43</td>\n",
       "      <td>высшее</td>\n",
       "      <td>0</td>\n",
       "      <td>женат / замужем</td>\n",
       "      <td>0</td>\n",
       "      <td>F</td>\n",
       "      <td>компаньон</td>\n",
       "      <td>0</td>\n",
       "      <td>240525</td>\n",
       "      <td>операции с жильем</td>\n",
       "      <td>B</td>\n",
       "      <td>операции с недвижимостью</td>\n",
       "    </tr>\n",
       "    <tr>\n",
       "      <th>7</th>\n",
       "      <td>0</td>\n",
       "      <td>нет детей</td>\n",
       "      <td>152.779569</td>\n",
       "      <td>50</td>\n",
       "      <td>среднее</td>\n",
       "      <td>1</td>\n",
       "      <td>женат / замужем</td>\n",
       "      <td>0</td>\n",
       "      <td>M</td>\n",
       "      <td>сотрудник</td>\n",
       "      <td>0</td>\n",
       "      <td>135823</td>\n",
       "      <td>образование</td>\n",
       "      <td>C</td>\n",
       "      <td>получение образования</td>\n",
       "    </tr>\n",
       "    <tr>\n",
       "      <th>8</th>\n",
       "      <td>2</td>\n",
       "      <td>многодетная семья</td>\n",
       "      <td>6929.865299</td>\n",
       "      <td>35</td>\n",
       "      <td>высшее</td>\n",
       "      <td>0</td>\n",
       "      <td>гражданский брак</td>\n",
       "      <td>1</td>\n",
       "      <td>F</td>\n",
       "      <td>сотрудник</td>\n",
       "      <td>0</td>\n",
       "      <td>95856</td>\n",
       "      <td>на проведение свадьбы</td>\n",
       "      <td>C</td>\n",
       "      <td>проведение свадьбы</td>\n",
       "    </tr>\n",
       "    <tr>\n",
       "      <th>9</th>\n",
       "      <td>0</td>\n",
       "      <td>нет детей</td>\n",
       "      <td>2188.756445</td>\n",
       "      <td>41</td>\n",
       "      <td>среднее</td>\n",
       "      <td>1</td>\n",
       "      <td>женат / замужем</td>\n",
       "      <td>0</td>\n",
       "      <td>M</td>\n",
       "      <td>сотрудник</td>\n",
       "      <td>0</td>\n",
       "      <td>144425</td>\n",
       "      <td>покупка жилья для семьи</td>\n",
       "      <td>C</td>\n",
       "      <td>операции с недвижимостью</td>\n",
       "    </tr>\n",
       "  </tbody>\n",
       "</table>\n",
       "</div>"
      ],
      "text/plain": [
       "   children     children_category  days_employed  dob_years education  \\\n",
       "0         1  один ребенок в семье    8437.673028         42    высшее   \n",
       "1         1  один ребенок в семье    4024.803754         36   среднее   \n",
       "2         0             нет детей    5623.422610         33   среднее   \n",
       "3         3     многодетная семья    4124.747207         32   среднее   \n",
       "4         0             нет детей  340266.072047         53   среднее   \n",
       "5         0             нет детей     926.185831         27    высшее   \n",
       "6         0             нет детей    2879.202052         43    высшее   \n",
       "7         0             нет детей     152.779569         50   среднее   \n",
       "8         2     многодетная семья    6929.865299         35    высшее   \n",
       "9         0             нет детей    2188.756445         41   среднее   \n",
       "\n",
       "   education_id     family_status  family_status_id gender income_type  debt  \\\n",
       "0             0   женат / замужем                 0      F   сотрудник     0   \n",
       "1             1   женат / замужем                 0      F   сотрудник     0   \n",
       "2             1   женат / замужем                 0      M   сотрудник     0   \n",
       "3             1   женат / замужем                 0      M   сотрудник     0   \n",
       "4             1  гражданский брак                 1      F   пенсионер     0   \n",
       "5             0  гражданский брак                 1      M   компаньон     0   \n",
       "6             0   женат / замужем                 0      F   компаньон     0   \n",
       "7             1   женат / замужем                 0      M   сотрудник     0   \n",
       "8             0  гражданский брак                 1      F   сотрудник     0   \n",
       "9             1   женат / замужем                 0      M   сотрудник     0   \n",
       "\n",
       "   total_income                     purpose total_income_category  \\\n",
       "0        253875               покупка жилья                     B   \n",
       "1        112080     приобретение автомобиля                     C   \n",
       "2        145885               покупка жилья                     C   \n",
       "3        267628  дополнительное образование                     B   \n",
       "4        158616             сыграть свадьбу                     C   \n",
       "5        255763               покупка жилья                     B   \n",
       "6        240525           операции с жильем                     B   \n",
       "7        135823                 образование                     C   \n",
       "8         95856       на проведение свадьбы                     C   \n",
       "9        144425     покупка жилья для семьи                     C   \n",
       "\n",
       "           purpose_category  \n",
       "0  операции с недвижимостью  \n",
       "1    операции с автомобилем  \n",
       "2  операции с недвижимостью  \n",
       "3     получение образования  \n",
       "4        проведение свадьбы  \n",
       "5  операции с недвижимостью  \n",
       "6  операции с недвижимостью  \n",
       "7     получение образования  \n",
       "8        проведение свадьбы  \n",
       "9  операции с недвижимостью  "
      ]
     },
     "execution_count": 143,
     "metadata": {},
     "output_type": "execute_result"
    }
   ],
   "source": [
    "data.head(10)"
   ]
  },
  {
   "cell_type": "code",
   "execution_count": 201,
   "id": "85f61c64",
   "metadata": {},
   "outputs": [
    {
     "name": "stdout",
     "output_type": "stream",
     "text": [
      "                      Количество заемщиков  Количество должников  Процент должников\n",
      "children_category                                                                  \n",
      "многодетная семья                     2432                   225                9.3\n",
      "нет детей                            14091                  1063                7.5\n",
      "один ребенок в семье                  4808                   444                9.2\n"
     ]
    }
   ],
   "source": [
    "result = data.pivot_table(index='children_category', values='debt', aggfunc=['count', 'sum', 'mean'])\\\n",
    "    .rename(columns={'mean':'Процент должников', 'count':'Количество заемщиков', 'sum': 'Количество должников'})\\\n",
    "    .round(3)\n",
    "  \n",
    "result.columns = result.columns.droplevel(level=1)\n",
    "result['Процент должников'] *= 100\n",
    "formatted_result = result.to_string(index=True)\n",
    "\n",
    "\n",
    "print(formatted_result)"
   ]
  },
  {
   "cell_type": "code",
   "execution_count": 208,
   "id": "413ec8e0",
   "metadata": {},
   "outputs": [],
   "source": [
    "def category_pivot_table(data, group_column, value_column):\n",
    "    result = data.pivot_table(index=group_column, values=value_column, aggfunc=['count', 'sum', 'mean'])\\\n",
    "    .rename(columns={'mean':'Процент должников', 'count':'Количество заемщиков', 'sum': 'Количество должников'})\\\n",
    "    .round(4)\n",
    "  \n",
    "    result.columns = result.columns.droplevel(level=1)\n",
    "    result['Процент должников'] *= 100\n",
    "    formatted_result = result.to_string(index=True)\n",
    "    \n",
    "    return formatted_result"
   ]
  },
  {
   "cell_type": "code",
   "execution_count": 209,
   "id": "cab18d5b",
   "metadata": {},
   "outputs": [
    {
     "name": "stdout",
     "output_type": "stream",
     "text": [
      "                          Количество заемщиков  Количество должников  Процент должников\n",
      "purpose_category                                                                       \n",
      "операции с автомобилем                    4279                   400               9.35\n",
      "операции с недвижимостью                 10751                   780               7.26\n",
      "получение образования                     3988                   369               9.25\n",
      "проведение свадьбы                        2313                   183               7.91\n"
     ]
    }
   ],
   "source": [
    "print(category_pivot_table(data, 'purpose_category', 'debt'))"
   ]
  },
  {
   "cell_type": "code",
   "execution_count": 211,
   "id": "d14224b6",
   "metadata": {},
   "outputs": [
    {
     "name": "stdout",
     "output_type": "stream",
     "text": [
      "                     Количество заемщиков  Количество должников  Процент должников\n",
      "education                                                                         \n",
      "высшее                               5227                   278               5.32\n",
      "начальное                             282                    31              10.99\n",
      "неоконченное высшее                   741                    68               9.18\n",
      "среднее                             15075                  1355               8.99\n",
      "ученая степень                          6                     0               0.00\n"
     ]
    }
   ],
   "source": [
    "print(category_pivot_table(data, 'education', 'debt'))"
   ]
  },
  {
   "cell_type": "markdown",
   "id": "10ef06ed",
   "metadata": {},
   "source": [
    "<div class=\"alert alert-info\"> <b>Комментарий студента:</b> Например, вот так.</div>"
   ]
  },
  {
   "cell_type": "code",
   "execution_count": null,
   "id": "b31e18b2",
   "metadata": {},
   "outputs": [],
   "source": []
  }
 ],
 "metadata": {
  "ExecuteTimeLog": [
   {
    "duration": 1270,
    "start_time": "2023-08-08T17:24:31.351Z"
   },
   {
    "duration": 33,
    "start_time": "2023-08-08T17:27:23.611Z"
   },
   {
    "duration": 77,
    "start_time": "2023-08-08T17:27:31.583Z"
   },
   {
    "duration": 36,
    "start_time": "2023-08-08T17:28:12.930Z"
   },
   {
    "duration": 10,
    "start_time": "2023-08-08T17:35:18.831Z"
   },
   {
    "duration": 58,
    "start_time": "2023-08-08T17:58:36.608Z"
   },
   {
    "duration": 11,
    "start_time": "2023-08-08T18:08:52.112Z"
   },
   {
    "duration": 6,
    "start_time": "2023-08-08T18:11:31.923Z"
   },
   {
    "duration": 3,
    "start_time": "2023-08-08T18:11:44.451Z"
   },
   {
    "duration": 93,
    "start_time": "2023-08-08T18:11:44.456Z"
   },
   {
    "duration": 15,
    "start_time": "2023-08-08T18:11:44.550Z"
   },
   {
    "duration": 14,
    "start_time": "2023-08-08T18:11:44.567Z"
   },
   {
    "duration": 20,
    "start_time": "2023-08-08T18:11:44.587Z"
   },
   {
    "duration": 57,
    "start_time": "2023-08-08T18:11:44.609Z"
   },
   {
    "duration": 7,
    "start_time": "2023-08-08T18:11:44.668Z"
   },
   {
    "duration": 15,
    "start_time": "2023-08-08T18:11:44.677Z"
   },
   {
    "duration": 11,
    "start_time": "2023-08-08T18:11:44.700Z"
   },
   {
    "duration": 10,
    "start_time": "2023-08-08T18:11:44.714Z"
   },
   {
    "duration": 11,
    "start_time": "2023-08-08T18:11:44.730Z"
   },
   {
    "duration": 4,
    "start_time": "2023-08-08T18:11:44.743Z"
   },
   {
    "duration": 15,
    "start_time": "2023-08-08T18:11:44.749Z"
   },
   {
    "duration": 9,
    "start_time": "2023-08-08T18:11:44.766Z"
   },
   {
    "duration": 23,
    "start_time": "2023-08-08T18:11:44.777Z"
   },
   {
    "duration": 33,
    "start_time": "2023-08-08T18:11:44.802Z"
   },
   {
    "duration": 24,
    "start_time": "2023-08-08T18:11:44.837Z"
   },
   {
    "duration": 16,
    "start_time": "2023-08-08T18:11:44.864Z"
   },
   {
    "duration": 26,
    "start_time": "2023-08-08T18:11:44.882Z"
   },
   {
    "duration": 7,
    "start_time": "2023-08-08T18:11:44.910Z"
   },
   {
    "duration": 27,
    "start_time": "2023-08-08T18:11:44.921Z"
   },
   {
    "duration": 8,
    "start_time": "2023-08-08T18:11:44.949Z"
   },
   {
    "duration": 20,
    "start_time": "2023-08-08T18:19:39.608Z"
   },
   {
    "duration": 11,
    "start_time": "2023-08-08T18:22:58.357Z"
   },
   {
    "duration": 21,
    "start_time": "2023-08-08T18:24:37.387Z"
   },
   {
    "duration": 57,
    "start_time": "2023-08-09T15:52:25.730Z"
   },
   {
    "duration": 8,
    "start_time": "2023-08-09T15:52:43.059Z"
   },
   {
    "duration": 470,
    "start_time": "2023-08-09T15:52:55.996Z"
   },
   {
    "duration": 947,
    "start_time": "2023-08-09T15:52:56.469Z"
   },
   {
    "duration": 37,
    "start_time": "2023-08-09T15:52:57.418Z"
   },
   {
    "duration": 18,
    "start_time": "2023-08-09T15:52:57.457Z"
   },
   {
    "duration": 16,
    "start_time": "2023-08-09T15:52:57.477Z"
   },
   {
    "duration": 78,
    "start_time": "2023-08-09T15:52:57.495Z"
   },
   {
    "duration": 10,
    "start_time": "2023-08-09T15:52:57.575Z"
   },
   {
    "duration": 77,
    "start_time": "2023-08-09T15:52:57.587Z"
   },
   {
    "duration": 5,
    "start_time": "2023-08-09T15:52:57.666Z"
   },
   {
    "duration": 16,
    "start_time": "2023-08-09T15:52:57.673Z"
   },
   {
    "duration": 86,
    "start_time": "2023-08-09T15:52:57.691Z"
   },
   {
    "duration": 18,
    "start_time": "2023-08-09T15:52:57.779Z"
   },
   {
    "duration": 73,
    "start_time": "2023-08-09T15:52:57.798Z"
   },
   {
    "duration": 5,
    "start_time": "2023-08-09T15:52:57.873Z"
   },
   {
    "duration": 5,
    "start_time": "2023-08-09T15:52:57.880Z"
   },
   {
    "duration": 7,
    "start_time": "2023-08-09T15:52:57.886Z"
   },
   {
    "duration": 26,
    "start_time": "2023-08-09T15:52:57.895Z"
   },
   {
    "duration": 31,
    "start_time": "2023-08-09T15:52:57.934Z"
   },
   {
    "duration": 20,
    "start_time": "2023-08-09T15:52:57.967Z"
   },
   {
    "duration": 20,
    "start_time": "2023-08-09T15:52:57.989Z"
   },
   {
    "duration": 58,
    "start_time": "2023-08-09T15:52:58.011Z"
   },
   {
    "duration": 18,
    "start_time": "2023-08-09T15:52:58.071Z"
   },
   {
    "duration": 10,
    "start_time": "2023-08-09T15:53:04.051Z"
   },
   {
    "duration": 10,
    "start_time": "2023-08-09T15:53:12.062Z"
   },
   {
    "duration": 722,
    "start_time": "2023-08-09T16:25:13.784Z"
   },
   {
    "duration": 161,
    "start_time": "2023-08-09T16:25:14.508Z"
   },
   {
    "duration": 51,
    "start_time": "2023-08-09T16:25:14.670Z"
   },
   {
    "duration": 180,
    "start_time": "2023-08-09T16:25:14.725Z"
   },
   {
    "duration": 98,
    "start_time": "2023-08-09T16:25:14.910Z"
   },
   {
    "duration": 195,
    "start_time": "2023-08-09T16:25:15.014Z"
   },
   {
    "duration": 43,
    "start_time": "2023-08-09T16:25:15.214Z"
   },
   {
    "duration": 128,
    "start_time": "2023-08-09T16:25:15.262Z"
   },
   {
    "duration": 94,
    "start_time": "2023-08-09T16:25:15.393Z"
   },
   {
    "duration": 66,
    "start_time": "2023-08-09T16:25:15.491Z"
   },
   {
    "duration": 136,
    "start_time": "2023-08-09T16:25:15.558Z"
   },
   {
    "duration": 103,
    "start_time": "2023-08-09T16:25:15.695Z"
   },
   {
    "duration": 75,
    "start_time": "2023-08-09T16:25:15.816Z"
   },
   {
    "duration": 90,
    "start_time": "2023-08-09T16:25:15.892Z"
   },
   {
    "duration": 62,
    "start_time": "2023-08-09T16:25:15.984Z"
   },
   {
    "duration": 41,
    "start_time": "2023-08-09T16:25:16.049Z"
   },
   {
    "duration": 141,
    "start_time": "2023-08-09T16:25:16.092Z"
   },
   {
    "duration": 66,
    "start_time": "2023-08-09T16:25:16.243Z"
   },
   {
    "duration": 86,
    "start_time": "2023-08-09T16:25:16.310Z"
   },
   {
    "duration": 92,
    "start_time": "2023-08-09T16:25:16.399Z"
   },
   {
    "duration": 167,
    "start_time": "2023-08-09T16:25:16.493Z"
   },
   {
    "duration": 120,
    "start_time": "2023-08-09T16:25:16.662Z"
   },
   {
    "duration": 63,
    "start_time": "2023-08-09T16:25:27.914Z"
   },
   {
    "duration": 20,
    "start_time": "2023-08-09T16:27:28.898Z"
   },
   {
    "duration": 7,
    "start_time": "2023-08-09T16:27:52.663Z"
   },
   {
    "duration": 10,
    "start_time": "2023-08-09T16:28:09.564Z"
   },
   {
    "duration": 3,
    "start_time": "2023-08-09T16:28:13.395Z"
   },
   {
    "duration": 143,
    "start_time": "2023-08-09T16:28:13.410Z"
   },
   {
    "duration": 26,
    "start_time": "2023-08-09T16:28:13.558Z"
   },
   {
    "duration": 42,
    "start_time": "2023-08-09T16:28:13.587Z"
   },
   {
    "duration": 25,
    "start_time": "2023-08-09T16:28:13.642Z"
   },
   {
    "duration": 60,
    "start_time": "2023-08-09T16:28:13.669Z"
   },
   {
    "duration": 21,
    "start_time": "2023-08-09T16:28:13.741Z"
   },
   {
    "duration": 13,
    "start_time": "2023-08-09T16:28:13.764Z"
   },
   {
    "duration": 2,
    "start_time": "2023-08-09T16:28:13.779Z"
   },
   {
    "duration": 6,
    "start_time": "2023-08-09T16:28:13.784Z"
   },
   {
    "duration": 6,
    "start_time": "2023-08-09T16:28:13.791Z"
   },
   {
    "duration": 63,
    "start_time": "2023-08-09T16:28:13.799Z"
   },
   {
    "duration": 13,
    "start_time": "2023-08-09T16:28:13.864Z"
   },
   {
    "duration": 6,
    "start_time": "2023-08-09T16:28:13.878Z"
   },
   {
    "duration": 11,
    "start_time": "2023-08-09T16:28:13.885Z"
   },
   {
    "duration": 72,
    "start_time": "2023-08-09T16:28:13.898Z"
   },
   {
    "duration": 12,
    "start_time": "2023-08-09T16:28:13.972Z"
   },
   {
    "duration": 14,
    "start_time": "2023-08-09T16:28:13.986Z"
   },
   {
    "duration": 34,
    "start_time": "2023-08-09T16:28:14.022Z"
   },
   {
    "duration": 12,
    "start_time": "2023-08-09T16:28:14.058Z"
   },
   {
    "duration": 7,
    "start_time": "2023-08-09T16:28:14.072Z"
   },
   {
    "duration": 8,
    "start_time": "2023-08-09T16:28:14.081Z"
   },
   {
    "duration": 31,
    "start_time": "2023-08-09T16:28:28.694Z"
   },
   {
    "duration": 8,
    "start_time": "2023-08-09T16:28:35.368Z"
   },
   {
    "duration": 20,
    "start_time": "2023-08-09T16:28:39.935Z"
   },
   {
    "duration": 48,
    "start_time": "2023-08-09T16:29:03.295Z"
   },
   {
    "duration": 116,
    "start_time": "2023-08-09T16:30:49.559Z"
   },
   {
    "duration": 43,
    "start_time": "2023-08-09T16:33:16.119Z"
   },
   {
    "duration": 2,
    "start_time": "2023-08-09T16:35:47.492Z"
   },
   {
    "duration": 164,
    "start_time": "2023-08-09T16:35:47.496Z"
   },
   {
    "duration": 14,
    "start_time": "2023-08-09T16:35:47.662Z"
   },
   {
    "duration": 76,
    "start_time": "2023-08-09T16:35:47.678Z"
   },
   {
    "duration": 36,
    "start_time": "2023-08-09T16:35:47.756Z"
   },
   {
    "duration": 93,
    "start_time": "2023-08-09T16:35:47.794Z"
   },
   {
    "duration": 3,
    "start_time": "2023-08-09T16:35:47.889Z"
   },
   {
    "duration": 76,
    "start_time": "2023-08-09T16:35:47.894Z"
   },
   {
    "duration": 25,
    "start_time": "2023-08-09T16:35:47.971Z"
   },
   {
    "duration": 53,
    "start_time": "2023-08-09T16:35:47.998Z"
   },
   {
    "duration": 40,
    "start_time": "2023-08-09T16:35:48.053Z"
   },
   {
    "duration": 80,
    "start_time": "2023-08-09T16:35:48.094Z"
   },
   {
    "duration": 115,
    "start_time": "2023-08-09T16:35:48.175Z"
   },
   {
    "duration": 37,
    "start_time": "2023-08-09T16:35:48.292Z"
   },
   {
    "duration": 40,
    "start_time": "2023-08-09T16:35:48.331Z"
   },
   {
    "duration": 21,
    "start_time": "2023-08-09T16:35:48.372Z"
   },
   {
    "duration": 51,
    "start_time": "2023-08-09T16:35:48.394Z"
   },
   {
    "duration": 18,
    "start_time": "2023-08-09T16:35:48.447Z"
   },
   {
    "duration": 27,
    "start_time": "2023-08-09T16:35:48.466Z"
   },
   {
    "duration": 63,
    "start_time": "2023-08-09T16:35:48.494Z"
   },
   {
    "duration": 35,
    "start_time": "2023-08-09T16:35:48.559Z"
   },
   {
    "duration": 53,
    "start_time": "2023-08-09T16:35:48.595Z"
   },
   {
    "duration": 10,
    "start_time": "2023-08-09T16:36:00.360Z"
   },
   {
    "duration": 9,
    "start_time": "2023-08-09T16:36:58.050Z"
   },
   {
    "duration": 4,
    "start_time": "2023-08-09T16:37:14.593Z"
   },
   {
    "duration": 21,
    "start_time": "2023-08-09T16:38:45.126Z"
   },
   {
    "duration": 9,
    "start_time": "2023-08-09T16:39:08.424Z"
   },
   {
    "duration": 8,
    "start_time": "2023-08-09T16:42:07.652Z"
   },
   {
    "duration": 23,
    "start_time": "2023-08-09T16:42:19.865Z"
   },
   {
    "duration": 13,
    "start_time": "2023-08-09T16:43:09.244Z"
   },
   {
    "duration": 5,
    "start_time": "2023-08-09T16:46:35.461Z"
   },
   {
    "duration": 5,
    "start_time": "2023-08-09T16:46:41.755Z"
   },
   {
    "duration": 13,
    "start_time": "2023-08-09T16:47:15.698Z"
   },
   {
    "duration": 4,
    "start_time": "2023-08-09T16:47:17.634Z"
   },
   {
    "duration": 142,
    "start_time": "2023-08-09T16:47:17.650Z"
   },
   {
    "duration": 59,
    "start_time": "2023-08-09T16:47:17.794Z"
   },
   {
    "duration": 22,
    "start_time": "2023-08-09T16:47:17.856Z"
   },
   {
    "duration": 13,
    "start_time": "2023-08-09T16:47:17.879Z"
   },
   {
    "duration": 62,
    "start_time": "2023-08-09T16:47:17.895Z"
   },
   {
    "duration": 10,
    "start_time": "2023-08-09T16:47:17.958Z"
   },
   {
    "duration": 19,
    "start_time": "2023-08-09T16:47:17.970Z"
   },
   {
    "duration": 5,
    "start_time": "2023-08-09T16:47:17.990Z"
   },
   {
    "duration": 75,
    "start_time": "2023-08-09T16:47:17.996Z"
   },
   {
    "duration": 7,
    "start_time": "2023-08-09T16:47:18.073Z"
   },
   {
    "duration": 86,
    "start_time": "2023-08-09T16:47:18.081Z"
   },
   {
    "duration": 24,
    "start_time": "2023-08-09T16:47:18.169Z"
   },
   {
    "duration": 81,
    "start_time": "2023-08-09T16:47:18.197Z"
   },
   {
    "duration": 11,
    "start_time": "2023-08-09T16:47:18.281Z"
   },
   {
    "duration": 63,
    "start_time": "2023-08-09T16:47:18.294Z"
   },
   {
    "duration": 27,
    "start_time": "2023-08-09T16:47:18.362Z"
   },
   {
    "duration": 91,
    "start_time": "2023-08-09T16:47:18.391Z"
   },
   {
    "duration": 71,
    "start_time": "2023-08-09T16:47:18.486Z"
   },
   {
    "duration": 20,
    "start_time": "2023-08-09T16:47:18.566Z"
   },
   {
    "duration": 69,
    "start_time": "2023-08-09T16:47:18.588Z"
   },
   {
    "duration": 7,
    "start_time": "2023-08-09T16:48:48.542Z"
   },
   {
    "duration": 156,
    "start_time": "2023-08-09T16:52:30.163Z"
   },
   {
    "duration": 47,
    "start_time": "2023-08-09T17:01:05.115Z"
   },
   {
    "duration": 31,
    "start_time": "2023-08-09T17:01:08.340Z"
   },
   {
    "duration": 17,
    "start_time": "2023-08-09T17:02:32.908Z"
   },
   {
    "duration": 6,
    "start_time": "2023-08-09T17:05:16.029Z"
   },
   {
    "duration": 11,
    "start_time": "2023-08-09T17:18:27.378Z"
   },
   {
    "duration": 19,
    "start_time": "2023-08-09T17:21:51.790Z"
   },
   {
    "duration": 31,
    "start_time": "2023-08-09T17:21:52.631Z"
   },
   {
    "duration": 34,
    "start_time": "2023-08-09T17:22:28.530Z"
   },
   {
    "duration": 8,
    "start_time": "2023-08-09T17:22:51.885Z"
   },
   {
    "duration": 3,
    "start_time": "2023-08-09T17:22:56.188Z"
   },
   {
    "duration": 165,
    "start_time": "2023-08-09T17:22:56.193Z"
   },
   {
    "duration": 20,
    "start_time": "2023-08-09T17:22:56.360Z"
   },
   {
    "duration": 67,
    "start_time": "2023-08-09T17:22:56.382Z"
   },
   {
    "duration": 30,
    "start_time": "2023-08-09T17:22:56.455Z"
   },
   {
    "duration": 57,
    "start_time": "2023-08-09T17:22:56.487Z"
   },
   {
    "duration": 23,
    "start_time": "2023-08-09T17:22:56.548Z"
   },
   {
    "duration": 19,
    "start_time": "2023-08-09T17:22:56.573Z"
   },
   {
    "duration": 55,
    "start_time": "2023-08-09T17:22:56.594Z"
   },
   {
    "duration": 34,
    "start_time": "2023-08-09T17:22:56.650Z"
   },
   {
    "duration": 11,
    "start_time": "2023-08-09T17:22:56.687Z"
   },
   {
    "duration": 130,
    "start_time": "2023-08-09T17:22:56.699Z"
   },
   {
    "duration": 17,
    "start_time": "2023-08-09T17:22:56.834Z"
   },
   {
    "duration": 19,
    "start_time": "2023-08-09T17:22:56.853Z"
   },
   {
    "duration": 16,
    "start_time": "2023-08-09T17:22:56.875Z"
   },
   {
    "duration": 44,
    "start_time": "2023-08-09T17:22:56.893Z"
   },
   {
    "duration": 58,
    "start_time": "2023-08-09T17:22:56.938Z"
   },
   {
    "duration": 19,
    "start_time": "2023-08-09T17:22:56.998Z"
   },
   {
    "duration": 45,
    "start_time": "2023-08-09T17:22:57.018Z"
   },
   {
    "duration": 7,
    "start_time": "2023-08-09T17:22:57.064Z"
   },
   {
    "duration": 6,
    "start_time": "2023-08-09T17:22:57.072Z"
   },
   {
    "duration": 4,
    "start_time": "2023-08-09T17:22:57.079Z"
   },
   {
    "duration": 35,
    "start_time": "2023-08-09T17:23:35.326Z"
   },
   {
    "duration": 10,
    "start_time": "2023-08-09T17:49:46.750Z"
   },
   {
    "duration": 4,
    "start_time": "2023-08-09T17:49:57.092Z"
   },
   {
    "duration": 8,
    "start_time": "2023-08-09T17:49:57.668Z"
   },
   {
    "duration": 22,
    "start_time": "2023-08-09T17:51:48.921Z"
   },
   {
    "duration": 10,
    "start_time": "2023-08-09T21:15:57.471Z"
   },
   {
    "duration": 78,
    "start_time": "2023-08-09T21:15:58.032Z"
   },
   {
    "duration": 402,
    "start_time": "2023-08-09T21:16:09.688Z"
   },
   {
    "duration": 134,
    "start_time": "2023-08-09T21:16:10.093Z"
   },
   {
    "duration": 34,
    "start_time": "2023-08-09T21:16:10.229Z"
   },
   {
    "duration": 23,
    "start_time": "2023-08-09T21:16:10.266Z"
   },
   {
    "duration": 13,
    "start_time": "2023-08-09T21:16:10.291Z"
   },
   {
    "duration": 84,
    "start_time": "2023-08-09T21:16:10.306Z"
   },
   {
    "duration": 4,
    "start_time": "2023-08-09T21:16:10.393Z"
   },
   {
    "duration": 24,
    "start_time": "2023-08-09T21:16:10.399Z"
   },
   {
    "duration": 5,
    "start_time": "2023-08-09T21:16:10.424Z"
   },
   {
    "duration": 8,
    "start_time": "2023-08-09T21:16:10.432Z"
   },
   {
    "duration": 22,
    "start_time": "2023-08-09T21:16:10.442Z"
   },
   {
    "duration": 34,
    "start_time": "2023-08-09T21:16:10.466Z"
   },
   {
    "duration": 12,
    "start_time": "2023-08-09T21:16:10.502Z"
   },
   {
    "duration": 11,
    "start_time": "2023-08-09T21:16:10.516Z"
   },
   {
    "duration": 47,
    "start_time": "2023-08-09T21:16:10.530Z"
   },
   {
    "duration": 21,
    "start_time": "2023-08-09T21:16:10.580Z"
   },
   {
    "duration": 18,
    "start_time": "2023-08-09T21:16:10.602Z"
   },
   {
    "duration": 4,
    "start_time": "2023-08-09T21:16:10.622Z"
   },
   {
    "duration": 36,
    "start_time": "2023-08-09T21:16:10.628Z"
   },
   {
    "duration": 14,
    "start_time": "2023-08-09T21:16:10.666Z"
   },
   {
    "duration": 5,
    "start_time": "2023-08-09T21:16:10.683Z"
   },
   {
    "duration": 27,
    "start_time": "2023-08-09T21:16:10.690Z"
   }
  ],
  "colab": {
   "provenance": []
  },
  "kernelspec": {
   "display_name": "Python 3 (ipykernel)",
   "language": "python",
   "name": "python3"
  },
  "language_info": {
   "codemirror_mode": {
    "name": "ipython",
    "version": 3
   },
   "file_extension": ".py",
   "mimetype": "text/x-python",
   "name": "python",
   "nbconvert_exporter": "python",
   "pygments_lexer": "ipython3",
   "version": "3.9.16"
  },
  "toc": {
   "base_numbering": 1,
   "nav_menu": {},
   "number_sections": true,
   "sideBar": true,
   "skip_h1_title": true,
   "title_cell": "Table of Contents",
   "title_sidebar": "Contents",
   "toc_cell": false,
   "toc_position": {},
   "toc_section_display": true,
   "toc_window_display": false
  }
 },
 "nbformat": 4,
 "nbformat_minor": 5
}
