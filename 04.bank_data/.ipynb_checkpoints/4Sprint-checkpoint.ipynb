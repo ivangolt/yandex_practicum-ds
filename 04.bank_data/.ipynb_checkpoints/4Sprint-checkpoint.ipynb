{
 "cells": [
  {
   "cell_type": "markdown",
   "id": "4f11de00",
   "metadata": {
    "deletable": false,
    "editable": false,
    "id": "4f11de00"
   },
   "source": [
    "# Исследование надежности заемщиков"
   ]
  },
  {
   "cell_type": "markdown",
   "id": "f09d6878",
   "metadata": {
    "deletable": false,
    "editable": false,
    "id": "f09d6878"
   },
   "source": [
    "Это первая часть проекта, она будет проверена автоматически. Вторую часть проверит ревьюер. "
   ]
  },
  {
   "cell_type": "markdown",
   "id": "516620ee",
   "metadata": {
    "deletable": false,
    "editable": false,
    "id": "516620ee"
   },
   "source": [
    "## Откройте таблицу и изучите общую информацию о данных"
   ]
  },
  {
   "cell_type": "markdown",
   "id": "76a8a9ce",
   "metadata": {
    "deletable": false,
    "editable": false,
    "id": "76a8a9ce",
    "tags": [
     "start_task"
    ]
   },
   "source": [
    "**Задание 1. Импортируйте библиотеку pandas. Считайте данные из csv-файла в датафрейм и сохраните в переменную `data`. Путь к файлу:**\n",
    "\n",
    "`/datasets/data.csv`"
   ]
  },
  {
   "cell_type": "code",
   "execution_count": 3,
   "id": "fab207d0",
   "metadata": {
    "id": "fab207d0"
   },
   "outputs": [],
   "source": [
    "import pandas as pd"
   ]
  },
  {
   "cell_type": "code",
   "execution_count": 4,
   "id": "6c82b607",
   "metadata": {
    "id": "6c82b607"
   },
   "outputs": [],
   "source": [
    "data = pd.read_csv('/datasets/data.csv')"
   ]
  },
  {
   "cell_type": "markdown",
   "id": "08bbb5b3",
   "metadata": {
    "deletable": false,
    "editable": false,
    "id": "08bbb5b3",
    "tags": [
     "start_task"
    ]
   },
   "source": [
    "**Задание 2. Выведите первые 20 строчек датафрейма `data` на экран.**"
   ]
  },
  {
   "cell_type": "code",
   "execution_count": null,
   "id": "4ff33b36",
   "metadata": {
    "id": "4ff33b36"
   },
   "outputs": [],
   "source": [
    "data.head(20)"
   ]
  },
  {
   "cell_type": "markdown",
   "id": "c8f382ae",
   "metadata": {
    "deletable": false,
    "editable": false,
    "id": "c8f382ae",
    "tags": [
     "start_task"
    ]
   },
   "source": [
    "**Задание 3. Выведите основную информацию о датафрейме с помощью метода `info()`.**"
   ]
  },
  {
   "cell_type": "code",
   "execution_count": null,
   "id": "e1ed9908",
   "metadata": {
    "id": "e1ed9908"
   },
   "outputs": [],
   "source": [
    "data.info()"
   ]
  },
  {
   "cell_type": "markdown",
   "id": "f969a1cd",
   "metadata": {
    "deletable": false,
    "editable": false,
    "id": "f969a1cd"
   },
   "source": [
    "## Предобработка данных"
   ]
  },
  {
   "cell_type": "markdown",
   "id": "7283e864",
   "metadata": {
    "deletable": false,
    "editable": false,
    "id": "7283e864"
   },
   "source": [
    "### Удаление пропусков"
   ]
  },
  {
   "cell_type": "markdown",
   "id": "c9a0745e",
   "metadata": {
    "deletable": false,
    "editable": false,
    "id": "c9a0745e",
    "tags": [
     "start_task"
    ]
   },
   "source": [
    "**Задание 4. Выведите количество пропущенных значений для каждого столбца. Используйте комбинацию двух методов.**"
   ]
  },
  {
   "cell_type": "code",
   "execution_count": null,
   "id": "b7a096e1",
   "metadata": {
    "id": "b7a096e1"
   },
   "outputs": [],
   "source": [
    "data.isna().sum()"
   ]
  },
  {
   "cell_type": "markdown",
   "id": "c2578616",
   "metadata": {
    "deletable": false,
    "editable": false,
    "id": "c2578616",
    "tags": [
     "start_task"
    ]
   },
   "source": [
    "**Задание 5. В двух столбцах есть пропущенные значения. Один из них — `days_employed`. Пропуски в этом столбце вы обработаете на следующем этапе. Другой столбец с пропущенными значениями — `total_income` — хранит данные о доходах. На сумму дохода сильнее всего влияет тип занятости, поэтому заполнить пропуски в этом столбце нужно медианным значением по каждому типу из столбца `income_type`. Например, у человека с типом занятости `сотрудник` пропуск в столбце `total_income` должен быть заполнен медианным доходом среди всех записей с тем же типом.**"
   ]
  },
  {
   "cell_type": "code",
   "execution_count": null,
   "id": "e8afc4bc",
   "metadata": {
    "id": "e8afc4bc"
   },
   "outputs": [],
   "source": [
    "for income_type in data['income_type'].unique():\n",
    "    data.loc[(data['income_type'] == income_type) & (data['total_income'].isna()), 'total_income'] = \\\n",
    "    data.loc[(data['income_type'] == income_type), 'total_income'].median()"
   ]
  },
  {
   "cell_type": "markdown",
   "id": "ae986d46",
   "metadata": {
    "deletable": false,
    "editable": false,
    "id": "ae986d46"
   },
   "source": [
    "### Обработка аномальных значений"
   ]
  },
  {
   "cell_type": "markdown",
   "id": "b049cbae",
   "metadata": {
    "deletable": false,
    "editable": false,
    "id": "b049cbae",
    "tags": [
     "start_task"
    ]
   },
   "source": [
    "**Задание 6. В данных могут встречаться артефакты (аномалии) — значения, которые не отражают действительность и появились по какой-то ошибке. Таким артефактом будет отрицательное количество дней трудового стажа в столбце `days_employed`. Для реальных данных это нормально. Обработайте значения в этом столбце: замените все отрицательные значения положительными с помощью метода `abs()`.**"
   ]
  },
  {
   "cell_type": "code",
   "execution_count": null,
   "id": "187779b0",
   "metadata": {
    "id": "187779b0"
   },
   "outputs": [],
   "source": [
    "data['days_employed'] = data['days_employed'].abs()"
   ]
  },
  {
   "cell_type": "markdown",
   "id": "a13054c2",
   "metadata": {
    "deletable": false,
    "editable": false,
    "id": "a13054c2",
    "tags": [
     "start_task"
    ]
   },
   "source": [
    "**Задание 7. Для каждого типа занятости выведите медианное значение трудового стажа `days_employed` в днях.**"
   ]
  },
  {
   "cell_type": "code",
   "execution_count": null,
   "id": "f3f5810c",
   "metadata": {
    "id": "f3f5810c"
   },
   "outputs": [],
   "source": [
    "#data.groupby('income_type')['days_employed'].agg(mean='median').astype('int')\n",
    "data.groupby('income_type')['days_employed'].median()\n"
   ]
  },
  {
   "cell_type": "markdown",
   "id": "dbc3168c",
   "metadata": {
    "deletable": false,
    "editable": false,
    "id": "dbc3168c"
   },
   "source": [
    "У двух типов (безработные и пенсионеры) получатся аномально большие значения. Исправить такие значения сложно, поэтому оставьте их как есть."
   ]
  },
  {
   "cell_type": "markdown",
   "id": "ff4378c2",
   "metadata": {
    "deletable": false,
    "editable": false,
    "id": "ff4378c2",
    "tags": [
     "start_task"
    ]
   },
   "source": [
    "**Задание 8. Выведите перечень уникальных значений столбца `children`.**"
   ]
  },
  {
   "cell_type": "code",
   "execution_count": null,
   "id": "9bd0c232",
   "metadata": {
    "id": "9bd0c232"
   },
   "outputs": [],
   "source": [
    "data['children'].unique()"
   ]
  },
  {
   "cell_type": "markdown",
   "id": "8e911990",
   "metadata": {
    "deletable": false,
    "editable": false,
    "id": "8e911990",
    "tags": [
     "start_task"
    ]
   },
   "source": [
    "**Задание 9. В столбце `children` есть два аномальных значения. Удалите строки, в которых встречаются такие аномальные значения из датафрейма `data`.**"
   ]
  },
  {
   "cell_type": "code",
   "execution_count": null,
   "id": "6d5ba289",
   "metadata": {
    "id": "6d5ba289"
   },
   "outputs": [],
   "source": [
    "data = data[(data['children'] != -1) & (data['children'] != 20)]"
   ]
  },
  {
   "cell_type": "markdown",
   "id": "18d77455",
   "metadata": {
    "deletable": false,
    "editable": false,
    "id": "18d77455",
    "tags": [
     "start_task"
    ]
   },
   "source": [
    "**Задание 10. Ещё раз выведите перечень уникальных значений столбца `children`, чтобы убедиться, что артефакты удалены.**"
   ]
  },
  {
   "cell_type": "code",
   "execution_count": null,
   "id": "2c5fa92c",
   "metadata": {
    "id": "2c5fa92c"
   },
   "outputs": [],
   "source": [
    "data['children'].unique()"
   ]
  },
  {
   "cell_type": "markdown",
   "id": "0ec07dee",
   "metadata": {
    "deletable": false,
    "editable": false,
    "id": "0ec07dee"
   },
   "source": [
    "### Удаление пропусков (продолжение)"
   ]
  },
  {
   "cell_type": "markdown",
   "id": "0fc3ae3f",
   "metadata": {
    "deletable": false,
    "editable": false,
    "id": "0fc3ae3f",
    "tags": [
     "start_task"
    ]
   },
   "source": [
    "**Задание 11. Заполните пропуски в столбце `days_employed` медианными значениями по каждому типу занятости `income_type`.**"
   ]
  },
  {
   "cell_type": "code",
   "execution_count": null,
   "id": "e2aea7ac",
   "metadata": {
    "id": "e2aea7ac"
   },
   "outputs": [],
   "source": [
    "for income_type in data['income_type'].unique():\n",
    "    data.loc[(data['income_type'] == income_type) & (data['days_employed'].isna()), 'days_employed'] = \\\n",
    "    data.loc[data['income_type'] == income_type, 'days_employed'].median()"
   ]
  },
  {
   "cell_type": "markdown",
   "id": "97b0b795",
   "metadata": {
    "deletable": false,
    "editable": false,
    "id": "97b0b795",
    "tags": [
     "start_task"
    ]
   },
   "source": [
    "**Задание 12. Убедитесь, что все пропуски заполнены. Проверьте себя и ещё раз выведите количество пропущенных значений для каждого столбца с помощью двух методов.**"
   ]
  },
  {
   "cell_type": "code",
   "execution_count": null,
   "id": "79632a21",
   "metadata": {
    "id": "79632a21"
   },
   "outputs": [],
   "source": [
    "data.isna().sum()"
   ]
  },
  {
   "cell_type": "markdown",
   "id": "bd4aeb20",
   "metadata": {
    "deletable": false,
    "editable": false,
    "id": "bd4aeb20"
   },
   "source": [
    "### Изменение типов данных"
   ]
  },
  {
   "cell_type": "markdown",
   "id": "963bfa58",
   "metadata": {
    "deletable": false,
    "editable": false,
    "id": "963bfa58",
    "tags": [
     "start_task"
    ]
   },
   "source": [
    "**Задание 13. Замените вещественный тип данных в столбце `total_income` на целочисленный с помощью метода `astype()`.**"
   ]
  },
  {
   "cell_type": "code",
   "execution_count": null,
   "id": "73da6ea0",
   "metadata": {
    "id": "73da6ea0"
   },
   "outputs": [],
   "source": [
    "data['total_income'] = data['total_income'].astype(int)"
   ]
  },
  {
   "cell_type": "markdown",
   "id": "d290239e",
   "metadata": {
    "deletable": false,
    "editable": false,
    "id": "d290239e"
   },
   "source": [
    "### Обработка дубликатов"
   ]
  },
  {
   "cell_type": "markdown",
   "id": "1b5844fd",
   "metadata": {
    "deletable": false,
    "editable": false,
    "id": "1b5844fd",
    "tags": [
     "start_task"
    ]
   },
   "source": [
    "**Задание 14. Обработайте неявные дубликаты в столбце `education`. В этом столбце есть одни и те же значения, но записанные по-разному: с использованием заглавных и строчных букв. Приведите их к нижнему регистру.**"
   ]
  },
  {
   "cell_type": "code",
   "execution_count": null,
   "id": "3f2504b3",
   "metadata": {
    "id": "3f2504b3"
   },
   "outputs": [],
   "source": [
    "data['education'] = data['education'].str.lower()"
   ]
  },
  {
   "cell_type": "markdown",
   "id": "4c22acbc",
   "metadata": {
    "deletable": false,
    "editable": false,
    "id": "4c22acbc",
    "tags": [
     "start_task"
    ]
   },
   "source": [
    "**Задание 15. Выведите на экран количество строк-дубликатов в данных. Если такие строки присутствуют, удалите их.**"
   ]
  },
  {
   "cell_type": "code",
   "execution_count": null,
   "id": "d34a4325",
   "metadata": {
    "id": "d34a4325"
   },
   "outputs": [],
   "source": [
    "data.duplicated().sum()\n"
   ]
  },
  {
   "cell_type": "code",
   "execution_count": null,
   "id": "6e1a6499",
   "metadata": {
    "id": "6e1a6499"
   },
   "outputs": [],
   "source": [
    "data = data.drop_duplicates()"
   ]
  },
  {
   "cell_type": "markdown",
   "id": "e5686ccc",
   "metadata": {
    "deletable": false,
    "editable": false,
    "id": "e5686ccc"
   },
   "source": [
    "### Категоризация данных"
   ]
  },
  {
   "cell_type": "markdown",
   "id": "636e9acd",
   "metadata": {
    "deletable": false,
    "editable": false,
    "id": "636e9acd",
    "tags": [
     "start_task"
    ]
   },
   "source": [
    "**Задание 16. На основании диапазонов, указанных ниже, создайте в датафрейме `data` столбец `total_income_category` с категориями:**\n",
    "\n",
    "- 0–30000 — `'E'`;\n",
    "- 30001–50000 — `'D'`;\n",
    "- 50001–200000 — `'C'`;\n",
    "- 200001–1000000 — `'B'`;\n",
    "- 1000001 и выше — `'A'`.\n",
    "\n",
    "\n",
    "**Например, кредитополучателю с доходом 25000 нужно назначить категорию `'E'`, а клиенту, получающему 235000, — `'B'`. Используйте собственную функцию с именем `categorize_income()` и метод `apply()`.**"
   ]
  },
  {
   "cell_type": "code",
   "execution_count": null,
   "id": "880a77e5",
   "metadata": {
    "id": "880a77e5"
   },
   "outputs": [],
   "source": [
    "# создайте функцию categorize_income()\n",
    "def categorize_income(total_income):\n",
    "    \"\"\"Функция категоризирует столбец total_income\"\"\"\n",
    "    \n",
    "    if 0 <= total_income <= 30000:\n",
    "        return 'E'\n",
    "    \n",
    "    if 30001 <= total_income <= 50000:\n",
    "        return 'D'\n",
    "    \n",
    "    if 50001 <= total_income <= 200000:\n",
    "        return 'C'\n",
    "    \n",
    "    if  200001 <= total_income <= 1000000:\n",
    "        return 'B'\n",
    "    \n",
    "    if total_income > 1000001:\n",
    "        return 'A'\n",
    "    \n",
    "    "
   ]
  },
  {
   "cell_type": "code",
   "execution_count": null,
   "id": "6f25f161",
   "metadata": {
    "id": "6f25f161"
   },
   "outputs": [],
   "source": [
    "data['total_income_category'] = data['total_income'].apply(categorize_income)"
   ]
  },
  {
   "cell_type": "markdown",
   "id": "3363b685",
   "metadata": {
    "deletable": false,
    "editable": false,
    "id": "3363b685",
    "tags": [
     "start_task"
    ]
   },
   "source": [
    "**Задание 17. Выведите на экран перечень уникальных целей взятия кредита из столбца `purpose`.**"
   ]
  },
  {
   "cell_type": "code",
   "execution_count": null,
   "id": "e59f2c15",
   "metadata": {
    "id": "e59f2c15"
   },
   "outputs": [],
   "source": [
    "data['purpose'].unique()"
   ]
  },
  {
   "cell_type": "markdown",
   "id": "bb33e847",
   "metadata": {
    "deletable": false,
    "editable": false,
    "id": "bb33e847",
    "tags": [
     "start_task"
    ]
   },
   "source": [
    "**Задание 18. Создайте функцию, которая на основании данных из столбца `purpose` сформирует новый столбец `purpose_category`, в который войдут следующие категории:**\n",
    "\n",
    "- `'операции с автомобилем'`,\n",
    "- `'операции с недвижимостью'`,\n",
    "- `'проведение свадьбы'`,\n",
    "- `'получение образования'`.\n",
    "\n",
    "**Например, если в столбце `purpose` находится подстрока `'на покупку автомобиля'`, то в столбце `purpose_category` должна появиться строка `'операции с автомобилем'`.**\n",
    "\n",
    "**Используйте собственную функцию с именем `categorize_purpose()` и метод `apply()`. Изучите данные в столбце `purpose` и определите, какие подстроки помогут вам правильно определить категорию.**"
   ]
  },
  {
   "cell_type": "code",
   "execution_count": null,
   "id": "63909b83",
   "metadata": {
    "id": "63909b83"
   },
   "outputs": [],
   "source": [
    "# создайте функцию categorize_purpose()\n",
    "def categorize_purpose(purpose):\n",
    "    \"\"\"Функция категоризации по цели кредита purpose\"\"\"\n",
    "    \n",
    "    if purpose in ['приобретение автомобиля', 'на покупку своего автомобиля', \\\n",
    "    'автомобили', 'сделка с подержанным автомобилем','автомобиль','свой автомобиль', 'сделка с автомобилем' , \\\n",
    "    'на покупку автомобиля', 'на покупку подержанного автомобиля']:\n",
    "        return 'операции с автомобилем'\n",
    "    \n",
    "    if purpose in ['покупка жилья', 'операции с жильем', 'покупка жилья для семьи', 'покупка недвижимости', \\\n",
    "    'покупка коммерческой недвижимости', 'покупка жилой недвижимости', 'строительство собственной недвижимости', \\\n",
    "    'недвижимость', 'строительство недвижимости', 'операции с коммерческой недвижимостью' ,\\\n",
    "    'строительство жилой недвижимости', 'жилье', 'операции со своей недвижимостью', 'покупка своего жилья', \\\n",
    "    'операции с недвижимостью', 'покупка жилья для сдачи', 'ремонт жилью']:\n",
    "        return 'операции с недвижимостью'\n",
    "    \n",
    "    if purpose in ['свадьба' , 'на проведение свадьбы', 'сыграть свадьбу']:\n",
    "        return 'проведение свадьбы'\n",
    "    \n",
    "    if purpose in ['заняться высшим образованием', 'дополнительное образование', 'высшее образование', \\\n",
    "    'получение дополнительного образования', 'образование', 'получение образования' , 'профильное образование', \\\n",
    "    'получение высшего образования','заняться образованием']: \n",
    "        return 'получение образования'"
   ]
  },
  {
   "cell_type": "code",
   "execution_count": null,
   "id": "7cb4a81d",
   "metadata": {
    "id": "7cb4a81d"
   },
   "outputs": [],
   "source": [
    "data['purpose_category'] = data['purpose'].apply(categorize_purpose)"
   ]
  },
  {
   "cell_type": "code",
   "execution_count": null,
   "id": "d21f576f",
   "metadata": {},
   "outputs": [],
   "source": []
  },
  {
   "cell_type": "code",
   "execution_count": null,
   "id": "05f5db94",
   "metadata": {},
   "outputs": [],
   "source": []
  }
 ],
 "metadata": {
  "ExecuteTimeLog": [
   {
    "duration": 1270,
    "start_time": "2023-08-08T17:24:31.351Z"
   },
   {
    "duration": 33,
    "start_time": "2023-08-08T17:27:23.611Z"
   },
   {
    "duration": 77,
    "start_time": "2023-08-08T17:27:31.583Z"
   },
   {
    "duration": 36,
    "start_time": "2023-08-08T17:28:12.930Z"
   },
   {
    "duration": 10,
    "start_time": "2023-08-08T17:35:18.831Z"
   },
   {
    "duration": 58,
    "start_time": "2023-08-08T17:58:36.608Z"
   },
   {
    "duration": 11,
    "start_time": "2023-08-08T18:08:52.112Z"
   },
   {
    "duration": 6,
    "start_time": "2023-08-08T18:11:31.923Z"
   },
   {
    "duration": 3,
    "start_time": "2023-08-08T18:11:44.451Z"
   },
   {
    "duration": 93,
    "start_time": "2023-08-08T18:11:44.456Z"
   },
   {
    "duration": 15,
    "start_time": "2023-08-08T18:11:44.550Z"
   },
   {
    "duration": 14,
    "start_time": "2023-08-08T18:11:44.567Z"
   },
   {
    "duration": 20,
    "start_time": "2023-08-08T18:11:44.587Z"
   },
   {
    "duration": 57,
    "start_time": "2023-08-08T18:11:44.609Z"
   },
   {
    "duration": 7,
    "start_time": "2023-08-08T18:11:44.668Z"
   },
   {
    "duration": 15,
    "start_time": "2023-08-08T18:11:44.677Z"
   },
   {
    "duration": 11,
    "start_time": "2023-08-08T18:11:44.700Z"
   },
   {
    "duration": 10,
    "start_time": "2023-08-08T18:11:44.714Z"
   },
   {
    "duration": 11,
    "start_time": "2023-08-08T18:11:44.730Z"
   },
   {
    "duration": 4,
    "start_time": "2023-08-08T18:11:44.743Z"
   },
   {
    "duration": 15,
    "start_time": "2023-08-08T18:11:44.749Z"
   },
   {
    "duration": 9,
    "start_time": "2023-08-08T18:11:44.766Z"
   },
   {
    "duration": 23,
    "start_time": "2023-08-08T18:11:44.777Z"
   },
   {
    "duration": 33,
    "start_time": "2023-08-08T18:11:44.802Z"
   },
   {
    "duration": 24,
    "start_time": "2023-08-08T18:11:44.837Z"
   },
   {
    "duration": 16,
    "start_time": "2023-08-08T18:11:44.864Z"
   },
   {
    "duration": 26,
    "start_time": "2023-08-08T18:11:44.882Z"
   },
   {
    "duration": 7,
    "start_time": "2023-08-08T18:11:44.910Z"
   },
   {
    "duration": 27,
    "start_time": "2023-08-08T18:11:44.921Z"
   },
   {
    "duration": 8,
    "start_time": "2023-08-08T18:11:44.949Z"
   },
   {
    "duration": 20,
    "start_time": "2023-08-08T18:19:39.608Z"
   },
   {
    "duration": 11,
    "start_time": "2023-08-08T18:22:58.357Z"
   },
   {
    "duration": 21,
    "start_time": "2023-08-08T18:24:37.387Z"
   },
   {
    "duration": 57,
    "start_time": "2023-08-09T15:52:25.730Z"
   },
   {
    "duration": 8,
    "start_time": "2023-08-09T15:52:43.059Z"
   },
   {
    "duration": 470,
    "start_time": "2023-08-09T15:52:55.996Z"
   },
   {
    "duration": 947,
    "start_time": "2023-08-09T15:52:56.469Z"
   },
   {
    "duration": 37,
    "start_time": "2023-08-09T15:52:57.418Z"
   },
   {
    "duration": 18,
    "start_time": "2023-08-09T15:52:57.457Z"
   },
   {
    "duration": 16,
    "start_time": "2023-08-09T15:52:57.477Z"
   },
   {
    "duration": 78,
    "start_time": "2023-08-09T15:52:57.495Z"
   },
   {
    "duration": 10,
    "start_time": "2023-08-09T15:52:57.575Z"
   },
   {
    "duration": 77,
    "start_time": "2023-08-09T15:52:57.587Z"
   },
   {
    "duration": 5,
    "start_time": "2023-08-09T15:52:57.666Z"
   },
   {
    "duration": 16,
    "start_time": "2023-08-09T15:52:57.673Z"
   },
   {
    "duration": 86,
    "start_time": "2023-08-09T15:52:57.691Z"
   },
   {
    "duration": 18,
    "start_time": "2023-08-09T15:52:57.779Z"
   },
   {
    "duration": 73,
    "start_time": "2023-08-09T15:52:57.798Z"
   },
   {
    "duration": 5,
    "start_time": "2023-08-09T15:52:57.873Z"
   },
   {
    "duration": 5,
    "start_time": "2023-08-09T15:52:57.880Z"
   },
   {
    "duration": 7,
    "start_time": "2023-08-09T15:52:57.886Z"
   },
   {
    "duration": 26,
    "start_time": "2023-08-09T15:52:57.895Z"
   },
   {
    "duration": 31,
    "start_time": "2023-08-09T15:52:57.934Z"
   },
   {
    "duration": 20,
    "start_time": "2023-08-09T15:52:57.967Z"
   },
   {
    "duration": 20,
    "start_time": "2023-08-09T15:52:57.989Z"
   },
   {
    "duration": 58,
    "start_time": "2023-08-09T15:52:58.011Z"
   },
   {
    "duration": 18,
    "start_time": "2023-08-09T15:52:58.071Z"
   },
   {
    "duration": 10,
    "start_time": "2023-08-09T15:53:04.051Z"
   },
   {
    "duration": 10,
    "start_time": "2023-08-09T15:53:12.062Z"
   },
   {
    "duration": 722,
    "start_time": "2023-08-09T16:25:13.784Z"
   },
   {
    "duration": 161,
    "start_time": "2023-08-09T16:25:14.508Z"
   },
   {
    "duration": 51,
    "start_time": "2023-08-09T16:25:14.670Z"
   },
   {
    "duration": 180,
    "start_time": "2023-08-09T16:25:14.725Z"
   },
   {
    "duration": 98,
    "start_time": "2023-08-09T16:25:14.910Z"
   },
   {
    "duration": 195,
    "start_time": "2023-08-09T16:25:15.014Z"
   },
   {
    "duration": 43,
    "start_time": "2023-08-09T16:25:15.214Z"
   },
   {
    "duration": 128,
    "start_time": "2023-08-09T16:25:15.262Z"
   },
   {
    "duration": 94,
    "start_time": "2023-08-09T16:25:15.393Z"
   },
   {
    "duration": 66,
    "start_time": "2023-08-09T16:25:15.491Z"
   },
   {
    "duration": 136,
    "start_time": "2023-08-09T16:25:15.558Z"
   },
   {
    "duration": 103,
    "start_time": "2023-08-09T16:25:15.695Z"
   },
   {
    "duration": 75,
    "start_time": "2023-08-09T16:25:15.816Z"
   },
   {
    "duration": 90,
    "start_time": "2023-08-09T16:25:15.892Z"
   },
   {
    "duration": 62,
    "start_time": "2023-08-09T16:25:15.984Z"
   },
   {
    "duration": 41,
    "start_time": "2023-08-09T16:25:16.049Z"
   },
   {
    "duration": 141,
    "start_time": "2023-08-09T16:25:16.092Z"
   },
   {
    "duration": 66,
    "start_time": "2023-08-09T16:25:16.243Z"
   },
   {
    "duration": 86,
    "start_time": "2023-08-09T16:25:16.310Z"
   },
   {
    "duration": 92,
    "start_time": "2023-08-09T16:25:16.399Z"
   },
   {
    "duration": 167,
    "start_time": "2023-08-09T16:25:16.493Z"
   },
   {
    "duration": 120,
    "start_time": "2023-08-09T16:25:16.662Z"
   },
   {
    "duration": 63,
    "start_time": "2023-08-09T16:25:27.914Z"
   },
   {
    "duration": 20,
    "start_time": "2023-08-09T16:27:28.898Z"
   },
   {
    "duration": 7,
    "start_time": "2023-08-09T16:27:52.663Z"
   },
   {
    "duration": 10,
    "start_time": "2023-08-09T16:28:09.564Z"
   },
   {
    "duration": 3,
    "start_time": "2023-08-09T16:28:13.395Z"
   },
   {
    "duration": 143,
    "start_time": "2023-08-09T16:28:13.410Z"
   },
   {
    "duration": 26,
    "start_time": "2023-08-09T16:28:13.558Z"
   },
   {
    "duration": 42,
    "start_time": "2023-08-09T16:28:13.587Z"
   },
   {
    "duration": 25,
    "start_time": "2023-08-09T16:28:13.642Z"
   },
   {
    "duration": 60,
    "start_time": "2023-08-09T16:28:13.669Z"
   },
   {
    "duration": 21,
    "start_time": "2023-08-09T16:28:13.741Z"
   },
   {
    "duration": 13,
    "start_time": "2023-08-09T16:28:13.764Z"
   },
   {
    "duration": 2,
    "start_time": "2023-08-09T16:28:13.779Z"
   },
   {
    "duration": 6,
    "start_time": "2023-08-09T16:28:13.784Z"
   },
   {
    "duration": 6,
    "start_time": "2023-08-09T16:28:13.791Z"
   },
   {
    "duration": 63,
    "start_time": "2023-08-09T16:28:13.799Z"
   },
   {
    "duration": 13,
    "start_time": "2023-08-09T16:28:13.864Z"
   },
   {
    "duration": 6,
    "start_time": "2023-08-09T16:28:13.878Z"
   },
   {
    "duration": 11,
    "start_time": "2023-08-09T16:28:13.885Z"
   },
   {
    "duration": 72,
    "start_time": "2023-08-09T16:28:13.898Z"
   },
   {
    "duration": 12,
    "start_time": "2023-08-09T16:28:13.972Z"
   },
   {
    "duration": 14,
    "start_time": "2023-08-09T16:28:13.986Z"
   },
   {
    "duration": 34,
    "start_time": "2023-08-09T16:28:14.022Z"
   },
   {
    "duration": 12,
    "start_time": "2023-08-09T16:28:14.058Z"
   },
   {
    "duration": 7,
    "start_time": "2023-08-09T16:28:14.072Z"
   },
   {
    "duration": 8,
    "start_time": "2023-08-09T16:28:14.081Z"
   },
   {
    "duration": 31,
    "start_time": "2023-08-09T16:28:28.694Z"
   },
   {
    "duration": 8,
    "start_time": "2023-08-09T16:28:35.368Z"
   },
   {
    "duration": 20,
    "start_time": "2023-08-09T16:28:39.935Z"
   },
   {
    "duration": 48,
    "start_time": "2023-08-09T16:29:03.295Z"
   },
   {
    "duration": 116,
    "start_time": "2023-08-09T16:30:49.559Z"
   },
   {
    "duration": 43,
    "start_time": "2023-08-09T16:33:16.119Z"
   },
   {
    "duration": 2,
    "start_time": "2023-08-09T16:35:47.492Z"
   },
   {
    "duration": 164,
    "start_time": "2023-08-09T16:35:47.496Z"
   },
   {
    "duration": 14,
    "start_time": "2023-08-09T16:35:47.662Z"
   },
   {
    "duration": 76,
    "start_time": "2023-08-09T16:35:47.678Z"
   },
   {
    "duration": 36,
    "start_time": "2023-08-09T16:35:47.756Z"
   },
   {
    "duration": 93,
    "start_time": "2023-08-09T16:35:47.794Z"
   },
   {
    "duration": 3,
    "start_time": "2023-08-09T16:35:47.889Z"
   },
   {
    "duration": 76,
    "start_time": "2023-08-09T16:35:47.894Z"
   },
   {
    "duration": 25,
    "start_time": "2023-08-09T16:35:47.971Z"
   },
   {
    "duration": 53,
    "start_time": "2023-08-09T16:35:47.998Z"
   },
   {
    "duration": 40,
    "start_time": "2023-08-09T16:35:48.053Z"
   },
   {
    "duration": 80,
    "start_time": "2023-08-09T16:35:48.094Z"
   },
   {
    "duration": 115,
    "start_time": "2023-08-09T16:35:48.175Z"
   },
   {
    "duration": 37,
    "start_time": "2023-08-09T16:35:48.292Z"
   },
   {
    "duration": 40,
    "start_time": "2023-08-09T16:35:48.331Z"
   },
   {
    "duration": 21,
    "start_time": "2023-08-09T16:35:48.372Z"
   },
   {
    "duration": 51,
    "start_time": "2023-08-09T16:35:48.394Z"
   },
   {
    "duration": 18,
    "start_time": "2023-08-09T16:35:48.447Z"
   },
   {
    "duration": 27,
    "start_time": "2023-08-09T16:35:48.466Z"
   },
   {
    "duration": 63,
    "start_time": "2023-08-09T16:35:48.494Z"
   },
   {
    "duration": 35,
    "start_time": "2023-08-09T16:35:48.559Z"
   },
   {
    "duration": 53,
    "start_time": "2023-08-09T16:35:48.595Z"
   },
   {
    "duration": 10,
    "start_time": "2023-08-09T16:36:00.360Z"
   },
   {
    "duration": 9,
    "start_time": "2023-08-09T16:36:58.050Z"
   },
   {
    "duration": 4,
    "start_time": "2023-08-09T16:37:14.593Z"
   },
   {
    "duration": 21,
    "start_time": "2023-08-09T16:38:45.126Z"
   },
   {
    "duration": 9,
    "start_time": "2023-08-09T16:39:08.424Z"
   },
   {
    "duration": 8,
    "start_time": "2023-08-09T16:42:07.652Z"
   },
   {
    "duration": 23,
    "start_time": "2023-08-09T16:42:19.865Z"
   },
   {
    "duration": 13,
    "start_time": "2023-08-09T16:43:09.244Z"
   },
   {
    "duration": 5,
    "start_time": "2023-08-09T16:46:35.461Z"
   },
   {
    "duration": 5,
    "start_time": "2023-08-09T16:46:41.755Z"
   },
   {
    "duration": 13,
    "start_time": "2023-08-09T16:47:15.698Z"
   },
   {
    "duration": 4,
    "start_time": "2023-08-09T16:47:17.634Z"
   },
   {
    "duration": 142,
    "start_time": "2023-08-09T16:47:17.650Z"
   },
   {
    "duration": 59,
    "start_time": "2023-08-09T16:47:17.794Z"
   },
   {
    "duration": 22,
    "start_time": "2023-08-09T16:47:17.856Z"
   },
   {
    "duration": 13,
    "start_time": "2023-08-09T16:47:17.879Z"
   },
   {
    "duration": 62,
    "start_time": "2023-08-09T16:47:17.895Z"
   },
   {
    "duration": 10,
    "start_time": "2023-08-09T16:47:17.958Z"
   },
   {
    "duration": 19,
    "start_time": "2023-08-09T16:47:17.970Z"
   },
   {
    "duration": 5,
    "start_time": "2023-08-09T16:47:17.990Z"
   },
   {
    "duration": 75,
    "start_time": "2023-08-09T16:47:17.996Z"
   },
   {
    "duration": 7,
    "start_time": "2023-08-09T16:47:18.073Z"
   },
   {
    "duration": 86,
    "start_time": "2023-08-09T16:47:18.081Z"
   },
   {
    "duration": 24,
    "start_time": "2023-08-09T16:47:18.169Z"
   },
   {
    "duration": 81,
    "start_time": "2023-08-09T16:47:18.197Z"
   },
   {
    "duration": 11,
    "start_time": "2023-08-09T16:47:18.281Z"
   },
   {
    "duration": 63,
    "start_time": "2023-08-09T16:47:18.294Z"
   },
   {
    "duration": 27,
    "start_time": "2023-08-09T16:47:18.362Z"
   },
   {
    "duration": 91,
    "start_time": "2023-08-09T16:47:18.391Z"
   },
   {
    "duration": 71,
    "start_time": "2023-08-09T16:47:18.486Z"
   },
   {
    "duration": 20,
    "start_time": "2023-08-09T16:47:18.566Z"
   },
   {
    "duration": 69,
    "start_time": "2023-08-09T16:47:18.588Z"
   },
   {
    "duration": 7,
    "start_time": "2023-08-09T16:48:48.542Z"
   },
   {
    "duration": 156,
    "start_time": "2023-08-09T16:52:30.163Z"
   },
   {
    "duration": 47,
    "start_time": "2023-08-09T17:01:05.115Z"
   },
   {
    "duration": 31,
    "start_time": "2023-08-09T17:01:08.340Z"
   },
   {
    "duration": 17,
    "start_time": "2023-08-09T17:02:32.908Z"
   },
   {
    "duration": 6,
    "start_time": "2023-08-09T17:05:16.029Z"
   },
   {
    "duration": 11,
    "start_time": "2023-08-09T17:18:27.378Z"
   },
   {
    "duration": 19,
    "start_time": "2023-08-09T17:21:51.790Z"
   },
   {
    "duration": 31,
    "start_time": "2023-08-09T17:21:52.631Z"
   },
   {
    "duration": 34,
    "start_time": "2023-08-09T17:22:28.530Z"
   },
   {
    "duration": 8,
    "start_time": "2023-08-09T17:22:51.885Z"
   },
   {
    "duration": 3,
    "start_time": "2023-08-09T17:22:56.188Z"
   },
   {
    "duration": 165,
    "start_time": "2023-08-09T17:22:56.193Z"
   },
   {
    "duration": 20,
    "start_time": "2023-08-09T17:22:56.360Z"
   },
   {
    "duration": 67,
    "start_time": "2023-08-09T17:22:56.382Z"
   },
   {
    "duration": 30,
    "start_time": "2023-08-09T17:22:56.455Z"
   },
   {
    "duration": 57,
    "start_time": "2023-08-09T17:22:56.487Z"
   },
   {
    "duration": 23,
    "start_time": "2023-08-09T17:22:56.548Z"
   },
   {
    "duration": 19,
    "start_time": "2023-08-09T17:22:56.573Z"
   },
   {
    "duration": 55,
    "start_time": "2023-08-09T17:22:56.594Z"
   },
   {
    "duration": 34,
    "start_time": "2023-08-09T17:22:56.650Z"
   },
   {
    "duration": 11,
    "start_time": "2023-08-09T17:22:56.687Z"
   },
   {
    "duration": 130,
    "start_time": "2023-08-09T17:22:56.699Z"
   },
   {
    "duration": 17,
    "start_time": "2023-08-09T17:22:56.834Z"
   },
   {
    "duration": 19,
    "start_time": "2023-08-09T17:22:56.853Z"
   },
   {
    "duration": 16,
    "start_time": "2023-08-09T17:22:56.875Z"
   },
   {
    "duration": 44,
    "start_time": "2023-08-09T17:22:56.893Z"
   },
   {
    "duration": 58,
    "start_time": "2023-08-09T17:22:56.938Z"
   },
   {
    "duration": 19,
    "start_time": "2023-08-09T17:22:56.998Z"
   },
   {
    "duration": 45,
    "start_time": "2023-08-09T17:22:57.018Z"
   },
   {
    "duration": 7,
    "start_time": "2023-08-09T17:22:57.064Z"
   },
   {
    "duration": 6,
    "start_time": "2023-08-09T17:22:57.072Z"
   },
   {
    "duration": 4,
    "start_time": "2023-08-09T17:22:57.079Z"
   },
   {
    "duration": 35,
    "start_time": "2023-08-09T17:23:35.326Z"
   },
   {
    "duration": 10,
    "start_time": "2023-08-09T17:49:46.750Z"
   },
   {
    "duration": 4,
    "start_time": "2023-08-09T17:49:57.092Z"
   },
   {
    "duration": 8,
    "start_time": "2023-08-09T17:49:57.668Z"
   },
   {
    "duration": 22,
    "start_time": "2023-08-09T17:51:48.921Z"
   },
   {
    "duration": 10,
    "start_time": "2023-08-09T21:15:57.471Z"
   },
   {
    "duration": 78,
    "start_time": "2023-08-09T21:15:58.032Z"
   },
   {
    "duration": 402,
    "start_time": "2023-08-09T21:16:09.688Z"
   },
   {
    "duration": 134,
    "start_time": "2023-08-09T21:16:10.093Z"
   },
   {
    "duration": 34,
    "start_time": "2023-08-09T21:16:10.229Z"
   },
   {
    "duration": 23,
    "start_time": "2023-08-09T21:16:10.266Z"
   },
   {
    "duration": 13,
    "start_time": "2023-08-09T21:16:10.291Z"
   },
   {
    "duration": 84,
    "start_time": "2023-08-09T21:16:10.306Z"
   },
   {
    "duration": 4,
    "start_time": "2023-08-09T21:16:10.393Z"
   },
   {
    "duration": 24,
    "start_time": "2023-08-09T21:16:10.399Z"
   },
   {
    "duration": 5,
    "start_time": "2023-08-09T21:16:10.424Z"
   },
   {
    "duration": 8,
    "start_time": "2023-08-09T21:16:10.432Z"
   },
   {
    "duration": 22,
    "start_time": "2023-08-09T21:16:10.442Z"
   },
   {
    "duration": 34,
    "start_time": "2023-08-09T21:16:10.466Z"
   },
   {
    "duration": 12,
    "start_time": "2023-08-09T21:16:10.502Z"
   },
   {
    "duration": 11,
    "start_time": "2023-08-09T21:16:10.516Z"
   },
   {
    "duration": 47,
    "start_time": "2023-08-09T21:16:10.530Z"
   },
   {
    "duration": 21,
    "start_time": "2023-08-09T21:16:10.580Z"
   },
   {
    "duration": 18,
    "start_time": "2023-08-09T21:16:10.602Z"
   },
   {
    "duration": 4,
    "start_time": "2023-08-09T21:16:10.622Z"
   },
   {
    "duration": 36,
    "start_time": "2023-08-09T21:16:10.628Z"
   },
   {
    "duration": 14,
    "start_time": "2023-08-09T21:16:10.666Z"
   },
   {
    "duration": 5,
    "start_time": "2023-08-09T21:16:10.683Z"
   },
   {
    "duration": 27,
    "start_time": "2023-08-09T21:16:10.690Z"
   }
  ],
  "colab": {
   "provenance": []
  },
  "kernelspec": {
   "display_name": "Python 3 (ipykernel)",
   "language": "python",
   "name": "python3"
  },
  "language_info": {
   "codemirror_mode": {
    "name": "ipython",
    "version": 3
   },
   "file_extension": ".py",
   "mimetype": "text/x-python",
   "name": "python",
   "nbconvert_exporter": "python",
   "pygments_lexer": "ipython3",
   "version": "3.9.16"
  },
  "toc": {
   "base_numbering": 1,
   "nav_menu": {},
   "number_sections": true,
   "sideBar": true,
   "skip_h1_title": true,
   "title_cell": "Table of Contents",
   "title_sidebar": "Contents",
   "toc_cell": false,
   "toc_position": {},
   "toc_section_display": true,
   "toc_window_display": false
  }
 },
 "nbformat": 4,
 "nbformat_minor": 5
}
