{
 "cells": [
  {
   "cell_type": "markdown",
   "id": "569cf824",
   "metadata": {},
   "source": [
    "<span style=\"color:black;font-weight:700;font-size:32px\"> \n",
    "               HR аналитика компании 'Работа с заботой'\n",
    "</span>"
   ]
  },
  {
   "cell_type": "markdown",
   "id": "9fc2d238",
   "metadata": {},
   "source": [
    "<span style=\"color:black;font-weight:700;font-size:22px\"> \n",
    "              Описание проекта\n",
    "</span>\n",
    "\n",
    "HR-аналитики компании «Работа с заботой» помогают бизнесу оптимизировать управление персоналом: бизнес предоставляет данные, а аналитики предлагают, как избежать финансовых потерь и оттока сотрудников. В этом HR-аналитикам пригодится машинное обучение, с помощью которого получится быстрее и точнее отвечать на вопросы бизнеса.\n",
    "\n",
    "Компания предоставила данные с характеристиками сотрудников компании. Среди них — уровень удовлетворённости сотрудника работой в компании. Эту информацию получили из форм обратной связи: сотрудники заполняют тест-опросник, и по его результатам рассчитывается доля их удовлетворённости от 0 до 1, где 0 — совершенно неудовлетворён, 1 — полностью удовлетворён. \n",
    "Собирать данные такими опросниками не так легко: компания большая, и всех сотрудников надо сначала оповестить об опросе, а затем проследить, что все его прошли. \n",
    "\n",
    "У вас будет несколько задач. Первая — построить модель, которая сможет предсказать уровень удовлетворённости сотрудника на основе данных заказчика.\n",
    "\n",
    "Почему бизнесу это важно: удовлетворённость работой напрямую влияет на отток сотрудников. А предсказание оттока — одна из важнейших задач HR-аналитиков. Внезапные увольнения несут в себе риски для компании, особенно если уходит важный сотрудник.\n",
    "Ваша вторая задача — построить модель, которая сможет на основе данных заказчика предсказать то, что сотрудник уволится из компании.\n",
    "\n",
    "\n",
    "**Задача 1:** предсказание уровня удовлетворённости сотрудника\n",
    "\n",
    "\n",
    "**Задача 2:** предсказание увольнения сотрудника из компании\n",
    "Для этой задачи вы можете использовать те же входные признаки, что и в предыдущей задаче. Однако целевой признак отличается: это quit — увольнение сотрудника из компании.\n",
    "\n",
    "\n",
    "Входные признаки:\n",
    "\n",
    "- id — уникальный идентификатор сотрудника;\n",
    "- dept — отдел, в котором работает сотрудник;\n",
    "- level — уровень занимаемой должности;\n",
    "- workload — уровень загруженности сотрудника;\n",
    "- employment_years — длительность работы в компании (в годах);\n",
    "- last_year_promo — показывает, было ли повышение за последний год;\n",
    "- last_year_violations — показывает, нарушал ли сотрудник трудовой договор за последний год;\n",
    "- supervisor_evaluation — оценка качества работы сотрудника, которую дал руководитель;\n",
    "- salary — ежемесячная зарплата сотрудника;\n",
    "- job_satisfaction_rate — уровень удовлетворённости сотрудника работой в компании, целевой признак."
   ]
  },
  {
   "cell_type": "markdown",
   "id": "383678b9",
   "metadata": {},
   "source": [
    "<span style=\"color:black;font-weight:700;font-size:22px\"> \n",
    "              План работы\n",
    " </span>\n",
    " \n",
    "**Задача 1** \n",
    "\n",
    "**Целевой признак** - Уровень удовлетворенности\n",
    " \n",
    "1) Загрузка данных\n",
    "\n",
    "2) Предобработка данных\n",
    "\n",
    "3) Исследовательский анализ данных\n",
    "\n",
    "4) Подготовка данных\n",
    "\n",
    "5) Обучение моделей\n",
    "\n",
    "6) Вывод\n",
    "\n",
    "**Задача 2**\n",
    "\n",
    "**Целевой признак** - увольнений сотрудника из компании\n",
    "\n",
    " \n",
    "1) Загрузка данных\n",
    "\n",
    "2) Предобработка данных\n",
    "\n",
    "3) Исследовательский анализ данных\n",
    "\n",
    "4) Добавление нового входного признака\n",
    "\n",
    "5) Подготовка данных\n",
    "\n",
    "6) Обучение модели\n",
    "\n",
    "7) Выводы"
   ]
  },
  {
   "cell_type": "code",
   "execution_count": 81,
   "id": "d1559e27",
   "metadata": {},
   "outputs": [],
   "source": [
    "import time\n",
    "start_time = time.time()\n",
    "start_time"
   ]
  },
  {
   "cell_type": "code",
   "execution_count": 82,
   "id": "652553c9",
   "metadata": {},
   "outputs": [],
   "source": [
    "import pandas as pd\n",
    "import numpy as np\n",
    "import seaborn as sns\n",
    "import matplotlib.pyplot as plt\n",
    "from phik import phik_matrix\n",
    "from phik.report import plot_correlation_matrix\n",
    "from sklearn.linear_model import LogisticRegression, LinearRegression, SGDRegressor\n",
    "from sklearn.svm import SVC, SVR\n",
    "from sklearn.neighbors import KNeighborsClassifier\n",
    "from sklearn.tree import DecisionTreeClassifier, DecisionTreeRegressor, plot_tree\n",
    "from sklearn.preprocessing import (OneHotEncoder, OrdinalEncoder, StandardScaler, \n",
    "                                   MinMaxScaler, MaxAbsScaler, OrdinalEncoder,\n",
    "                                  RobustScaler)\n",
    "\n",
    "from sklearn.pipeline import Pipeline\n",
    "from sklearn.compose import ColumnTransformer\n",
    "from sklearn.model_selection import train_test_split, GridSearchCV, RandomizedSearchCV, cross_val_score\n",
    "from sklearn.metrics import (accuracy_score, precision_score, recall_score,\n",
    "                             roc_auc_score, r2_score, roc_curve,RocCurveDisplay, make_scorer,\n",
    "                            mean_absolute_error, mean_squared_error, r2_score)\n",
    "from sklearn.impute import SimpleImputer, KNNImputer\n",
    "from sklearn.ensemble import RandomForestClassifier\n",
    "\n",
    "\n"
   ]
  },
  {
   "cell_type": "markdown",
   "id": "1f417b45",
   "metadata": {},
   "source": [
    "<span style=\"color:black;font-weight:700;font-size:22px\"> \n",
    "               Задача 1: предсказание уровня удовлетворённости сотрудника\n",
    "</span>"
   ]
  },
  {
   "cell_type": "markdown",
   "id": "de1bfa17",
   "metadata": {},
   "source": [
    "# Загрузка данных"
   ]
  },
  {
   "cell_type": "code",
   "execution_count": 83,
   "id": "69006c56",
   "metadata": {},
   "outputs": [],
   "source": [
    "try:\n",
    "    train_job_satisfaction_df = pd.read_csv('/datasets/train_job_satisfaction_rate.csv', index_col='id')\n",
    "    test_features_df = pd.read_csv('/datasets/test_features.csv', index_col='id')\n",
    "    test_target_job_satisfaction_df = pd.read_csv('/datasets/test_target_job_satisfaction_rate.csv', index_col='id')\n",
    "    \n",
    "    \n",
    "except:\n",
    "    train_job_satisfaction_df = pd.read_csv('https://code.s3.yandex.net/datasets/train_job_satisfaction_rate.csv', index_col='id')\n",
    "    test_features_df = pd.read_csv('https://code.s3.yandex.net/datasets/test_features.csv', index_col='id')\n",
    "    test_target_job_satisfaction_df = pd.read_csv('https://code.s3.yandex.net/datasets/test_target_job_satisfaction_rate.csv',index_col='id')\n",
    "    \n"
   ]
  },
  {
   "cell_type": "code",
   "execution_count": 84,
   "id": "c8e6f7b2",
   "metadata": {},
   "outputs": [],
   "source": [
    "train_job_satisfaction_df.head()"
   ]
  },
  {
   "cell_type": "code",
   "execution_count": 85,
   "id": "5614a69c",
   "metadata": {},
   "outputs": [],
   "source": [
    "train_job_satisfaction_df.info()"
   ]
  },
  {
   "cell_type": "code",
   "execution_count": 86,
   "id": "32d073ad",
   "metadata": {},
   "outputs": [],
   "source": [
    "test_features_df.head()"
   ]
  },
  {
   "cell_type": "code",
   "execution_count": 87,
   "id": "af49d24d",
   "metadata": {},
   "outputs": [],
   "source": [
    "test_features_df.info()"
   ]
  },
  {
   "cell_type": "code",
   "execution_count": 88,
   "id": "30b6dd20",
   "metadata": {},
   "outputs": [],
   "source": [
    "test_target_job_satisfaction_df.head()"
   ]
  },
  {
   "cell_type": "code",
   "execution_count": 89,
   "id": "b86dde60",
   "metadata": {},
   "outputs": [],
   "source": [
    "test_target_job_satisfaction_df.info()"
   ]
  },
  {
   "cell_type": "markdown",
   "id": "64b8719a",
   "metadata": {},
   "source": [
    "<span style=\"color:black;font-weight:700;font-size:16px\"> \n",
    "             Вывод\n",
    "</span>\n",
    "\n",
    "Датасет train_job_satisfaction_df содержит 4000 записей и 9 переменных. Столбцы dept и level имеют пропуски, которые необходимо обработать. **Данная выборка является тренировочной**.(X_train)\n",
    "\n",
    "Датасет test_features_df содержит 2000 записей и 8 признаков. Столбцы dept и level имеют пропуски, которые необходимо обработать. **Данная выборка содержит в себе входные признаки тестовой выборки**.(X_test)\n",
    "\n",
    "Датасет test_target_job_satisfaction_df содержит 2000 записей . Датасет **признак целевой переменной тестовой выборки**(y_true)"
   ]
  },
  {
   "cell_type": "markdown",
   "id": "62e00918",
   "metadata": {},
   "source": [
    "# Предобработка данных"
   ]
  },
  {
   "cell_type": "code",
   "execution_count": 90,
   "id": "0d3ad664",
   "metadata": {
    "scrolled": false
   },
   "outputs": [],
   "source": [
    "numeric_cols = train_job_satisfaction_df.select_dtypes(exclude='object').columns\n",
    "\n",
    "for col in numeric_cols:\n",
    "    sns.displot(train_job_satisfaction_df[col], kde=True, bins=60)\n",
    "    plt.title(f\"Гистограмма для {col}\")\n",
    "    plt.xlabel(col)\n",
    "    plt.ylabel(\"Frequency\")"
   ]
  },
  {
   "cell_type": "markdown",
   "id": "d86d0cae",
   "metadata": {},
   "source": [
    "Данные не содержат явных выбросов\n"
   ]
  },
  {
   "cell_type": "code",
   "execution_count": 91,
   "id": "34502ad3",
   "metadata": {},
   "outputs": [],
   "source": [
    "object_columns = train_job_satisfaction_df.select_dtypes(include='object').columns\n",
    "\n",
    "for col in object_columns:\n",
    "    print(train_job_satisfaction_df[col].value_counts())\n",
    "    print()"
   ]
  },
  {
   "cell_type": "markdown",
   "id": "f5e206e6",
   "metadata": {},
   "source": [
    "В данных отстутсвуют неявные дубликаты текстовых столбцах"
   ]
  },
  {
   "cell_type": "code",
   "execution_count": 92,
   "id": "ac6a9325",
   "metadata": {},
   "outputs": [],
   "source": [
    "train_job_satisfaction_df.index.duplicated().sum()\n"
   ]
  },
  {
   "cell_type": "markdown",
   "id": "cf206ed1",
   "metadata": {},
   "source": [
    "Дубликаты в по id сотрудников также отстутсвуют"
   ]
  },
  {
   "cell_type": "code",
   "execution_count": 93,
   "id": "3b36b782",
   "metadata": {},
   "outputs": [],
   "source": [
    "train_job_satisfaction_df.isna().mean()"
   ]
  },
  {
   "cell_type": "markdown",
   "id": "bff508ec",
   "metadata": {},
   "source": [
    "В двух столбцах присутствуют пропуски, соответсвенно обработаем их в пайплайне обработки категириальных столбцов на этапе подготовки данных"
   ]
  },
  {
   "cell_type": "markdown",
   "id": "9d0c0e06",
   "metadata": {},
   "source": [
    "## Обработка test_features_df"
   ]
  },
  {
   "cell_type": "code",
   "execution_count": 94,
   "id": "961625b5",
   "metadata": {},
   "outputs": [],
   "source": [
    "test_features_df.isna().mean()"
   ]
  },
  {
   "cell_type": "markdown",
   "id": "1f4a091d",
   "metadata": {},
   "source": [
    "Пропуски будут также обработаны с использованием пайпланов предобработки данных\n"
   ]
  },
  {
   "cell_type": "code",
   "execution_count": 95,
   "id": "14572191",
   "metadata": {},
   "outputs": [],
   "source": [
    "test_features_df.index.duplicated().sum()"
   ]
  },
  {
   "cell_type": "code",
   "execution_count": 96,
   "id": "c3d0719e",
   "metadata": {},
   "outputs": [],
   "source": [
    "object_columns = test_features_df.select_dtypes(include='object').columns\n",
    "\n",
    "for col in object_columns:\n",
    "    print(test_features_df[col].value_counts())\n",
    "    print()"
   ]
  },
  {
   "cell_type": "markdown",
   "id": "6de4f4b0",
   "metadata": {},
   "source": [
    "## Обработка test_target_job_satisfaction_df"
   ]
  },
  {
   "cell_type": "code",
   "execution_count": 97,
   "id": "2b29ddc6",
   "metadata": {},
   "outputs": [],
   "source": [
    "test_target_job_satisfaction_df.head()"
   ]
  },
  {
   "cell_type": "code",
   "execution_count": 98,
   "id": "7c5f1fd4",
   "metadata": {},
   "outputs": [],
   "source": [
    "test_features_df.head()"
   ]
  },
  {
   "cell_type": "markdown",
   "id": "3b53d6fc",
   "metadata": {},
   "source": [
    "Как можно заметить в тестовых выборках не совпдают индексы, поэтому проверим совпадают ли уникальные индексы в двух датасетах и расположим их в одинаковом порядке для получения точных прогнозов."
   ]
  },
  {
   "cell_type": "code",
   "execution_count": 99,
   "id": "f27b4845",
   "metadata": {},
   "outputs": [],
   "source": [
    "differing_indices = test_features_df.index.symmetric_difference(test_target_job_satisfaction_df.index)\n",
    "\n",
    "if differing_indices.empty:\n",
    "    print(\"Все индексы совпадают.\")\n",
    "else:\n",
    "    print(f\"Различающиеся индексы: {differing_indices}\")"
   ]
  },
  {
   "cell_type": "markdown",
   "id": "9f52f9be",
   "metadata": {},
   "source": [
    "Так все индексы в датасетах совпадают, расположим индексы в одинкавом порядке для двух датасетов"
   ]
  },
  {
   "cell_type": "code",
   "execution_count": 100,
   "id": "983c17eb",
   "metadata": {},
   "outputs": [],
   "source": [
    "test_features_df = test_features_df.reindex(test_target_job_satisfaction_df.index)"
   ]
  },
  {
   "cell_type": "code",
   "execution_count": 101,
   "id": "ffff0617",
   "metadata": {},
   "outputs": [],
   "source": [
    "test_features_df.head(10)"
   ]
  },
  {
   "cell_type": "code",
   "execution_count": 102,
   "id": "3174e65b",
   "metadata": {},
   "outputs": [],
   "source": [
    "test_target_job_satisfaction_df.head(10)"
   ]
  },
  {
   "cell_type": "markdown",
   "id": "9d22de1d",
   "metadata": {},
   "source": [
    "Значения в категириальных признаках в тренировочной и тестовой выборках совпадают и не нуждаются в доп. предобработке."
   ]
  },
  {
   "cell_type": "markdown",
   "id": "10392ae5",
   "metadata": {},
   "source": [
    "<span style=\"color:black;font-weight:700;font-size:16px\"> \n",
    "             Вывод\n",
    "</span>\n",
    "\n",
    "На этапе предобработки данных датасеты были изучены на предмет наличия пропусков, дубликатов (явных, неявных) и аномалий. Пропуски в данных будут обработаны на этапе в пайплайна на этапе подготовки данных."
   ]
  },
  {
   "cell_type": "markdown",
   "id": "69246a98",
   "metadata": {},
   "source": [
    "# Исследовательский анализ"
   ]
  },
  {
   "cell_type": "markdown",
   "id": "a1a460e9",
   "metadata": {},
   "source": [
    "Проведем исследовательский анализ тренировочного датасета"
   ]
  },
  {
   "cell_type": "code",
   "execution_count": 103,
   "id": "2c158d35",
   "metadata": {},
   "outputs": [],
   "source": [
    "numeric_columns = train_job_satisfaction_df.select_dtypes(include=['number'])\n",
    "columns = numeric_columns.columns\n",
    "\n",
    "fig, axes = plt.subplots(3, 3, figsize=(15, 15))\n",
    "\n",
    "for i, column in enumerate(columns):\n",
    "    row = i // 3\n",
    "    col = i % 3\n",
    "    ax = axes[row, col]\n",
    "\n",
    "    numeric_columns.boxplot(column=column, ax=ax)\n",
    "    ax.set_title(f'Ящик с усами для {column}')\n",
    "    ax.set_ylabel('Значения')\n",
    "    ax.grid(False)\n",
    "\n",
    "for i in range(len(columns), 9):\n",
    "    row = i // 3\n",
    "    col = i % 3\n",
    "    fig.delaxes(axes[row, col])\n",
    "\n",
    "plt.tight_layout()\n",
    "plt.show()\n"
   ]
  },
  {
   "cell_type": "markdown",
   "id": "97bb08ae",
   "metadata": {},
   "source": [
    "Как можно заметить числовый столбцы распределены в разных диапазонах данных, поэтому при построении моделей воспользуемся масштабированием числовых признаков, так мы сможем объективнее оценивать значимость признаков."
   ]
  },
  {
   "cell_type": "code",
   "execution_count": 104,
   "id": "be14a989",
   "metadata": {
    "scrolled": false
   },
   "outputs": [],
   "source": [
    "for col in object_columns:\n",
    "    train_job_satisfaction_df[col].value_counts().plot(kind='bar', color='skyblue', edgecolor='black')\n",
    "\n",
    "    for i, value in enumerate(train_job_satisfaction_df[col].value_counts()):\n",
    "        plt.text(i, value, f'{value:.2f}', ha='center', va='bottom', fontsize=12)\n",
    "\n",
    "    plt.xlabel('Категория', fontsize=14)\n",
    "    plt.ylabel('Среднее значение', fontsize=14)\n",
    "    plt.title(f'Распределение {col}', fontsize=16)\n",
    "    plt.gcf().set_size_inches(10, 6)\n",
    "    plt.show()"
   ]
  },
  {
   "cell_type": "markdown",
   "id": "7293bf80",
   "metadata": {},
   "source": [
    "Средняя зарплата сотрудников - 33926 у.е.\\\n",
    "Средняя оценка руководителя - 3.4.\\\n",
    "Средний уровень удовлетворенности сотрудника в компании - 0.55 [0,1]"
   ]
  },
  {
   "cell_type": "markdown",
   "id": "e7623710",
   "metadata": {},
   "source": [
    "Самые популярный отделы в компании - dept и technology, в отделе hr работает меньше всего людей.\\\n",
    "В компании больше всего сотрудников уровня junior и middle, сотрудников уровня sinior меньшк всего.\\\n",
    "В среднем больше всего сотрудников в компании имеют средний уровень нагрузки, меньше всего высокий.\\\n",
    "Только 120 человек получили повышения за последний год, остальные проработали без повышения по должности.\\ \n",
    "559 человек в компании нарушили трудовой договор за последний год."
   ]
  },
  {
   "cell_type": "markdown",
   "id": "2043f927",
   "metadata": {},
   "source": [
    "Категориальные столбцы обработаем следующими образом: Признаки 'dept' 'last_year_promo, last_year_violations обработаем OneHotEncoder, признаки 'level' в порядке [junior, middle, sinior], признак 'workload' в порядке [low, medium, high] обработаем с помощью OrdinalEncdoder в приведенном порядке."
   ]
  },
  {
   "cell_type": "code",
   "execution_count": 105,
   "id": "e1013254",
   "metadata": {},
   "outputs": [],
   "source": [
    "train_job_satisfaction_df.head()"
   ]
  },
  {
   "cell_type": "markdown",
   "id": "ea14c886",
   "metadata": {},
   "source": [
    "Исследуем целевой признак job_satisfaction_rate.\n"
   ]
  },
  {
   "cell_type": "code",
   "execution_count": 106,
   "id": "b5f849ac",
   "metadata": {
    "scrolled": false
   },
   "outputs": [],
   "source": [
    "col_to_plot_scatter = ['employment_years','supervisor_evaluation','salary']\n",
    "fig, axes = plt.subplots(len(col_to_plot_scatter), 1, figsize=(8, 25))\n",
    "sns.set_palette(\"deep\")\n",
    "\n",
    "for i, col in enumerate(col_to_plot_scatter):\n",
    "    sns.set_palette(\"pastel\")\n",
    "    sns.regplot(x='job_satisfaction_rate', y=col, data=train_job_satisfaction_df , ax=axes[i],  \n",
    "                line_kws={\"color\": 'red'}, scatter_kws={\"color\": 'skyblue'})\n",
    "    axes[i].set_xlabel('job_satisfaction_rate')\n",
    "    axes[i].set_ylabel(col)\n",
    "    axes[i].set_title(f'Диаграмма рассеяния для {col} и job_satisfaction_rate')\n",
    "\n",
    "plt.tight_layout()\n",
    "plt.show()"
   ]
  },
  {
   "cell_type": "markdown",
   "id": "0e07f5a0",
   "metadata": {},
   "source": [
    "Как можно заметить из графиков скаттерплота положительную корреляцию с признакми employment_years  и supervisor_evaluation\tи менее слабую корреляцию с salary. "
   ]
  },
  {
   "cell_type": "markdown",
   "id": "fae74da8",
   "metadata": {},
   "source": [
    "Построим матрицу корреляций, проверим наличие мултиколлинеарности в признаках\n"
   ]
  },
  {
   "cell_type": "code",
   "execution_count": 107,
   "id": "8788d027",
   "metadata": {},
   "outputs": [],
   "source": [
    "continuos_cols = ['salary', 'job_satisfaction_rate']\n",
    "\n",
    "def plot_phik_correlation_matrix(dataset):\n",
    "    phik_correlation = phik_matrix(dataset, interval_cols=continuos_cols)\n",
    "\n",
    "    plot_correlation_matrix(phik_correlation.values,\n",
    "                       x_labels=phik_correlation.columns,\n",
    "                       y_labels=phik_correlation.index,\n",
    "                       vmin=0, vmax=1, \n",
    "                       color_map='Greens', \n",
    "                       title=r'correlation $\\phi_K$',\n",
    "                       fontsize_factor=1.5,\n",
    "                       figsize=(12,6))\n",
    "\n",
    "plot_phik_correlation_matrix(train_job_satisfaction_df)"
   ]
  },
  {
   "cell_type": "markdown",
   "id": "53d592da",
   "metadata": {},
   "source": [
    "Из матрицы корреляций можно отметить, что мультиколлинеарные столбцы отсутсвуют, но при этом можно заметить, что наблюдается  коррелляция между целевым признаком и следующими признаками: supervisor_evaluation, last_year_violations."
   ]
  },
  {
   "cell_type": "markdown",
   "id": "a2bc26b1",
   "metadata": {},
   "source": [
    "<span style=\"color:black;font-weight:700;font-size:16px\"> \n",
    "             Вывод\n",
    "</span>\n",
    "\n",
    "На этапе исследовательского анализа были изучены числовые и категориальные признаки, числовые будут обработаны с помощью масштабирования, категориальные с помощью кодировщиков (OrdinalEncoder, OneHotEncoder).\n",
    "\n",
    "Также корреляционный анализ показал отстутвие мультиколлинеарности между признаками в данных, а также отсутствие утечке целевого признака."
   ]
  },
  {
   "cell_type": "markdown",
   "id": "a61fdf9a",
   "metadata": {},
   "source": [
    "# Подготовка данных"
   ]
  },
  {
   "cell_type": "markdown",
   "id": "eefa3715",
   "metadata": {},
   "source": [
    "На данном этапе реализуем пайплайн обработки датасетов, который будет включать в себя обработку пропусков , масштабирование числовых признаков и кодировку категориальных столбцов."
   ]
  },
  {
   "cell_type": "code",
   "execution_count": 108,
   "id": "034bb6cc",
   "metadata": {},
   "outputs": [],
   "source": [
    "train_job_satisfaction_df.head()"
   ]
  },
  {
   "cell_type": "code",
   "execution_count": 109,
   "id": "01934a70",
   "metadata": {},
   "outputs": [],
   "source": [
    "X_train = train_job_satisfaction_df.drop(columns=['job_satisfaction_rate'], axis=1)\n",
    "y_train = train_job_satisfaction_df['job_satisfaction_rate']\n",
    "\n",
    "X_test = test_features_df\n",
    "y_test = test_target_job_satisfaction_df"
   ]
  },
  {
   "cell_type": "code",
   "execution_count": 110,
   "id": "7a38fcec",
   "metadata": {},
   "outputs": [],
   "source": [
    "ohe_columns = ['dept', 'last_year_promo', 'last_year_violations']\n",
    "ord_columns = ['level', 'workload']\n",
    "num_columns = ['employment_years', 'supervisor_evaluation', 'salary']\n",
    "\n",
    "\n",
    "ohe_pipeline = Pipeline(steps=[\n",
    "                                ('nan_imputer_ohe', SimpleImputer(missing_values=np.nan, strategy='most_frequent')),\n",
    "                                ('ohe_encoder', OneHotEncoder(drop='first', handle_unknown='ignore', sparse_output=False))\n",
    "])\n",
    "\n",
    "\n",
    "ord_pipepline = Pipeline(steps=[\n",
    "                                ('nan_imputer_before_ord', SimpleImputer(missing_values=np.nan, strategy='most_frequent')),\n",
    "                                ('ord_encoder', OrdinalEncoder(\n",
    "                                                    categories=[\n",
    "                                                        ['junior', 'middle', 'sinior'],\n",
    "                                                        ['low', 'medium', 'high']\n",
    "                                                    ], \n",
    "                                                    handle_unknown='use_encoded_value', unknown_value=np.nan)),\n",
    "                                ('nan_imputer_after_ord', SimpleImputer(missing_values=np.nan, strategy='most_frequent'))\n",
    "])\n",
    "\n",
    "\n",
    "data_preprocessor = ColumnTransformer([\n",
    "                                        ('ohe', ohe_pipeline, ohe_columns),\n",
    "                                        ('ord', ord_pipepline, ord_columns),\n",
    "                                        ('num', MinMaxScaler(), num_columns)],\n",
    "                                        remainder='passthrough')\n",
    "\n",
    "    "
   ]
  },
  {
   "cell_type": "code",
   "execution_count": 111,
   "id": "930de002",
   "metadata": {},
   "outputs": [],
   "source": [
    "data_preprocessor"
   ]
  },
  {
   "cell_type": "markdown",
   "id": "09b89066",
   "metadata": {},
   "source": [
    "<span style=\"color:black;font-weight:700;font-size:16px\"> \n",
    "             Вывод\n",
    "</span> \n",
    "\n",
    "На этапе подготовки данных реализован пайплайн обработки данных, который содержит в себе обработку числовых и категориальных признаков, а также обработку пропусков в столбцах."
   ]
  },
  {
   "cell_type": "markdown",
   "id": "f8d61e5e",
   "metadata": {},
   "source": [
    "# Обучение моделей"
   ]
  },
  {
   "cell_type": "markdown",
   "id": "20f96284",
   "metadata": {},
   "source": [
    "Перед обучением моделей реализуем функцию, рассчитывающую метрику smape\n"
   ]
  },
  {
   "attachments": {
    "%D0%A1%D0%BD%D0%B8%D0%BC%D0%BE%D0%BA%20%D1%8D%D0%BA%D1%80%D0%B0%D0%BD%D0%B0%202023-11-10%20205335.png": {
     "image/png": "[encoded data removed]"
    }
   },
   "cell_type": "markdown",
   "id": "de788023",
   "metadata": {},
   "source": [
    "![%D0%A1%D0%BD%D0%B8%D0%BC%D0%BE%D0%BA%20%D1%8D%D0%BA%D1%80%D0%B0%D0%BD%D0%B0%202023-11-10%20205335.png](attachment:%D0%A1%D0%BD%D0%B8%D0%BC%D0%BE%D0%BA%20%D1%8D%D0%BA%D1%80%D0%B0%D0%BD%D0%B0%202023-11-10%20205335.png)"
   ]
  },
  {
   "cell_type": "code",
   "execution_count": 112,
   "id": "7a8919f6",
   "metadata": {},
   "outputs": [],
   "source": [
    "def smape(y_true, y_pred):\n",
    "    \"\"\"\n",
    "    Рассчитывает метрику SMAPE (Symmetric Mean Absolute Percentage Error).\n",
    "\n",
    "    Параметры:\n",
    "    - y_true: фактические значения\n",
    "    - y_pred: предсказанные значения\n",
    "\n",
    "    Возвращает:\n",
    "    - Значение SMAPE\n",
    "    \"\"\"\n",
    "\n",
    "    # Преобразование в numpy массивы, если входные данные - это объекты Series\n",
    "    if isinstance(y_true, pd.Series):\n",
    "        y_true = y_true.values\n",
    "    if isinstance(y_pred, pd.Series):\n",
    "        y_pred = y_pred.values\n",
    "\n",
    "    # Расчет SMAPE\n",
    "    denominator = (np.abs(y_true) + np.abs(y_pred)) / 2\n",
    "    diff = np.abs(y_true - y_pred) / denominator\n",
    "    diff[denominator == 0] = 0.0  # Значение 0/0 заменяется на 0\n",
    "    smape_value = 100 * np.mean(diff)\n",
    "\n",
    "    return smape_value"
   ]
  },
  {
   "cell_type": "code",
   "execution_count": 113,
   "id": "458fb6b6",
   "metadata": {},
   "outputs": [],
   "source": [
    "smape_score = make_scorer(smape, greater_is_better=False)"
   ]
  },
  {
   "cell_type": "markdown",
   "id": "29a0240d",
   "metadata": {},
   "source": [
    "Теперь обучим модели. В качестве модели используем линейные модели - Линейная регрессия(LinearRegression), а также метод опорных векторов(SVR), а также модель типа дерева решений - DecisionTreeRegressor"
   ]
  },
  {
   "cell_type": "code",
   "execution_count": null,
   "id": "2b8c34f0",
   "metadata": {
    "scrolled": false
   },
   "outputs": [],
   "source": [
    "RANDOM_STATE = 42\n",
    "\n",
    "modelling_pipeline = Pipeline(steps=[('data_preprocessing', data_preprocessor),\n",
    "                                     ('models', LinearRegression())])\n",
    "\n",
    "param_grid = [\n",
    "    \n",
    "    {'models': [LinearRegression()]\n",
    "     },\n",
    "    \n",
    "    {'models': [SVR()],\n",
    "     'models__kernel': ['rbf', 'poly', 'sigmoid'],\n",
    "     'models__C': [0.001, 0.01, 0.1, 1],\n",
    "     },\n",
    "    \n",
    "    {'models': [DecisionTreeRegressor(random_state=RANDOM_STATE)],\n",
    "    'models__max_depth': range(5,15),\n",
    "    'models__min_samples_leaf': range(5,15),\n",
    "    'models__min_samples_split': range(5,15),\n",
    "    'models__criterion': ['squared_error', 'absolute_error']\n",
    "    },\n",
    "    \n",
    "    {'models': [SGDRegressor(loss='squared_loss', penalty='l2')]}\n",
    "                           \n",
    "]\n",
    "\n",
    "\n",
    "\n",
    "grid_search = RandomizedSearchCV(\n",
    "                              modelling_pipeline,\n",
    "                              param_grid,\n",
    "                              cv=5,\n",
    "                              scoring=smape_score,\n",
    "                              n_jobs=-1\n",
    "                              )\n",
    "\n",
    "grid_search.fit(X_train,y_train)\n"
   ]
  },
  {
   "cell_type": "code",
   "execution_count": null,
   "id": "b1f42ff5",
   "metadata": {},
   "outputs": [],
   "source": [
    "grid_search.best_estimator_"
   ]
  },
  {
   "cell_type": "code",
   "execution_count": null,
   "id": "40b2790f",
   "metadata": {},
   "outputs": [],
   "source": [
    "print(f'Метрика SMAPE на тренировочной выборке: {abs(grid_search.best_score_)}')\n"
   ]
  },
  {
   "cell_type": "code",
   "execution_count": null,
   "id": "964744fb",
   "metadata": {},
   "outputs": [],
   "source": [
    "y_predict = grid_search.best_estimator_.predict(test_features_df)\n",
    "y_predict"
   ]
  },
  {
   "cell_type": "code",
   "execution_count": null,
   "id": "1df70861",
   "metadata": {},
   "outputs": [],
   "source": [
    "print(f'Метрика SMAPE на тестовой выборке: {smape(y_true=np.array(y_test).ravel(), y_pred=y_predict)}')\n",
    "print(f'Метрика R2: {r2_score(y_true=np.array(y_test), y_pred=y_predict)}')"
   ]
  },
  {
   "cell_type": "markdown",
   "id": "a2eee96f",
   "metadata": {},
   "source": [
    "**Интерпретация SMAPE:  SMAPE = 13.5, это означает, что в среднем прогнозы отклоняются на 13.57% от фактических значений**\n",
    "**Интерпретация R2: R2 = 0.88 говорит о том, что модель работает успешно в почти в 88% случаев**"
   ]
  },
  {
   "cell_type": "markdown",
   "id": "7966514b",
   "metadata": {},
   "source": [
    "Проанализируем остатки модели\n"
   ]
  },
  {
   "cell_type": "code",
   "execution_count": null,
   "id": "402800ba",
   "metadata": {},
   "outputs": [],
   "source": [
    "    residuals = np.array(y_test).ravel() - y_predict\n",
    "    fig, axes = plt.subplots(nrows=1, ncols=2, figsize=(12,10))\n",
    "    axes[0].hist(residuals, bins=30)\n",
    "    axes[0].axvline(x=0, color='red', linestyle='--', label='Линия нуля')\n",
    "    axes[0].axvline(x=residuals.mean(), color='yellow', linestyle='dotted', label='Линия среднего')\n",
    "    axes[0].text(0, 10, f'Mean Residuals = {residuals.mean()}', color='black', fontsize=8)\n",
    "    axes[0].set_title('Гистограмма распределения остатков')\n",
    "    axes[0].legend()\n",
    "    axes[0].set_xlabel('Остатки')\n",
    "\n",
    "    axes[1].scatter(y_predict, residuals)\n",
    "    axes[1].set_xlabel('Предсказания модели')\n",
    "    axes[1].set_ylabel('Остатки')\n",
    "    axes[1].set_title('Анализ дисперсии')\n",
    "    plt.show()"
   ]
  },
  {
   "cell_type": "markdown",
   "id": "2578a23b",
   "metadata": {},
   "source": [
    "Анализ остатков показывает, что среднее значение слегка смещено влево от нуля, и говорит о том, что модель дает чуть большие предсказания, чем истинные."
   ]
  },
  {
   "cell_type": "markdown",
   "id": "7068b5eb",
   "metadata": {},
   "source": [
    "Проведем анализ адекватности работы нашей лучшей модели, сравни ее прогнозы с результатами baseline модели. Она представляет собой простейшую (dummy) модель, которая всегда предсказывает константное значение."
   ]
  },
  {
   "cell_type": "code",
   "execution_count": null,
   "id": "36b8a54f",
   "metadata": {},
   "outputs": [],
   "source": [
    "X_train_transform = data_preprocessor.fit_transform(X_train)\n",
    "X_test_transoform = data_preprocessor.transform(X_test)\n",
    "\n",
    "dummy_regr = DummyRegressor(strategy=\"mean\")\n",
    "dummy_regr.fit(X_train_transform, y_train)\n",
    "\n",
    "y_pred_dummy = dummy_regr.predict(X_test_transoform)\n",
    "\n",
    "print(f'Метрика SMAPE на тестовой выборке для dummy модели: {smape(y_true=np.array(y_test).ravel(), y_pred=y_pred_dummy)}')\n",
    "print(f'Метрика R2 для dummy модели: {r2_score(y_true=np.array(y_test), y_pred=y_pred_dummy)}')"
   ]
  },
  {
   "cell_type": "markdown",
   "id": "d298e0bd",
   "metadata": {},
   "source": [
    "<span style=\"color:black;font-weight:700;font-size:16px\"> \n",
    "              Интерпретация результатов лучшей модели\n",
    "</span>"
   ]
  },
  {
   "cell_type": "markdown",
   "id": "6775b368",
   "metadata": {},
   "source": [
    "**Лучшая модель**"
   ]
  },
  {
   "cell_type": "code",
   "execution_count": null,
   "id": "8347e77d",
   "metadata": {},
   "outputs": [],
   "source": [
    "grid_search.best_params_"
   ]
  },
  {
   "cell_type": "code",
   "execution_count": null,
   "id": "b3f61fad",
   "metadata": {
    "scrolled": false
   },
   "outputs": [],
   "source": [
    "cat_cols = grid_search.best_estimator_.named_steps['data_preprocessing'].\\\n",
    "                            named_transformers_['ohe'].get_feature_names_out(ohe_columns)\n",
    "\n",
    "all_cols = np.concatenate((cat_cols, ord_columns, num_columns))\n",
    "plt.figure(figsize=(12,12))\n",
    "plot_tree(decision_tree=grid_search.best_estimator_.named_steps['models'], max_depth=2, filled=True, feature_names=all_cols);"
   ]
  },
  {
   "cell_type": "code",
   "execution_count": null,
   "id": "3e775cdc",
   "metadata": {},
   "outputs": [],
   "source": [
    "feature_importances = grid_search.best_estimator_.named_steps['models'].feature_importances_\n",
    "\n",
    "\n",
    "models_result = pd.DataFrame({'Признак':pd.Series(all_cols),\n",
    "                              'Значимость': pd.Series(feature_importances)})\n",
    "models_result.sort_values(by='Значимость',ascending=False)"
   ]
  },
  {
   "cell_type": "code",
   "execution_count": null,
   "id": "ab995e1f",
   "metadata": {},
   "outputs": [],
   "source": [
    "sns.set(style=\"whitegrid\")\n",
    "\n",
    "fig, ax = plt.subplots(figsize=(10, 6))\n",
    "\n",
    "colors = sns.color_palette(\"viridis\", len(models_result))\n",
    "\n",
    "ax = sns.barplot(x='Значимость', y='Признак', data=models_result.sort_values(by='Значимость', ascending=False), palette=colors)\n",
    "\n",
    "ax.set_title('Важность признаков', fontsize=16)\n",
    "ax.set_xlabel('Важность (доля)', fontsize=14)\n",
    "ax.set_ylabel('Признак', fontsize=14)\n",
    "ax.grid(True, linestyle='--', alpha=0.7)\n",
    "plt.show()"
   ]
  },
  {
   "cell_type": "markdown",
   "id": "7c4613df",
   "metadata": {},
   "source": [
    "Как можно заметить признак supervisor_evaluation является самым значимым при предсказаниях модели, меньший вклад вносят признаки salary, employment_years. И такие признаки как dept и workload почти никак не влияют на результат работы модели.\n",
    "\n",
    "Тем самым можно отметить, что оценка качества работы сотрудника, которую дал руководитель, сильно влияет на уровень удовлетворенности сотрудника, и чем выше оценка, тем выше удовлетворенность"
   ]
  },
  {
   "cell_type": "code",
   "execution_count": null,
   "id": "6687823a",
   "metadata": {},
   "outputs": [],
   "source": [
    "plt.figure()\n",
    "plt.scatter(X_test['supervisor_evaluation'], y_test, s=20, edgecolor=\"black\", c=\"darkorange\", label=\"реальные значения\")\n",
    "plt.scatter(X_test['supervisor_evaluation'], y_predict, s=20, edgecolor=\"black\", c=\"blue\", label=\"предсказанные значения\")\n",
    "\n",
    "plt.xlabel(\"data\")\n",
    "plt.ylabel(\"target\")\n",
    "plt.title(\"Decision Tree Regression\")\n",
    "plt.legend()\n",
    "plt.show()"
   ]
  },
  {
   "cell_type": "markdown",
   "id": "802c44c0",
   "metadata": {},
   "source": [
    "<span style=\"color:black;font-weight:700;font-size:16px\"> \n",
    "             Вывод\n",
    "</span> \n",
    "\n",
    "Лучшей моделью на этапе обучения стала модель дерева решений (DecisionTreeRegressor). Этот метод основан на структуре дерева решений, которое разбивает набор данных на подмножества и прогнозирует значения целевой переменной для новых данных на основе этой структуры.\n",
    "\n",
    "**Параметры лучщей модели** - DecisionTreeRegressor(max_depth=14, min_samples_leaf=5, min_samples_split=14)\n",
    "                      \n",
    "\n",
    "*max_depth=14*: Этот параметр показывает максимальную глубину дерева до 14 уровней. Если в дереве уже есть 14 уровней, оно не будет разветвляться дальше.\n",
    "\n",
    "*min_samples_leaf=5*: Этот параметр определяет минимальное количество образцов, которое должно содержаться в листе дерева. Если число образцов в листе меньше 5, дерево не будет продолжать разделение.\n",
    "\n",
    "*min_samples_split=14*: параметр устанавливает минимальное количество образцов, необходимых для выполнения разделения узла. Если количество образцов в узле меньше 14, разделение не будет произведено.\n",
    "\n",
    "**Метрики модели:**\n",
    "*  SMAPE = 13.5, это означает, что в среднем прогнозы отклоняются на 13.57% от фактических значений**\n",
    "* R2 = 0.88 говорит о том, что модель работает успешно в почти в 88% случаев**\n",
    "\n",
    "**Интерпретация дерева решений**\n",
    "\n",
    "Признак supervisor_evaluation является самым значимым при предсказаниях модели, меньший вклад вносят признаки salary, employment_years. И такие признаки как dept и workload почти никак не влияют на результат работы модели.\n",
    "\n",
    "Тем самым можно отметить, что оценка качества работы сотрудника, которую дал руководитель, сильно влияет на уровень удовлетворенности сотрудника, и чем выше оценка, тем выше удовлетворенность"
   ]
  },
  {
   "cell_type": "markdown",
   "id": "466225ee",
   "metadata": {},
   "source": [
    "<span style=\"color:black;font-weight:700;font-size:22px\"> \n",
    "               Задача 2: предсказание увольнения сотрудника из компании\n",
    "</span>"
   ]
  },
  {
   "cell_type": "markdown",
   "id": "ee58e64b",
   "metadata": {},
   "source": [
    "# Загрузка данных"
   ]
  },
  {
   "cell_type": "code",
   "execution_count": null,
   "id": "fe615d6a",
   "metadata": {},
   "outputs": [],
   "source": [
    "# train_quit_df = pd.read_csv('C:/Users/Иван/test/SecondModuleProject/train_quit.csv', index_col='id')\n",
    "\n",
    "# test_target_quit_df = pd.read_csv('C:/Users/Иван/test/SecondModuleProject/test_target_quit.csv', index_col='id')\n",
    "\n",
    "\n",
    "    \n",
    "try:\n",
    "    train_quit_df = pd.read_csv('/datasets/train_quit.csv', index_col='id')\n",
    "except:\n",
    "    train_quit_df = pd.read_csv('https://code.s3.yandex.net/datasets/train_quit.csv', index_col='id')\n",
    "    \n",
    "try:\n",
    "    test_target_quit_df = pd.read_csv('/datasets/test_target_quit.csv', index_col='id')\n",
    "except:\n",
    "    test_target_quit_df = pd.read_csv('https://code.s3.yandex.net/datasets/test_target_quit.csv', index_col='id')"
   ]
  },
  {
   "cell_type": "code",
   "execution_count": null,
   "id": "92af949f",
   "metadata": {},
   "outputs": [],
   "source": [
    "train_quit_df.head()"
   ]
  },
  {
   "cell_type": "code",
   "execution_count": null,
   "id": "78ca8bbf",
   "metadata": {},
   "outputs": [],
   "source": [
    "train_quit_df.info()"
   ]
  },
  {
   "cell_type": "code",
   "execution_count": null,
   "id": "12ddb6f1",
   "metadata": {},
   "outputs": [],
   "source": [
    "test_target_quit_df.head()"
   ]
  },
  {
   "cell_type": "code",
   "execution_count": null,
   "id": "52c33484",
   "metadata": {},
   "outputs": [],
   "source": [
    "test_target_quit_df.info()"
   ]
  },
  {
   "cell_type": "code",
   "execution_count": null,
   "id": "5bc5243e",
   "metadata": {},
   "outputs": [],
   "source": [
    "test_features_df.head()"
   ]
  },
  {
   "cell_type": "markdown",
   "id": "aab88290",
   "metadata": {},
   "source": [
    "Отсортируем индексы в тестовых датасетах в одинковом порядке."
   ]
  },
  {
   "cell_type": "code",
   "execution_count": null,
   "id": "a420d715",
   "metadata": {},
   "outputs": [],
   "source": [
    "differing_indices2 = (test_features_df.index.symmetric_difference(test_target_quit_df.index))\n",
    "\n",
    "if differing_indices2.empty:\n",
    "    print(f'Все индексы в датасетах совпадают')\n",
    "else:\n",
    "    print(f'Различающиеся индексы {differing_indices2}')"
   ]
  },
  {
   "cell_type": "code",
   "execution_count": null,
   "id": "91966107",
   "metadata": {},
   "outputs": [],
   "source": [
    "test_target_quit_df = test_target_quit_df.reindex(test_features_df.index)"
   ]
  },
  {
   "cell_type": "code",
   "execution_count": null,
   "id": "147a1ff3",
   "metadata": {},
   "outputs": [],
   "source": [
    "test_target_quit_df.head()"
   ]
  },
  {
   "cell_type": "code",
   "execution_count": null,
   "id": "be489bf8",
   "metadata": {},
   "outputs": [],
   "source": [
    "test_features_df.head(5)"
   ]
  },
  {
   "cell_type": "markdown",
   "id": "91d4f3ca",
   "metadata": {},
   "source": [
    "<span style=\"color:black;font-weight:700;font-size:16px\"> \n",
    "             Вывод\n",
    "</span> \n",
    "\n",
    "Датасеты train_quit_df, который содержит в себе входные признаки тренировочной выборки успешно загружен. Датасет не содержит пропусков в данных.\n",
    "\n",
    "test_target_quit_df, который содержит в себе целевой признак тестовой выборки.\n",
    "\n",
    "Входные признаки тестовой выборки  содержатся в датасете test_features_df из прошлой задачи. \n"
   ]
  },
  {
   "cell_type": "markdown",
   "id": "38809f1e",
   "metadata": {},
   "source": [
    "# Предобработка данных"
   ]
  },
  {
   "cell_type": "code",
   "execution_count": null,
   "id": "969dc7f2",
   "metadata": {
    "scrolled": false
   },
   "outputs": [],
   "source": [
    "numeric_cols = train_quit_df.select_dtypes(exclude='object').columns\n",
    "\n",
    "for col in numeric_cols:\n",
    "    sns.displot(train_job_satisfaction_df[col], kde=True, bins=60)\n",
    "    plt.title(f\"Гистограммы для {col}\")\n",
    "    plt.xlabel(col)\n",
    "    plt.ylabel(\"Frequency\")"
   ]
  },
  {
   "cell_type": "markdown",
   "id": "d6854906",
   "metadata": {},
   "source": [
    "Числовые признаки датасета не содержат выбросы"
   ]
  },
  {
   "cell_type": "code",
   "execution_count": null,
   "id": "701bc7c6",
   "metadata": {},
   "outputs": [],
   "source": [
    "object_columns = train_quit_df.select_dtypes(include='object').columns\n",
    "\n",
    "for col in object_columns:\n",
    "    print(train_quit_df[col].value_counts())\n",
    "    print()"
   ]
  },
  {
   "cell_type": "markdown",
   "id": "e6185199",
   "metadata": {},
   "source": [
    "Неявные дуюликаты отсутствуют\n",
    "\n"
   ]
  },
  {
   "cell_type": "code",
   "execution_count": null,
   "id": "744f838f",
   "metadata": {},
   "outputs": [],
   "source": [
    "train_quit_df.index.duplicated().sum()"
   ]
  },
  {
   "cell_type": "markdown",
   "id": "0b68ddda",
   "metadata": {},
   "source": [
    "Дубликаты по индексам также отсутствуют в датасете.\n"
   ]
  },
  {
   "cell_type": "markdown",
   "id": "438586c5",
   "metadata": {},
   "source": [
    "<span style=\"color:black;font-weight:700;font-size:16px\"> \n",
    "             Вывод\n",
    "</span> \n",
    "\n",
    "Датасеты предобработаны и проверены на предмет наличия дубликатов(явных, неявных), выбросов и  аномалий в числовых столбцах"
   ]
  },
  {
   "cell_type": "markdown",
   "id": "e497f576",
   "metadata": {},
   "source": [
    "# Ислледовательский анализ\n"
   ]
  },
  {
   "cell_type": "code",
   "execution_count": null,
   "id": "eb036500",
   "metadata": {},
   "outputs": [],
   "source": [
    "numeric_columns = train_quit_df.select_dtypes(exclude='object').columns.to_list()\n",
    "\n",
    "fig, axes = plt.subplots(3, 3, figsize=(15, 15))\n",
    "\n",
    "for i, column in enumerate(numeric_columns):\n",
    "    row = i // 3\n",
    "    col = i % 3\n",
    "    ax = axes[row, col]\n",
    "\n",
    "    train_quit_df.boxplot(column=column, ax=ax)\n",
    "    ax.set_title(f'Ящик с усами для {column}')\n",
    "    ax.set_ylabel('Значения')\n",
    "    ax.grid(False)\n",
    "\n",
    "for i in range(len(numeric_columns), 9):\n",
    "    row = i // 3\n",
    "    col = i % 3\n",
    "    fig.delaxes(axes[row, col])\n",
    "\n",
    "plt.tight_layout()\n",
    "plt.show()"
   ]
  },
  {
   "cell_type": "markdown",
   "id": "59a662c2",
   "metadata": {},
   "source": [
    "Числовые признаки распределены в разных диапазонах, поэтому необходимо будет масшатабировать при обучении моделей."
   ]
  },
  {
   "cell_type": "code",
   "execution_count": null,
   "id": "fefb36c3",
   "metadata": {
    "scrolled": false
   },
   "outputs": [],
   "source": [
    "def plot_pie_for_feature(df, column):\n",
    "    fig, ax = plt.subplots(figsize=(12,7))\n",
    "    colors=['lightgreen', 'yellow', 'red', 'skyblue', 'orange', 'blue']\n",
    "    column_values_counts = df[column].value_counts()\n",
    "    column_values_counts.plot(kind='pie', ax = ax, colors= colors, autopct='%1.1f%%')\n",
    "    plt.title(column)   \n",
    "\n",
    "for col in object_columns:\n",
    "    plot_pie_for_feature(train_quit_df, col)"
   ]
  },
  {
   "cell_type": "markdown",
   "id": "11dbcc22",
   "metadata": {},
   "source": [
    "Самые популярный отделы в компании - dept и technology, в отделе hr работает меньше всего людей.\\\n",
    "В компании больше всего сотрудников уровня junior и middle, сотрудников уровня sinior меньшк всего.\\\n",
    "В среднем больше всего сотрудников в компании имеют средний уровень нагрузки, меньше всего высокий.\\\n",
    "Только 3 % получили повышения за последний год, остальные проработали без повышения по должности.\\ \n",
    "13% сотрудников в компании нарушили трудовой договор за последний год."
   ]
  },
  {
   "cell_type": "markdown",
   "id": "4e7691f7",
   "metadata": {},
   "source": [
    "Как можно заметить целевой признак имеет явный дисбаланс классов. Необходимо будет это учитывать при подборе параметров моделей, а также при необходимости принятие специальных мер (Oversampling, Undersampling) или использовать взвешивание классов"
   ]
  },
  {
   "cell_type": "code",
   "execution_count": null,
   "id": "69aef63f",
   "metadata": {},
   "outputs": [],
   "source": [
    "sns.pairplot(data=train_quit_df, hue='quit')\n"
   ]
  },
  {
   "cell_type": "markdown",
   "id": "8108af92",
   "metadata": {},
   "source": [
    "На графике показано взаимное распредление числовых признаков относительно признака quit. Как показывает график уволившиеся сотрудники имеют меньшую среднюю зарплата, оценку руководителя, количество лет в компании."
   ]
  },
  {
   "cell_type": "markdown",
   "id": "e0cd467f",
   "metadata": {},
   "source": [
    "Проведем анализ уволившихся сотруднкиов, составим портрет\n"
   ]
  },
  {
   "cell_type": "code",
   "execution_count": null,
   "id": "65204cb1",
   "metadata": {},
   "outputs": [],
   "source": [
    "train_quit_df.head()"
   ]
  },
  {
   "cell_type": "code",
   "execution_count": null,
   "id": "31119cc0",
   "metadata": {},
   "outputs": [],
   "source": [
    "pivot_table1 = pd.DataFrame(train_quit_df.pivot_table(index=['quit'],\n",
    "                         values=['salary','supervisor_evaluation','employment_years',\n",
    "                                 'level'],\n",
    "                         aggfunc={'salary':np.mean, 'supervisor_evaluation':np.mean, 'employment_years':np.mean,\n",
    "                                })).\\\n",
    "                                    rename(columns={'supervisor_evaluation': 'mean_supervisor_evaluation',\n",
    "                                                    'salary':'mean_salary',\n",
    "                                                    'employment_years':'mean_employment_years'})\n",
    "pivot_table1"
   ]
  },
  {
   "cell_type": "code",
   "execution_count": null,
   "id": "d8f51a26",
   "metadata": {},
   "outputs": [],
   "source": [
    "pivot_table2 = pd.DataFrame(train_quit_df.pivot_table(index=['quit'],\n",
    "                         columns=['dept'],\n",
    "                         aggfunc={'dept':'count'}))"
   ]
  },
  {
   "cell_type": "code",
   "execution_count": null,
   "id": "5b6e2ae8",
   "metadata": {},
   "outputs": [],
   "source": [
    "pivot_table3 = pd.DataFrame(train_quit_df.pivot_table(index=['quit'],\n",
    "                          columns=['level'],\n",
    "                          aggfunc={'level':'count'}))\n",
    "pivot_table3"
   ]
  },
  {
   "cell_type": "code",
   "execution_count": null,
   "id": "6b00bfd1",
   "metadata": {},
   "outputs": [],
   "source": [
    "pivot_table4 = pd.DataFrame(train_quit_df.pivot_table(index=['quit'],\n",
    "                                                      columns=['last_year_promo'],\n",
    "                                                      aggfunc={'last_year_promo':'count'}))\n",
    "pivot_table5 = pd.DataFrame(train_quit_df.pivot_table(index=['quit'],\n",
    "                                                      columns=['last_year_violations'],\n",
    "                                                      aggfunc={'last_year_violations':'count'}))\n"
   ]
  },
  {
   "cell_type": "code",
   "execution_count": null,
   "id": "186ed548",
   "metadata": {},
   "outputs": [],
   "source": [
    "pivot_table1.join(pivot_table2, on='quit').join(pivot_table3, on='quit').join(pivot_table4, on='quit').join(pivot_table5,on='quit')\n"
   ]
  },
  {
   "cell_type": "markdown",
   "id": "8dfec6ab",
   "metadata": {},
   "source": [
    "**Портрет «уволившегося сотрудника»**\n",
    "\n",
    "Как правило уволившийся сотрудник имеет меньшую длительность работы в компании получает меньшую зарплату и имеет меньшую оценку качества работы сотрудника, которую дал руководитель.\n",
    "\n",
    "Чаще всего увольняются сотрудники из отдела продаж и технологий, также чаще увольняются сотрудники уровня junior.\n",
    "\n",
    "Также чаще увольняются сотрудники, которые не имели повышения за последний год и те сотрудники, которые имели нарушения за прошедший год работы."
   ]
  },
  {
   "cell_type": "code",
   "execution_count": null,
   "id": "31126a4e",
   "metadata": {},
   "outputs": [],
   "source": []
  },
  {
   "cell_type": "markdown",
   "id": "8d0e05e6",
   "metadata": {},
   "source": [
    "Теперь проанализируем как зависят друг от друга целевые признаки job_satisfaction_rate и увольнение сотрудника (quit)"
   ]
  },
  {
   "cell_type": "code",
   "execution_count": null,
   "id": "63c027d9",
   "metadata": {},
   "outputs": [],
   "source": [
    "full_test_target = test_target_job_satisfaction_df.join(test_target_quit_df, on='id')\n",
    "full_test_target.head()"
   ]
  },
  {
   "cell_type": "code",
   "execution_count": null,
   "id": "b2b35af4",
   "metadata": {},
   "outputs": [],
   "source": [
    "full_test_target.pivot_table(index='quit',\n",
    "                            values='job_satisfaction_rate')"
   ]
  },
  {
   "cell_type": "code",
   "execution_count": null,
   "id": "49d912bc",
   "metadata": {},
   "outputs": [],
   "source": [
    "sns.displot(data=full_test_target,x='job_satisfaction_rate', hue='quit', multiple='stack', bins=30, kde=True)\n",
    "plt.title('Распредление рейтингов')\n",
    "None"
   ]
  },
  {
   "cell_type": "markdown",
   "id": "e41353cc",
   "metadata": {},
   "source": [
    "Как можно заметить сотрудники которые увольняются имееют в среднем меньшую оценку job_satisfaction_rate, чем те кто остается."
   ]
  },
  {
   "cell_type": "markdown",
   "id": "20fbfe3b",
   "metadata": {},
   "source": [
    "<span style=\"color:black;font-weight:700;font-size:16px\"> \n",
    "             Вывод\n",
    "</span> \n",
    "\n",
    "- **Портрет «уволившегося сотрудника»**\n",
    "\n",
    "Как правило уволившийся сотрудник имеет меньшую длительность работы в компании получает меньшую зарплату и имеет меньшую оценку качества работы сотрудника, которую дал руководитель.\n",
    "\n",
    "Чаще всего увольняются сотрудники из отдела продаж и технологий, также чаще увольняются сотрудники уровня junior.\n",
    "\n",
    "Также чаще увольняются сотрудники, которые не имели повышения за последний год и те сотрудники, которые имели нарушения за прошедший год работы.\n",
    "\n",
    "- Cотрудники которые увольняются имееют в среднем меньшую оценку job_satisfaction_rate, чем те кто остается.\n",
    "\n",
    "Также стоит отметить что целевой признак имеет дисбаланс классов. Это надо будут учитывать при построении моделей МО."
   ]
  },
  {
   "cell_type": "markdown",
   "id": "aa6a0249",
   "metadata": {},
   "source": [
    "#  Добавление нового входного признака"
   ]
  },
  {
   "cell_type": "markdown",
   "id": "09299ce2",
   "metadata": {},
   "source": [
    "Используем обученную модель в задаче 1 и используем ее для предсказания оценки job_satisfaction_rate для тренировочного датасета train_quit_df"
   ]
  },
  {
   "cell_type": "code",
   "execution_count": null,
   "id": "7a9cbd6b",
   "metadata": {},
   "outputs": [],
   "source": [
    "train_quit_df_copy = train_quit_df.copy()\n",
    "train_quit_df_copy = train_quit_df_copy.drop(columns=['quit'], axis=1)"
   ]
  },
  {
   "cell_type": "code",
   "execution_count": null,
   "id": "fa8cb79f",
   "metadata": {},
   "outputs": [],
   "source": [
    "train_quit_df['job_satisfaction_rate'] = grid_search.best_estimator_.predict(train_quit_df_copy)"
   ]
  },
  {
   "cell_type": "code",
   "execution_count": null,
   "id": "353e7c56",
   "metadata": {},
   "outputs": [],
   "source": [
    "train_quit_df.head()"
   ]
  },
  {
   "cell_type": "markdown",
   "id": "378f0a1f",
   "metadata": {},
   "source": [
    "<span style=\"color:black;font-weight:700;font-size:16px\"> \n",
    "             Вывод\n",
    "</span> \n",
    "\n",
    "На основе обученной модели в задаче 1 были спрогнозированы оценки job_satisfaction_rate. Результаты работы предсказания были добавлен столбец job_satisfaction_rate в датасет train_quit_df."
   ]
  },
  {
   "cell_type": "markdown",
   "id": "13431bdf",
   "metadata": {},
   "source": [
    "#  Подготовка данных"
   ]
  },
  {
   "cell_type": "markdown",
   "id": "e925232c",
   "metadata": {},
   "source": [
    "Подготовим данные для этого напишем пайплайн обработки данных."
   ]
  },
  {
   "cell_type": "code",
   "execution_count": null,
   "id": "a1c18b5b",
   "metadata": {},
   "outputs": [],
   "source": [
    "train_quit_df.head()"
   ]
  },
  {
   "cell_type": "markdown",
   "id": "5e070ad1",
   "metadata": {},
   "source": [
    "На этапе"
   ]
  },
  {
   "cell_type": "code",
   "execution_count": null,
   "id": "fc168b97",
   "metadata": {},
   "outputs": [],
   "source": [
    "X_train2 = train_quit_df.drop(columns=['quit'], axis=1)\n",
    "\n",
    "X_test2 = test_features_df\n",
    "X_test2 = X_test2.join(test_target_job_satisfaction_df, on='id')"
   ]
  },
  {
   "cell_type": "markdown",
   "id": "bf60dc4e",
   "metadata": {},
   "source": [
    "Закодируем целевой признак с помощью LabelEncoder"
   ]
  },
  {
   "cell_type": "code",
   "execution_count": null,
   "id": "65656c70",
   "metadata": {},
   "outputs": [],
   "source": [
    "label_encoder = LabelEncoder()\n",
    "\n",
    "y_train2 = label_encoder.fit_transform(train_quit_df['quit'])\n",
    "y_test2 = label_encoder.transform(test_target_quit_df['quit'])\n",
    "y_train2"
   ]
  },
  {
   "cell_type": "code",
   "execution_count": null,
   "id": "6666adbd",
   "metadata": {},
   "outputs": [],
   "source": [
    "ohe_columns = ['dept', 'last_year_promo', 'last_year_violations']\n",
    "ord_columns = ['level', 'workload']\n",
    "num_columns = ['employment_years', 'supervisor_evaluation', 'salary', 'job_satisfaction_rate']\n",
    "\n",
    "\n",
    "ohe_pipeline = Pipeline(steps=[\n",
    "                                ('nan_imputer_ohe', SimpleImputer(missing_values=np.nan, strategy='most_frequent')),\n",
    "                                ('ohe_encoder', OneHotEncoder(drop='first', handle_unknown='ignore', sparse_output=False))\n",
    "])\n",
    "\n",
    "\n",
    "ord_pipepline = Pipeline(steps=[\n",
    "                                ('nan_imputer_before_ord', SimpleImputer(missing_values=np.nan, strategy='most_frequent')),\n",
    "                                ('ord_encoder', OrdinalEncoder(\n",
    "                                                    categories=[\n",
    "                                                        ['junior', 'middle', 'sinior'],\n",
    "                                                        ['low', 'medium', 'high']\n",
    "                                                    ], \n",
    "                                                    handle_unknown='use_encoded_value', unknown_value=np.nan)),\n",
    "                                ('nan_imputer_after_ord', SimpleImputer(missing_values=np.nan, strategy='most_frequent'))\n",
    "])\n",
    "\n",
    "\n",
    "data_preprocessor = ColumnTransformer([\n",
    "                                        ('ohe', ohe_pipeline, ohe_columns),\n",
    "                                        ('ord', ord_pipepline, ord_columns),\n",
    "                                        ('num', MinMaxScaler(), num_columns)],\n",
    "                                        remainder='passthrough')\n",
    "\n",
    "# data_preprocessor = ColumnTransformer([\n",
    "#                                         ('ord', ord_pipepline, ord_columns),\n",
    "#                                         ('num', MinMaxScaler(), num_columns)],\n",
    "#                                         remainder='passthrough')\n",
    "    "
   ]
  },
  {
   "cell_type": "markdown",
   "id": "4745ae7b",
   "metadata": {},
   "source": [
    "Проанализируем признаки датасета на предмет мультиколлинеарности и утечки целевого признака\n"
   ]
  },
  {
   "cell_type": "code",
   "execution_count": null,
   "id": "ae837215",
   "metadata": {},
   "outputs": [],
   "source": [
    "plot_phik_correlation_matrix(train_quit_df)"
   ]
  },
  {
   "cell_type": "markdown",
   "id": "bbffc47d",
   "metadata": {},
   "source": [
    "Как можно заметить в датасете не наблюдается мультиколлинеарности между признаками. Также можно отметить, что целевой признак имеет степень корреляции с признаками: job_satisfaction_rating, salary, employment_years, но при этом имеет нулевую корреляцию с признаком dept."
   ]
  },
  {
   "cell_type": "markdown",
   "id": "503e0695",
   "metadata": {},
   "source": [
    "<span style=\"color:black;font-weight:700;font-size:16px\"> \n",
    "             Вывод\n",
    "</span> \n",
    "\n",
    "На этапе подготовки данных реализован пайплайн обработки данных, который содержит в себе обработку числовых и категориальных признаков, а также обработку пропусков в столбцах."
   ]
  },
  {
   "cell_type": "markdown",
   "id": "9b8074a7",
   "metadata": {},
   "source": [
    "# Обучение модели\n"
   ]
  },
  {
   "cell_type": "markdown",
   "id": "bec11f31",
   "metadata": {},
   "source": [
    "Обучим классификационные модели на основе  алгоритмов метода опорных векторов (SVC), дерева решений (DecisionTreeClassifier) и метода k ближайших соседей (KNeighborsClassifier).\n",
    "\n",
    "В качестве метрики качества будем использовать roc_auc_score. Эта метрика не зависит от дисбаланса классов, дает взвешенную оценку относительно матрицы ошибок."
   ]
  },
  {
   "cell_type": "code",
   "execution_count": null,
   "id": "d28c5690",
   "metadata": {},
   "outputs": [],
   "source": [
    "RANDOM_STATE = 42\n",
    "\n",
    "final_pipeline = Pipeline(steps=[('data_preprocessing', data_preprocessor),\n",
    "                                 ('models', LogisticRegression(random_state=RANDOM_STATE,class_weight='balanced'))])\n",
    "\n",
    "\n",
    "param_grid2 = [\n",
    "    \n",
    "    # параметры для LogiscticRegression\n",
    "    {'models':[LogisticRegression(random_state=RANDOM_STATE,class_weight='balanced', penalty='l1', C=100)]},\n",
    "    \n",
    "    # Параметры для SVC\n",
    "    {'models': [SVC(random_state=RANDOM_STATE, probability=True,class_weight='balanced')],\n",
    "     'models__C': [0.001, 0.01, 0.1, 1, 10],\n",
    "     'models__kernel': ['poly', 'rbf', 'sigmoid']},\n",
    "    \n",
    "    #Параметры для DecisionTreeClassifier\n",
    "    {'models': [DecisionTreeClassifier(random_state=RANDOM_STATE)],\n",
    "    'models__max_depth': range(5,15),\n",
    "    'models__min_samples_leaf': range(2,10),\n",
    "    'models__min_samples_split': range(2,15),\n",
    "    'models__max_features': range(2,12),\n",
    "    'models__criterion': ['gini', 'entropy']\n",
    "    },\n",
    "    \n",
    "    # Параметры для KNeighborsClassifier\n",
    "    {'models': [KNeighborsClassifier()],\n",
    "     'models__metric': [\"minkowski\", \"manhattan\", \"euclidean\"],\n",
    "     'models__weights': ['uniform', 'distance'],\n",
    "     'models__n_neighbors': range(10,20),\n",
    "     'models__algorithm' : ['ball_tree', 'kd_tree', 'brute'],\n",
    "     'data_preprocessing__num':[MinMaxScaler(), StandardScaler()]}\n",
    "    \n",
    "    \n",
    "]\n",
    "\n",
    "grid_search2 = GridSearchCV(final_pipeline,\n",
    "                           param_grid2,\n",
    "                           n_jobs=-1,\n",
    "                           scoring='roc_auc',\n",
    "                           cv=3)\n",
    "\n",
    "grid_search2.fit(X_train2,y_train2)"
   ]
  },
  {
   "cell_type": "code",
   "execution_count": null,
   "id": "8adc410d",
   "metadata": {},
   "outputs": [],
   "source": [
    "grid_search2.best_estimator_"
   ]
  },
  {
   "cell_type": "code",
   "execution_count": null,
   "id": "247b5797",
   "metadata": {},
   "outputs": [],
   "source": [
    "grid_search2.best_score_"
   ]
  },
  {
   "cell_type": "code",
   "execution_count": null,
   "id": "e98702e9",
   "metadata": {},
   "outputs": [],
   "source": [
    "grid_search2.best_params_"
   ]
  },
  {
   "cell_type": "code",
   "execution_count": null,
   "id": "28e9242d",
   "metadata": {},
   "outputs": [],
   "source": [
    "y_pred2 = grid_search2.predict_proba(X_test2)[:,1]\n",
    "print(f'Метрика ROC-AUC на тестовой выборке: {roc_auc_score(y_test2, y_pred2)}')"
   ]
  },
  {
   "cell_type": "code",
   "execution_count": null,
   "id": "4623f886",
   "metadata": {},
   "outputs": [],
   "source": [
    "print('Лучшая модель и её параметры:\\n\\n', grid_search2.best_estimator_)\n",
    "print ('Метрика лучшей модели на тренировочной выборке:', grid_search2.best_score_)\n",
    "\n",
    "\n",
    "print(f'Метрика ROC-AUC на тестовой выборке: {roc_auc_score(y_test2, y_pred2)}')"
   ]
  },
  {
   "cell_type": "markdown",
   "id": "3ed6bd52",
   "metadata": {},
   "source": [
    "**Лучшая модель**- DecisionTreeClassifier(criterion='entropy', max_depth=6, max_features=9,\n",
    "                       min_samples_leaf=9, random_state=42)\n",
    "                       \n",
    "Это модель дерева решений с параметрами \n",
    "\n",
    "1. **criterion='entropy'**: критерий, который используется для измерения качества разделения на каждом узле дерева решений. В данном случае, используется разделение по энтропии\n",
    "\n",
    "2. **max_depth=6**: Это максимальная глубина дерева решений. Параметр ограничивает глубину дерева.\n",
    "\n",
    "3. **max_features=9**: Максимальное количество признаков, использующиеся для разделения каждого узла. \n",
    "\n",
    "4. **min_samples_leaf=9**: Минимальное количество элементов, в листе (конечном узле) дерева. Этот параметр помогает предотвратить переобучение, ограничивая количество элементов в каждом листе.\n",
    "\n",
    "Эта модель, таким образом, представляет собой дерево решений с ограниченной глубиной, использующее энтропийный критерий для поиска оптимальных разделений, и с дополнительными ограничениями на количество признаков и минимальное количество элементов в листе."
   ]
  },
  {
   "cell_type": "code",
   "execution_count": null,
   "id": "04b0e58d",
   "metadata": {},
   "outputs": [],
   "source": [
    "y_predict2= grid_search2.best_estimator_.predict(X_test2)"
   ]
  },
  {
   "cell_type": "code",
   "execution_count": null,
   "id": "4f651d15",
   "metadata": {},
   "outputs": [],
   "source": [
    "precision_score(y_true=y_test2, y_pred=y_predict2)"
   ]
  },
  {
   "cell_type": "code",
   "execution_count": null,
   "id": "a0f12fa8",
   "metadata": {},
   "outputs": [],
   "source": [
    "recall_score(y_true=y_test2, y_pred=y_predict2)"
   ]
  },
  {
   "cell_type": "code",
   "execution_count": null,
   "id": "6a8d88b8",
   "metadata": {},
   "outputs": [],
   "source": [
    "accuracy_score(y_test2,y_predict2)"
   ]
  },
  {
   "cell_type": "markdown",
   "id": "fba5ea91",
   "metadata": {},
   "source": [
    "<span style=\"color:black;font-weight:700;font-size:16px\"> \n",
    "             Метрики модели\n",
    "</span> \n",
    "\n",
    "**ROC-AUC**: = 0.92 - Такая метрика говорит о том, что модель хорошо разделяет классы и имеет высокую способность различать положительные и отрицательные случаи увольнения и неувольнения сотрудника.\n",
    "\n",
    "**precision** = 0.90 - Метрика показывает что 90% всех прогнозов положительного класса, сделанных нашей моделью, являются верными (истинно положительными), и только 10% из них являются ложно положительными. Это хороший показатель для точности, который говорит о том, что модель делает мало ошибок, предсказывая факт увольнения сотрудника. Иными словами можно сказать, что из тех сотрудников, кому модель присвоила метка 1(уволится), 91% сотрудников действительно уволились\n",
    "\n",
    "**recall** = 0.80 - Метрика говорит о том, что модель верно классифицировала 80% действительно уволившихся сотрудников.\n"
   ]
  },
  {
   "cell_type": "code",
   "execution_count": null,
   "id": "c7396955",
   "metadata": {},
   "outputs": [],
   "source": []
  },
  {
   "cell_type": "markdown",
   "id": "fe437c2f",
   "metadata": {},
   "source": [
    "Проинтерпретируем важность признаков модели "
   ]
  },
  {
   "cell_type": "code",
   "execution_count": null,
   "id": "3714901f",
   "metadata": {},
   "outputs": [],
   "source": [
    "cat_cols2 = grid_search2.best_estimator_.named_steps['data_preprocessing'].\\\n",
    "                            named_transformers_['ohe'].get_feature_names_out(ohe_columns)\n",
    "\n",
    "all_cols2 = np.concatenate((cat_cols, ord_columns, num_columns))\n",
    "all_cols2"
   ]
  },
  {
   "cell_type": "code",
   "execution_count": null,
   "id": "44469e63",
   "metadata": {},
   "outputs": [],
   "source": [
    "feature_importances2 = grid_search2.best_estimator_.named_steps['models'].feature_importances_\n",
    "\n",
    "\n",
    "models_result = pd.DataFrame({'Признак':pd.Series(all_cols2),\n",
    "                              'Значимость': pd.Series(feature_importances2)})\n",
    "models_result.sort_values(by='Значимость',ascending=False)"
   ]
  },
  {
   "cell_type": "code",
   "execution_count": null,
   "id": "a19f6ca5",
   "metadata": {},
   "outputs": [],
   "source": [
    "sns.set(style=\"whitegrid\")\n",
    "\n",
    "fig, ax = plt.subplots(figsize=(10, 6))\n",
    "\n",
    "colors = sns.color_palette(\"viridis\", len(models_result))\n",
    "\n",
    "ax = sns.barplot(x='Значимость', y='Признак', data=models_result.sort_values(by='Значимость', ascending=False), palette=colors)\n",
    "\n",
    "ax.set_title('Важность признаков', fontsize=16)\n",
    "ax.set_xlabel('Важность (доля)', fontsize=14)\n",
    "ax.set_ylabel('Признак', fontsize=14)\n",
    "\n",
    "ax.grid(True, linestyle='--', alpha=0.7)\n",
    "\n",
    "\n",
    "plt.show()"
   ]
  },
  {
   "cell_type": "markdown",
   "id": "2aa9a210",
   "metadata": {},
   "source": [
    "<span style=\"color:black;font-weight:700;font-size:16px\"> \n",
    "             Интерпретация важности признаков\n",
    "</span> \n",
    "\n",
    "\n",
    "Как можно заметить из графика наиболее важными признаками при принятии моделью решения являются признаки 'employment_years','job_satisfaction_rate', 'level' , 'salary', 'workload'. Эти признаки оказывают наибольшее влиянии на решение, которое принимает модель классифицируя уволится ли сотрудник или нет.\n",
    "\n",
    "Такие признаки как 'dept', supervisor_evaluation' , 'last_year_promo', 'last_year_violations' почти никак не влияют на решения принимаемы моделью"
   ]
  },
  {
   "cell_type": "markdown",
   "id": "15e4ea85",
   "metadata": {},
   "source": [
    "<span style=\"color:black;font-weight:700;font-size:20px\"> \n",
    "             Вывод\n",
    "</span>\n",
    "\n",
    "Для данной задачи Лучшей моделью оказалась - DecisionTreeClassifier(criterion='entropy', max_depth=6, max_features=9, min_samples_leaf=9, random_state=42)\n",
    "\n",
    "Это модель дерева решений с параметрами:\n",
    "\n",
    "criterion='entropy': критерий, который используется для измерения качества разделения на каждом узле дерева решений. В данном случае, используется разделение по энтропии\n",
    "\n",
    "max_depth=6: Это максимальная глубина дерева решений. Параметр ограничивает глубину дерева.\n",
    "\n",
    "max_features=9: Максимальное количество признаков, использующиеся для разделения каждого узла.\n",
    "\n",
    "min_samples_leaf=9: Минимальное количество элементов, в листе (конечном узле) дерева. Этот параметр помогает предотвратить переобучение, ограничивая количество элементов в каждом листе.\n",
    "\n",
    "Эта модель, таким образом, представляет собой дерево решений с ограниченной глубиной, использующее энтропийный критерий для поиска оптимальных разделений, и с дополнительными ограничениями на количество признаков и минимальное количество элементов в листе.\n",
    "\n",
    "<span style=\"color:black;font-weight:700;font-size:16px\"> \n",
    "             Метрики модели\n",
    "</span> \n",
    "\n",
    "**ROC-AUC**: = 0.92 - Такая метрика говорит о том, что модель хорошо разделяет классы и имеет высокую способность различать положительные и отрицательные случаи увольнения и неувольнения сотрудника.\n",
    "\n",
    "**precision** = 0.90 - Метрика показывает что 90% всех прогнозов положительного класса, сделанных нашей моделью, являются верными (истинно положительными), и только 10% из них являются ложно положительными. Это хороший показатель для точности, который говорит о том, что модель делает мало ошибок, предсказывая факт увольнения сотрудника. Иными словами можно сказать, что из тех сотрудников, кому модель присвоила метка 1(уволится), 91% сотрудников действительно уволились\n",
    "\n",
    "**recall** = 0.80 - Метрика говорит о том, что модель верно классифицировала 80% действительно уволившихся сотрудников.\n",
    "\n",
    "<span style=\"color:black;font-weight:700;font-size:16px\"> \n",
    "             Интерпретация важности признаков\n",
    "</span> \n",
    "\n",
    "\n",
    "Как можно заметить из графика наиболее важными признаками при принятии моделью решения являются признаки 'employment_years','job_satisfaction_rate', 'level' , 'salary', 'workload'. Эти признаки оказывают наибольшее влиянии на решение, которое принимает модель классифицируя уволится ли сотрудник или нет.\n",
    "\n",
    "Такие признаки как 'dept', supervisor_evaluation' , 'last_year_promo', 'last_year_violations' почти никак не влияют на решения принимаемы моделью"
   ]
  },
  {
   "cell_type": "code",
   "execution_count": null,
   "id": "3eec2c03",
   "metadata": {},
   "outputs": [],
   "source": []
  },
  {
   "cell_type": "markdown",
   "id": "67d5941d",
   "metadata": {},
   "source": [
    "<span style=\"color:black;font-weight:700;font-size:20px\"> \n",
    "           Общий вывод  вывод\n",
    "</span>\n",
    "\n",
    "В данной работе решались две задачи, 1 -  построить модель, которая сможет предсказать уровень удовлетворённости сотрудника на основе данных заказчика, 2 - построить модель, которая сможет на основе данных заказчика предсказать то, что сотрудник уволится из компании. \n",
    "\n",
    "На первоначальных этапах работы была выполнена загрузка, предобработка данных, а также исследовательский анализ данных. На следующем этапе работы был раработан пайплайн обработки данных, которые включает в себя обработку пропусков в датасетах и обработку категориальных и числовых признаков. После этого были обучены моделью с поиском лучшей модели по сетке гиперпараметров.  В качестве модели для первой задачи предсказания рейтинга сотрдника использовались линейные модели - Линейная регрессия(LinearRegression), а также метод опорных векторов(SVR), а также модель типа дерева решений - DecisionTreeRegressor\n",
    "\n",
    "Лучшей моделью на этапе обучения стала модель дерева решений (DecisionTreeRegressor). Этот метод основан на структуре дерева решений, которое разбивает набор данных на подмножества и прогнозирует значения целевой переменной для новых данных на основе этой структуры.\n",
    "\n",
    "**Параметры лучщей модели - DecisionTreeRegressor(max_depth=14, min_samples_leaf=5, min_samples_split=14)**\n",
    "\n",
    "max_depth=14: Этот параметр показывает максимальную глубину дерева до 14 уровней. Если в дереве уже есть 14 уровней, оно не будет разветвляться дальше.\n",
    "\n",
    "min_samples_leaf=5: Этот параметр определяет минимальное количество образцов, которое должно содержаться в листе дерева. Если число образцов в листе меньше 5, дерево не будет продолжать разделение.\n",
    "\n",
    "min_samples_split=14: параметр устанавливает минимальное количество образцов, необходимых для выполнения разделения узла. Если количество образцов в узле меньше 14, разделение не будет произведено.\n",
    "\n",
    "Метрики модели:\n",
    "\n",
    "**SMAPE = 13.5**, это означает, что в среднем прогнозы отклоняются на 13.57% от фактических значений**\n",
    "**R2 = 0.88** говорит о том, что модель работает успешно в почти в 88% случаев**\n",
    "Интерпретация дерева решений\n",
    "\n",
    "Признак supervisor_evaluation является самым значимым при предсказаниях модели, меньший вклад вносят признаки salary, employment_years. И такие признаки как dept и workload почти никак не влияют на результат работы модели.\n",
    "\n",
    "Тем самым можно отметить, что оценка качества работы сотрудника, которую дал руководитель, сильно влияет на уровень удовлетворенности сотрудника, и чем выше оценка, тем выше удовлетворенность.\n",
    "\n",
    "Для задачи предсказания увольнения сотрудника использовались следующие модели : модели на основе алгоритмов метода опорных векторов (SVC), дерева решений (DecisionTreeClassifier) и метода k ближайших соседей (KNeighborsClassifier).\n",
    "\n",
    "В качестве метрики качества будем использовалась метрика roc_auc_score. Эта метрика не зависит от дисбаланса классов, дает взвешенную оценку относительно матрицы ошибок.\n",
    "\n",
    "**Для данной задачи Лучшей моделью оказалась - DecisionTreeClassifier(criterion='entropy', max_depth=6, max_features=9, min_samples_leaf=9, random_state=42)**\n",
    "\n",
    "Это модель дерева решений с параметрами:\n",
    "\n",
    "criterion='entropy': критерий, который используется для измерения качества разделения на каждом узле дерева решений. В данном случае, используется разделение по энтропии\n",
    "\n",
    "max_depth=6: Это максимальная глубина дерева решений. Параметр ограничивает глубину дерева.\n",
    "\n",
    "max_features=9: Максимальное количество признаков, использующиеся для разделения каждого узла.\n",
    "\n",
    "min_samples_leaf=9: Минимальное количество элементов, в листе (конечном узле) дерева. Этот параметр помогает предотвратить переобучение, ограничивая количество элементов в каждом листе.\n",
    "\n",
    "Эта модель, таким образом, представляет собой дерево решений с ограниченной глубиной, использующее энтропийный критерий для поиска оптимальных разделений, и с дополнительными ограничениями на количество признаков и минимальное количество элементов в листе.\n",
    "\n",
    "<span style=\"color:black;font-weight:700;font-size:16px\"> \n",
    "             Метрики модели\n",
    "</span> \n",
    "\n",
    "**ROC-AUC**: = 0.92 - Такая метрика говорит о том, что модель хорошо разделяет классы и имеет высокую способность различать положительные и отрицательные случаи увольнения и неувольнения сотрудника.\n",
    "\n",
    "**precision** = 0.90 - Метрика показывает что 90% всех прогнозов положительного класса, сделанных нашей моделью, являются верными (истинно положительными), и только 10% из них являются ложно положительными. Это хороший показатель для точности, который говорит о том, что модель делает мало ошибок, предсказывая факт увольнения сотрудника. Иными словами можно сказать, что из тех сотрудников, кому модель присвоила метка 1(уволится), 91% сотрудников действительно уволились\n",
    "\n",
    "**recall** = 0.80 - Метрика говорит о том, что модель верно классифицировала 80% действительно уволившихся сотрудников.\n",
    "\n",
    "<span style=\"color:black;font-weight:700;font-size:16px\"> \n",
    "             Интерпретация важности признаков\n",
    "</span> \n",
    "\n",
    "\n",
    "Как можно заметить из графика наиболее важными признаками при принятии моделью решения являются признаки 'employment_years','job_satisfaction_rate', 'level' , 'salary', 'workload'. Эти признаки оказывают наибольшее влиянии на решение, которое принимает модель классифицируя уволится ли сотрудник или нет.\n",
    "\n",
    "Такие признаки как 'dept', supervisor_evaluation' , 'last_year_promo', 'last_year_violations' почти никак не влияют на решения принимаемые моделью.\n",
    "\n",
    "\n",
    "Как показали результаты работы модели уровень удовлетворенности сотрудника работой в компании сильно зависит от признаков Признак supervisor_evaluation является самым значимым при предсказаниях модели, меньший вклад вносят признаки salary, employment_years. А свою очередь на тот факт, уволится сотрудник или нет оказывает большое влияние уровень удовлетворенности сотрудника. \n",
    "\n",
    "Основываясь на результате работы модели и ее предсказаниях, вот несколько рекомендаций для бизнеса с целью снижения уровня увольнений среди сотрудников:\n",
    "\n",
    "1)  эффективное руководство:\n",
    "\n",
    "Исходя из влияния признака supervisor_evaluation, необходимо особое внимание обучению и развитию руководящего персонала.\n",
    "Проводенеие регулярные оценки эффективности руководителей и предоставляйте обратной связи.\n",
    "\n",
    "2) Система вознаграждения и зарплаты:\n",
    "\n",
    "Признак salary оказался менее влиятельным, но все равно имеет значение. Для наибольшей удовлетворенности работой сотрудником неоходимо платить достойную заработанную плату, с премиальной системой бонусов\n",
    "\n",
    "3) Профессиональное развитие:\n",
    "\n",
    "Важно Поощряйть и поддерживать профессиональное развитие  молодых сотрудников. Это может включать в себя предоставление обучающих программ, участие в конференциях и семинарах, а также возможности для карьерного роста внутри компании.Так как показывает анализ, чаше всего увольняются молодые сотрудники, а поэтому необходимо создать ту, среду в которой им будет комфортно расти, развивать и строить карьеру.\n",
    "\n",
    "4) Коммуникация и обратная связь:\n",
    "\n",
    "Очень важно установить систему регулярной обратной связи между руководством и сотрудниками. Это поможет понять и решить проблемы, которые могут влиять на уровень удовлетворенности и желание сотрудника работать в этой компании.\n",
    "\n",
    "5) Сбалансированная нагрузка и гибкий график:\n",
    "\n",
    "Не менее важным является обеспечение сбалансированной нагрузки на работников и предоставление гибкого графики работы, где это возможно. Это поможет снизить стресс и усталость сотрудников.\n"
   ]
  },
  {
   "cell_type": "code",
   "execution_count": null,
   "id": "b407c98c",
   "metadata": {},
   "outputs": [],
   "source": [
    "end_time = time.time()\n",
    "execution_time = end_time - start_time\n",
    "print(f\"Время выполнения всего файла: {execution_time} секунд\")"
   ]
  }
 ],
 "metadata": {
  "kernelspec": {
   "display_name": "Python 3 (ipykernel)",
   "language": "python",
   "name": "python3"
  },
  "language_info": {
   "codemirror_mode": {
    "name": "ipython",
    "version": 3
   },
   "file_extension": ".py",
   "mimetype": "text/x-python",
   "name": "python",
   "nbconvert_exporter": "python",
   "pygments_lexer": "ipython3",
   "version": "3.11.3"
  },
  "toc": {
   "base_numbering": 1,
   "nav_menu": {},
   "number_sections": true,
   "sideBar": true,
   "skip_h1_title": false,
   "title_cell": "Table of Contents",
   "title_sidebar": "Contents",
   "toc_cell": false,
   "toc_position": {},
   "toc_section_display": true,
   "toc_window_display": false
  }
 },
 "nbformat": 4,
 "nbformat_minor": 5
}
