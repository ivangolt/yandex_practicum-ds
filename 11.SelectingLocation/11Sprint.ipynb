{
 "cells": [
  {
   "cell_type": "markdown",
   "id": "95f230e6",
   "metadata": {},
   "source": [
    "<span style=\"color:black;font-weight:700;font-size:32px\"> \n",
    "               Выбор локации для скважины\n",
    "</span>"
   ]
  },
  {
   "cell_type": "markdown",
   "id": "b7d7236a",
   "metadata": {},
   "source": [
    "<span style=\"color:black;font-weight:700;font-size:22px\"> \n",
    "              Описание проекта\n",
    "</span>\n",
    "\n",
    "\n",
    "Допустим, вы работаете в добывающей компании «ГлавРосГосНефть». Нужно решить, где бурить новую скважину.\n",
    "\n",
    "Шаги для выбора локации обычно такие:\\\n",
    "В избранном регионе собирают характеристики для скважин: качество нефти и объём её запасов;\\\n",
    "Строят модель для предсказания объёма запасов в новых скважинах;\\\n",
    "Выбирают скважины с самыми высокими оценками значений;\\\n",
    "Определяют регион с максимальной суммарной прибылью отобранных скважин.\n",
    "\n",
    "Вам предоставлены пробы нефти в трёх регионах. Характеристики для каждой скважины в регионе уже известны. Постройте модель для определения региона, где добыча принесёт наибольшую прибыль. Проанализируйте возможную прибыль и риски техникой Bootstrap."
   ]
  },
  {
   "cell_type": "markdown",
   "id": "9f539dde",
   "metadata": {},
   "source": [
    "<span style=\"color:black;font-weight:700;font-size:22px\"> \n",
    "              Инструкция по выполнению проекта\n",
    "   \n",
    "</span>\n",
    "\n",
    "1. Загрузите и подготовьте данные. Поясните порядок действий.\n",
    "\n",
    "2. Обучите и проверьте модель для каждого региона:\n",
    "- 2.1. Разбейте данные на обучающую и валидационную выборки в соотношении 75:25.\n",
    "- 2.2. Обучите модель и сделайте предсказания на валидационной выборке.\n",
    "- 2.3. Сохраните предсказания и правильные ответы на валидационной выборке.\n",
    "- 2.4. Напечатайте на экране средний запас предсказанного сырья и RMSE модели.\n",
    "- 2.5. Проанализируйте результаты.\n",
    "\n",
    "3. Подготовьтесь к расчёту прибыли:\n",
    "- 3.1. Все ключевые значения для расчётов сохраните в отдельных переменных.\n",
    "- 3.2. Рассчитайте достаточный объём сырья для безубыточной разработки новой скважины. Сравните полученный объём сырья со средним запасом в каждом регионе. \n",
    "- 3.3. Напишите выводы по этапу подготовки расчёта прибыли.\n",
    "\n",
    "4. Напишите функцию для расчёта прибыли по выбранным скважинам и предсказаниям модели:\n",
    "- 4.1. Выберите скважины с максимальными значениями предсказаний. \n",
    "- 4.2. Просуммируйте целевое значение объёма сырья, соответствующее этим предсказаниям.\n",
    "- 4.3. Рассчитайте прибыль для полученного объёма сырья.\n",
    "\n",
    "5. Посчитайте риски и прибыль для каждого региона:\n",
    "- 5.1. Примените технику Bootstrap с 1000 выборок, чтобы найти распределение прибыли.\n",
    "- 5.2. Найдите среднюю прибыль, 95%-й доверительный интервал и риск убытков. Убыток — это отрицательная прибыль.\n",
    "- 5.3. Напишите выводы: предложите регион для разработки скважин и обоснуйте выбор."
   ]
  },
  {
   "cell_type": "code",
   "execution_count": 1,
   "id": "85c5c8e0",
   "metadata": {},
   "outputs": [],
   "source": [
    "import pandas as pd\n",
    "import numpy as np\n",
    "import seaborn as sns\n",
    "import matplotlib.pyplot as plt\n",
    "from sklearn.model_selection import cross_val_score, KFold, train_test_split, GridSearchCV\n",
    "from sklearn.linear_model import LinearRegression\n",
    "from sklearn.metrics import r2_score, mean_squared_error\n",
    "from sklearn.preprocessing import MinMaxScaler\n",
    "from sklearn.pipeline import make_pipeline\n",
    "from math import ceil\n",
    "import time"
   ]
  },
  {
   "cell_type": "code",
   "execution_count": 2,
   "id": "9730c677",
   "metadata": {},
   "outputs": [],
   "source": [
    "start_time = time.time()"
   ]
  },
  {
   "cell_type": "markdown",
   "id": "aaf3edc1",
   "metadata": {},
   "source": [
    "# Загрузка данных\n"
   ]
  },
  {
   "cell_type": "code",
   "execution_count": 3,
   "id": "c4c44c56",
   "metadata": {},
   "outputs": [],
   "source": [
    "try:\n",
    "    geo_data0_df = pd.read_csv('/datasets/geo_data_0.csv', index_col='id')\n",
    "    geo_data1_df= pd.read_csv('/datasets/geo_data_1.csv', index_col='id')\n",
    "    geo_data2_df = pd.read_csv('/datasets/geo_data_2.csv', index_col='id')\n",
    "    \n",
    "    \n",
    "except:\n",
    "    geo_data0_df = pd.read_csv('https://code.s3.yandex.net/datasets/geo_data_0.csv', index_col='id')\n",
    "    geo_data1_df = pd.read_csv('https://code.s3.yandex.net/datasets/geo_data_1.csv', index_col='id')\n",
    "    geo_data2_df = pd.read_csv('https://code.s3.yandex.net/datasets/geo_data_2.csv', index_col='id')\n",
    "    "
   ]
  },
  {
   "cell_type": "code",
   "execution_count": 4,
   "id": "f24a718e",
   "metadata": {},
   "outputs": [],
   "source": [
    "geo_data0_df.head()"
   ]
  },
  {
   "cell_type": "code",
   "execution_count": 5,
   "id": "49f65960",
   "metadata": {},
   "outputs": [],
   "source": [
    "geo_data0_df.info()"
   ]
  },
  {
   "cell_type": "code",
   "execution_count": 6,
   "id": "f3340ba7",
   "metadata": {},
   "outputs": [],
   "source": [
    "geo_data1_df.head()"
   ]
  },
  {
   "cell_type": "code",
   "execution_count": 7,
   "id": "999458fc",
   "metadata": {},
   "outputs": [],
   "source": [
    "geo_data1_df.info()"
   ]
  },
  {
   "cell_type": "code",
   "execution_count": 8,
   "id": "27bfecf8",
   "metadata": {},
   "outputs": [],
   "source": [
    "geo_data2_df.head()"
   ]
  },
  {
   "cell_type": "code",
   "execution_count": 9,
   "id": "40fe709f",
   "metadata": {},
   "outputs": [],
   "source": [
    "geo_data2_df.info()"
   ]
  },
  {
   "cell_type": "markdown",
   "id": "e8cfbc52",
   "metadata": {},
   "source": [
    "<span style=\"color:black;font-weight:700;font-size:16px\"> \n",
    "             Вывод\n",
    "</span>\n",
    "\n",
    "Загружены 3 датасета geo_data0_df, geo_data1_df, geo_data2_df, каждый датасет содержит по 4 признака -\n",
    "\n",
    "id — уникальный идентификатор скважины;\\\n",
    "f0, f1, f2 — три признака точек (неважно, что они означают, но сами признаки значимы);\\\n",
    "product — объём запасов в скважине (тыс. баррелей).\n",
    "\n",
    "Пропуски в данных отсутсвуют.\n"
   ]
  },
  {
   "cell_type": "markdown",
   "id": "ab956686",
   "metadata": {},
   "source": [
    "<span style=\"color:black;font-weight:700;font-size:22px\"> \n",
    "             Предобработка данных\n",
    "</span>\n"
   ]
  },
  {
   "cell_type": "markdown",
   "id": "cac2dca3",
   "metadata": {},
   "source": [
    "### Обработка geo_data0_df"
   ]
  },
  {
   "cell_type": "markdown",
   "id": "ddc31205",
   "metadata": {},
   "source": [
    "Проведем предобработку данных, для этого проверим наличие дубликатов по id (есть ли повторяющиеся скважины), наличие выбросов в признаках"
   ]
  },
  {
   "cell_type": "code",
   "execution_count": 10,
   "id": "c7e307c9",
   "metadata": {},
   "outputs": [],
   "source": [
    "def plot_boxplot_for_df(dataset):\n",
    "    numeric_cols = dataset.select_dtypes(exclude='object').columns.to_list()\n",
    "    num_plots = len(numeric_cols)\n",
    "    num_cols = 4\n",
    "    num_rows = -(-num_plots // num_cols)  # Calculate the number of rows needed\n",
    "    \n",
    "    fig, axes = plt.subplots(num_rows, num_cols, figsize=(15, num_rows*4))  # Adjust figsize as needed\n",
    "    \n",
    "    for i, col in enumerate(numeric_cols):\n",
    "        row_idx = i // num_cols\n",
    "        col_idx = i % num_cols\n",
    "        ax = axes[row_idx, col_idx] if num_rows > 1 else axes[col_idx]  # Adjust indexing for single-row plots\n",
    "        sns.boxplot(data=dataset, x=col, ax=ax)\n",
    "        ax.set_title(f'Boxplot для {col}')\n",
    "    \n",
    "    for i in range(len(numeric_cols), num_rows * num_cols):\n",
    "        row_idx = i // num_cols\n",
    "        col_idx = i % num_cols\n",
    "        if num_rows > 1:\n",
    "            fig.delaxes(axes[row_idx, col_idx])\n",
    "        else:\n",
    "            fig.delaxes(axes[col_idx])\n",
    "    \n",
    "    plt.tight_layout()\n",
    "    plt.show()"
   ]
  },
  {
   "cell_type": "code",
   "execution_count": 11,
   "id": "fd74fe5f",
   "metadata": {
    "scrolled": false
   },
   "outputs": [],
   "source": [
    "plot_boxplot_for_df(dataset=geo_data0_df)"
   ]
  },
  {
   "cell_type": "markdown",
   "id": "02524e8b",
   "metadata": {},
   "source": [
    "В столбце f2 присутствуют выбросы, обработаем их. Для этого реализуем функцию удаления выбросов на уровне 0.01 и 0.99 квантиля"
   ]
  },
  {
   "cell_type": "code",
   "execution_count": 12,
   "id": "f40862c3",
   "metadata": {},
   "outputs": [],
   "source": [
    "def filter_outliers_in_col(dataset, column, low_quantile=0.01, high_quantile=0.99):\n",
    "    q_low = dataset[column].quantile(low_quantile)\n",
    "    q_high = dataset[column].quantile(high_quantile)\n",
    "    \n",
    "    filtered_dataset = dataset[(dataset[column] < q_high) & (dataset[column] > q_low)]\n",
    "    return filtered_dataset"
   ]
  },
  {
   "cell_type": "code",
   "execution_count": 13,
   "id": "0f49d7e4",
   "metadata": {},
   "outputs": [],
   "source": [
    "geo_data0_df = filter_outliers_in_col(dataset=geo_data0_df, column='f2')"
   ]
  },
  {
   "cell_type": "code",
   "execution_count": 14,
   "id": "e42a1c53",
   "metadata": {
    "scrolled": false
   },
   "outputs": [],
   "source": [
    "plot_boxplot_for_df(dataset=geo_data0_df)"
   ]
  },
  {
   "cell_type": "markdown",
   "id": "60a56391",
   "metadata": {},
   "source": [
    "Выбросы для датасета geodata0_df обработаны."
   ]
  },
  {
   "cell_type": "code",
   "execution_count": 15,
   "id": "6990db82",
   "metadata": {},
   "outputs": [],
   "source": [
    "geo_data0_df.duplicated().sum()"
   ]
  },
  {
   "cell_type": "markdown",
   "id": "34834450",
   "metadata": {},
   "source": [
    "Дубликаты в датасете отсутствуют."
   ]
  },
  {
   "cell_type": "markdown",
   "id": "fcd35655",
   "metadata": {},
   "source": [
    "Обработаем дубликаты по id скважин"
   ]
  },
  {
   "cell_type": "code",
   "execution_count": 16,
   "id": "29926d06",
   "metadata": {},
   "outputs": [],
   "source": [
    "geo_data0_df.loc[geo_data0_df[geo_data0_df.index.duplicated()].index.to_list()]"
   ]
  },
  {
   "cell_type": "code",
   "execution_count": 17,
   "id": "c2f41d00",
   "metadata": {},
   "outputs": [],
   "source": [
    "duplicates = geo_data0_df.index.duplicated()\n",
    "geo_data0_df = geo_data0_df[~duplicates]"
   ]
  },
  {
   "cell_type": "code",
   "execution_count": 18,
   "id": "1ea4d029",
   "metadata": {},
   "outputs": [],
   "source": [
    "geo_data0_df.index.duplicated().sum()"
   ]
  },
  {
   "cell_type": "markdown",
   "id": "a8663ff5",
   "metadata": {},
   "source": [
    "Удалены дубликаты скважин в датасете geo_data0_df"
   ]
  },
  {
   "cell_type": "markdown",
   "id": "1c605748",
   "metadata": {},
   "source": [
    "### Обработка geo_data1_df"
   ]
  },
  {
   "cell_type": "code",
   "execution_count": 19,
   "id": "f8750770",
   "metadata": {
    "scrolled": false
   },
   "outputs": [],
   "source": [
    "plot_boxplot_for_df(dataset=geo_data1_df)"
   ]
  },
  {
   "cell_type": "code",
   "execution_count": 20,
   "id": "68585fd1",
   "metadata": {},
   "outputs": [],
   "source": [
    "geo_data1_df = filter_outliers_in_col(dataset=geo_data1_df, column='f1')"
   ]
  },
  {
   "cell_type": "code",
   "execution_count": 21,
   "id": "f617da17",
   "metadata": {
    "scrolled": false
   },
   "outputs": [],
   "source": [
    "plot_boxplot_for_df(dataset=geo_data1_df)"
   ]
  },
  {
   "cell_type": "markdown",
   "id": "a8f77c89",
   "metadata": {},
   "source": [
    "Выбросы в датасете geo_data1_df обработаны"
   ]
  },
  {
   "cell_type": "code",
   "execution_count": 22,
   "id": "55b63033",
   "metadata": {},
   "outputs": [],
   "source": [
    "geo_data1_df.duplicated().sum()"
   ]
  },
  {
   "cell_type": "code",
   "execution_count": 23,
   "id": "8a2c059f",
   "metadata": {},
   "outputs": [],
   "source": [
    "geo_data1_df.loc[geo_data1_df[geo_data1_df.index.duplicated()].index.to_list()]"
   ]
  },
  {
   "cell_type": "code",
   "execution_count": 24,
   "id": "833d0b2f",
   "metadata": {},
   "outputs": [],
   "source": [
    "duplicates = geo_data1_df.index.duplicated()\n",
    "geo_data1_df = geo_data1_df[~duplicates]"
   ]
  },
  {
   "cell_type": "code",
   "execution_count": 25,
   "id": "92674607",
   "metadata": {},
   "outputs": [],
   "source": [
    "geo_data1_df.index.duplicated().sum()"
   ]
  },
  {
   "cell_type": "markdown",
   "id": "c46b6d98",
   "metadata": {},
   "source": [
    "Удалены дубликаты скважин в датасете geo_data1_df"
   ]
  },
  {
   "cell_type": "markdown",
   "id": "72d512c4",
   "metadata": {},
   "source": [
    "### Обработка geo_data2_df"
   ]
  },
  {
   "cell_type": "code",
   "execution_count": 26,
   "id": "f41274d2",
   "metadata": {
    "scrolled": false
   },
   "outputs": [],
   "source": [
    "plot_boxplot_for_df(dataset=geo_data2_df)"
   ]
  },
  {
   "cell_type": "code",
   "execution_count": 27,
   "id": "62bb3076",
   "metadata": {},
   "outputs": [],
   "source": [
    "cols_to_delete_outliers = ['f0', 'f1', 'f2']\n",
    "for col in cols_to_delete_outliers:\n",
    "    geo_data2_df = filter_outliers_in_col(dataset=geo_data2_df, column=col)\n",
    "    "
   ]
  },
  {
   "cell_type": "code",
   "execution_count": 28,
   "id": "3190ca58",
   "metadata": {},
   "outputs": [],
   "source": [
    "plot_boxplot_for_df(dataset=geo_data2_df)"
   ]
  },
  {
   "cell_type": "markdown",
   "id": "eb9fd2bb",
   "metadata": {},
   "source": [
    "Обработали выросы в датасете geo_data2_df"
   ]
  },
  {
   "cell_type": "code",
   "execution_count": 29,
   "id": "ce607176",
   "metadata": {},
   "outputs": [],
   "source": [
    "geo_data2_df.duplicated().sum()"
   ]
  },
  {
   "cell_type": "code",
   "execution_count": 30,
   "id": "cfa70d12",
   "metadata": {},
   "outputs": [],
   "source": [
    "geo_data2_df.loc[geo_data2_df[geo_data2_df.index.duplicated()].index.to_list()]"
   ]
  },
  {
   "cell_type": "code",
   "execution_count": 31,
   "id": "981da0ab",
   "metadata": {},
   "outputs": [],
   "source": [
    "duplicates = geo_data2_df.index.duplicated()\n",
    "geo_data2_df = geo_data2_df[~duplicates]"
   ]
  },
  {
   "cell_type": "code",
   "execution_count": 32,
   "id": "c3e5603f",
   "metadata": {},
   "outputs": [],
   "source": [
    "geo_data2_df.index.duplicated().sum()"
   ]
  },
  {
   "cell_type": "markdown",
   "id": "e41591a4",
   "metadata": {},
   "source": [
    "Удалены дубликаты скважин в датасете geo_data2_df"
   ]
  },
  {
   "cell_type": "markdown",
   "id": "9c5e2cec",
   "metadata": {},
   "source": [
    "<span style=\"color:black;font-weight:700;font-size:16px\"> \n",
    "             Вывод\n",
    "</span>\n",
    "\n",
    "На данном этапе были предобработаны датасеты. Предобработка включала в себя обработку выбросов и обработку явных и неявных дубликатов.\n"
   ]
  },
  {
   "cell_type": "code",
   "execution_count": null,
   "id": "12df84d4",
   "metadata": {},
   "outputs": [],
   "source": []
  },
  {
   "cell_type": "markdown",
   "id": "b6e8cf98",
   "metadata": {},
   "source": [
    "<span style=\"color:black;font-weight:700;font-size:22px\"> \n",
    "             Исследовательский анализ данных\n",
    "</span>\n"
   ]
  },
  {
   "cell_type": "markdown",
   "id": "d173fab7",
   "metadata": {},
   "source": [
    "<span style=\"color:black;font-weight:700;font-size:16px\"> \n",
    "             Датасет gea_data0_df\n",
    "</span>\n"
   ]
  },
  {
   "cell_type": "markdown",
   "id": "92e5e6d2",
   "metadata": {},
   "source": [
    "Исследуем корреляцию и распрелеление признаков в датасетах"
   ]
  },
  {
   "cell_type": "code",
   "execution_count": 33,
   "id": "276c89bd",
   "metadata": {},
   "outputs": [],
   "source": [
    "cols_to_plot = ['f0', 'f1', 'f2', 'product']\n",
    "def plot_hist(dataset):\n",
    "    num_cols = 2\n",
    "    num_rows = len(cols_to_plot) // num_cols + (len(cols_to_plot) % num_cols > 0) \n",
    "    fig, axes = plt.subplots(num_rows, num_cols, figsize=(12, 8))  \n",
    "    plt.suptitle(\"Распределение признаков\", y=1.02, fontsize=16) \n",
    "\n",
    "    for i, col in enumerate(cols_to_plot):\n",
    "        row_idx = i // num_cols\n",
    "        col_idx = i % num_cols\n",
    "        sns.histplot(data=dataset, x=col, kde=True, ax=axes[row_idx, col_idx])\n",
    "        axes[row_idx, col_idx].set_title(col)\n",
    "    \n",
    "    \n",
    "    plt.tight_layout()\n",
    "    plt.show()\n",
    "    \n",
    "    print(dataset.describe())\n",
    "    \n",
    "\n"
   ]
  },
  {
   "cell_type": "code",
   "execution_count": 34,
   "id": "87cdb6db",
   "metadata": {},
   "outputs": [],
   "source": [
    "plot_hist(geo_data0_df)"
   ]
  },
  {
   "cell_type": "markdown",
   "id": "147585eb",
   "metadata": {},
   "source": [
    "Для этого региона видно что есть скважины с хорошем объемом запасов 175 тыс. баррелей\n",
    "\n",
    "Средний объем запасов - 92 тыс. баррелей"
   ]
  },
  {
   "cell_type": "code",
   "execution_count": 35,
   "id": "03179985",
   "metadata": {},
   "outputs": [],
   "source": [
    "sns.heatmap(geo_data0_df.corr(method='spearman'), annot=True, cmap='coolwarm')"
   ]
  },
  {
   "cell_type": "markdown",
   "id": "cffba552",
   "metadata": {},
   "source": [
    "Наблюдается средняя корреляция между product и f2"
   ]
  },
  {
   "cell_type": "markdown",
   "id": "2882b084",
   "metadata": {},
   "source": [
    "<span style=\"color:black;font-weight:700;font-size:16px\"> \n",
    "             Датасет geo_data1_df\n",
    "</span>"
   ]
  },
  {
   "cell_type": "code",
   "execution_count": 36,
   "id": "3f44bd72",
   "metadata": {},
   "outputs": [],
   "source": [
    "plot_hist(geo_data1_df)"
   ]
  },
  {
   "cell_type": "markdown",
   "id": "63ba283c",
   "metadata": {},
   "source": [
    "В этом регионе наблюдается меньше скважин с объемом в 175 т.б. и выше\n",
    "Средний объем 68.8 тыс.б."
   ]
  },
  {
   "cell_type": "code",
   "execution_count": 37,
   "id": "72759d67",
   "metadata": {},
   "outputs": [],
   "source": [
    "sns.heatmap(geo_data1_df.corr(method='spearman'), annot=True, cmap='coolwarm')"
   ]
  },
  {
   "cell_type": "markdown",
   "id": "b5971bdf",
   "metadata": {},
   "source": [
    "Наблюдается очень сильная корреляция между признаками f2 и product/"
   ]
  },
  {
   "cell_type": "markdown",
   "id": "6119a2ba",
   "metadata": {},
   "source": [
    "<span style=\"color:black;font-weight:700;font-size:16px\"> \n",
    "             Датасет geo_data2_df\n",
    "</span>"
   ]
  },
  {
   "cell_type": "code",
   "execution_count": 38,
   "id": "0b273d16",
   "metadata": {},
   "outputs": [],
   "source": [
    "plot_hist(geo_data2_df)"
   ]
  },
  {
   "cell_type": "markdown",
   "id": "6160f6b5",
   "metadata": {},
   "source": [
    "В этом регионе также наблюдается скважины с объемом 175 тыс. б и выше, но при этом средний объем 94.4 в этом регионе выше чем в первом регионе"
   ]
  },
  {
   "cell_type": "code",
   "execution_count": 39,
   "id": "c7c73c90",
   "metadata": {},
   "outputs": [],
   "source": [
    "sns.heatmap(geo_data2_df.corr(method='spearman'), annot=True, cmap='coolwarm')"
   ]
  },
  {
   "cell_type": "markdown",
   "id": "df7cecd5",
   "metadata": {},
   "source": [
    "Наблюдается средняя корреляция между product и f2. Product почти никак не корррелирует с признаками f0, f1"
   ]
  },
  {
   "cell_type": "markdown",
   "id": "fbd6cddb",
   "metadata": {},
   "source": [
    "# Обучение и проверка модели"
   ]
  },
  {
   "cell_type": "code",
   "execution_count": 40,
   "id": "2764bd34",
   "metadata": {},
   "outputs": [],
   "source": [
    "def train_model(dataset):\n",
    "    X = dataset.drop(['product'], axis=1)\n",
    "    y = dataset['product']\n",
    "    \n",
    "    X_train, X_valid, y_train, y_valid = train_test_split(X, y,\n",
    "                                                          test_size=0.25,\n",
    "                                                          random_state=42)\n",
    "    model = make_pipeline(MinMaxScaler(), LinearRegression())\n",
    "    model.fit(X_train, y_train)\n",
    "    y_predict = model.predict(X_valid)\n",
    "    \n",
    "    return y_valid.reset_index(drop=True),y_predict\n",
    "    \n",
    "    "
   ]
  },
  {
   "cell_type": "code",
   "execution_count": 41,
   "id": "1a5555e4",
   "metadata": {
    "scrolled": true
   },
   "outputs": [],
   "source": [
    "y_valid0, y_predict0 = train_model(geo_data0_df)\n",
    "y_valid1, y_predict1 = train_model(geo_data1_df)\n",
    "y_valid2, y_predict2 = train_model(geo_data2_df)"
   ]
  },
  {
   "cell_type": "code",
   "execution_count": 42,
   "id": "70988ba9",
   "metadata": {},
   "outputs": [],
   "source": [
    "def get_metrics(y_true, y_predict):\n",
    "    \n",
    "    metrics = {}\n",
    "    metrics['rmse'] = mean_squared_error(y_true, y_predict, squared=False)\n",
    "    metrics['average_predict'] = y_predict.mean()\n",
    "    metrics['r2'] = r2_score(y_true, y_predict)\n",
    "    \n",
    "    return metrics"
   ]
  },
  {
   "cell_type": "code",
   "execution_count": null,
   "id": "7dda4c60",
   "metadata": {},
   "outputs": [],
   "source": []
  },
  {
   "cell_type": "code",
   "execution_count": 43,
   "id": "c9318722",
   "metadata": {},
   "outputs": [],
   "source": [
    "print('\\033[1mМетрики датасета geo_data0_df\\033[0m')\n",
    "get_metrics(y_valid0, y_predict0)"
   ]
  },
  {
   "cell_type": "code",
   "execution_count": 44,
   "id": "5715597a",
   "metadata": {},
   "outputs": [],
   "source": [
    "print('\\033[1mМетрики датасета geo_data1_df\\033[0m')\n",
    "get_metrics(y_valid1, y_predict1)"
   ]
  },
  {
   "cell_type": "code",
   "execution_count": 45,
   "id": "12cde506",
   "metadata": {},
   "outputs": [],
   "source": [
    "\n",
    "print('\\033[1mМетрики датасета geo_data2_df\\033[0m')\n",
    "get_metrics(y_valid2, y_predict2)"
   ]
  },
  {
   "cell_type": "markdown",
   "id": "07710ff3",
   "metadata": {},
   "source": [
    "<span style=\"color:black;font-weight:700;font-size:18px\"> \n",
    "             Вывод\n",
    "</span>\n",
    "\n",
    "На данном этапе были обучены модели для предсказания объема запаса нефти в скважинах для каждого региона.Для этого данные разбивались тренировочную и валидационные выборки в соотношении 75:25, с последующим масштабированием признаков и обучении модели.\n",
    "\n",
    "Обучение моделей показало следующие метрики\n",
    "\n",
    "**значения RMSE:**\n",
    "\n",
    "geo_data0_df RMSE: 37.84\\\n",
    "geo_data1_df RMSE: 0.88\\\n",
    "geo_data2_df RMSE: 40.14\\\n",
    "\n",
    "**значения средний запас предсказанного сырья:**\n",
    "\n",
    "geo_data0_df average_predict: 92.46\\\n",
    "geo_data1_df average_predict: 68.70\\\n",
    "geo_data2_df average_predict: 94.33\\\n",
    "\n",
    "**значения R2:**\n",
    "geo_data0_df RMSE: 0.26\\\n",
    "geo_data1_df RMSE: 0.99\\\n",
    "geo_data2_df RMSE: 0.18\\\n",
    "\n",
    "Как можно заметить самую низкую среднеквадратичнуб ошибку удалось получить для датасета geo_data1_df. Вероятнее всего это связано с тем, что в датасет присутсвует признак имеющий почти единичную корреляциюю с целевым признаком. Для других моделей получили ошибку в 37.84(1 регион) и 40.14(2 регион).\n",
    "\n",
    "В нулевом и втором дата фрейме R2 довольно низкие. А в geo_data1_df R2 = 0.99 как и предсказывалось во время анализа на первом шаге, такой высокий коэффициент скорей всего из-за очень сильной связи целевого показателя с признаком 'f2'.\n",
    "\n",
    "Но при этом стоит отметить, что в результате обучения моделей получили почти точные оценки среднего запаса сырья:\n",
    "\n",
    "Для датасета geo_data0_df 92.46918(по предсказанным данным), 92.468918(реальное значение)\n",
    "\n",
    "Для датасета geo_data1_df 68.70(по предсказанным данным), 68.801(реальное значение)\n",
    "\n",
    "Для датасета geo_data2_df 94.33(по предсказанным данным), 94.21(реальное значение)\n",
    "\n",
    "Можно сделать вывод о том, что простая модель линейной регрессия, учитывая r2 не очень хорошо предсказывает объем запасов для датасетов geo_data0_df и geo_data2_df"
   ]
  },
  {
   "cell_type": "markdown",
   "id": "779b332c",
   "metadata": {},
   "source": [
    "# Подготовка к расчёту прибыли"
   ]
  },
  {
   "cell_type": "markdown",
   "id": "a674cf69",
   "metadata": {},
   "source": [
    "При разведке региона исследуют 500 точек, из которых с помощью машинного обучения выбирают 200 лучших для разработки."
   ]
  },
  {
   "cell_type": "code",
   "execution_count": 46,
   "id": "7e9a88e9",
   "metadata": {},
   "outputs": [],
   "source": [
    "count_of_wells = 200"
   ]
  },
  {
   "cell_type": "markdown",
   "id": "24beab59",
   "metadata": {},
   "source": [
    "Бюджет на разработку скважин в регионе — 10 млрд рублей."
   ]
  },
  {
   "cell_type": "code",
   "execution_count": 47,
   "id": "4de7d918",
   "metadata": {},
   "outputs": [],
   "source": [
    "BUDGET = 10_000_000_000"
   ]
  },
  {
   "cell_type": "code",
   "execution_count": 48,
   "id": "00aa30ac",
   "metadata": {},
   "outputs": [],
   "source": [
    "budget_for_well = BUDGET / count_of_wells\n",
    "budget_for_well"
   ]
  },
  {
   "cell_type": "markdown",
   "id": "c4bc1217",
   "metadata": {},
   "source": [
    "При нынешних ценах один баррель сырья приносит 450 рублей дохода. Доход с каждой единицы продукта составляет 450 тыс. рублей, поскольку объём указан в тысячах баррелей"
   ]
  },
  {
   "cell_type": "code",
   "execution_count": 49,
   "id": "b84f6e62",
   "metadata": {},
   "outputs": [],
   "source": [
    "one_thousand_barrel_income = 450_000"
   ]
  },
  {
   "cell_type": "markdown",
   "id": "86d1e32f",
   "metadata": {},
   "source": [
    "После оценки рисков нужно оставить лишь те регионы, в которых вероятность убытков меньше 2.5%. Среди них выбирают регион с наибольшей средней прибылью."
   ]
  },
  {
   "cell_type": "code",
   "execution_count": 50,
   "id": "509e4c3d",
   "metadata": {},
   "outputs": [],
   "source": [
    "probability_of_losses = 0.025"
   ]
  },
  {
   "cell_type": "markdown",
   "id": "18ed62a0",
   "metadata": {},
   "source": [
    "**Рассчитайте достаточный объём сырья для безубыточной разработки новой скважины. Сравните полученный объём сырья со средним запасом в каждом регионе.**\n",
    "\n",
    "Для этого поделим бюджет рассчитанный на одну скважину на стоимость за одну тысячу барреллей. Получим число, которое даст нам объем добычи при котором скважина будет окупать свою разработку."
   ]
  },
  {
   "cell_type": "code",
   "execution_count": 51,
   "id": "cee8ff01",
   "metadata": {},
   "outputs": [],
   "source": [
    "necessary_volume_for_well = budget_for_well / one_thousand_barrel_income\n",
    "necessary_volume_for_well"
   ]
  },
  {
   "cell_type": "markdown",
   "id": "0767b172",
   "metadata": {},
   "source": [
    "Для безубыточной разработки одной скважины необходимо добыть с нее минимум 111 тыс баррелей.\n"
   ]
  },
  {
   "cell_type": "markdown",
   "id": "25e47a55",
   "metadata": {},
   "source": [
    "<span style=\"color:black;font-weight:700;font-size:18px\"> \n",
    "             Вывод\n",
    "</span>\n",
    "\n",
    "Всего в одном регионе бюджет в 10 млрд.руб. выделяют для разработки 200 наиболее перспективных скважин с затратами 50 милн.руб. на одну скважину. При существующем уровне цен в 450 000 руб. за тыс.баррелей, безубыточная добыча начинается со скважин с запасом в 111 тыс.баррелей. Сравнивая этот показатель со среднем объемом добываемом в трех регионах, можно сказать, что ни один регион не имеет такого среднего объема.\n",
    "\n"
   ]
  },
  {
   "cell_type": "markdown",
   "id": "501660f3",
   "metadata": {},
   "source": [
    "# Расчёт прибыли и рисков "
   ]
  },
  {
   "cell_type": "code",
   "execution_count": 52,
   "id": "01503a9b",
   "metadata": {},
   "outputs": [],
   "source": [
    "top_200_wells_0_region = pd.DataFrame(y_predict0, columns=['predicted_volume']).\\\n",
    "                            sort_values(by='predicted_volume', ascending=False)[:200]\n",
    "top_200_wells_0_region.head()"
   ]
  },
  {
   "cell_type": "code",
   "execution_count": 53,
   "id": "eb52f324",
   "metadata": {},
   "outputs": [],
   "source": [
    "top_200_wells_1_region = pd.DataFrame(y_predict1, columns=['predicted_volume']).\\\n",
    "                            sort_values(by='predicted_volume', ascending=False)[:200]\n",
    "top_200_wells_1_region.head()"
   ]
  },
  {
   "cell_type": "code",
   "execution_count": 54,
   "id": "37058dc9",
   "metadata": {},
   "outputs": [],
   "source": [
    "top_200_wells_2_region = pd.DataFrame(y_predict2, columns=['predicted_volume']).\\\n",
    "                            sort_values(by='predicted_volume', ascending=False)[:200]\n",
    "top_200_wells_2_region.head()"
   ]
  },
  {
   "cell_type": "code",
   "execution_count": 55,
   "id": "8b177414",
   "metadata": {},
   "outputs": [],
   "source": [
    "print(f\"Суммарный объем добычи в регионе 0: {ceil(top_200_wells_0_region['predicted_volume'].sum())} тыс. барреллей\")\n",
    "print(f\"Суммарный объем добычи в регионе 1: {ceil(top_200_wells_1_region['predicted_volume'].sum())} тыс. барреллей\")\n",
    "print(f\"Суммарный объем добычи в регионе 2: {ceil(top_200_wells_2_region['predicted_volume'].sum())} тыс. барреллей\")"
   ]
  },
  {
   "cell_type": "markdown",
   "id": "b26c20dc",
   "metadata": {},
   "source": [
    "Напишем функцию вычисляющую прибыль для полученного объема сырья в каждом регионе."
   ]
  },
  {
   "cell_type": "code",
   "execution_count": 56,
   "id": "5045953e",
   "metadata": {},
   "outputs": [],
   "source": [
    "def calculate_profit(valid, predict, development_budget, cost_of_barrel, count_of_wells=200):\n",
    "    \"\"\"\n",
    "    valid  - реальные значения объема\n",
    "    predict - предсказанные значения объема\n",
    "    count_of_wells - количество вышек для разработки\n",
    "    development_budget - бюджет на разработку\n",
    "    cost_of_barrel - стоимость тысячи баррелей\n",
    "    \n",
    "    total_profit - Прибыль в миллиардах руб.\n",
    "    \"\"\"\n",
    "    \n",
    "    sorted_predict = pd.Series(predict).sort_values(ascending=False)\n",
    "    selected_wells = valid[sorted_predict.index][:count_of_wells]    \n",
    "    summary_volume = selected_wells.sum()\n",
    "    total_profit = ((summary_volume * cost_of_barrel) - development_budget) / 1_000_000_000\n",
    "    \n",
    "    return round(total_profit,4)"
   ]
  },
  {
   "cell_type": "code",
   "execution_count": 57,
   "id": "3710c268",
   "metadata": {},
   "outputs": [],
   "source": [
    "print('Суммарная прибыль (миллиардов руб.) в регионе 0:')\n",
    "print(calculate_profit(valid=y_valid0, predict=y_predict0, count_of_wells=200, \n",
    "                       development_budget=BUDGET, cost_of_barrel=one_thousand_barrel_income))\n",
    "print()\n",
    "print('Суммарная прибыль (миллиардов руб.) в регионе 1:')\n",
    "print(calculate_profit(valid=y_valid1, predict=y_predict1, count_of_wells=200, \n",
    "                       development_budget=BUDGET, cost_of_barrel=one_thousand_barrel_income))\n",
    "print()\n",
    "print('Суммарная прибыль (миллиардов руб.) в регионе 2:')\n",
    "print(calculate_profit(valid=y_valid2, predict=y_predict2, count_of_wells=200, \n",
    "                       development_budget=BUDGET, cost_of_barrel=one_thousand_barrel_income))\n",
    "\n",
    "\n"
   ]
  },
  {
   "cell_type": "markdown",
   "id": "2befe1f5",
   "metadata": {},
   "source": [
    "<span style=\"color:black;font-weight:700;font-size:18px\"> \n",
    "             Вывод\n",
    "</span>\n",
    "\n",
    "Для каждого из трех регионов были отобраны 200 лучших по производительности скважин. Для этих скважин была рассчитана прибыль, которую они приносят.\n",
    "\n",
    "Подучились след. результаты:\n",
    "\n",
    "**Суммарная прибыль (миллиардов руб.) в регионе 0:**\n",
    "3.2239\n",
    "\n",
    "**Суммарная прибыль (миллиардов руб.) в регионе 1:**\n",
    "2.4151\n",
    "\n",
    "**Суммарная прибыль (миллиардов руб.) в регионе 2:**\n",
    "2.0571\n"
   ]
  },
  {
   "cell_type": "markdown",
   "id": "0080221d",
   "metadata": {},
   "source": [
    "<span style=\"color:black;font-weight:700;font-size:22px\"> \n",
    "             Расчет рисков\n",
    "</span>"
   ]
  },
  {
   "cell_type": "markdown",
   "id": "a31443a9",
   "metadata": {},
   "source": [
    "Применим технику Bootstrap с 1000 выборок, чтобы найти распределение прибыли"
   ]
  },
  {
   "cell_type": "code",
   "execution_count": 58,
   "id": "44d9513f",
   "metadata": {},
   "outputs": [],
   "source": [
    "def get_values_by_bootstrap(y_valid, y_predict, n_samples,development_budget, cost_of_barrel):\n",
    "    state = np.random.RandomState(12345)\n",
    "    values = []\n",
    "    \n",
    "    for i in range(1000):\n",
    "        valid_subsample = y_valid.sample(n=n_samples, replace=True, random_state=state)\n",
    "        predict_subsample = pd.Series(y_predict)[valid_subsample.index]\n",
    "  \n",
    "        values.append(calculate_profit(valid=valid_subsample,predict=predict_subsample, \n",
    "                                       development_budget=development_budget, cost_of_barrel=cost_of_barrel))\n",
    "    \n",
    "    \n",
    "    values = pd.Series(values)\n",
    "    low_q = values.quantile(0.025)\n",
    "    hight_q = values.quantile(0.975)\n",
    "    losses = values[values<0]\n",
    "    print(f\"Средняя прибыль: {round(values.mean(),4)} млрд.руб.\")\n",
    "    print(f\"2,5%-квантиль: {round(low_q, 4)} млрд.руб.\")\n",
    "    print(f\"97,5%-квантиль: {round(hight_q, 4)} млрд.руб.\")\n",
    "    print(f\"Количество убыточных экспериментов:\", losses.count())\n",
    "    print(f\"Вероятность убытков: {losses.count()/len(values) * 100}%\")\n",
    "    print(f\"Максимальный убыток: {round(losses.min(),4)} млрд.руб.\")\n",
    "    print(f\"Максимальная прибыль: {round(values.max(),4)} млрд.руб.\")\n",
    "    print(f\"Количество экспериментов:\", len(values))\n",
    "    \n",
    "        "
   ]
  },
  {
   "cell_type": "code",
   "execution_count": 59,
   "id": "952bc7b6",
   "metadata": {
    "scrolled": true
   },
   "outputs": [],
   "source": [
    "get_values_by_bootstrap(y_valid=y_valid0, y_predict=y_predict0, cost_of_barrel=one_thousand_barrel_income, development_budget=BUDGET, n_samples=500)"
   ]
  },
  {
   "cell_type": "code",
   "execution_count": 60,
   "id": "0d1cca88",
   "metadata": {},
   "outputs": [],
   "source": [
    "print(\"Риски и прибыль для Регион 0:\")\n",
    "get_values_by_bootstrap(y_valid=y_valid0, y_predict=y_predict0, n_samples=500,\n",
    "                        cost_of_barrel=one_thousand_barrel_income, development_budget=BUDGET)"
   ]
  },
  {
   "cell_type": "code",
   "execution_count": 61,
   "id": "1ff3500a",
   "metadata": {},
   "outputs": [],
   "source": [
    "print(\"Риски и прибыль для Регион 1:\")\n",
    "get_values_by_bootstrap(y_valid=y_valid1, y_predict=y_predict1, n_samples=500,\n",
    "                        cost_of_barrel=one_thousand_barrel_income, development_budget=BUDGET)"
   ]
  },
  {
   "cell_type": "code",
   "execution_count": 62,
   "id": "6f9fe719",
   "metadata": {},
   "outputs": [],
   "source": [
    "print(\"Риски и прибыль для Регион 2:\")\n",
    "get_values_by_bootstrap(y_valid=y_valid2 ,y_predict=y_predict2, n_samples=500, \n",
    "                        cost_of_barrel=one_thousand_barrel_income, development_budget=BUDGET)"
   ]
  },
  {
   "cell_type": "markdown",
   "id": "3d493de1",
   "metadata": {},
   "source": [
    "<span style=\"color:black;font-weight:700;font-size:18px\"> \n",
    "             Вывод\n",
    "</span>\n",
    "\n"
   ]
  },
  {
   "cell_type": "markdown",
   "id": "667720e3",
   "metadata": {},
   "source": [
    "По итогам анализа методом Bootstrap получили наибольшая средняя прибыль у региона 1 - 0.5031 млрд.руб,(у региона 0 - 0.4323 млрд.руб., у региона 2 - 0.2544 млрд.руб.)\n",
    "\n",
    "Самая большая вероятность убытков у региона 2 - 20.2%,  у региона 0 - 5.8%,  региона 1 - 0.4%.\n",
    "\n",
    "Так как для нас критерием выбора региона было - вероятность убытков меньше 2.5, то этим условию удовлетворяет один регион-  Регион 1, соответсвенно - **регион 1 предпочтительнее для бурения новой скважины**"
   ]
  },
  {
   "cell_type": "markdown",
   "id": "2ac2f570",
   "metadata": {},
   "source": [
    "<span style=\"color:black;font-weight:700;font-size:28px\"> \n",
    "           Общий  вывод\n",
    "</span>\n"
   ]
  },
  {
   "cell_type": "markdown",
   "id": "c9bb72e2",
   "metadata": {},
   "source": [
    "Для выполнения задач работы была выполнена предварительная обработка данных, в ходе которого удалены выбросы и дубликаты. А также проведен исследовательский анализ. \n",
    "\n",
    "После этого была обучена модель линейной регрессии для предсказания целевого признака - product — объём запасов в скважине (тыс. баррелей).\n",
    "\n",
    "geo_data0_df  - Регион 0.\n",
    "geo_data1_df - Регион 1.\n",
    "geo_data2_df - Регион 2.\n",
    "\n",
    "**значения RMSE:**\n",
    "\n",
    "geo_data0_df RMSE: 37.84\\\n",
    "geo_data1_df RMSE: 0.88\\\n",
    "geo_data2_df RMSE: 40.14\\\n",
    "\n",
    "**значения средний запас предсказанного сырья:**\n",
    "\n",
    "geo_data0_df average_predict: 92.46\\\n",
    "geo_data1_df average_predict: 68.70\\\n",
    "geo_data2_df average_predict: 94.33\\\n",
    "\n",
    "**значения R2:**\n",
    "geo_data0_df RMSE: 0.26\\\n",
    "geo_data1_df RMSE: 0.99\\\n",
    "geo_data2_df RMSE: 0.18\\\n",
    "\n",
    "Как можно заметить самую низкую среднеквадратичнуб ошибку удалось получить для датасета geo_data1_df. Вероятнее всего это связано с тем, что в датасет присутсвует признак имеющий почти единичную корреляциюю с целевым признаком. Для других моделей получили ошибку в 37.84(1 регион) и 40.14(2 регион).\n",
    "\n",
    "В нулевом и втором дата фрейме R2 довольно низкие. А в geo_data1_df R2 = 0.99 как и предсказывалось во время анализа на первом шаге, такой высокий коэффициент скорей всего из-за очень сильной связи целевого показателя с признаком 'f2'.\n",
    "\n",
    "Но при этом стоит отметить, что в результате обучения моделей получили почти точные оценки среднего запаса сырья:\n",
    "\n",
    "Для датасета geo_data0_df 92.46918(по предсказанным данным), 92.468918(реальное значение)\n",
    "\n",
    "Для датасета geo_data1_df 68.70(по предсказанным данным), 68.801(реальное значение)\n",
    "\n",
    "Для датасета geo_data2_df 94.33(по предсказанным данным), 94.21(реальное значение)\n",
    "\n",
    "Можно сделать вывод о том, что простая модель линейной регрессия, учитывая r2 не очень хорошо предсказывает объем запасов для датасетов geo_data0_df и geo_data2_df.\n",
    "\n",
    "После чего была рассчитана безубыточный объем добычи с одной сквадижины - 111.111 тыс. баррелей.\n",
    "\n",
    "Далее были рассчитаны прибыли с 200 лучших скважин по объему запасов, получили следующие результаты: \n",
    "\n",
    "\n",
    "**Суммарная прибыль (миллиардов руб.) в регионе 0:**\n",
    "3.2239\n",
    "\n",
    "**Суммарная прибыль (миллиардов руб.) в регионе 1:**\n",
    "2.4151\n",
    "\n",
    "**Суммарная прибыль (миллиардов руб.) в регионе 2:**\n",
    "2.0571\n",
    "\n",
    "По итогам анализа методом Bootstrap получили наибольшая средняя прибыль у региона 1 - 0.5031 млрд.руб,(у региона 0 - 0.4323 млрд.руб., у региона 2 - 0.2544 млрд.руб.)\n",
    "\n",
    "Самая большая вероятность убытков у региона 2 - 20.2%,  у региона 0 - 5.8%,  региона 1 - 0.4%.\n",
    "\n",
    "Так как для нас критерием выбора региона было - вероятность убытков меньше 2.5, то этим условию удовлетворяет один регион-  Регион 1, соответсвенно - **регион 1 предпочтительнее для бурения новой скважины** так как он удовлетворяет условия вероятности убытков и среди прочего имеет наибольшую среднюю прибыль.\n"
   ]
  },
  {
   "cell_type": "code",
   "execution_count": 63,
   "id": "a0c0e473",
   "metadata": {},
   "outputs": [],
   "source": [
    "end_time = time.time()\n",
    "print(end_time - start_time)"
   ]
  }
 ],
 "metadata": {
  "kernelspec": {
   "display_name": "Python 3 (ipykernel)",
   "language": "python",
   "name": "python3"
  },
  "language_info": {
   "codemirror_mode": {
    "name": "ipython",
    "version": 3
   },
   "file_extension": ".py",
   "mimetype": "text/x-python",
   "name": "python",
   "nbconvert_exporter": "python",
   "pygments_lexer": "ipython3",
   "version": "3.11.3"
  },
  "toc": {
   "base_numbering": 1,
   "nav_menu": {},
   "number_sections": true,
   "sideBar": true,
   "skip_h1_title": false,
   "title_cell": "Table of Contents",
   "title_sidebar": "Contents",
   "toc_cell": false,
   "toc_position": {},
   "toc_section_display": true,
   "toc_window_display": false
  }
 },
 "nbformat": 4,
 "nbformat_minor": 5
}
